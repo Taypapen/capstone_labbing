{
 "cells": [
  {
   "cell_type": "code",
   "execution_count": 1,
   "outputs": [],
   "source": [
    "#Import Libraries\n",
    "import cv2\n",
    "import itertools\n",
    "import numpy as np\n",
    "from time import time\n",
    "import mediapipe as mp\n",
    "import matplotlib.pyplot as plt\n",
    "import pandas as pd\n",
    "import re\n",
    "import glob\n",
    "import os\n",
    "import pickle\n",
    "import json\n",
    "\n",
    "from tqdm import tqdm\n",
    "from skimage import transform\n",
    "import concurrent.futures"
   ],
   "metadata": {
    "collapsed": false,
    "pycharm": {
     "name": "#%%\n"
    }
   }
  },
  {
   "cell_type": "code",
   "execution_count": 2,
   "outputs": [],
   "source": [
    "# Initialize the mediapipe face detection class\n",
    "mp_face_detection = mp.solutions.face_detection\n",
    "# Setup the face detection function\n",
    "face_detection = mp_face_detection.FaceDetection(model_selection=0, min_detection_confidence=0.5)\n",
    "#initialize the mediapipe face mesh class\n",
    "mp_face_mesh = mp.solutions.face_mesh\n",
    "# Setup the face landmarks function for videos\n",
    "face_mesh_videos = mp_face_mesh.FaceMesh(static_image_mode=False, max_num_faces=1,\n",
    "                                         min_detection_confidence=0.5,min_tracking_confidence=0.3)"
   ],
   "metadata": {
    "collapsed": false,
    "pycharm": {
     "name": "#%%\n"
    }
   }
  },
  {
   "cell_type": "code",
   "execution_count": 3,
   "outputs": [],
   "source": [
    "def save2npz(filename, data=None):\n",
    "    if not os.path.exists(os.path.dirname(filename)):\n",
    "        os.makedirs(os.path.dirname(filename))\n",
    "    np.savez_compressed(filename, data=data)"
   ],
   "metadata": {
    "collapsed": false,
    "pycharm": {
     "name": "#%%\n"
    }
   }
  },
  {
   "cell_type": "code",
   "execution_count": 4,
   "outputs": [],
   "source": [
    "def extract_points_from_mesh(face_landmarks, indexes):\n",
    "    points_data_regex = re.compile(r'\\d\\.\\d+')\n",
    "    xy_points_list = []\n",
    "    for count, each_index in enumerate(indexes):\n",
    "        xyzpointsraw = face_landmarks.landmark[each_index]\n",
    "        points_list = points_data_regex.findall(str(xyzpointsraw))\n",
    "        if len(points_list) < 1:\n",
    "            xy_points_list.append([None])\n",
    "        else:\n",
    "            xyclean = [float(points_list[0]), float(points_list[1])]\n",
    "            xy_points_list.append(xyclean)\n",
    "    xy_points_array = np.array(xy_points_list)\n",
    "    return xy_points_array"
   ],
   "metadata": {
    "collapsed": false,
    "pycharm": {
     "name": "#%%\n"
    }
   }
  },
  {
   "cell_type": "code",
   "execution_count": 5,
   "outputs": [],
   "source": [
    "def detect_Facial_Landmarks(image):\n",
    "    frame_dict = {}\n",
    "    mesh_result = face_mesh_videos.process(image)\n",
    "    oval_indexes = list(set(itertools.chain(*mp_face_mesh.FACEMESH_FACE_OVAL)))\n",
    "    lips_indexes = list(set(itertools.chain(*mp_face_mesh.FACEMESH_LIPS)))\n",
    "    if mesh_result.multi_face_landmarks:\n",
    "        for face_no, face_landmarks in enumerate(mesh_result.multi_face_landmarks):\n",
    "            oval_points_array = extract_points_from_mesh(face_landmarks, oval_indexes)\n",
    "            lips_points_array = extract_points_from_mesh(face_landmarks, lips_indexes)\n",
    "            frame_dict['oval_landmarks'] = oval_points_array\n",
    "            frame_dict['lips_landmarks'] = lips_points_array\n",
    "    else:\n",
    "        frame_dict['oval_landmarks'] = None\n",
    "        frame_dict['lips_landmarks'] = None\n",
    "    return frame_dict"
   ],
   "metadata": {
    "collapsed": false,
    "pycharm": {
     "name": "#%%\n"
    }
   }
  },
  {
   "cell_type": "code",
   "execution_count": 6,
   "outputs": [],
   "source": [
    "def get_face_points(video):\n",
    "    vid_capture = cv2.VideoCapture(video)\n",
    "    all_points = []\n",
    "    if (vid_capture.isOpened() == False):\n",
    "        print(\"Error opening the video file\")\n",
    "    else:\n",
    "        while(vid_capture.isOpened()):\n",
    "            ret, frame = vid_capture.read()\n",
    "            if ret:\n",
    "                frame_points_dict = detect_Facial_Landmarks(frame)\n",
    "                all_points.append(frame_points_dict)\n",
    "                k = cv2.waitKey(30)\n",
    "                if(k == 27):\n",
    "                    break\n",
    "            else:\n",
    "                break\n",
    "    vid_capture.release()\n",
    "    cv2.destroyAllWindows()\n",
    "    return np.array(all_points)"
   ],
   "metadata": {
    "collapsed": false,
    "pycharm": {
     "name": "#%%\n"
    }
   }
  },
  {
   "cell_type": "code",
   "execution_count": 7,
   "outputs": [],
   "source": [
    "def landmarks_extract_save(video, landmarks_output):\n",
    "    dir, file = os.path.split(video)\n",
    "    part, which_folder = os.path.split(dir)\n",
    "    otherpart, word = os.path.split(part)\n",
    "    new_filename = file[:-4] + \".npz\"\n",
    "    new_save_output = os.path.join(landmarks_output, word, which_folder, new_filename)\n",
    "    if not os.path.exists(new_save_output):\n",
    "        face_points_array = get_face_points(video)\n",
    "        save2npz(new_save_output, face_points_array)"
   ],
   "metadata": {
    "collapsed": false,
    "pycharm": {
     "name": "#%%\n"
    }
   }
  },
  {
   "cell_type": "code",
   "execution_count": 8,
   "outputs": [],
   "source": [
    "#Has issues with mediapipe and multiprocess\n",
    "def multi_extract_landmarks(lrw_direc, landmarks_output):\n",
    "    videos = glob.glob(os.path.join(lrw_direc, '*', which_folder, '*.mp4'))\n",
    "    l= len(videos)\n",
    "    with tqdm(total = l) as pbar:\n",
    "        with concurrent.futures.ThreadPoolExecutor(max_workers=4) as executor:\n",
    "            futures = [executor.submit(landmarks_extract_save, video, landmarks_output) for video in videos]\n",
    "            for future in concurrent.futures.as_completed(futures):\n",
    "                pbar.update(1)"
   ],
   "metadata": {
    "collapsed": false,
    "pycharm": {
     "name": "#%%\n"
    }
   }
  },
  {
   "cell_type": "code",
   "execution_count": 9,
   "outputs": [],
   "source": [
    "lrw_path = '/media/taylorpap/1TBM2/DatasetML/lipread_mp4'\n",
    "landmarks_path = '/home/taylorpap/Bootcamp/LANDMARKS'\n",
    "#which_folder = 'test'\n",
    "which_folder = 'train'"
   ],
   "metadata": {
    "collapsed": false,
    "pycharm": {
     "name": "#%%\n"
    }
   }
  },
  {
   "cell_type": "code",
   "execution_count": 1,
   "outputs": [],
   "source": [
    "#multi_extract_landmarks(lrw_path, landmarks_path)"
   ],
   "metadata": {
    "collapsed": false,
    "pycharm": {
     "name": "#%%\n"
    }
   }
  },
  {
   "cell_type": "code",
   "execution_count": 16,
   "outputs": [
    {
     "name": "stderr",
     "output_type": "stream",
     "text": [
      "100%|██████████| 25000/25000 [1:07:44<00:00,  6.15it/s]\n"
     ]
    }
   ],
   "source": [
    "videos = glob.glob(os.path.join(lrw_path, '*', which_folder, '*.mp4'))\n",
    "for video in tqdm(videos):\n",
    "    landmarks_extract_save(video, landmarks_path)"
   ],
   "metadata": {
    "collapsed": false,
    "pycharm": {
     "name": "#%%\n"
    }
   }
  },
  {
   "cell_type": "code",
   "execution_count": 17,
   "outputs": [
    {
     "name": "stderr",
     "output_type": "stream",
     "text": [
      "100%|██████████| 25000/25000 [1:08:31<00:00,  6.08it/s]\n"
     ]
    }
   ],
   "source": [
    "which_folder = 'val'\n",
    "videos = glob.glob(os.path.join(lrw_path, '*', which_folder, '*.mp4'))\n",
    "for video in tqdm(videos):\n",
    "    landmarks_extract_save(video, landmarks_path)"
   ],
   "metadata": {
    "collapsed": false,
    "pycharm": {
     "name": "#%%\n"
    }
   }
  },
  {
   "cell_type": "code",
   "execution_count": 10,
   "outputs": [
    {
     "name": "stderr",
     "output_type": "stream",
     "text": [
      "100%|██████████| 959/959 [02:43<00:00,  5.87it/s]\n",
      "100%|██████████| 1000/1000 [02:55<00:00,  5.71it/s]\n",
      "100%|██████████| 913/913 [02:34<00:00,  5.92it/s]\n",
      "100%|██████████| 1000/1000 [02:56<00:00,  5.66it/s]\n",
      "100%|██████████| 1000/1000 [02:55<00:00,  5.70it/s]\n",
      "100%|██████████| 1000/1000 [02:54<00:00,  5.74it/s]\n",
      "100%|██████████| 1000/1000 [02:55<00:00,  5.70it/s]\n",
      "100%|██████████| 954/954 [02:48<00:00,  5.66it/s]\n",
      "100%|██████████| 1000/1000 [02:54<00:00,  5.72it/s]\n"
     ]
    }
   ],
   "source": [
    "temp_words_list = ['ABSOLUTELY', 'BUDGET', 'EVERYONE', 'HOUSE', 'MILITARY', 'PUBLIC', 'RESULT', 'SIGNIFICANT', 'WEATHER']\n",
    "for temp_word in temp_words_list:\n",
    "    videos = glob.glob(os.path.join(lrw_path, temp_word, which_folder, '*.mp4'))\n",
    "    for video in tqdm(videos):\n",
    "        landmarks_extract_save(video, landmarks_path)"
   ],
   "metadata": {
    "collapsed": false,
    "pycharm": {
     "name": "#%%\n"
    }
   }
  },
  {
   "cell_type": "code",
   "execution_count": null,
   "outputs": [],
   "source": [],
   "metadata": {
    "collapsed": false,
    "pycharm": {
     "name": "#%%\n"
    }
   }
  }
 ],
 "metadata": {
  "kernelspec": {
   "display_name": "Python 3",
   "language": "python",
   "name": "python3"
  },
  "language_info": {
   "codemirror_mode": {
    "name": "ipython",
    "version": 2
   },
   "file_extension": ".py",
   "mimetype": "text/x-python",
   "name": "python",
   "nbconvert_exporter": "python",
   "pygments_lexer": "ipython2",
   "version": "2.7.6"
  }
 },
 "nbformat": 4,
 "nbformat_minor": 0
}