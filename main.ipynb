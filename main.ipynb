{
 "cells": [
  {
   "cell_type": "code",
   "execution_count": 1,
   "metadata": {
    "collapsed": true,
    "pycharm": {
     "name": "#%%\n"
    }
   },
   "outputs": [],
   "source": [
    "import os\n",
    "import time\n",
    "import random\n",
    "import argparse\n",
    "import numpy as np\n",
    "from tqdm import tqdm\n",
    "from mixup import mixup_data, mixup_criterion\n",
    "from utilities import AverageTracker, get_optimizer, showLR, CosineScheduler\n",
    "from pytorch_nn import Lipreading1\n",
    "from datasetloadingpy import dataloaders\n",
    "\n",
    "import torch\n",
    "import torch.nn as nn\n",
    "import torch.nn.functional as F"
   ]
  },
  {
   "cell_type": "code",
   "execution_count": 2,
   "outputs": [],
   "source": [
    "def evaluate(model, dset_loader, criterion):\n",
    "\n",
    "    model.eval()\n",
    "\n",
    "    running_loss = 0.\n",
    "    running_corrects = 0.\n",
    "\n",
    "    with torch.no_grad():\n",
    "        for batch_idx, (input, lengths, labels) in enumerate(tqdm(dset_loader)):\n",
    "            logits = model(input.unsqueeze(1).cuda(), lengths=lengths)\n",
    "            _, preds = torch.max(F.softmax(logits, dim=1).data, dim=1)\n",
    "            running_corrects += preds.eq(labels.cuda().view_as(preds)).sum().item()\n",
    "\n",
    "            loss = criterion(logits, labels.cuda())\n",
    "            running_loss += loss.item() * input.size(0)\n",
    "\n",
    "    print('{} in total\\tCR: {}'.format( len(dset_loader.dataset), running_corrects/len(dset_loader.dataset)))\n",
    "    return running_corrects/len(dset_loader.dataset), running_loss/len(dset_loader.dataset)"
   ],
   "metadata": {
    "collapsed": false,
    "pycharm": {
     "name": "#%%\n"
    }
   }
  },
  {
   "cell_type": "code",
   "execution_count": 3,
   "outputs": [],
   "source": [
    "def train_loop(model, dataloader, criterion, epoch, optimizer):\n",
    "\n",
    "    data_time = AverageTracker()\n",
    "    batch_time = AverageTracker()\n",
    "\n",
    "    mixup_alpha = 0.4\n",
    "\n",
    "    print(\"Current Epoch: \" + str(epoch))\n",
    "\n",
    "    model.train()\n",
    "    running_loss = 0.\n",
    "    running_corrects = 0.\n",
    "    running_all = 0.\n",
    "\n",
    "    end = time.time()\n",
    "    for batch_idx, (input, lengths, labels) in enumerate(dataloader):\n",
    "\n",
    "        input, labels_a, labels_b, lam = mixup_data(input, labels, mixup_alpha)\n",
    "        labels_a, labels_b = labels_a.cuda(), labels_b.cuda()\n",
    "\n",
    "        optimizer.zero_grad()\n",
    "\n",
    "        logits = model(input.unsqueeze(1).cuda(), lengths=lengths)\n",
    "\n",
    "        loss_func = mixup_criterion(labels_a, labels_b, lam)\n",
    "        loss = loss_func(criterion, logits)\n",
    "\n",
    "        loss.backward()\n",
    "        optimizer.step()\n",
    "\n",
    "        # measure elapsed time\n",
    "        batch_time.update(time.time() - end)\n",
    "        end = time.time()\n",
    "        # -- compute running performance\n",
    "        _, predicted = torch.max(F.softmax(logits, dim=1).data, dim=1)\n",
    "        running_loss += loss.item()*input.size(0)\n",
    "        running_corrects += lam * predicted.eq(labels_a.view_as(predicted)).sum().item() + (1 - lam) * predicted.eq(labels_b.view_as(predicted)).sum().item()\n",
    "        running_all += input.size(0)\n",
    "    print(\"Running Loss: {}, Running Corrects: {}, Running All: {}\".format(running_loss,running_corrects,running_all))\n",
    "\n",
    "    return model"
   ],
   "metadata": {
    "collapsed": false,
    "pycharm": {
     "name": "#%%\n"
    }
   }
  },
  {
   "cell_type": "code",
   "execution_count": 4,
   "outputs": [
    {
     "name": "stdout",
     "output_type": "stream",
     "text": [
      "Partition train loaded\n",
      "Partition test loaded\n",
      "Partition val loaded\n"
     ]
    }
   ],
   "source": [
    "data_path = '/home/taylorpap/Bootcamp/CroppedLRW'\n",
    "temp_words_list = ['ABSOLUTELY', 'BUDGET', 'EVERYONE', 'HOUSE', 'MILITARY', 'PUBLIC', 'RESULT', 'SIGNIFICANT',\n",
    "                   'WEATHER']\n",
    "new_temp_words_list = ['BUDGET']\n",
    "datasets = dataloaders(data_dir=data_path, label_fp=temp_words_list, batch_size=32, workers=8)\n"
   ],
   "metadata": {
    "collapsed": false,
    "pycharm": {
     "name": "#%%\n"
    }
   }
  },
  {
   "cell_type": "code",
   "execution_count": 5,
   "outputs": [
    {
     "name": "stdout",
     "output_type": "stream",
     "text": [
      "Feature batch shape: torch.Size([32, 29, 88, 88])\n",
      "Labels batch shape: torch.Size([32])\n"
     ]
    }
   ],
   "source": [
    "train_features, train_lengths, train_labels = next(iter(datasets['train']))\n",
    "print(f\"Feature batch shape: {train_features.size()}\")\n",
    "print(f\"Labels batch shape: {train_labels.size()}\")"
   ],
   "metadata": {
    "collapsed": false,
    "pycharm": {
     "name": "#%%\n"
    }
   }
  },
  {
   "cell_type": "code",
   "execution_count": 6,
   "outputs": [],
   "source": [
    "test_model = Lipreading1(len(temp_words_list))"
   ],
   "metadata": {
    "collapsed": false,
    "pycharm": {
     "name": "#%%\n"
    }
   }
  },
  {
   "cell_type": "code",
   "execution_count": 7,
   "outputs": [],
   "source": [
    "if torch.cuda.is_available():\n",
    "    test_model.cuda()"
   ],
   "metadata": {
    "collapsed": false,
    "pycharm": {
     "name": "#%%\n"
    }
   }
  },
  {
   "cell_type": "code",
   "execution_count": 8,
   "outputs": [
    {
     "data": {
      "text/plain": "Lipreading1(\n  (frontend3D): Sequential(\n    (0): Conv3d(1, 64, kernel_size=(5, 7, 7), stride=(1, 2, 2), padding=(2, 3, 3), bias=False)\n    (1): BatchNorm3d(64, eps=1e-05, momentum=0.1, affine=True, track_running_stats=True)\n    (2): PReLU(num_parameters=64)\n  )\n  (max_pool1): MaxPool3d(kernel_size=(1, 3, 3), stride=(1, 2, 2), padding=(0, 1, 1), dilation=1, ceil_mode=False)\n  (trunk): ResNet(\n    (0): Sequential(\n      (0): ResBlock(\n        (convs): Sequential(\n          (0): ConvLayer(\n            (0): Conv2d(64, 64, kernel_size=(1, 1), stride=(1, 1), bias=False)\n            (1): BatchNorm2d(64, eps=1e-05, momentum=0.1, affine=True, track_running_stats=True)\n            (2): ReLU()\n          )\n          (1): ConvLayer(\n            (0): Conv2d(64, 64, kernel_size=(3, 3), stride=(1, 1), padding=(1, 1), bias=False)\n            (1): BatchNorm2d(64, eps=1e-05, momentum=0.1, affine=True, track_running_stats=True)\n            (2): ReLU()\n          )\n          (2): ConvLayer(\n            (0): Conv2d(64, 256, kernel_size=(1, 1), stride=(1, 1), bias=False)\n            (1): BatchNorm2d(256, eps=1e-05, momentum=0.1, affine=True, track_running_stats=True)\n          )\n        )\n        (idconv): ConvLayer(\n          (0): Conv2d(64, 256, kernel_size=(1, 1), stride=(1, 1), bias=False)\n          (1): BatchNorm2d(256, eps=1e-05, momentum=0.1, affine=True, track_running_stats=True)\n        )\n      )\n      (1): ResBlock(\n        (convs): Sequential(\n          (0): ConvLayer(\n            (0): Conv2d(256, 64, kernel_size=(1, 1), stride=(1, 1), bias=False)\n            (1): BatchNorm2d(64, eps=1e-05, momentum=0.1, affine=True, track_running_stats=True)\n            (2): ReLU()\n          )\n          (1): ConvLayer(\n            (0): Conv2d(64, 64, kernel_size=(3, 3), stride=(1, 1), padding=(1, 1), bias=False)\n            (1): BatchNorm2d(64, eps=1e-05, momentum=0.1, affine=True, track_running_stats=True)\n            (2): ReLU()\n          )\n          (2): ConvLayer(\n            (0): Conv2d(64, 256, kernel_size=(1, 1), stride=(1, 1), bias=False)\n            (1): BatchNorm2d(256, eps=1e-05, momentum=0.1, affine=True, track_running_stats=True)\n          )\n        )\n      )\n      (2): ResBlock(\n        (convs): Sequential(\n          (0): ConvLayer(\n            (0): Conv2d(256, 64, kernel_size=(1, 1), stride=(1, 1), bias=False)\n            (1): BatchNorm2d(64, eps=1e-05, momentum=0.1, affine=True, track_running_stats=True)\n            (2): ReLU()\n          )\n          (1): ConvLayer(\n            (0): Conv2d(64, 64, kernel_size=(3, 3), stride=(1, 1), padding=(1, 1), bias=False)\n            (1): BatchNorm2d(64, eps=1e-05, momentum=0.1, affine=True, track_running_stats=True)\n            (2): ReLU()\n          )\n          (2): ConvLayer(\n            (0): Conv2d(64, 256, kernel_size=(1, 1), stride=(1, 1), bias=False)\n            (1): BatchNorm2d(256, eps=1e-05, momentum=0.1, affine=True, track_running_stats=True)\n          )\n        )\n      )\n    )\n    (1): Sequential(\n      (0): ResBlock(\n        (convs): Sequential(\n          (0): ConvLayer(\n            (0): Conv2d(256, 128, kernel_size=(1, 1), stride=(1, 1), bias=False)\n            (1): BatchNorm2d(128, eps=1e-05, momentum=0.1, affine=True, track_running_stats=True)\n            (2): ReLU()\n          )\n          (1): ConvLayer(\n            (0): Conv2d(128, 128, kernel_size=(3, 3), stride=(2, 2), padding=(1, 1), bias=False)\n            (1): BatchNorm2d(128, eps=1e-05, momentum=0.1, affine=True, track_running_stats=True)\n            (2): ReLU()\n          )\n          (2): ConvLayer(\n            (0): Conv2d(128, 512, kernel_size=(1, 1), stride=(1, 1), bias=False)\n            (1): BatchNorm2d(512, eps=1e-05, momentum=0.1, affine=True, track_running_stats=True)\n          )\n        )\n        (idconv): ConvLayer(\n          (0): Conv2d(256, 512, kernel_size=(1, 1), stride=(1, 1), bias=False)\n          (1): BatchNorm2d(512, eps=1e-05, momentum=0.1, affine=True, track_running_stats=True)\n        )\n        (pool): AvgPool2d(kernel_size=2, stride=2, padding=0)\n      )\n      (1): ResBlock(\n        (convs): Sequential(\n          (0): ConvLayer(\n            (0): Conv2d(512, 128, kernel_size=(1, 1), stride=(1, 1), bias=False)\n            (1): BatchNorm2d(128, eps=1e-05, momentum=0.1, affine=True, track_running_stats=True)\n            (2): ReLU()\n          )\n          (1): ConvLayer(\n            (0): Conv2d(128, 128, kernel_size=(3, 3), stride=(1, 1), padding=(1, 1), bias=False)\n            (1): BatchNorm2d(128, eps=1e-05, momentum=0.1, affine=True, track_running_stats=True)\n            (2): ReLU()\n          )\n          (2): ConvLayer(\n            (0): Conv2d(128, 512, kernel_size=(1, 1), stride=(1, 1), bias=False)\n            (1): BatchNorm2d(512, eps=1e-05, momentum=0.1, affine=True, track_running_stats=True)\n          )\n        )\n      )\n      (2): ResBlock(\n        (convs): Sequential(\n          (0): ConvLayer(\n            (0): Conv2d(512, 128, kernel_size=(1, 1), stride=(1, 1), bias=False)\n            (1): BatchNorm2d(128, eps=1e-05, momentum=0.1, affine=True, track_running_stats=True)\n            (2): ReLU()\n          )\n          (1): ConvLayer(\n            (0): Conv2d(128, 128, kernel_size=(3, 3), stride=(1, 1), padding=(1, 1), bias=False)\n            (1): BatchNorm2d(128, eps=1e-05, momentum=0.1, affine=True, track_running_stats=True)\n            (2): ReLU()\n          )\n          (2): ConvLayer(\n            (0): Conv2d(128, 512, kernel_size=(1, 1), stride=(1, 1), bias=False)\n            (1): BatchNorm2d(512, eps=1e-05, momentum=0.1, affine=True, track_running_stats=True)\n          )\n        )\n      )\n      (3): ResBlock(\n        (convs): Sequential(\n          (0): ConvLayer(\n            (0): Conv2d(512, 128, kernel_size=(1, 1), stride=(1, 1), bias=False)\n            (1): BatchNorm2d(128, eps=1e-05, momentum=0.1, affine=True, track_running_stats=True)\n            (2): ReLU()\n          )\n          (1): ConvLayer(\n            (0): Conv2d(128, 128, kernel_size=(3, 3), stride=(1, 1), padding=(1, 1), bias=False)\n            (1): BatchNorm2d(128, eps=1e-05, momentum=0.1, affine=True, track_running_stats=True)\n            (2): ReLU()\n          )\n          (2): ConvLayer(\n            (0): Conv2d(128, 512, kernel_size=(1, 1), stride=(1, 1), bias=False)\n            (1): BatchNorm2d(512, eps=1e-05, momentum=0.1, affine=True, track_running_stats=True)\n          )\n        )\n      )\n    )\n    (2): Sequential(\n      (0): ResBlock(\n        (convs): Sequential(\n          (0): ConvLayer(\n            (0): Conv2d(512, 256, kernel_size=(1, 1), stride=(1, 1), bias=False)\n            (1): BatchNorm2d(256, eps=1e-05, momentum=0.1, affine=True, track_running_stats=True)\n            (2): ReLU()\n          )\n          (1): ConvLayer(\n            (0): Conv2d(256, 256, kernel_size=(3, 3), stride=(2, 2), padding=(1, 1), bias=False)\n            (1): BatchNorm2d(256, eps=1e-05, momentum=0.1, affine=True, track_running_stats=True)\n            (2): ReLU()\n          )\n          (2): ConvLayer(\n            (0): Conv2d(256, 1024, kernel_size=(1, 1), stride=(1, 1), bias=False)\n            (1): BatchNorm2d(1024, eps=1e-05, momentum=0.1, affine=True, track_running_stats=True)\n          )\n        )\n        (idconv): ConvLayer(\n          (0): Conv2d(512, 1024, kernel_size=(1, 1), stride=(1, 1), bias=False)\n          (1): BatchNorm2d(1024, eps=1e-05, momentum=0.1, affine=True, track_running_stats=True)\n        )\n        (pool): AvgPool2d(kernel_size=2, stride=2, padding=0)\n      )\n      (1): ResBlock(\n        (convs): Sequential(\n          (0): ConvLayer(\n            (0): Conv2d(1024, 256, kernel_size=(1, 1), stride=(1, 1), bias=False)\n            (1): BatchNorm2d(256, eps=1e-05, momentum=0.1, affine=True, track_running_stats=True)\n            (2): ReLU()\n          )\n          (1): ConvLayer(\n            (0): Conv2d(256, 256, kernel_size=(3, 3), stride=(1, 1), padding=(1, 1), bias=False)\n            (1): BatchNorm2d(256, eps=1e-05, momentum=0.1, affine=True, track_running_stats=True)\n            (2): ReLU()\n          )\n          (2): ConvLayer(\n            (0): Conv2d(256, 1024, kernel_size=(1, 1), stride=(1, 1), bias=False)\n            (1): BatchNorm2d(1024, eps=1e-05, momentum=0.1, affine=True, track_running_stats=True)\n          )\n        )\n      )\n      (2): ResBlock(\n        (convs): Sequential(\n          (0): ConvLayer(\n            (0): Conv2d(1024, 256, kernel_size=(1, 1), stride=(1, 1), bias=False)\n            (1): BatchNorm2d(256, eps=1e-05, momentum=0.1, affine=True, track_running_stats=True)\n            (2): ReLU()\n          )\n          (1): ConvLayer(\n            (0): Conv2d(256, 256, kernel_size=(3, 3), stride=(1, 1), padding=(1, 1), bias=False)\n            (1): BatchNorm2d(256, eps=1e-05, momentum=0.1, affine=True, track_running_stats=True)\n            (2): ReLU()\n          )\n          (2): ConvLayer(\n            (0): Conv2d(256, 1024, kernel_size=(1, 1), stride=(1, 1), bias=False)\n            (1): BatchNorm2d(1024, eps=1e-05, momentum=0.1, affine=True, track_running_stats=True)\n          )\n        )\n      )\n      (3): ResBlock(\n        (convs): Sequential(\n          (0): ConvLayer(\n            (0): Conv2d(1024, 256, kernel_size=(1, 1), stride=(1, 1), bias=False)\n            (1): BatchNorm2d(256, eps=1e-05, momentum=0.1, affine=True, track_running_stats=True)\n            (2): ReLU()\n          )\n          (1): ConvLayer(\n            (0): Conv2d(256, 256, kernel_size=(3, 3), stride=(1, 1), padding=(1, 1), bias=False)\n            (1): BatchNorm2d(256, eps=1e-05, momentum=0.1, affine=True, track_running_stats=True)\n            (2): ReLU()\n          )\n          (2): ConvLayer(\n            (0): Conv2d(256, 1024, kernel_size=(1, 1), stride=(1, 1), bias=False)\n            (1): BatchNorm2d(1024, eps=1e-05, momentum=0.1, affine=True, track_running_stats=True)\n          )\n        )\n      )\n      (4): ResBlock(\n        (convs): Sequential(\n          (0): ConvLayer(\n            (0): Conv2d(1024, 256, kernel_size=(1, 1), stride=(1, 1), bias=False)\n            (1): BatchNorm2d(256, eps=1e-05, momentum=0.1, affine=True, track_running_stats=True)\n            (2): ReLU()\n          )\n          (1): ConvLayer(\n            (0): Conv2d(256, 256, kernel_size=(3, 3), stride=(1, 1), padding=(1, 1), bias=False)\n            (1): BatchNorm2d(256, eps=1e-05, momentum=0.1, affine=True, track_running_stats=True)\n            (2): ReLU()\n          )\n          (2): ConvLayer(\n            (0): Conv2d(256, 1024, kernel_size=(1, 1), stride=(1, 1), bias=False)\n            (1): BatchNorm2d(1024, eps=1e-05, momentum=0.1, affine=True, track_running_stats=True)\n          )\n        )\n      )\n      (5): ResBlock(\n        (convs): Sequential(\n          (0): ConvLayer(\n            (0): Conv2d(1024, 256, kernel_size=(1, 1), stride=(1, 1), bias=False)\n            (1): BatchNorm2d(256, eps=1e-05, momentum=0.1, affine=True, track_running_stats=True)\n            (2): ReLU()\n          )\n          (1): ConvLayer(\n            (0): Conv2d(256, 256, kernel_size=(3, 3), stride=(1, 1), padding=(1, 1), bias=False)\n            (1): BatchNorm2d(256, eps=1e-05, momentum=0.1, affine=True, track_running_stats=True)\n            (2): ReLU()\n          )\n          (2): ConvLayer(\n            (0): Conv2d(256, 1024, kernel_size=(1, 1), stride=(1, 1), bias=False)\n            (1): BatchNorm2d(1024, eps=1e-05, momentum=0.1, affine=True, track_running_stats=True)\n          )\n        )\n      )\n    )\n    (3): Sequential(\n      (0): ResBlock(\n        (convs): Sequential(\n          (0): ConvLayer(\n            (0): Conv2d(1024, 512, kernel_size=(1, 1), stride=(1, 1), bias=False)\n            (1): BatchNorm2d(512, eps=1e-05, momentum=0.1, affine=True, track_running_stats=True)\n            (2): ReLU()\n          )\n          (1): ConvLayer(\n            (0): Conv2d(512, 512, kernel_size=(3, 3), stride=(2, 2), padding=(1, 1), bias=False)\n            (1): BatchNorm2d(512, eps=1e-05, momentum=0.1, affine=True, track_running_stats=True)\n            (2): ReLU()\n          )\n          (2): ConvLayer(\n            (0): Conv2d(512, 2048, kernel_size=(1, 1), stride=(1, 1), bias=False)\n            (1): BatchNorm2d(2048, eps=1e-05, momentum=0.1, affine=True, track_running_stats=True)\n          )\n        )\n        (idconv): ConvLayer(\n          (0): Conv2d(1024, 2048, kernel_size=(1, 1), stride=(1, 1), bias=False)\n          (1): BatchNorm2d(2048, eps=1e-05, momentum=0.1, affine=True, track_running_stats=True)\n        )\n        (pool): AvgPool2d(kernel_size=2, stride=2, padding=0)\n      )\n      (1): ResBlock(\n        (convs): Sequential(\n          (0): ConvLayer(\n            (0): Conv2d(2048, 512, kernel_size=(1, 1), stride=(1, 1), bias=False)\n            (1): BatchNorm2d(512, eps=1e-05, momentum=0.1, affine=True, track_running_stats=True)\n            (2): ReLU()\n          )\n          (1): ConvLayer(\n            (0): Conv2d(512, 512, kernel_size=(3, 3), stride=(1, 1), padding=(1, 1), bias=False)\n            (1): BatchNorm2d(512, eps=1e-05, momentum=0.1, affine=True, track_running_stats=True)\n            (2): ReLU()\n          )\n          (2): ConvLayer(\n            (0): Conv2d(512, 2048, kernel_size=(1, 1), stride=(1, 1), bias=False)\n            (1): BatchNorm2d(2048, eps=1e-05, momentum=0.1, affine=True, track_running_stats=True)\n          )\n        )\n      )\n      (2): ResBlock(\n        (convs): Sequential(\n          (0): ConvLayer(\n            (0): Conv2d(2048, 512, kernel_size=(1, 1), stride=(1, 1), bias=False)\n            (1): BatchNorm2d(512, eps=1e-05, momentum=0.1, affine=True, track_running_stats=True)\n            (2): ReLU()\n          )\n          (1): ConvLayer(\n            (0): Conv2d(512, 512, kernel_size=(3, 3), stride=(1, 1), padding=(1, 1), bias=False)\n            (1): BatchNorm2d(512, eps=1e-05, momentum=0.1, affine=True, track_running_stats=True)\n            (2): ReLU()\n          )\n          (2): ConvLayer(\n            (0): Conv2d(512, 2048, kernel_size=(1, 1), stride=(1, 1), bias=False)\n            (1): BatchNorm2d(2048, eps=1e-05, momentum=0.1, affine=True, track_running_stats=True)\n          )\n        )\n      )\n    )\n    (4): AdaptiveAvgPool2d(output_size=1)\n  )\n  (tcn): ConvNet1D(\n    (network): Sequential(\n      (0): BasicBlock1D(\n        (conv1): Conv1d(2048, 1024, kernel_size=(3,), stride=(1,), padding=(2,))\n        (batchnorm1): BatchNorm1d(1024, eps=1e-05, momentum=0.1, affine=True, track_running_stats=True)\n        (chomp1): Chomp1d()\n        (relu1): PReLU(num_parameters=1024)\n        (dropout1): Dropout(p=0.2, inplace=False)\n        (conv2): Conv1d(1024, 1024, kernel_size=(3,), stride=(1,), padding=(2,))\n        (batchnorm2): BatchNorm1d(1024, eps=1e-05, momentum=0.1, affine=True, track_running_stats=True)\n        (chomp2): Chomp1d()\n        (relu2): PReLU(num_parameters=1024)\n        (dropout2): Dropout(p=0.2, inplace=False)\n        (downsample): Conv1d(2048, 1024, kernel_size=(1,), stride=(1,))\n        (relu): PReLU(num_parameters=1024)\n      )\n      (1): BasicBlock1D(\n        (conv1): Conv1d(1024, 512, kernel_size=(3,), stride=(1,), padding=(4,), dilation=(2,))\n        (batchnorm1): BatchNorm1d(512, eps=1e-05, momentum=0.1, affine=True, track_running_stats=True)\n        (chomp1): Chomp1d()\n        (relu1): PReLU(num_parameters=512)\n        (dropout1): Dropout(p=0.2, inplace=False)\n        (conv2): Conv1d(512, 512, kernel_size=(3,), stride=(1,), padding=(4,), dilation=(2,))\n        (batchnorm2): BatchNorm1d(512, eps=1e-05, momentum=0.1, affine=True, track_running_stats=True)\n        (chomp2): Chomp1d()\n        (relu2): PReLU(num_parameters=512)\n        (dropout2): Dropout(p=0.2, inplace=False)\n        (downsample): Conv1d(1024, 512, kernel_size=(1,), stride=(1,))\n        (relu): PReLU(num_parameters=512)\n      )\n      (2): BasicBlock1D(\n        (conv1): Conv1d(512, 256, kernel_size=(3,), stride=(1,), padding=(8,), dilation=(4,))\n        (batchnorm1): BatchNorm1d(256, eps=1e-05, momentum=0.1, affine=True, track_running_stats=True)\n        (chomp1): Chomp1d()\n        (relu1): PReLU(num_parameters=256)\n        (dropout1): Dropout(p=0.2, inplace=False)\n        (conv2): Conv1d(256, 256, kernel_size=(3,), stride=(1,), padding=(8,), dilation=(4,))\n        (batchnorm2): BatchNorm1d(256, eps=1e-05, momentum=0.1, affine=True, track_running_stats=True)\n        (chomp2): Chomp1d()\n        (relu2): PReLU(num_parameters=256)\n        (dropout2): Dropout(p=0.2, inplace=False)\n        (downsample): Conv1d(512, 256, kernel_size=(1,), stride=(1,))\n        (relu): PReLU(num_parameters=256)\n      )\n    )\n    (convnet_output): Linear(in_features=256, out_features=9, bias=True)\n  )\n)"
     },
     "execution_count": 8,
     "metadata": {},
     "output_type": "execute_result"
    }
   ],
   "source": [
    "test_model"
   ],
   "metadata": {
    "collapsed": false,
    "pycharm": {
     "name": "#%%\n"
    }
   }
  },
  {
   "cell_type": "code",
   "execution_count": 9,
   "outputs": [],
   "source": [
    "epochs = 40\n",
    "lr = 3e-3\n",
    "optimizer = get_optimizer('sgd', optim_policies=test_model.parameters(),init_lr=lr)\n",
    "criterion = nn.CrossEntropyLoss()\n",
    "scheduler = CosineScheduler(lr, epochs)\n",
    "epoch=0"
   ],
   "metadata": {
    "collapsed": false,
    "pycharm": {
     "name": "#%%\n"
    }
   }
  },
  {
   "cell_type": "code",
   "execution_count": 10,
   "outputs": [
    {
     "name": "stdout",
     "output_type": "stream",
     "text": [
      "Current Epoch: 0\n",
      "Running Loss: 22598.049180030823, Running Corrects: 1004.6044528747678, Running All: 8820.0\n"
     ]
    },
    {
     "name": "stderr",
     "output_type": "stream",
     "text": [
      "100%|██████████| 15/15 [00:02<00:00,  5.38it/s]"
     ]
    },
    {
     "name": "stdout",
     "output_type": "stream",
     "text": [
      "450 in total\tCR: 0.14444444444444443\n",
      "val Epoch:\t 0\tLoss val: 2.3341\tAcc val:0.1444, LR: 0.0003\n",
      "Epoch len: 132.33086013793945 Estimated Remaining: 86.01505908966064 Min\n",
      "Current Epoch: 1\n"
     ]
    },
    {
     "name": "stderr",
     "output_type": "stream",
     "text": [
      "\n"
     ]
    },
    {
     "name": "stdout",
     "output_type": "stream",
     "text": [
      "Running Loss: 20106.91296005249, Running Corrects: 1181.358459505753, Running All: 8820.0\n"
     ]
    },
    {
     "name": "stderr",
     "output_type": "stream",
     "text": [
      "100%|██████████| 15/15 [00:02<00:00,  5.52it/s]"
     ]
    },
    {
     "name": "stdout",
     "output_type": "stream",
     "text": [
      "450 in total\tCR: 0.19333333333333333\n",
      "val Epoch:\t 1\tLoss val: 2.1888\tAcc val:0.1933, LR: 0.003\n",
      "Epoch len: 131.40390849113464 Estimated Remaining: 83.22247537771861 Min\n",
      "Current Epoch: 2\n"
     ]
    },
    {
     "name": "stderr",
     "output_type": "stream",
     "text": [
      "\n"
     ]
    },
    {
     "name": "stdout",
     "output_type": "stream",
     "text": [
      "Running Loss: 19128.383395195007, Running Corrects: 1458.2843331722424, Running All: 8820.0\n"
     ]
    },
    {
     "name": "stderr",
     "output_type": "stream",
     "text": [
      "100%|██████████| 15/15 [00:02<00:00,  5.55it/s]"
     ]
    },
    {
     "name": "stdout",
     "output_type": "stream",
     "text": [
      "450 in total\tCR: 0.2088888888888889\n",
      "val Epoch:\t 2\tLoss val: 2.1189\tAcc val:0.2089, LR: 0.0029953760005996923\n",
      "Epoch len: 133.32825326919556 Estimated Remaining: 82.21908951600393 Min\n",
      "Current Epoch: 3\n"
     ]
    },
    {
     "name": "stderr",
     "output_type": "stream",
     "text": [
      "\n"
     ]
    },
    {
     "name": "stdout",
     "output_type": "stream",
     "text": [
      "Running Loss: 18539.309928894043, Running Corrects: 1833.1701766537456, Running All: 8820.0\n"
     ]
    },
    {
     "name": "stderr",
     "output_type": "stream",
     "text": [
      "100%|██████████| 15/15 [00:02<00:00,  5.69it/s]"
     ]
    },
    {
     "name": "stdout",
     "output_type": "stream",
     "text": [
      "450 in total\tCR: 0.17777777777777778\n",
      "val Epoch:\t 3\tLoss val: 2.1497\tAcc val:0.1778, LR: 0.002981532510892707\n",
      "Epoch len: 135.24216532707214 Estimated Remaining: 81.14529919624329 Min\n",
      "Current Epoch: 4\n"
     ]
    },
    {
     "name": "stderr",
     "output_type": "stream",
     "text": [
      "\n"
     ]
    },
    {
     "name": "stdout",
     "output_type": "stream",
     "text": [
      "Running Loss: 17498.03025150299, Running Corrects: 2409.116522516544, Running All: 8820.0\n"
     ]
    },
    {
     "name": "stderr",
     "output_type": "stream",
     "text": [
      "100%|██████████| 15/15 [00:02<00:00,  5.66it/s]"
     ]
    },
    {
     "name": "stdout",
     "output_type": "stream",
     "text": [
      "450 in total\tCR: 0.37555555555555553\n",
      "val Epoch:\t 4\tLoss val: 1.7530\tAcc val:0.3756, LR: 0.002958554880596515\n",
      "Epoch len: 136.8026146888733 Estimated Remaining: 79.80152523517609 Min\n",
      "Current Epoch: 5\n"
     ]
    },
    {
     "name": "stderr",
     "output_type": "stream",
     "text": [
      "\n"
     ]
    },
    {
     "name": "stdout",
     "output_type": "stream",
     "text": [
      "Running Loss: 16529.98995780945, Running Corrects: 2891.678948440514, Running All: 8820.0\n"
     ]
    },
    {
     "name": "stderr",
     "output_type": "stream",
     "text": [
      "100%|██████████| 15/15 [00:02<00:00,  5.57it/s]"
     ]
    },
    {
     "name": "stdout",
     "output_type": "stream",
     "text": [
      "450 in total\tCR: 0.3511111111111111\n",
      "val Epoch:\t 5\tLoss val: 1.7470\tAcc val:0.3511, LR: 0.0029265847744427307\n",
      "Epoch len: 132.68531799316406 Estimated Remaining: 75.18834686279297 Min\n",
      "Current Epoch: 6\n"
     ]
    },
    {
     "name": "stderr",
     "output_type": "stream",
     "text": [
      "\n"
     ]
    },
    {
     "name": "stdout",
     "output_type": "stream",
     "text": [
      "Running Loss: 15044.010670661926, Running Corrects: 3667.6255144374495, Running All: 8820.0\n"
     ]
    },
    {
     "name": "stderr",
     "output_type": "stream",
     "text": [
      "100%|██████████| 15/15 [00:02<00:00,  5.94it/s]"
     ]
    },
    {
     "name": "stdout",
     "output_type": "stream",
     "text": [
      "450 in total\tCR: 0.4444444444444444\n",
      "val Epoch:\t 6\tLoss val: 1.5845\tAcc val:0.4444, LR: 0.00288581929876693\n",
      "Epoch len: 120.63944554328918 Estimated Remaining: 66.35169504880905 Min\n",
      "Current Epoch: 7\n"
     ]
    },
    {
     "name": "stderr",
     "output_type": "stream",
     "text": [
      "\n"
     ]
    },
    {
     "name": "stdout",
     "output_type": "stream",
     "text": [
      "Running Loss: 13549.501587867737, Running Corrects: 4359.029041797489, Running All: 8820.0\n"
     ]
    },
    {
     "name": "stderr",
     "output_type": "stream",
     "text": [
      "100%|██████████| 15/15 [00:02<00:00,  6.02it/s]"
     ]
    },
    {
     "name": "stdout",
     "output_type": "stream",
     "text": [
      "450 in total\tCR: 0.6711111111111111\n",
      "val Epoch:\t 7\tLoss val: 1.1424\tAcc val:0.6711, LR: 0.0028365097862825517\n",
      "Epoch len: 120.77445411682129 Estimated Remaining: 64.41304219563803 Min\n",
      "Current Epoch: 8\n"
     ]
    },
    {
     "name": "stderr",
     "output_type": "stream",
     "text": [
      "\n"
     ]
    },
    {
     "name": "stdout",
     "output_type": "stream",
     "text": [
      "Running Loss: 12428.365771770477, Running Corrects: 4897.398718431602, Running All: 8820.0\n"
     ]
    },
    {
     "name": "stderr",
     "output_type": "stream",
     "text": [
      "100%|██████████| 15/15 [00:02<00:00,  5.57it/s]"
     ]
    },
    {
     "name": "stdout",
     "output_type": "stream",
     "text": [
      "450 in total\tCR: 0.6933333333333334\n",
      "val Epoch:\t 8\tLoss val: 1.0073\tAcc val:0.6933, LR: 0.0027789602465311384\n",
      "Epoch len: 126.66134977340698 Estimated Remaining: 65.44169738292695 Min\n",
      "Current Epoch: 9\n"
     ]
    },
    {
     "name": "stderr",
     "output_type": "stream",
     "text": [
      "\n"
     ]
    },
    {
     "name": "stdout",
     "output_type": "stream",
     "text": [
      "Running Loss: 11018.568222045898, Running Corrects: 5496.960916510979, Running All: 8820.0\n"
     ]
    },
    {
     "name": "stderr",
     "output_type": "stream",
     "text": [
      "100%|██████████| 15/15 [00:02<00:00,  5.93it/s]"
     ]
    },
    {
     "name": "stdout",
     "output_type": "stream",
     "text": [
      "450 in total\tCR: 0.6755555555555556\n",
      "val Epoch:\t 9\tLoss val: 1.0085\tAcc val:0.6756, LR: 0.002713525491562421\n",
      "Epoch len: 119.18156027793884 Estimated Remaining: 59.59078013896942 Min\n",
      "Current Epoch: 10\n"
     ]
    },
    {
     "name": "stderr",
     "output_type": "stream",
     "text": [
      "\n"
     ]
    },
    {
     "name": "stdout",
     "output_type": "stream",
     "text": [
      "Running Loss: 9761.486583709717, Running Corrects: 6059.1727434035665, Running All: 8820.0\n"
     ]
    },
    {
     "name": "stderr",
     "output_type": "stream",
     "text": [
      "100%|██████████| 15/15 [00:02<00:00,  6.02it/s]"
     ]
    },
    {
     "name": "stdout",
     "output_type": "stream",
     "text": [
      "450 in total\tCR: 0.7622222222222222\n",
      "val Epoch:\t10\tLoss val: 0.7930\tAcc val:0.7622, LR: 0.0026406089484000464\n",
      "Epoch len: 119.02736234664917 Estimated Remaining: 57.529891800880435 Min\n",
      "Current Epoch: 11\n"
     ]
    },
    {
     "name": "stderr",
     "output_type": "stream",
     "text": [
      "\n"
     ]
    },
    {
     "name": "stdout",
     "output_type": "stream",
     "text": [
      "Running Loss: 9237.110421180725, Running Corrects: 6271.265320578448, Running All: 8820.0\n"
     ]
    },
    {
     "name": "stderr",
     "output_type": "stream",
     "text": [
      "100%|██████████| 15/15 [00:02<00:00,  5.94it/s]"
     ]
    },
    {
     "name": "stdout",
     "output_type": "stream",
     "text": [
      "450 in total\tCR: 0.8355555555555556\n",
      "val Epoch:\t11\tLoss val: 0.5738\tAcc val:0.8356, LR: 0.002560660171779821\n",
      "Epoch len: 119.19195914268494 Estimated Remaining: 55.62291426658631 Min\n",
      "Current Epoch: 12\n"
     ]
    },
    {
     "name": "stderr",
     "output_type": "stream",
     "text": [
      "\n"
     ]
    },
    {
     "name": "stdout",
     "output_type": "stream",
     "text": [
      "Running Loss: 8603.701888561249, Running Corrects: 6515.589013069629, Running All: 8820.0\n"
     ]
    },
    {
     "name": "stderr",
     "output_type": "stream",
     "text": [
      "100%|██████████| 15/15 [00:02<00:00,  5.63it/s]"
     ]
    },
    {
     "name": "stdout",
     "output_type": "stream",
     "text": [
      "450 in total\tCR: 0.8777777777777778\n",
      "val Epoch:\t12\tLoss val: 0.4776\tAcc val:0.8778, LR: 0.002474172072495276\n",
      "Epoch len: 126.18720412254333 Estimated Remaining: 56.7842418551445 Min\n",
      "Current Epoch: 13\n"
     ]
    },
    {
     "name": "stderr",
     "output_type": "stream",
     "text": [
      "\n"
     ]
    },
    {
     "name": "stdout",
     "output_type": "stream",
     "text": [
      "Running Loss: 7904.002210617065, Running Corrects: 6738.323989884451, Running All: 8820.0\n"
     ]
    },
    {
     "name": "stderr",
     "output_type": "stream",
     "text": [
      "100%|██████████| 15/15 [00:02<00:00,  5.70it/s]"
     ]
    },
    {
     "name": "stdout",
     "output_type": "stream",
     "text": [
      "450 in total\tCR: 0.8355555555555556\n",
      "val Epoch:\t13\tLoss val: 0.5341\tAcc val:0.8356, LR: 0.00238167787843871\n",
      "Epoch len: 125.64384841918945 Estimated Remaining: 54.44566764831543 Min\n",
      "Current Epoch: 14\n"
     ]
    },
    {
     "name": "stderr",
     "output_type": "stream",
     "text": [
      "\n"
     ]
    },
    {
     "name": "stdout",
     "output_type": "stream",
     "text": [
      "Running Loss: 8240.33470249176, Running Corrects: 6673.339376859282, Running All: 8820.0\n"
     ]
    },
    {
     "name": "stderr",
     "output_type": "stream",
     "text": [
      "100%|██████████| 15/15 [00:02<00:00,  5.90it/s]"
     ]
    },
    {
     "name": "stdout",
     "output_type": "stream",
     "text": [
      "450 in total\tCR: 0.8822222222222222\n",
      "val Epoch:\t14\tLoss val: 0.4399\tAcc val:0.8822, LR: 0.002283747847073923\n",
      "Epoch len: 119.04093837738037 Estimated Remaining: 49.60039099057516 Min\n",
      "Current Epoch: 15\n"
     ]
    },
    {
     "name": "stderr",
     "output_type": "stream",
     "text": [
      "\n"
     ]
    },
    {
     "name": "stdout",
     "output_type": "stream",
     "text": [
      "Running Loss: 7820.174072742462, Running Corrects: 6861.45558776144, Running All: 8820.0\n"
     ]
    },
    {
     "name": "stderr",
     "output_type": "stream",
     "text": [
      "100%|██████████| 15/15 [00:02<00:00,  5.90it/s]"
     ]
    },
    {
     "name": "stdout",
     "output_type": "stream",
     "text": [
      "450 in total\tCR: 0.8911111111111111\n",
      "val Epoch:\t15\tLoss val: 0.4250\tAcc val:0.8911, LR: 0.0021809857496093202\n",
      "Epoch len: 125.67137312889099 Estimated Remaining: 50.268549251556394 Min\n",
      "Current Epoch: 16\n"
     ]
    },
    {
     "name": "stderr",
     "output_type": "stream",
     "text": [
      "\n"
     ]
    },
    {
     "name": "stdout",
     "output_type": "stream",
     "text": [
      "Running Loss: 7775.217131137848, Running Corrects: 6876.751825070864, Running All: 8820.0\n"
     ]
    },
    {
     "name": "stderr",
     "output_type": "stream",
     "text": [
      "100%|██████████| 15/15 [00:02<00:00,  5.32it/s]"
     ]
    },
    {
     "name": "stdout",
     "output_type": "stream",
     "text": [
      "450 in total\tCR: 0.9155555555555556\n",
      "val Epoch:\t16\tLoss val: 0.3746\tAcc val:0.9156, LR: 0.002074025148547635\n",
      "Epoch len: 129.1361894607544 Estimated Remaining: 49.50220595995585 Min\n",
      "Current Epoch: 17\n"
     ]
    },
    {
     "name": "stderr",
     "output_type": "stream",
     "text": [
      "\n"
     ]
    },
    {
     "name": "stdout",
     "output_type": "stream",
     "text": [
      "Running Loss: 6731.56608247757, Running Corrects: 7166.696972826051, Running All: 8820.0\n"
     ]
    },
    {
     "name": "stderr",
     "output_type": "stream",
     "text": [
      "100%|██████████| 15/15 [00:02<00:00,  5.69it/s]"
     ]
    },
    {
     "name": "stdout",
     "output_type": "stream",
     "text": [
      "450 in total\tCR: 0.92\n",
      "val Epoch:\t17\tLoss val: 0.3372\tAcc val:0.9200, LR: 0.0019635254915624212\n",
      "Epoch len: 125.84206080436707 Estimated Remaining: 46.14208896160126 Min\n",
      "Current Epoch: 18\n"
     ]
    },
    {
     "name": "stderr",
     "output_type": "stream",
     "text": [
      "\n"
     ]
    },
    {
     "name": "stdout",
     "output_type": "stream",
     "text": [
      "Running Loss: 6700.737734675407, Running Corrects: 7230.177389567987, Running All: 8820.0\n"
     ]
    },
    {
     "name": "stderr",
     "output_type": "stream",
     "text": [
      "100%|██████████| 15/15 [00:02<00:00,  5.90it/s]"
     ]
    },
    {
     "name": "stdout",
     "output_type": "stream",
     "text": [
      "450 in total\tCR: 0.9066666666666666\n",
      "val Epoch:\t18\tLoss val: 0.3707\tAcc val:0.9067, LR: 0.0018501680457838584\n",
      "Epoch len: 125.83039832115173 Estimated Remaining: 44.04063941240311 Min\n",
      "Current Epoch: 19\n"
     ]
    },
    {
     "name": "stderr",
     "output_type": "stream",
     "text": [
      "\n"
     ]
    },
    {
     "name": "stdout",
     "output_type": "stream",
     "text": [
      "Running Loss: 6960.934795618057, Running Corrects: 7153.850642902586, Running All: 8820.0\n"
     ]
    },
    {
     "name": "stderr",
     "output_type": "stream",
     "text": [
      "100%|██████████| 15/15 [00:02<00:00,  5.67it/s]"
     ]
    },
    {
     "name": "stdout",
     "output_type": "stream",
     "text": [
      "450 in total\tCR: 0.9155555555555556\n",
      "val Epoch:\t19\tLoss val: 0.2853\tAcc val:0.9156, LR: 0.0017346516975603465\n",
      "Epoch len: 123.8790876865387 Estimated Remaining: 41.29302922884623 Min\n",
      "Current Epoch: 20\n"
     ]
    },
    {
     "name": "stderr",
     "output_type": "stream",
     "text": [
      "\n"
     ]
    },
    {
     "name": "stdout",
     "output_type": "stream",
     "text": [
      "Running Loss: 6769.213171124458, Running Corrects: 7242.931346292056, Running All: 8820.0\n"
     ]
    },
    {
     "name": "stderr",
     "output_type": "stream",
     "text": [
      "100%|██████████| 15/15 [00:02<00:00,  5.70it/s]"
     ]
    },
    {
     "name": "stdout",
     "output_type": "stream",
     "text": [
      "450 in total\tCR: 0.9177777777777778\n",
      "val Epoch:\t20\tLoss val: 0.3455\tAcc val:0.9178, LR: 0.0016176886435917675\n",
      "Epoch len: 130.6135594844818 Estimated Remaining: 41.36096050341924 Min\n",
      "Current Epoch: 21\n"
     ]
    },
    {
     "name": "stderr",
     "output_type": "stream",
     "text": [
      "\n"
     ]
    },
    {
     "name": "stdout",
     "output_type": "stream",
     "text": [
      "Running Loss: 6977.888783931732, Running Corrects: 7124.798737215873, Running All: 8820.0\n"
     ]
    },
    {
     "name": "stderr",
     "output_type": "stream",
     "text": [
      "100%|██████████| 15/15 [00:02<00:00,  5.69it/s]"
     ]
    },
    {
     "name": "stdout",
     "output_type": "stream",
     "text": [
      "450 in total\tCR: 0.9422222222222222\n",
      "val Epoch:\t21\tLoss val: 0.3153\tAcc val:0.9422, LR: 0.0015\n",
      "Epoch len: 125.93622040748596 Estimated Remaining: 37.78086612224579 Min\n",
      "Current Epoch: 22\n"
     ]
    },
    {
     "name": "stderr",
     "output_type": "stream",
     "text": [
      "\n"
     ]
    },
    {
     "name": "stdout",
     "output_type": "stream",
     "text": [
      "Running Loss: 6615.871075153351, Running Corrects: 7236.368295498487, Running All: 8820.0\n"
     ]
    },
    {
     "name": "stderr",
     "output_type": "stream",
     "text": [
      "100%|██████████| 15/15 [00:02<00:00,  5.59it/s]"
     ]
    },
    {
     "name": "stdout",
     "output_type": "stream",
     "text": [
      "450 in total\tCR: 0.9511111111111111\n",
      "val Epoch:\t22\tLoss val: 0.2800\tAcc val:0.9511, LR: 0.0013823113564082328\n",
      "Epoch len: 135.10077381134033 Estimated Remaining: 38.27855257987976 Min\n",
      "Current Epoch: 23\n"
     ]
    },
    {
     "name": "stderr",
     "output_type": "stream",
     "text": [
      "\n"
     ]
    },
    {
     "name": "stdout",
     "output_type": "stream",
     "text": [
      "Running Loss: 6961.306880474091, Running Corrects: 7128.525614923492, Running All: 8820.0\n"
     ]
    },
    {
     "name": "stderr",
     "output_type": "stream",
     "text": [
      "100%|██████████| 15/15 [00:02<00:00,  5.50it/s]"
     ]
    },
    {
     "name": "stdout",
     "output_type": "stream",
     "text": [
      "450 in total\tCR: 0.9511111111111111\n",
      "val Epoch:\t23\tLoss val: 0.2645\tAcc val:0.9511, LR: 0.0012653483024396542\n",
      "Epoch len: 126.06664800643921 Estimated Remaining: 33.61777280171712 Min\n",
      "Current Epoch: 24\n"
     ]
    },
    {
     "name": "stderr",
     "output_type": "stream",
     "text": [
      "\n"
     ]
    },
    {
     "name": "stdout",
     "output_type": "stream",
     "text": [
      "Running Loss: 6486.620091080666, Running Corrects: 7267.946141785301, Running All: 8820.0\n"
     ]
    },
    {
     "name": "stderr",
     "output_type": "stream",
     "text": [
      "100%|██████████| 15/15 [00:02<00:00,  5.51it/s]"
     ]
    },
    {
     "name": "stdout",
     "output_type": "stream",
     "text": [
      "450 in total\tCR: 0.9422222222222222\n",
      "val Epoch:\t24\tLoss val: 0.2677\tAcc val:0.9422, LR: 0.0011498319542161421\n",
      "Epoch len: 128.06471848487854 Estimated Remaining: 32.016179621219635 Min\n",
      "Current Epoch: 25\n"
     ]
    },
    {
     "name": "stderr",
     "output_type": "stream",
     "text": [
      "\n"
     ]
    },
    {
     "name": "stdout",
     "output_type": "stream",
     "text": [
      "Running Loss: 6511.041285276413, Running Corrects: 7262.665804415958, Running All: 8820.0\n"
     ]
    },
    {
     "name": "stderr",
     "output_type": "stream",
     "text": [
      "100%|██████████| 15/15 [00:02<00:00,  5.50it/s]"
     ]
    },
    {
     "name": "stdout",
     "output_type": "stream",
     "text": [
      "450 in total\tCR: 0.9533333333333334\n",
      "val Epoch:\t25\tLoss val: 0.2599\tAcc val:0.9533, LR: 0.001036474508437579\n",
      "Epoch len: 129.739972114563 Estimated Remaining: 30.272660160064696 Min\n",
      "Current Epoch: 26\n"
     ]
    },
    {
     "name": "stderr",
     "output_type": "stream",
     "text": [
      "\n"
     ]
    },
    {
     "name": "stdout",
     "output_type": "stream",
     "text": [
      "Running Loss: 6390.578077316284, Running Corrects: 7246.352356440173, Running All: 8820.0\n"
     ]
    },
    {
     "name": "stderr",
     "output_type": "stream",
     "text": [
      "100%|██████████| 15/15 [00:02<00:00,  5.62it/s]"
     ]
    },
    {
     "name": "stdout",
     "output_type": "stream",
     "text": [
      "450 in total\tCR: 0.9444444444444444\n",
      "val Epoch:\t26\tLoss val: 0.2608\tAcc val:0.9444, LR: 0.0009259748514523654\n",
      "Epoch len: 127.44324111938477 Estimated Remaining: 27.612702242533366 Min\n",
      "Current Epoch: 27\n"
     ]
    },
    {
     "name": "stderr",
     "output_type": "stream",
     "text": [
      "\n"
     ]
    },
    {
     "name": "stdout",
     "output_type": "stream",
     "text": [
      "Running Loss: 6809.811918497086, Running Corrects: 7177.357834101294, Running All: 8820.0\n"
     ]
    },
    {
     "name": "stderr",
     "output_type": "stream",
     "text": [
      "100%|██████████| 15/15 [00:02<00:00,  5.95it/s]"
     ]
    },
    {
     "name": "stdout",
     "output_type": "stream",
     "text": [
      "450 in total\tCR: 0.9466666666666667\n",
      "val Epoch:\t27\tLoss val: 0.2680\tAcc val:0.9467, LR: 0.0008190142503906799\n",
      "Epoch len: 120.40963053703308 Estimated Remaining: 24.081926107406616 Min\n",
      "Current Epoch: 28\n"
     ]
    },
    {
     "name": "stderr",
     "output_type": "stream",
     "text": [
      "\n"
     ]
    },
    {
     "name": "stdout",
     "output_type": "stream",
     "text": [
      "Running Loss: 6365.089375972748, Running Corrects: 7323.644288394579, Running All: 8820.0\n"
     ]
    },
    {
     "name": "stderr",
     "output_type": "stream",
     "text": [
      "100%|██████████| 15/15 [00:02<00:00,  5.50it/s]"
     ]
    },
    {
     "name": "stdout",
     "output_type": "stream",
     "text": [
      "450 in total\tCR: 0.9488888888888889\n",
      "val Epoch:\t28\tLoss val: 0.2507\tAcc val:0.9489, LR: 0.0007162521529260768\n",
      "Epoch len: 123.64034032821655 Estimated Remaining: 22.6673957268397 Min\n",
      "Current Epoch: 29\n"
     ]
    },
    {
     "name": "stderr",
     "output_type": "stream",
     "text": [
      "\n"
     ]
    },
    {
     "name": "stdout",
     "output_type": "stream",
     "text": [
      "Running Loss: 6361.458177924156, Running Corrects: 7270.027782178019, Running All: 8820.0\n"
     ]
    },
    {
     "name": "stderr",
     "output_type": "stream",
     "text": [
      "100%|██████████| 15/15 [00:02<00:00,  5.47it/s]"
     ]
    },
    {
     "name": "stdout",
     "output_type": "stream",
     "text": [
      "450 in total\tCR: 0.9511111111111111\n",
      "val Epoch:\t29\tLoss val: 0.2295\tAcc val:0.9511, LR: 0.0006183221215612905\n",
      "Epoch len: 128.8457841873169 Estimated Remaining: 21.474297364552815 Min\n",
      "Current Epoch: 30\n"
     ]
    },
    {
     "name": "stderr",
     "output_type": "stream",
     "text": [
      "\n"
     ]
    },
    {
     "name": "stdout",
     "output_type": "stream",
     "text": [
      "Running Loss: 6522.102969408035, Running Corrects: 7231.511945202284, Running All: 8820.0\n"
     ]
    },
    {
     "name": "stderr",
     "output_type": "stream",
     "text": [
      "100%|██████████| 15/15 [00:02<00:00,  5.78it/s]"
     ]
    },
    {
     "name": "stdout",
     "output_type": "stream",
     "text": [
      "450 in total\tCR: 0.9488888888888889\n",
      "val Epoch:\t30\tLoss val: 0.2522\tAcc val:0.9489, LR: 0.0005258279275047247\n",
      "Epoch len: 120.62751412391663 Estimated Remaining: 18.094127118587494 Min\n",
      "Current Epoch: 31\n"
     ]
    },
    {
     "name": "stderr",
     "output_type": "stream",
     "text": [
      "\n"
     ]
    },
    {
     "name": "stdout",
     "output_type": "stream",
     "text": [
      "Running Loss: 6290.391363859177, Running Corrects: 7331.380608679128, Running All: 8820.0\n"
     ]
    },
    {
     "name": "stderr",
     "output_type": "stream",
     "text": [
      "100%|██████████| 15/15 [00:02<00:00,  5.91it/s]"
     ]
    },
    {
     "name": "stdout",
     "output_type": "stream",
     "text": [
      "450 in total\tCR: 0.9577777777777777\n",
      "val Epoch:\t31\tLoss val: 0.2365\tAcc val:0.9578, LR: 0.0004393398282201788\n",
      "Epoch len: 120.52918434143066 Estimated Remaining: 16.070557912190754 Min\n",
      "Current Epoch: 32\n"
     ]
    },
    {
     "name": "stderr",
     "output_type": "stream",
     "text": [
      "\n"
     ]
    },
    {
     "name": "stdout",
     "output_type": "stream",
     "text": [
      "Running Loss: 6564.922949314117, Running Corrects: 7195.388320102719, Running All: 8820.0\n"
     ]
    },
    {
     "name": "stderr",
     "output_type": "stream",
     "text": [
      "100%|██████████| 15/15 [00:02<00:00,  5.86it/s]"
     ]
    },
    {
     "name": "stdout",
     "output_type": "stream",
     "text": [
      "450 in total\tCR: 0.9533333333333334\n",
      "val Epoch:\t32\tLoss val: 0.2478\tAcc val:0.9533, LR: 0.0003593910515999536\n",
      "Epoch len: 120.45456290245056 Estimated Remaining: 14.053032338619232 Min\n",
      "Current Epoch: 33\n"
     ]
    },
    {
     "name": "stderr",
     "output_type": "stream",
     "text": [
      "\n"
     ]
    },
    {
     "name": "stdout",
     "output_type": "stream",
     "text": [
      "Running Loss: 6373.746150970459, Running Corrects: 7255.975094434982, Running All: 8820.0\n"
     ]
    },
    {
     "name": "stderr",
     "output_type": "stream",
     "text": [
      "100%|██████████| 15/15 [00:02<00:00,  5.78it/s]"
     ]
    },
    {
     "name": "stdout",
     "output_type": "stream",
     "text": [
      "450 in total\tCR: 0.9533333333333334\n",
      "val Epoch:\t33\tLoss val: 0.2417\tAcc val:0.9533, LR: 0.000286474508437579\n",
      "Epoch len: 120.4833300113678 Estimated Remaining: 12.048333001136779 Min\n",
      "Current Epoch: 34\n"
     ]
    },
    {
     "name": "stderr",
     "output_type": "stream",
     "text": [
      "\n"
     ]
    },
    {
     "name": "stdout",
     "output_type": "stream",
     "text": [
      "Running Loss: 6848.025153875351, Running Corrects: 7131.594685091534, Running All: 8820.0\n"
     ]
    },
    {
     "name": "stderr",
     "output_type": "stream",
     "text": [
      "100%|██████████| 15/15 [00:02<00:00,  5.83it/s]"
     ]
    },
    {
     "name": "stdout",
     "output_type": "stream",
     "text": [
      "450 in total\tCR: 0.9511111111111111\n",
      "val Epoch:\t34\tLoss val: 0.2465\tAcc val:0.9511, LR: 0.00022103975346886173\n",
      "Epoch len: 120.58793091773987 Estimated Remaining: 10.048994243144989 Min\n",
      "Current Epoch: 35\n"
     ]
    },
    {
     "name": "stderr",
     "output_type": "stream",
     "text": [
      "\n"
     ]
    },
    {
     "name": "stdout",
     "output_type": "stream",
     "text": [
      "Running Loss: 6252.148253202438, Running Corrects: 7306.4044483461985, Running All: 8820.0\n"
     ]
    },
    {
     "name": "stderr",
     "output_type": "stream",
     "text": [
      "100%|██████████| 15/15 [00:02<00:00,  5.82it/s]"
     ]
    },
    {
     "name": "stdout",
     "output_type": "stream",
     "text": [
      "450 in total\tCR: 0.9533333333333334\n",
      "val Epoch:\t35\tLoss val: 0.2419\tAcc val:0.9533, LR: 0.00016349021371744833\n",
      "Epoch len: 120.6007661819458 Estimated Remaining: 8.040051078796386 Min\n",
      "Current Epoch: 36\n"
     ]
    },
    {
     "name": "stderr",
     "output_type": "stream",
     "text": [
      "\n"
     ]
    },
    {
     "name": "stdout",
     "output_type": "stream",
     "text": [
      "Running Loss: 6062.169922590256, Running Corrects: 7390.52405286161, Running All: 8820.0\n"
     ]
    },
    {
     "name": "stderr",
     "output_type": "stream",
     "text": [
      "100%|██████████| 15/15 [00:02<00:00,  5.80it/s]"
     ]
    },
    {
     "name": "stdout",
     "output_type": "stream",
     "text": [
      "450 in total\tCR: 0.9533333333333334\n",
      "val Epoch:\t36\tLoss val: 0.2433\tAcc val:0.9533, LR: 0.0001141807012330699\n",
      "Epoch len: 120.63722205162048 Estimated Remaining: 6.031861102581024 Min\n",
      "Current Epoch: 37\n"
     ]
    },
    {
     "name": "stderr",
     "output_type": "stream",
     "text": [
      "\n"
     ]
    },
    {
     "name": "stdout",
     "output_type": "stream",
     "text": [
      "Running Loss: 6107.149834394455, Running Corrects: 7368.831406505149, Running All: 8820.0\n"
     ]
    },
    {
     "name": "stderr",
     "output_type": "stream",
     "text": [
      "100%|██████████| 15/15 [00:02<00:00,  5.87it/s]"
     ]
    },
    {
     "name": "stdout",
     "output_type": "stream",
     "text": [
      "450 in total\tCR: 0.9488888888888889\n",
      "val Epoch:\t37\tLoss val: 0.2379\tAcc val:0.9489, LR: 7.341522555726971e-05\n",
      "Epoch len: 120.4900963306427 Estimated Remaining: 4.016336544354757 Min\n",
      "Current Epoch: 38\n"
     ]
    },
    {
     "name": "stderr",
     "output_type": "stream",
     "text": [
      "\n"
     ]
    },
    {
     "name": "stdout",
     "output_type": "stream",
     "text": [
      "Running Loss: 6264.211488366127, Running Corrects: 7310.01109145372, Running All: 8820.0\n"
     ]
    },
    {
     "name": "stderr",
     "output_type": "stream",
     "text": [
      "100%|██████████| 15/15 [00:02<00:00,  5.77it/s]"
     ]
    },
    {
     "name": "stdout",
     "output_type": "stream",
     "text": [
      "450 in total\tCR: 0.9533333333333334\n",
      "val Epoch:\t38\tLoss val: 0.2374\tAcc val:0.9533, LR: 4.144511940348517e-05\n",
      "Epoch len: 120.58574676513672 Estimated Remaining: 2.009762446085612 Min\n",
      "Current Epoch: 39\n"
     ]
    },
    {
     "name": "stderr",
     "output_type": "stream",
     "text": [
      "\n"
     ]
    },
    {
     "name": "stdout",
     "output_type": "stream",
     "text": [
      "Running Loss: 6339.239730834961, Running Corrects: 7284.627528490887, Running All: 8820.0\n"
     ]
    },
    {
     "name": "stderr",
     "output_type": "stream",
     "text": [
      "100%|██████████| 15/15 [00:02<00:00,  5.60it/s]\n"
     ]
    },
    {
     "name": "stdout",
     "output_type": "stream",
     "text": [
      "450 in total\tCR: 0.9511111111111111\n",
      "val Epoch:\t39\tLoss val: 0.2339\tAcc val:0.9511, LR: 1.846748910729351e-05\n",
      "Epoch len: 126.986811876297 Estimated Remaining: 0.0 Min\n"
     ]
    },
    {
     "name": "stderr",
     "output_type": "stream",
     "text": [
      "100%|██████████| 15/15 [00:02<00:00,  5.83it/s]"
     ]
    },
    {
     "name": "stdout",
     "output_type": "stream",
     "text": [
      "450 in total\tCR: 0.9577777777777777\n",
      "Test time performance of best epoch: 0.9577777777777777 (loss: 0.23824371230271127)\n"
     ]
    },
    {
     "name": "stderr",
     "output_type": "stream",
     "text": [
      "\n"
     ]
    }
   ],
   "source": [
    "while epoch < epochs:\n",
    "    start_epoch = time.time()\n",
    "    model = train_loop(test_model, datasets['train'], criterion, epoch, optimizer)\n",
    "    acc_avg_val, loss_avg_val = evaluate(model, datasets['val'], criterion)\n",
    "    print('{} Epoch:\\t{:2}\\tLoss val: {:.4f}\\tAcc val:{:.4f}, LR: {}'.format('val', epoch, loss_avg_val, acc_avg_val, showLR(optimizer)))\n",
    "    scheduler.adjust_lr(optimizer, epoch)\n",
    "    epoch +=1\n",
    "    epoch_len = time.time() - start_epoch\n",
    "    print(\"Epoch len: {} Estimated Remaining: {} Min\".format(str(epoch_len), str(((epochs-epoch)*epoch_len)/60)))\n",
    "\n",
    "acc_avg_test, loss_avg_test = evaluate(model, datasets['test'], criterion)\n",
    "print('Test time performance of best epoch: {} (loss: {})'.format(acc_avg_test, loss_avg_test))"
   ],
   "metadata": {
    "collapsed": false,
    "pycharm": {
     "name": "#%%\n"
    }
   }
  },
  {
   "cell_type": "code",
   "execution_count": 11,
   "outputs": [],
   "source": [
    "#ACC of 95.7777 on 9 Words\n",
    "torch.save(model.state_dict(), '/home/taylorpap/Bootcamp/lipreadlstmv2.pth')"
   ],
   "metadata": {
    "collapsed": false,
    "pycharm": {
     "name": "#%%\n"
    }
   }
  },
  {
   "cell_type": "code",
   "execution_count": null,
   "outputs": [],
   "source": [],
   "metadata": {
    "collapsed": false,
    "pycharm": {
     "name": "#%%\n"
    }
   }
  }
 ],
 "metadata": {
  "kernelspec": {
   "display_name": "Python 3",
   "language": "python",
   "name": "python3"
  },
  "language_info": {
   "codemirror_mode": {
    "name": "ipython",
    "version": 2
   },
   "file_extension": ".py",
   "mimetype": "text/x-python",
   "name": "python",
   "nbconvert_exporter": "python",
   "pygments_lexer": "ipython2",
   "version": "2.7.6"
  }
 },
 "nbformat": 4,
 "nbformat_minor": 0
}