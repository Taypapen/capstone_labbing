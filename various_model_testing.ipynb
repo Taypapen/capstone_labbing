{
 "cells": [
  {
   "cell_type": "code",
   "execution_count": 1,
   "metadata": {
    "collapsed": true,
    "pycharm": {
     "name": "#%%\n"
    }
   },
   "outputs": [],
   "source": [
    "from utilities import *\n",
    "from pytorch_nn import Lipreading1\n",
    "from pytorch_blocks import _3d_block, ConvNet1D, threeD_to_2D_tensor, noop, _average_batch, _conv_block, _bottleneck_conv_block\n",
    "from lips_points_dataloading import dataloader_for_lips\n",
    "from Model_training_blocks import FullTrainer\n",
    "from fastai.layers import *\n",
    "import torch\n",
    "from torch import nn\n",
    "import torch.nn.functional as F\n",
    "from torchvision import models\n",
    "\n",
    "from with_other_resnet import TrueResNet, BasicBlock"
   ]
  },
  {
   "cell_type": "code",
   "execution_count": 2,
   "outputs": [],
   "source": [
    "words_list_file = '/home/taylorpap/Bootcamp/wordlist.txt'\n",
    "words_list = get_wordslist_from_txt_file(words_list_file)"
   ],
   "metadata": {
    "collapsed": false,
    "pycharm": {
     "name": "#%%\n"
    }
   }
  },
  {
   "cell_type": "code",
   "execution_count": 3,
   "outputs": [
    {
     "name": "stdout",
     "output_type": "stream",
     "text": [
      "50\n"
     ]
    }
   ],
   "source": [
    "temp_words_list = []\n",
    "for index in range(1, len(words_list), 10):\n",
    "    temp_words_list.append(words_list[index])\n",
    "print(len(temp_words_list))"
   ],
   "metadata": {
    "collapsed": false,
    "pycharm": {
     "name": "#%%\n"
    }
   }
  },
  {
   "cell_type": "code",
   "execution_count": 4,
   "outputs": [],
   "source": [
    "class LipreadLSTMv1(nn.Module):\n",
    "    def __init__(self, num_classes, pretrained_res=False, relu_type='prelu'):\n",
    "        super(LipreadLSTMv1, self).__init__()\n",
    "        self.num_classes = num_classes\n",
    "        self.frontend_out = 64\n",
    "        self.backend_out = 512\n",
    "\n",
    "        self.front3D = _3d_block(1, self.frontend_out, kernel_size=(5, 7, 7), stride=(1, 2, 2), padding=(2, 3, 3), bias=False)\n",
    "        self.max_pool_3D = nn.MaxPool3d(kernel_size=(1, 3, 3), stride=(1, 2, 2), padding=(0, 1, 1))\n",
    "        self.resnet = TrueResNet(BasicBlock, [2, 2, 2, 2], relu_type=relu_type)\n",
    "        self.lstm = nn.LSTM(\n",
    "            input_size=self.backend_out,\n",
    "            hidden_size=256,\n",
    "            num_layers=3,\n",
    "            batch_first=True,\n",
    "            bidirectional=True,\n",
    "            dropout=0.1\n",
    "        )\n",
    "        self.conv1 = nn.Conv1d(512, 256, kernel_size=3)\n",
    "        self.batchnorm1 = nn.BatchNorm1d(256)\n",
    "        if relu_type == 'relu':\n",
    "            self.relu1 = nn.ReLU()\n",
    "        elif relu_type == 'prelu':\n",
    "            self.relu1 = nn.PReLU(num_parameters=256)\n",
    "        self.fc2 = nn.Linear(256, num_classes)\n",
    "\n",
    "        if pretrained_res:\n",
    "            pretrained_model = models.resnet18(pretrained=True)\n",
    "            #pretrained_model.fc = nn.Linear(pretrained_model.fc.in_features, num_classes)\n",
    "            self.resnet.load_state_dict(pretrained_model.state_dict(), strict=False)\n",
    "            for param in self.resnet.parameters():\n",
    "                param.requires_grad = False\n",
    "\n",
    "\n",
    "    def forward(self, x, lengths):\n",
    "        B, C, T, H, W = x.size()\n",
    "        #print(\"Initial Shape: \" + str(x.shape))\n",
    "        x = self.front3D(x)\n",
    "        #print(\"3D Out Shape: \" + str(x.shape))\n",
    "        x = self.max_pool_3D(x)\n",
    "        #print(\"3D Max Pool Shape: \" + str(x.shape))\n",
    "        Tnew = x.shape[2]\n",
    "        #transposed = x.transpose(1, 2).contiguous()\n",
    "        #x = transposed.view(-1, 64, x.size(3), x.size(4))\n",
    "        x = threeD_to_2D_tensor(x)\n",
    "        #print(\"ResNet In Shape: \" + str(x.shape))\n",
    "        x = self.resnet(x)\n",
    "        #print(\"ResNet Out Shape: \" + str(x.shape))\n",
    "        x = x.view(B, Tnew, x.size(1))\n",
    "        #x = x.transpose(1, 2)\n",
    "        #print(\"DataTransform Out Shape: \" + str(x.shape))\n",
    "\n",
    "        #x = self.fc(x)\n",
    "        #x = self.bn2(x)\n",
    "        #print(\"First Batch Norm OutShape: \" + str(x.shape))\n",
    "        #x = x.view(x.shape[0], -1, self.num_classes)\n",
    "        x, _ = self.lstm(x)\n",
    "        #print(\"LSTM Out Shape: \" + str(x.shape))\n",
    "        x = x.transpose(1, 2)\n",
    "        #print(\"Transposed Shape: {}\".format(str(x.shape)))\n",
    "        x = self.conv1(x)\n",
    "        x = self.batchnorm1(x)\n",
    "        x = self.relu1(x)\n",
    "        #print(\"Avg Batch InShape: \" + str(x.shape))\n",
    "        x = _average_batch(x, lengths)\n",
    "        #print(\"Avg Batch OutShape: \" + str(x.shape))\n",
    "        x = self.fc2(x)\n",
    "        #print(\"Last Liner Out Shape: \" + str(x.shape))\n",
    "        return x"
   ],
   "metadata": {
    "collapsed": false,
    "pycharm": {
     "name": "#%%\n"
    }
   }
  },
  {
   "cell_type": "code",
   "execution_count": 4,
   "outputs": [
    {
     "name": "stdout",
     "output_type": "stream",
     "text": [
      "Partition train loaded\n",
      "Partition test loaded\n",
      "Partition val loaded\n"
     ]
    }
   ],
   "source": [
    "data_path = '/media/taylorpap/2TBM2/Dataset_2/GreyCropped'\n",
    "from datasetloadingpy import dataloaders\n",
    "datasets = dataloaders(data_dir=data_path, label_fp=temp_words_list, batch_size=32, workers=8)"
   ],
   "metadata": {
    "collapsed": false,
    "pycharm": {
     "name": "#%%\n"
    }
   }
  },
  {
   "cell_type": "code",
   "execution_count": 5,
   "outputs": [
    {
     "name": "stdout",
     "output_type": "stream",
     "text": [
      "Feature batch shape: torch.Size([32, 29, 88, 88])\n",
      "Labels batch shape: torch.Size([32])\n"
     ]
    }
   ],
   "source": [
    "train_features, train_lengths, train_labels = next(iter(datasets['train']))\n",
    "print(f\"Feature batch shape: {train_features.size()}\")\n",
    "print(f\"Labels batch shape: {train_labels.size()}\")"
   ],
   "metadata": {
    "collapsed": false,
    "pycharm": {
     "name": "#%%\n"
    }
   }
  },
  {
   "cell_type": "markdown",
   "source": [
    "TESTING LSTM MODEL WITH VARIOUS LOSS FUNCTIONS:"
   ],
   "metadata": {
    "collapsed": false,
    "pycharm": {
     "name": "#%% md\n"
    }
   }
  },
  {
   "cell_type": "code",
   "execution_count": 7,
   "outputs": [
    {
     "name": "stderr",
     "output_type": "stream",
     "text": [
      "/home/taylorpap/anaconda3/envs/projectenv/lib/python3.10/site-packages/torchvision/models/_utils.py:208: UserWarning: The parameter 'pretrained' is deprecated since 0.13 and may be removed in the future, please use 'weights' instead.\n",
      "  warnings.warn(\n",
      "/home/taylorpap/anaconda3/envs/projectenv/lib/python3.10/site-packages/torchvision/models/_utils.py:223: UserWarning: Arguments other than a weight enum or `None` for 'weights' are deprecated since 0.13 and may be removed in the future. The current behavior is equivalent to passing `weights=ResNet18_Weights.IMAGENET1K_V1`. You can also use `weights=ResNet18_Weights.DEFAULT` to get the most up-to-date weights.\n",
      "  warnings.warn(msg)\n"
     ]
    }
   ],
   "source": [
    "model1 = LipreadLSTMv1(len(temp_words_list), pretrained_res=True) #Using Loaded Model Weights for ResNet18"
   ],
   "metadata": {
    "collapsed": false,
    "pycharm": {
     "name": "#%%\n"
    }
   }
  },
  {
   "cell_type": "code",
   "execution_count": 8,
   "outputs": [],
   "source": [
    "if torch.cuda.is_available():\n",
    "    model1.cuda()"
   ],
   "metadata": {
    "collapsed": false,
    "pycharm": {
     "name": "#%%\n"
    }
   }
  },
  {
   "cell_type": "code",
   "execution_count": 9,
   "outputs": [
    {
     "name": "stdout",
     "output_type": "stream",
     "text": [
      "Current Epoch: 0\n",
      "Running Loss: 187487.15158700943, Running Corrects: 2073.0, Running All: 48623.0\n"
     ]
    },
    {
     "name": "stderr",
     "output_type": "stream",
     "text": [
      "100%|██████████| 79/79 [00:04<00:00, 18.69it/s]"
     ]
    },
    {
     "name": "stdout",
     "output_type": "stream",
     "text": [
      "2499 in total\tCR: 0.060024009603841535\n",
      "val Epoch:\t 0\tLoss val: 3.7480\tAcc val:0.0600, LR: 0.003\n",
      "Epoch len: 189.77115988731384 Estimated Remaining: 123.351253926754 Min\n",
      "Current Epoch: 1\n"
     ]
    },
    {
     "name": "stderr",
     "output_type": "stream",
     "text": [
      "\n"
     ]
    },
    {
     "name": "stdout",
     "output_type": "stream",
     "text": [
      "Running Loss: 178847.27205729485, Running Corrects: 3572.0, Running All: 48623.0\n"
     ]
    },
    {
     "name": "stderr",
     "output_type": "stream",
     "text": [
      "100%|██████████| 79/79 [00:05<00:00, 13.93it/s]\n"
     ]
    },
    {
     "name": "stdout",
     "output_type": "stream",
     "text": [
      "2499 in total\tCR: 0.09843937575030012\n",
      "val Epoch:\t 1\tLoss val: 3.5590\tAcc val:0.0984, LR: 0.003\n",
      "Epoch len: 213.81982016563416 Estimated Remaining: 135.41921943823496 Min\n",
      "Current Epoch: 2\n",
      "Running Loss: 160584.82696008682, Running Corrects: 6772.0, Running All: 48623.0\n"
     ]
    },
    {
     "name": "stderr",
     "output_type": "stream",
     "text": [
      "100%|██████████| 79/79 [00:04<00:00, 17.14it/s]\n"
     ]
    },
    {
     "name": "stdout",
     "output_type": "stream",
     "text": [
      "2499 in total\tCR: 0.22208883553421369\n",
      "val Epoch:\t 2\tLoss val: 2.8766\tAcc val:0.2221, LR: 0.0029953760005996923\n",
      "Epoch len: 210.9782361984253 Estimated Remaining: 130.1032456556956 Min\n",
      "Current Epoch: 3\n",
      "Running Loss: 122661.59310650826, Running Corrects: 14538.0, Running All: 48623.0\n"
     ]
    },
    {
     "name": "stderr",
     "output_type": "stream",
     "text": [
      "100%|██████████| 79/79 [00:04<00:00, 18.06it/s]\n"
     ]
    },
    {
     "name": "stdout",
     "output_type": "stream",
     "text": [
      "2499 in total\tCR: 0.36214485794317725\n",
      "val Epoch:\t 3\tLoss val: 2.2332\tAcc val:0.3621, LR: 0.002981532510892707\n",
      "Epoch len: 196.71114873886108 Estimated Remaining: 118.02668924331665 Min\n",
      "Current Epoch: 4\n",
      "Running Loss: 91079.63230919838, Running Corrects: 22360.0, Running All: 48623.0\n"
     ]
    },
    {
     "name": "stderr",
     "output_type": "stream",
     "text": [
      "100%|██████████| 79/79 [00:04<00:00, 19.12it/s]\n"
     ]
    },
    {
     "name": "stdout",
     "output_type": "stream",
     "text": [
      "2499 in total\tCR: 0.4777911164465786\n",
      "val Epoch:\t 4\tLoss val: 1.8284\tAcc val:0.4778, LR: 0.002958554880596515\n",
      "Epoch len: 184.61272192001343 Estimated Remaining: 107.69075445334117 Min\n",
      "Current Epoch: 5\n",
      "Running Loss: 74553.84307479858, Running Corrects: 26751.0, Running All: 48623.0\n"
     ]
    },
    {
     "name": "stderr",
     "output_type": "stream",
     "text": [
      "100%|██████████| 79/79 [00:03<00:00, 20.47it/s]\n"
     ]
    },
    {
     "name": "stdout",
     "output_type": "stream",
     "text": [
      "2499 in total\tCR: 0.5798319327731093\n",
      "val Epoch:\t 5\tLoss val: 1.4467\tAcc val:0.5798, LR: 0.0029265847744427307\n",
      "Epoch len: 165.52493405342102 Estimated Remaining: 93.79746263027191 Min\n",
      "Current Epoch: 6\n",
      "Running Loss: 63477.937974095345, Running Corrects: 30029.0, Running All: 48623.0\n"
     ]
    },
    {
     "name": "stderr",
     "output_type": "stream",
     "text": [
      "100%|██████████| 79/79 [00:03<00:00, 20.65it/s]\n"
     ]
    },
    {
     "name": "stdout",
     "output_type": "stream",
     "text": [
      "2499 in total\tCR: 0.647859143657463\n",
      "val Epoch:\t 6\tLoss val: 1.2141\tAcc val:0.6479, LR: 0.00288581929876693\n",
      "Epoch len: 165.29811310768127 Estimated Remaining: 90.9139622092247 Min\n",
      "Current Epoch: 7\n",
      "Running Loss: 56312.02485537529, Running Corrects: 31992.0, Running All: 48623.0\n"
     ]
    },
    {
     "name": "stderr",
     "output_type": "stream",
     "text": [
      "100%|██████████| 79/79 [00:03<00:00, 20.48it/s]\n"
     ]
    },
    {
     "name": "stdout",
     "output_type": "stream",
     "text": [
      "2499 in total\tCR: 0.6706682673069227\n",
      "val Epoch:\t 7\tLoss val: 1.1024\tAcc val:0.6707, LR: 0.0028365097862825517\n",
      "Epoch len: 165.16376423835754 Estimated Remaining: 88.08734092712402 Min\n",
      "Current Epoch: 8\n",
      "Running Loss: 50920.86492431164, Running Corrects: 33427.0, Running All: 48623.0\n"
     ]
    },
    {
     "name": "stderr",
     "output_type": "stream",
     "text": [
      "100%|██████████| 79/79 [00:03<00:00, 20.53it/s]\n"
     ]
    },
    {
     "name": "stdout",
     "output_type": "stream",
     "text": [
      "2499 in total\tCR: 0.6978791516606643\n",
      "val Epoch:\t 8\tLoss val: 1.0167\tAcc val:0.6979, LR: 0.0027789602465311384\n",
      "Epoch len: 165.31055545806885 Estimated Remaining: 85.41045365333557 Min\n",
      "Current Epoch: 9\n",
      "Running Loss: 46192.15637719631, Running Corrects: 34798.0, Running All: 48623.0\n"
     ]
    },
    {
     "name": "stderr",
     "output_type": "stream",
     "text": [
      "100%|██████████| 79/79 [00:03<00:00, 20.65it/s]\n"
     ]
    },
    {
     "name": "stdout",
     "output_type": "stream",
     "text": [
      "2499 in total\tCR: 0.7210884353741497\n",
      "val Epoch:\t 9\tLoss val: 0.9246\tAcc val:0.7211, LR: 0.002713525491562421\n",
      "Epoch len: 165.52888226509094 Estimated Remaining: 82.76444113254547 Min\n",
      "Current Epoch: 10\n",
      "Running Loss: 43456.99230837822, Running Corrects: 35465.0, Running All: 48623.0\n"
     ]
    },
    {
     "name": "stderr",
     "output_type": "stream",
     "text": [
      "100%|██████████| 79/79 [00:05<00:00, 15.55it/s]\n"
     ]
    },
    {
     "name": "stdout",
     "output_type": "stream",
     "text": [
      "2499 in total\tCR: 0.7358943577430972\n",
      "val Epoch:\t10\tLoss val: 0.8676\tAcc val:0.7359, LR: 0.0026406089484000464\n",
      "Epoch len: 217.51572442054749 Estimated Remaining: 105.13260013659796 Min\n",
      "Current Epoch: 11\n",
      "Running Loss: 41077.66409552097, Running Corrects: 36376.0, Running All: 48623.0\n"
     ]
    },
    {
     "name": "stderr",
     "output_type": "stream",
     "text": [
      "100%|██████████| 79/79 [00:04<00:00, 16.63it/s]\n"
     ]
    },
    {
     "name": "stdout",
     "output_type": "stream",
     "text": [
      "2499 in total\tCR: 0.7490996398559424\n",
      "val Epoch:\t11\tLoss val: 0.8213\tAcc val:0.7491, LR: 0.002560660171779821\n",
      "Epoch len: 217.69809412956238 Estimated Remaining: 101.59244392712911 Min\n",
      "Current Epoch: 12\n",
      "Running Loss: 38440.983445852995, Running Corrects: 37010.0, Running All: 48623.0\n"
     ]
    },
    {
     "name": "stderr",
     "output_type": "stream",
     "text": [
      "100%|██████████| 79/79 [00:04<00:00, 17.67it/s]\n"
     ]
    },
    {
     "name": "stdout",
     "output_type": "stream",
     "text": [
      "2499 in total\tCR: 0.7555022008803521\n",
      "val Epoch:\t12\tLoss val: 0.7957\tAcc val:0.7555, LR: 0.002474172072495276\n",
      "Epoch len: 203.58532547950745 Estimated Remaining: 91.61339646577835 Min\n",
      "Current Epoch: 13\n",
      "Running Loss: 36528.0685647428, Running Corrects: 37544.0, Running All: 48623.0\n"
     ]
    },
    {
     "name": "stderr",
     "output_type": "stream",
     "text": [
      "100%|██████████| 79/79 [00:04<00:00, 18.72it/s]\n"
     ]
    },
    {
     "name": "stdout",
     "output_type": "stream",
     "text": [
      "2499 in total\tCR: 0.767907162865146\n",
      "val Epoch:\t13\tLoss val: 0.7575\tAcc val:0.7679, LR: 0.00238167787843871\n",
      "Epoch len: 190.4647490978241 Estimated Remaining: 82.53472460905711 Min\n",
      "Current Epoch: 14\n",
      "Running Loss: 34678.189493238926, Running Corrects: 38059.0, Running All: 48623.0\n"
     ]
    },
    {
     "name": "stderr",
     "output_type": "stream",
     "text": [
      "100%|██████████| 79/79 [00:04<00:00, 19.66it/s]\n"
     ]
    },
    {
     "name": "stdout",
     "output_type": "stream",
     "text": [
      "2499 in total\tCR: 0.7855142056822729\n",
      "val Epoch:\t14\tLoss val: 0.7298\tAcc val:0.7855, LR: 0.002283747847073923\n",
      "Epoch len: 178.8675570487976 Estimated Remaining: 74.52814877033234 Min\n",
      "Current Epoch: 15\n",
      "Running Loss: 32972.68402993679, Running Corrects: 38484.0, Running All: 48623.0\n"
     ]
    },
    {
     "name": "stderr",
     "output_type": "stream",
     "text": [
      "100%|██████████| 79/79 [00:03<00:00, 21.23it/s]\n"
     ]
    },
    {
     "name": "stdout",
     "output_type": "stream",
     "text": [
      "2499 in total\tCR: 0.7819127651060425\n",
      "val Epoch:\t15\tLoss val: 0.7212\tAcc val:0.7819, LR: 0.0021809857496093202\n",
      "Epoch len: 166.1623842716217 Estimated Remaining: 66.46495370864868 Min\n",
      "Current Epoch: 16\n",
      "Running Loss: 31668.361508607864, Running Corrects: 39004.0, Running All: 48623.0\n"
     ]
    },
    {
     "name": "stderr",
     "output_type": "stream",
     "text": [
      "100%|██████████| 79/79 [00:03<00:00, 20.99it/s]\n"
     ]
    },
    {
     "name": "stdout",
     "output_type": "stream",
     "text": [
      "2499 in total\tCR: 0.787515006002401\n",
      "val Epoch:\t16\tLoss val: 0.7018\tAcc val:0.7875, LR: 0.002074025148547635\n",
      "Epoch len: 157.55689334869385 Estimated Remaining: 60.39680911699931 Min\n",
      "Current Epoch: 17\n",
      "Running Loss: 30340.717002749443, Running Corrects: 39346.0, Running All: 48623.0\n"
     ]
    },
    {
     "name": "stderr",
     "output_type": "stream",
     "text": [
      "100%|██████████| 79/79 [00:03<00:00, 21.30it/s]\n"
     ]
    },
    {
     "name": "stdout",
     "output_type": "stream",
     "text": [
      "2499 in total\tCR: 0.8011204481792717\n",
      "val Epoch:\t17\tLoss val: 0.6639\tAcc val:0.8011, LR: 0.0019635254915624212\n",
      "Epoch len: 157.481431722641 Estimated Remaining: 57.74319163163503 Min\n",
      "Current Epoch: 18\n",
      "Running Loss: 29283.378096222878, Running Corrects: 39634.0, Running All: 48623.0\n"
     ]
    },
    {
     "name": "stderr",
     "output_type": "stream",
     "text": [
      "100%|██████████| 79/79 [00:03<00:00, 21.22it/s]\n"
     ]
    },
    {
     "name": "stdout",
     "output_type": "stream",
     "text": [
      "2499 in total\tCR: 0.7935174069627852\n",
      "val Epoch:\t18\tLoss val: 0.6876\tAcc val:0.7935, LR: 0.0018501680457838584\n",
      "Epoch len: 157.7707371711731 Estimated Remaining: 55.219758009910585 Min\n",
      "Current Epoch: 19\n",
      "Running Loss: 27956.876910686493, Running Corrects: 39965.0, Running All: 48623.0\n"
     ]
    },
    {
     "name": "stderr",
     "output_type": "stream",
     "text": [
      "100%|██████████| 79/79 [00:03<00:00, 21.26it/s]\n"
     ]
    },
    {
     "name": "stdout",
     "output_type": "stream",
     "text": [
      "2499 in total\tCR: 0.81312525010004\n",
      "val Epoch:\t19\tLoss val: 0.6346\tAcc val:0.8131, LR: 0.0017346516975603465\n",
      "Epoch len: 157.97523140907288 Estimated Remaining: 52.658410469690956 Min\n",
      "Current Epoch: 20\n",
      "Running Loss: 26948.016821324825, Running Corrects: 40290.0, Running All: 48623.0\n"
     ]
    },
    {
     "name": "stderr",
     "output_type": "stream",
     "text": [
      "100%|██████████| 79/79 [00:03<00:00, 21.58it/s]\n"
     ]
    },
    {
     "name": "stdout",
     "output_type": "stream",
     "text": [
      "2499 in total\tCR: 0.8091236494597839\n",
      "val Epoch:\t20\tLoss val: 0.6166\tAcc val:0.8091, LR: 0.0016176886435917675\n",
      "Epoch len: 157.9065179824829 Estimated Remaining: 50.00373069445292 Min\n",
      "Current Epoch: 21\n",
      "Running Loss: 26211.15318916738, Running Corrects: 40405.0, Running All: 48623.0\n"
     ]
    },
    {
     "name": "stderr",
     "output_type": "stream",
     "text": [
      "100%|██████████| 79/79 [00:03<00:00, 21.30it/s]\n"
     ]
    },
    {
     "name": "stdout",
     "output_type": "stream",
     "text": [
      "2499 in total\tCR: 0.818327330932373\n",
      "val Epoch:\t21\tLoss val: 0.6097\tAcc val:0.8183, LR: 0.0015\n",
      "Epoch len: 157.63308119773865 Estimated Remaining: 47.289924359321596 Min\n",
      "Current Epoch: 22\n",
      "Running Loss: 25124.39976912737, Running Corrects: 40764.0, Running All: 48623.0\n"
     ]
    },
    {
     "name": "stderr",
     "output_type": "stream",
     "text": [
      "100%|██████████| 79/79 [00:03<00:00, 21.45it/s]\n"
     ]
    },
    {
     "name": "stdout",
     "output_type": "stream",
     "text": [
      "2499 in total\tCR: 0.8227290916366546\n",
      "val Epoch:\t22\tLoss val: 0.6098\tAcc val:0.8227, LR: 0.0013823113564082328\n",
      "Epoch len: 157.49402141571045 Estimated Remaining: 44.623306067784625 Min\n",
      "Current Epoch: 23\n",
      "Running Loss: 24371.45121717453, Running Corrects: 41093.0, Running All: 48623.0\n"
     ]
    },
    {
     "name": "stderr",
     "output_type": "stream",
     "text": [
      "100%|██████████| 79/79 [00:03<00:00, 21.57it/s]\n"
     ]
    },
    {
     "name": "stdout",
     "output_type": "stream",
     "text": [
      "2499 in total\tCR: 0.8187274909963985\n",
      "val Epoch:\t23\tLoss val: 0.6022\tAcc val:0.8187, LR: 0.0012653483024396542\n",
      "Epoch len: 157.58359909057617 Estimated Remaining: 42.02229309082031 Min\n",
      "Current Epoch: 24\n",
      "Running Loss: 23360.78344361484, Running Corrects: 41290.0, Running All: 48623.0\n"
     ]
    },
    {
     "name": "stderr",
     "output_type": "stream",
     "text": [
      "100%|██████████| 79/79 [00:03<00:00, 21.07it/s]\n"
     ]
    },
    {
     "name": "stdout",
     "output_type": "stream",
     "text": [
      "2499 in total\tCR: 0.8191276510604242\n",
      "val Epoch:\t24\tLoss val: 0.5909\tAcc val:0.8191, LR: 0.0011498319542161421\n",
      "Epoch len: 157.54686570167542 Estimated Remaining: 39.386716425418854 Min\n",
      "Current Epoch: 25\n",
      "Running Loss: 22704.62589225173, Running Corrects: 41590.0, Running All: 48623.0\n"
     ]
    },
    {
     "name": "stderr",
     "output_type": "stream",
     "text": [
      "100%|██████████| 79/79 [00:03<00:00, 21.49it/s]\n"
     ]
    },
    {
     "name": "stdout",
     "output_type": "stream",
     "text": [
      "2499 in total\tCR: 0.8303321328531412\n",
      "val Epoch:\t25\tLoss val: 0.5827\tAcc val:0.8303, LR: 0.001036474508437579\n",
      "Epoch len: 157.5348801612854 Estimated Remaining: 36.758138704299924 Min\n",
      "Current Epoch: 26\n",
      "Running Loss: 22026.014494985342, Running Corrects: 41755.0, Running All: 48623.0\n"
     ]
    },
    {
     "name": "stderr",
     "output_type": "stream",
     "text": [
      "100%|██████████| 79/79 [00:03<00:00, 21.50it/s]\n"
     ]
    },
    {
     "name": "stdout",
     "output_type": "stream",
     "text": [
      "2499 in total\tCR: 0.8251300520208084\n",
      "val Epoch:\t26\tLoss val: 0.5872\tAcc val:0.8251, LR: 0.0009259748514523654\n",
      "Epoch len: 157.45398044586182 Estimated Remaining: 34.115029096603394 Min\n",
      "Current Epoch: 27\n",
      "Running Loss: 21616.067961126566, Running Corrects: 41960.0, Running All: 48623.0\n"
     ]
    },
    {
     "name": "stderr",
     "output_type": "stream",
     "text": [
      "100%|██████████| 79/79 [00:03<00:00, 21.69it/s]\n"
     ]
    },
    {
     "name": "stdout",
     "output_type": "stream",
     "text": [
      "2499 in total\tCR: 0.8267306922769108\n",
      "val Epoch:\t27\tLoss val: 0.5777\tAcc val:0.8267, LR: 0.0008190142503906799\n",
      "Epoch len: 157.47916960716248 Estimated Remaining: 31.495833921432496 Min\n",
      "Current Epoch: 28\n",
      "Running Loss: 20679.081433579326, Running Corrects: 42211.0, Running All: 48623.0\n"
     ]
    },
    {
     "name": "stderr",
     "output_type": "stream",
     "text": [
      "100%|██████████| 79/79 [00:03<00:00, 21.54it/s]\n"
     ]
    },
    {
     "name": "stdout",
     "output_type": "stream",
     "text": [
      "2499 in total\tCR: 0.8291316526610645\n",
      "val Epoch:\t28\tLoss val: 0.5713\tAcc val:0.8291, LR: 0.0007162521529260768\n",
      "Epoch len: 157.50955295562744 Estimated Remaining: 28.876751375198364 Min\n",
      "Current Epoch: 29\n",
      "Running Loss: 20154.53775987029, Running Corrects: 42313.0, Running All: 48623.0\n"
     ]
    },
    {
     "name": "stderr",
     "output_type": "stream",
     "text": [
      "100%|██████████| 79/79 [00:03<00:00, 21.28it/s]\n"
     ]
    },
    {
     "name": "stdout",
     "output_type": "stream",
     "text": [
      "2499 in total\tCR: 0.8299319727891157\n",
      "val Epoch:\t29\tLoss val: 0.5603\tAcc val:0.8299, LR: 0.0006183221215612905\n",
      "Epoch len: 157.54893517494202 Estimated Remaining: 26.258155862490337 Min\n",
      "Current Epoch: 30\n",
      "Running Loss: 19618.207811295986, Running Corrects: 42542.0, Running All: 48623.0\n"
     ]
    },
    {
     "name": "stderr",
     "output_type": "stream",
     "text": [
      "100%|██████████| 79/79 [00:03<00:00, 21.70it/s]\n"
     ]
    },
    {
     "name": "stdout",
     "output_type": "stream",
     "text": [
      "2499 in total\tCR: 0.8391356542617047\n",
      "val Epoch:\t30\tLoss val: 0.5551\tAcc val:0.8391, LR: 0.0005258279275047247\n",
      "Epoch len: 157.49505043029785 Estimated Remaining: 23.624257564544678 Min\n",
      "Current Epoch: 31\n",
      "Running Loss: 19136.605437397957, Running Corrects: 42631.0, Running All: 48623.0\n"
     ]
    },
    {
     "name": "stderr",
     "output_type": "stream",
     "text": [
      "100%|██████████| 79/79 [00:03<00:00, 21.67it/s]\n"
     ]
    },
    {
     "name": "stdout",
     "output_type": "stream",
     "text": [
      "2499 in total\tCR: 0.8379351740696278\n",
      "val Epoch:\t31\tLoss val: 0.5546\tAcc val:0.8379, LR: 0.0004393398282201788\n",
      "Epoch len: 157.27280449867249 Estimated Remaining: 20.969707266489664 Min\n",
      "Current Epoch: 32\n",
      "Running Loss: 18572.019568026066, Running Corrects: 42873.0, Running All: 48623.0\n"
     ]
    },
    {
     "name": "stderr",
     "output_type": "stream",
     "text": [
      "100%|██████████| 79/79 [00:03<00:00, 21.64it/s]\n"
     ]
    },
    {
     "name": "stdout",
     "output_type": "stream",
     "text": [
      "2499 in total\tCR: 0.8399359743897559\n",
      "val Epoch:\t32\tLoss val: 0.5394\tAcc val:0.8399, LR: 0.0003593910515999536\n",
      "Epoch len: 156.42408847808838 Estimated Remaining: 18.24947698911031 Min\n",
      "Current Epoch: 33\n",
      "Running Loss: 18354.13320079446, Running Corrects: 42859.0, Running All: 48623.0\n"
     ]
    },
    {
     "name": "stderr",
     "output_type": "stream",
     "text": [
      "100%|██████████| 79/79 [00:03<00:00, 21.59it/s]\n"
     ]
    },
    {
     "name": "stdout",
     "output_type": "stream",
     "text": [
      "2499 in total\tCR: 0.8359343737494997\n",
      "val Epoch:\t33\tLoss val: 0.5468\tAcc val:0.8359, LR: 0.000286474508437579\n",
      "Epoch len: 156.49192667007446 Estimated Remaining: 15.649192667007446 Min\n",
      "Current Epoch: 34\n",
      "Running Loss: 18022.47071325779, Running Corrects: 43025.0, Running All: 48623.0\n"
     ]
    },
    {
     "name": "stderr",
     "output_type": "stream",
     "text": [
      "100%|██████████| 79/79 [00:03<00:00, 21.66it/s]\n"
     ]
    },
    {
     "name": "stdout",
     "output_type": "stream",
     "text": [
      "2499 in total\tCR: 0.8419367747098839\n",
      "val Epoch:\t34\tLoss val: 0.5401\tAcc val:0.8419, LR: 0.00022103975346886173\n",
      "Epoch len: 156.3568594455719 Estimated Remaining: 13.029738287130991 Min\n",
      "Current Epoch: 35\n",
      "Running Loss: 17838.713765263557, Running Corrects: 43098.0, Running All: 48623.0\n"
     ]
    },
    {
     "name": "stderr",
     "output_type": "stream",
     "text": [
      "100%|██████████| 79/79 [00:03<00:00, 21.91it/s]\n"
     ]
    },
    {
     "name": "stdout",
     "output_type": "stream",
     "text": [
      "2499 in total\tCR: 0.8403361344537815\n",
      "val Epoch:\t35\tLoss val: 0.5339\tAcc val:0.8403, LR: 0.00016349021371744833\n",
      "Epoch len: 156.3063566684723 Estimated Remaining: 10.420423777898153 Min\n",
      "Current Epoch: 36\n",
      "Running Loss: 17566.19789761305, Running Corrects: 43062.0, Running All: 48623.0\n"
     ]
    },
    {
     "name": "stderr",
     "output_type": "stream",
     "text": [
      "100%|██████████| 79/79 [00:03<00:00, 21.65it/s]\n"
     ]
    },
    {
     "name": "stdout",
     "output_type": "stream",
     "text": [
      "2499 in total\tCR: 0.8419367747098839\n",
      "val Epoch:\t36\tLoss val: 0.5343\tAcc val:0.8419, LR: 0.0001141807012330699\n",
      "Epoch len: 156.2702980041504 Estimated Remaining: 7.81351490020752 Min\n",
      "Current Epoch: 37\n",
      "Running Loss: 17279.938952863216, Running Corrects: 43230.0, Running All: 48623.0\n"
     ]
    },
    {
     "name": "stderr",
     "output_type": "stream",
     "text": [
      "100%|██████████| 79/79 [00:03<00:00, 21.82it/s]\n"
     ]
    },
    {
     "name": "stdout",
     "output_type": "stream",
     "text": [
      "2499 in total\tCR: 0.8427370948379351\n",
      "val Epoch:\t37\tLoss val: 0.5332\tAcc val:0.8427, LR: 7.341522555726971e-05\n",
      "Epoch len: 156.29381155967712 Estimated Remaining: 5.209793718655904 Min\n",
      "Current Epoch: 38\n",
      "Running Loss: 17116.323998183012, Running Corrects: 43237.0, Running All: 48623.0\n"
     ]
    },
    {
     "name": "stderr",
     "output_type": "stream",
     "text": [
      "100%|██████████| 79/79 [00:03<00:00, 21.38it/s]\n"
     ]
    },
    {
     "name": "stdout",
     "output_type": "stream",
     "text": [
      "2499 in total\tCR: 0.8403361344537815\n",
      "val Epoch:\t38\tLoss val: 0.5331\tAcc val:0.8403, LR: 4.144511940348517e-05\n",
      "Epoch len: 156.28018522262573 Estimated Remaining: 2.604669753710429 Min\n",
      "Current Epoch: 39\n",
      "Running Loss: 17063.89448094368, Running Corrects: 43269.0, Running All: 48623.0\n"
     ]
    },
    {
     "name": "stderr",
     "output_type": "stream",
     "text": [
      "100%|██████████| 79/79 [00:03<00:00, 21.34it/s]\n"
     ]
    },
    {
     "name": "stdout",
     "output_type": "stream",
     "text": [
      "2499 in total\tCR: 0.8415366146458584\n",
      "val Epoch:\t39\tLoss val: 0.5336\tAcc val:0.8415, LR: 1.846748910729351e-05\n",
      "Epoch len: 156.5054190158844 Estimated Remaining: 0.0 Min\n"
     ]
    },
    {
     "name": "stderr",
     "output_type": "stream",
     "text": [
      " 77%|███████▋  | 61/79 [00:02<00:00, 24.31it/s]/home/taylorpap/PycharmProjects/Capstone/datasetloadingpy.py:229: UserWarning: Creating a tensor from a list of numpy.ndarrays is extremely slow. Please consider converting the list to a single numpy.ndarray with numpy.array() before converting to a tensor. (Triggered internally at ../torch/csrc/utils/tensor_new.cpp:230.)\n",
      "  data = torch.FloatTensor(data)\n",
      "100%|██████████| 79/79 [00:03<00:00, 21.07it/s]"
     ]
    },
    {
     "name": "stdout",
     "output_type": "stream",
     "text": [
      "2497 in total\tCR: 0.8458149779735683\n",
      "Test time performance of best epoch: 0.8458149779735683 (loss: 0.5099420872124186)\n"
     ]
    },
    {
     "name": "stderr",
     "output_type": "stream",
     "text": [
      "\n"
     ]
    }
   ],
   "source": [
    "save_direc = '/home/taylorpap/Bootcamp/test_model1_CrossEntLoss/'\n",
    "train_model = FullTrainer(model1, datasets, criterion=nn.CrossEntropyLoss(), epochs=40, save_dir=save_direc)"
   ],
   "metadata": {
    "collapsed": false,
    "pycharm": {
     "name": "#%%\n"
    }
   }
  },
  {
   "cell_type": "code",
   "execution_count": 31,
   "outputs": [],
   "source": [
    "#Clear the Notebook/GPU cache to try training another model\n",
    "model1 = None\n",
    "torch.cuda.empty_cache()"
   ],
   "metadata": {
    "collapsed": false,
    "pycharm": {
     "name": "#%%\n"
    }
   }
  },
  {
   "cell_type": "code",
   "execution_count": null,
   "outputs": [],
   "source": [],
   "metadata": {
    "collapsed": false,
    "pycharm": {
     "name": "#%%\n"
    }
   }
  },
  {
   "cell_type": "code",
   "execution_count": 34,
   "outputs": [],
   "source": [
    "model2 = LipreadLSTMv1(len(temp_words_list), pretrained_res=True) #Using Loaded Model Weights for ResNet18"
   ],
   "metadata": {
    "collapsed": false,
    "pycharm": {
     "name": "#%%\n"
    }
   }
  },
  {
   "cell_type": "code",
   "execution_count": 35,
   "outputs": [],
   "source": [
    "if torch.cuda.is_available():\n",
    "    model2.cuda()"
   ],
   "metadata": {
    "collapsed": false,
    "pycharm": {
     "name": "#%%\n"
    }
   }
  },
  {
   "cell_type": "code",
   "execution_count": 36,
   "outputs": [
    {
     "name": "stdout",
     "output_type": "stream",
     "text": [
      "Current Epoch: 0\n",
      "Running Loss: nan, Running Corrects: 1111.0, Running All: 48623.0\n"
     ]
    },
    {
     "name": "stderr",
     "output_type": "stream",
     "text": [
      "100%|██████████| 79/79 [00:03<00:00, 20.21it/s]\n"
     ]
    },
    {
     "name": "stdout",
     "output_type": "stream",
     "text": [
      "2499 in total\tCR: 0.020008003201280513\n",
      "val Epoch:\t 0\tLoss val: nan\tAcc val:0.0200, LR: 0.003\n",
      "Epoch len: 166.21943378448486 Estimated Remaining: 108.04263195991516 Min\n",
      "Current Epoch: 1\n"
     ]
    },
    {
     "ename": "KeyboardInterrupt",
     "evalue": "",
     "output_type": "error",
     "traceback": [
      "\u001B[0;31m---------------------------------------------------------------------------\u001B[0m",
      "\u001B[0;31mKeyboardInterrupt\u001B[0m                         Traceback (most recent call last)",
      "Input \u001B[0;32mIn [36]\u001B[0m, in \u001B[0;36m<cell line: 2>\u001B[0;34m()\u001B[0m\n\u001B[1;32m      1\u001B[0m save_direc \u001B[38;5;241m=\u001B[39m \u001B[38;5;124m'\u001B[39m\u001B[38;5;124m/home/taylorpap/Bootcamp/test_model2_NLL/\u001B[39m\u001B[38;5;124m'\u001B[39m\n\u001B[0;32m----> 2\u001B[0m train_model \u001B[38;5;241m=\u001B[39m \u001B[43mFullTrainer\u001B[49m\u001B[43m(\u001B[49m\u001B[43mmodel2\u001B[49m\u001B[43m,\u001B[49m\u001B[43m \u001B[49m\u001B[43mdatasets\u001B[49m\u001B[43m,\u001B[49m\u001B[43m \u001B[49m\u001B[43mcriterion\u001B[49m\u001B[38;5;241;43m=\u001B[39;49m\u001B[43mnn\u001B[49m\u001B[38;5;241;43m.\u001B[39;49m\u001B[43mNLLLoss\u001B[49m\u001B[43m(\u001B[49m\u001B[43m)\u001B[49m\u001B[43m,\u001B[49m\u001B[43m \u001B[49m\u001B[43mepochs\u001B[49m\u001B[38;5;241;43m=\u001B[39;49m\u001B[38;5;241;43m40\u001B[39;49m\u001B[43m,\u001B[49m\u001B[43m \u001B[49m\u001B[43msave_dir\u001B[49m\u001B[38;5;241;43m=\u001B[39;49m\u001B[43msave_direc\u001B[49m\u001B[43m)\u001B[49m\n",
      "File \u001B[0;32m~/PycharmProjects/Capstone/Model_training_blocks.py:116\u001B[0m, in \u001B[0;36mFullTrainer.__init__\u001B[0;34m(self, model, dataloader, epochs, criterion, save_dir, state_path, lr, optim)\u001B[0m\n\u001B[1;32m    113\u001B[0m \u001B[38;5;28;01melse\u001B[39;00m:\n\u001B[1;32m    114\u001B[0m     \u001B[38;5;28mself\u001B[39m\u001B[38;5;241m.\u001B[39m_initialize_weights_randomly()\n\u001B[0;32m--> 116\u001B[0m \u001B[38;5;28;43mself\u001B[39;49m\u001B[38;5;241;43m.\u001B[39;49m\u001B[43minitialize_training\u001B[49m\u001B[43m(\u001B[49m\u001B[43m)\u001B[49m\n\u001B[1;32m    118\u001B[0m \u001B[38;5;28mself\u001B[39m\u001B[38;5;241m.\u001B[39meval_best_performance()\n",
      "File \u001B[0;32m~/PycharmProjects/Capstone/Model_training_blocks.py:156\u001B[0m, in \u001B[0;36mFullTrainer.initialize_training\u001B[0;34m(self)\u001B[0m\n\u001B[1;32m    154\u001B[0m \u001B[38;5;28;01mwhile\u001B[39;00m \u001B[38;5;28mself\u001B[39m\u001B[38;5;241m.\u001B[39mepoch \u001B[38;5;241m<\u001B[39m \u001B[38;5;28mself\u001B[39m\u001B[38;5;241m.\u001B[39mepochs:\n\u001B[1;32m    155\u001B[0m     start_epoch \u001B[38;5;241m=\u001B[39m time\u001B[38;5;241m.\u001B[39mtime()\n\u001B[0;32m--> 156\u001B[0m     \u001B[38;5;28mself\u001B[39m\u001B[38;5;241m.\u001B[39mmodel \u001B[38;5;241m=\u001B[39m \u001B[43mtrain_loop\u001B[49m\u001B[43m(\u001B[49m\u001B[38;5;28;43mself\u001B[39;49m\u001B[38;5;241;43m.\u001B[39;49m\u001B[43mmodel\u001B[49m\u001B[43m,\u001B[49m\u001B[43m \u001B[49m\u001B[38;5;28;43mself\u001B[39;49m\u001B[38;5;241;43m.\u001B[39;49m\u001B[43mdataset\u001B[49m\u001B[43m[\u001B[49m\u001B[38;5;124;43m'\u001B[39;49m\u001B[38;5;124;43mtrain\u001B[39;49m\u001B[38;5;124;43m'\u001B[39;49m\u001B[43m]\u001B[49m\u001B[43m,\u001B[49m\u001B[43m \u001B[49m\u001B[38;5;28;43mself\u001B[39;49m\u001B[38;5;241;43m.\u001B[39;49m\u001B[43mcriterion\u001B[49m\u001B[43m,\u001B[49m\u001B[43m \u001B[49m\u001B[38;5;28;43mself\u001B[39;49m\u001B[38;5;241;43m.\u001B[39;49m\u001B[43mepoch\u001B[49m\u001B[43m,\u001B[49m\u001B[43m \u001B[49m\u001B[38;5;28;43mself\u001B[39;49m\u001B[38;5;241;43m.\u001B[39;49m\u001B[43moptimizer\u001B[49m\u001B[43m)\u001B[49m\n\u001B[1;32m    157\u001B[0m     acc_avg_val, loss_avg_val \u001B[38;5;241m=\u001B[39m evaluate(\u001B[38;5;28mself\u001B[39m\u001B[38;5;241m.\u001B[39mmodel, \u001B[38;5;28mself\u001B[39m\u001B[38;5;241m.\u001B[39mdataset[\u001B[38;5;124m'\u001B[39m\u001B[38;5;124mval\u001B[39m\u001B[38;5;124m'\u001B[39m], \u001B[38;5;28mself\u001B[39m\u001B[38;5;241m.\u001B[39mcriterion)\n\u001B[1;32m    158\u001B[0m     \u001B[38;5;28mprint\u001B[39m(\u001B[38;5;124m'\u001B[39m\u001B[38;5;132;01m{}\u001B[39;00m\u001B[38;5;124m Epoch:\u001B[39m\u001B[38;5;130;01m\\t\u001B[39;00m\u001B[38;5;132;01m{:2}\u001B[39;00m\u001B[38;5;130;01m\\t\u001B[39;00m\u001B[38;5;124mLoss val: \u001B[39m\u001B[38;5;132;01m{:.4f}\u001B[39;00m\u001B[38;5;130;01m\\t\u001B[39;00m\u001B[38;5;124mAcc val:\u001B[39m\u001B[38;5;132;01m{:.4f}\u001B[39;00m\u001B[38;5;124m, LR: \u001B[39m\u001B[38;5;132;01m{}\u001B[39;00m\u001B[38;5;124m'\u001B[39m\u001B[38;5;241m.\u001B[39mformat(\u001B[38;5;124m'\u001B[39m\u001B[38;5;124mval\u001B[39m\u001B[38;5;124m'\u001B[39m, \u001B[38;5;28mself\u001B[39m\u001B[38;5;241m.\u001B[39mepoch, loss_avg_val,\n\u001B[1;32m    159\u001B[0m                                                                             acc_avg_val, showLR(\u001B[38;5;28mself\u001B[39m\u001B[38;5;241m.\u001B[39moptimizer)))\n",
      "File \u001B[0;32m~/PycharmProjects/Capstone/Model_training_blocks.py:57\u001B[0m, in \u001B[0;36mtrain_loop\u001B[0;34m(model, dataloader, criterion, epoch, optimizer, mixup)\u001B[0m\n\u001B[1;32m     55\u001B[0m \u001B[38;5;66;03m# -- compute running performance\u001B[39;00m\n\u001B[1;32m     56\u001B[0m _, predicted \u001B[38;5;241m=\u001B[39m torch\u001B[38;5;241m.\u001B[39mmax(F\u001B[38;5;241m.\u001B[39msoftmax(logits, dim\u001B[38;5;241m=\u001B[39m\u001B[38;5;241m1\u001B[39m)\u001B[38;5;241m.\u001B[39mdata, dim\u001B[38;5;241m=\u001B[39m\u001B[38;5;241m1\u001B[39m)\n\u001B[0;32m---> 57\u001B[0m running_loss \u001B[38;5;241m+\u001B[39m\u001B[38;5;241m=\u001B[39m \u001B[43mloss\u001B[49m\u001B[38;5;241;43m.\u001B[39;49m\u001B[43mitem\u001B[49m\u001B[43m(\u001B[49m\u001B[43m)\u001B[49m\u001B[38;5;241m*\u001B[39m\u001B[38;5;28minput\u001B[39m\u001B[38;5;241m.\u001B[39msize(\u001B[38;5;241m0\u001B[39m)\n\u001B[1;32m     59\u001B[0m \u001B[38;5;28;01mif\u001B[39;00m mixup:\n\u001B[1;32m     60\u001B[0m     running_corrects \u001B[38;5;241m+\u001B[39m\u001B[38;5;241m=\u001B[39m lam \u001B[38;5;241m*\u001B[39m predicted\u001B[38;5;241m.\u001B[39meq(labels_a\u001B[38;5;241m.\u001B[39mview_as(predicted))\u001B[38;5;241m.\u001B[39msum()\u001B[38;5;241m.\u001B[39mitem() \u001B[38;5;241m+\u001B[39m (\u001B[38;5;241m1\u001B[39m \u001B[38;5;241m-\u001B[39m lam) \u001B[38;5;241m*\u001B[39m predicted\u001B[38;5;241m.\u001B[39meq(labels_b\u001B[38;5;241m.\u001B[39mview_as(predicted))\u001B[38;5;241m.\u001B[39msum()\u001B[38;5;241m.\u001B[39mitem()\n",
      "\u001B[0;31mKeyboardInterrupt\u001B[0m: "
     ]
    }
   ],
   "source": [
    "save_direc = '/home/taylorpap/Bootcamp/test_model2_BCE/'\n",
    "train_model = FullTrainer(model2, datasets, criterion=nn.NLLLoss(), epochs=40, save_dir=save_direc)"
   ],
   "metadata": {
    "collapsed": false,
    "pycharm": {
     "name": "#%%\n"
    }
   }
  },
  {
   "cell_type": "code",
   "execution_count": 27,
   "outputs": [],
   "source": [
    "#Clear the Notebook/GPU cache to try training another model\n",
    "model2 = None\n",
    "torch.cuda.empty_cache()"
   ],
   "metadata": {
    "collapsed": false,
    "pycharm": {
     "name": "#%%\n"
    }
   }
  },
  {
   "cell_type": "code",
   "execution_count": 15,
   "outputs": [
    {
     "name": "stderr",
     "output_type": "stream",
     "text": [
      "/home/taylorpap/anaconda3/envs/projectenv/lib/python3.10/site-packages/torchvision/models/_utils.py:208: UserWarning: The parameter 'pretrained' is deprecated since 0.13 and may be removed in the future, please use 'weights' instead.\n",
      "  warnings.warn(\n",
      "/home/taylorpap/anaconda3/envs/projectenv/lib/python3.10/site-packages/torchvision/models/_utils.py:223: UserWarning: Arguments other than a weight enum or `None` for 'weights' are deprecated since 0.13 and may be removed in the future. The current behavior is equivalent to passing `weights=ResNet18_Weights.IMAGENET1K_V1`. You can also use `weights=ResNet18_Weights.DEFAULT` to get the most up-to-date weights.\n",
      "  warnings.warn(msg)\n"
     ]
    }
   ],
   "source": [
    "model3 = LipreadLSTMv1(len(temp_words_list), pretrained_res=True) #Using Loaded Model Weights for ResNet18\n",
    "if torch.cuda.is_available():\n",
    "    model3.cuda()"
   ],
   "metadata": {
    "collapsed": false,
    "pycharm": {
     "name": "#%%\n"
    }
   }
  },
  {
   "cell_type": "code",
   "execution_count": 16,
   "outputs": [
    {
     "name": "stdout",
     "output_type": "stream",
     "text": [
      "Current Epoch: 0\n"
     ]
    },
    {
     "name": "stderr",
     "output_type": "stream",
     "text": [
      "/home/taylorpap/anaconda3/envs/projectenv/lib/python3.10/site-packages/torch/nn/modules/loss.py:101: UserWarning: Using a target size (torch.Size([32])) that is different to the input size (torch.Size([32, 50])). This will likely lead to incorrect results due to broadcasting. Please ensure they have the same size.\n",
      "  return F.l1_loss(input, target, reduction=self.reduction)\n"
     ]
    },
    {
     "ename": "RuntimeError",
     "evalue": "The size of tensor a (50) must match the size of tensor b (32) at non-singleton dimension 1",
     "output_type": "error",
     "traceback": [
      "\u001B[0;31m---------------------------------------------------------------------------\u001B[0m",
      "\u001B[0;31mRuntimeError\u001B[0m                              Traceback (most recent call last)",
      "Input \u001B[0;32mIn [16]\u001B[0m, in \u001B[0;36m<cell line: 2>\u001B[0;34m()\u001B[0m\n\u001B[1;32m      1\u001B[0m save_direc \u001B[38;5;241m=\u001B[39m \u001B[38;5;124m'\u001B[39m\u001B[38;5;124m/home/taylorpap/Bootcamp/test_model3_L1/\u001B[39m\u001B[38;5;124m'\u001B[39m\n\u001B[0;32m----> 2\u001B[0m train_model \u001B[38;5;241m=\u001B[39m \u001B[43mFullTrainer\u001B[49m\u001B[43m(\u001B[49m\u001B[43mmodel3\u001B[49m\u001B[43m,\u001B[49m\u001B[43m \u001B[49m\u001B[43mdatasets\u001B[49m\u001B[43m,\u001B[49m\u001B[43m \u001B[49m\u001B[43mcriterion\u001B[49m\u001B[38;5;241;43m=\u001B[39;49m\u001B[43mnn\u001B[49m\u001B[38;5;241;43m.\u001B[39;49m\u001B[43mL1Loss\u001B[49m\u001B[43m(\u001B[49m\u001B[43m)\u001B[49m\u001B[43m,\u001B[49m\u001B[43m \u001B[49m\u001B[43mepochs\u001B[49m\u001B[38;5;241;43m=\u001B[39;49m\u001B[38;5;241;43m40\u001B[39;49m\u001B[43m,\u001B[49m\u001B[43m \u001B[49m\u001B[43msave_dir\u001B[49m\u001B[38;5;241;43m=\u001B[39;49m\u001B[43msave_direc\u001B[49m\u001B[43m)\u001B[49m\n",
      "File \u001B[0;32m~/PycharmProjects/Capstone/Model_training_blocks.py:116\u001B[0m, in \u001B[0;36mFullTrainer.__init__\u001B[0;34m(self, model, dataloader, epochs, criterion, save_dir, state_path, lr, optim)\u001B[0m\n\u001B[1;32m    113\u001B[0m \u001B[38;5;28;01melse\u001B[39;00m:\n\u001B[1;32m    114\u001B[0m     \u001B[38;5;28mself\u001B[39m\u001B[38;5;241m.\u001B[39m_initialize_weights_randomly()\n\u001B[0;32m--> 116\u001B[0m \u001B[38;5;28;43mself\u001B[39;49m\u001B[38;5;241;43m.\u001B[39;49m\u001B[43minitialize_training\u001B[49m\u001B[43m(\u001B[49m\u001B[43m)\u001B[49m\n\u001B[1;32m    118\u001B[0m \u001B[38;5;28mself\u001B[39m\u001B[38;5;241m.\u001B[39meval_best_performance()\n",
      "File \u001B[0;32m~/PycharmProjects/Capstone/Model_training_blocks.py:156\u001B[0m, in \u001B[0;36mFullTrainer.initialize_training\u001B[0;34m(self)\u001B[0m\n\u001B[1;32m    154\u001B[0m \u001B[38;5;28;01mwhile\u001B[39;00m \u001B[38;5;28mself\u001B[39m\u001B[38;5;241m.\u001B[39mepoch \u001B[38;5;241m<\u001B[39m \u001B[38;5;28mself\u001B[39m\u001B[38;5;241m.\u001B[39mepochs:\n\u001B[1;32m    155\u001B[0m     start_epoch \u001B[38;5;241m=\u001B[39m time\u001B[38;5;241m.\u001B[39mtime()\n\u001B[0;32m--> 156\u001B[0m     \u001B[38;5;28mself\u001B[39m\u001B[38;5;241m.\u001B[39mmodel \u001B[38;5;241m=\u001B[39m \u001B[43mtrain_loop\u001B[49m\u001B[43m(\u001B[49m\u001B[38;5;28;43mself\u001B[39;49m\u001B[38;5;241;43m.\u001B[39;49m\u001B[43mmodel\u001B[49m\u001B[43m,\u001B[49m\u001B[43m \u001B[49m\u001B[38;5;28;43mself\u001B[39;49m\u001B[38;5;241;43m.\u001B[39;49m\u001B[43mdataset\u001B[49m\u001B[43m[\u001B[49m\u001B[38;5;124;43m'\u001B[39;49m\u001B[38;5;124;43mtrain\u001B[39;49m\u001B[38;5;124;43m'\u001B[39;49m\u001B[43m]\u001B[49m\u001B[43m,\u001B[49m\u001B[43m \u001B[49m\u001B[38;5;28;43mself\u001B[39;49m\u001B[38;5;241;43m.\u001B[39;49m\u001B[43mcriterion\u001B[49m\u001B[43m,\u001B[49m\u001B[43m \u001B[49m\u001B[38;5;28;43mself\u001B[39;49m\u001B[38;5;241;43m.\u001B[39;49m\u001B[43mepoch\u001B[49m\u001B[43m,\u001B[49m\u001B[43m \u001B[49m\u001B[38;5;28;43mself\u001B[39;49m\u001B[38;5;241;43m.\u001B[39;49m\u001B[43moptimizer\u001B[49m\u001B[43m)\u001B[49m\n\u001B[1;32m    157\u001B[0m     acc_avg_val, loss_avg_val \u001B[38;5;241m=\u001B[39m evaluate(\u001B[38;5;28mself\u001B[39m\u001B[38;5;241m.\u001B[39mmodel, \u001B[38;5;28mself\u001B[39m\u001B[38;5;241m.\u001B[39mdataset[\u001B[38;5;124m'\u001B[39m\u001B[38;5;124mval\u001B[39m\u001B[38;5;124m'\u001B[39m], \u001B[38;5;28mself\u001B[39m\u001B[38;5;241m.\u001B[39mcriterion)\n\u001B[1;32m    158\u001B[0m     \u001B[38;5;28mprint\u001B[39m(\u001B[38;5;124m'\u001B[39m\u001B[38;5;132;01m{}\u001B[39;00m\u001B[38;5;124m Epoch:\u001B[39m\u001B[38;5;130;01m\\t\u001B[39;00m\u001B[38;5;132;01m{:2}\u001B[39;00m\u001B[38;5;130;01m\\t\u001B[39;00m\u001B[38;5;124mLoss val: \u001B[39m\u001B[38;5;132;01m{:.4f}\u001B[39;00m\u001B[38;5;130;01m\\t\u001B[39;00m\u001B[38;5;124mAcc val:\u001B[39m\u001B[38;5;132;01m{:.4f}\u001B[39;00m\u001B[38;5;124m, LR: \u001B[39m\u001B[38;5;132;01m{}\u001B[39;00m\u001B[38;5;124m'\u001B[39m\u001B[38;5;241m.\u001B[39mformat(\u001B[38;5;124m'\u001B[39m\u001B[38;5;124mval\u001B[39m\u001B[38;5;124m'\u001B[39m, \u001B[38;5;28mself\u001B[39m\u001B[38;5;241m.\u001B[39mepoch, loss_avg_val,\n\u001B[1;32m    159\u001B[0m                                                                             acc_avg_val, showLR(\u001B[38;5;28mself\u001B[39m\u001B[38;5;241m.\u001B[39moptimizer)))\n",
      "File \u001B[0;32m~/PycharmProjects/Capstone/Model_training_blocks.py:47\u001B[0m, in \u001B[0;36mtrain_loop\u001B[0;34m(model, dataloader, criterion, epoch, optimizer, mixup)\u001B[0m\n\u001B[1;32m     45\u001B[0m     loss \u001B[38;5;241m=\u001B[39m loss_func(criterion, logits)\n\u001B[1;32m     46\u001B[0m \u001B[38;5;28;01melse\u001B[39;00m:\n\u001B[0;32m---> 47\u001B[0m     loss \u001B[38;5;241m=\u001B[39m \u001B[43mcriterion\u001B[49m\u001B[43m(\u001B[49m\u001B[43mlogits\u001B[49m\u001B[43m,\u001B[49m\u001B[43m \u001B[49m\u001B[43mlabels\u001B[49m\u001B[43m)\u001B[49m\n\u001B[1;32m     49\u001B[0m loss\u001B[38;5;241m.\u001B[39mbackward()\n\u001B[1;32m     50\u001B[0m optimizer\u001B[38;5;241m.\u001B[39mstep()\n",
      "File \u001B[0;32m~/anaconda3/envs/projectenv/lib/python3.10/site-packages/torch/nn/modules/module.py:1190\u001B[0m, in \u001B[0;36mModule._call_impl\u001B[0;34m(self, *input, **kwargs)\u001B[0m\n\u001B[1;32m   1186\u001B[0m \u001B[38;5;66;03m# If we don't have any hooks, we want to skip the rest of the logic in\u001B[39;00m\n\u001B[1;32m   1187\u001B[0m \u001B[38;5;66;03m# this function, and just call forward.\u001B[39;00m\n\u001B[1;32m   1188\u001B[0m \u001B[38;5;28;01mif\u001B[39;00m \u001B[38;5;129;01mnot\u001B[39;00m (\u001B[38;5;28mself\u001B[39m\u001B[38;5;241m.\u001B[39m_backward_hooks \u001B[38;5;129;01mor\u001B[39;00m \u001B[38;5;28mself\u001B[39m\u001B[38;5;241m.\u001B[39m_forward_hooks \u001B[38;5;129;01mor\u001B[39;00m \u001B[38;5;28mself\u001B[39m\u001B[38;5;241m.\u001B[39m_forward_pre_hooks \u001B[38;5;129;01mor\u001B[39;00m _global_backward_hooks\n\u001B[1;32m   1189\u001B[0m         \u001B[38;5;129;01mor\u001B[39;00m _global_forward_hooks \u001B[38;5;129;01mor\u001B[39;00m _global_forward_pre_hooks):\n\u001B[0;32m-> 1190\u001B[0m     \u001B[38;5;28;01mreturn\u001B[39;00m \u001B[43mforward_call\u001B[49m\u001B[43m(\u001B[49m\u001B[38;5;241;43m*\u001B[39;49m\u001B[38;5;28;43minput\u001B[39;49m\u001B[43m,\u001B[49m\u001B[43m \u001B[49m\u001B[38;5;241;43m*\u001B[39;49m\u001B[38;5;241;43m*\u001B[39;49m\u001B[43mkwargs\u001B[49m\u001B[43m)\u001B[49m\n\u001B[1;32m   1191\u001B[0m \u001B[38;5;66;03m# Do not call functions when jit is used\u001B[39;00m\n\u001B[1;32m   1192\u001B[0m full_backward_hooks, non_full_backward_hooks \u001B[38;5;241m=\u001B[39m [], []\n",
      "File \u001B[0;32m~/anaconda3/envs/projectenv/lib/python3.10/site-packages/torch/nn/modules/loss.py:101\u001B[0m, in \u001B[0;36mL1Loss.forward\u001B[0;34m(self, input, target)\u001B[0m\n\u001B[1;32m    100\u001B[0m \u001B[38;5;28;01mdef\u001B[39;00m \u001B[38;5;21mforward\u001B[39m(\u001B[38;5;28mself\u001B[39m, \u001B[38;5;28minput\u001B[39m: Tensor, target: Tensor) \u001B[38;5;241m-\u001B[39m\u001B[38;5;241m>\u001B[39m Tensor:\n\u001B[0;32m--> 101\u001B[0m     \u001B[38;5;28;01mreturn\u001B[39;00m \u001B[43mF\u001B[49m\u001B[38;5;241;43m.\u001B[39;49m\u001B[43ml1_loss\u001B[49m\u001B[43m(\u001B[49m\u001B[38;5;28;43minput\u001B[39;49m\u001B[43m,\u001B[49m\u001B[43m \u001B[49m\u001B[43mtarget\u001B[49m\u001B[43m,\u001B[49m\u001B[43m \u001B[49m\u001B[43mreduction\u001B[49m\u001B[38;5;241;43m=\u001B[39;49m\u001B[38;5;28;43mself\u001B[39;49m\u001B[38;5;241;43m.\u001B[39;49m\u001B[43mreduction\u001B[49m\u001B[43m)\u001B[49m\n",
      "File \u001B[0;32m~/anaconda3/envs/projectenv/lib/python3.10/site-packages/torch/nn/functional.py:3260\u001B[0m, in \u001B[0;36ml1_loss\u001B[0;34m(input, target, size_average, reduce, reduction)\u001B[0m\n\u001B[1;32m   3257\u001B[0m \u001B[38;5;28;01mif\u001B[39;00m size_average \u001B[38;5;129;01mis\u001B[39;00m \u001B[38;5;129;01mnot\u001B[39;00m \u001B[38;5;28;01mNone\u001B[39;00m \u001B[38;5;129;01mor\u001B[39;00m reduce \u001B[38;5;129;01mis\u001B[39;00m \u001B[38;5;129;01mnot\u001B[39;00m \u001B[38;5;28;01mNone\u001B[39;00m:\n\u001B[1;32m   3258\u001B[0m     reduction \u001B[38;5;241m=\u001B[39m _Reduction\u001B[38;5;241m.\u001B[39mlegacy_get_string(size_average, reduce)\n\u001B[0;32m-> 3260\u001B[0m expanded_input, expanded_target \u001B[38;5;241m=\u001B[39m \u001B[43mtorch\u001B[49m\u001B[38;5;241;43m.\u001B[39;49m\u001B[43mbroadcast_tensors\u001B[49m\u001B[43m(\u001B[49m\u001B[38;5;28;43minput\u001B[39;49m\u001B[43m,\u001B[49m\u001B[43m \u001B[49m\u001B[43mtarget\u001B[49m\u001B[43m)\u001B[49m\n\u001B[1;32m   3261\u001B[0m \u001B[38;5;28;01mreturn\u001B[39;00m torch\u001B[38;5;241m.\u001B[39m_C\u001B[38;5;241m.\u001B[39m_nn\u001B[38;5;241m.\u001B[39ml1_loss(expanded_input, expanded_target, _Reduction\u001B[38;5;241m.\u001B[39mget_enum(reduction))\n",
      "File \u001B[0;32m~/anaconda3/envs/projectenv/lib/python3.10/site-packages/torch/functional.py:74\u001B[0m, in \u001B[0;36mbroadcast_tensors\u001B[0;34m(*tensors)\u001B[0m\n\u001B[1;32m     72\u001B[0m \u001B[38;5;28;01mif\u001B[39;00m has_torch_function(tensors):\n\u001B[1;32m     73\u001B[0m     \u001B[38;5;28;01mreturn\u001B[39;00m handle_torch_function(broadcast_tensors, tensors, \u001B[38;5;241m*\u001B[39mtensors)\n\u001B[0;32m---> 74\u001B[0m \u001B[38;5;28;01mreturn\u001B[39;00m \u001B[43m_VF\u001B[49m\u001B[38;5;241;43m.\u001B[39;49m\u001B[43mbroadcast_tensors\u001B[49m\u001B[43m(\u001B[49m\u001B[43mtensors\u001B[49m\u001B[43m)\u001B[49m\n",
      "\u001B[0;31mRuntimeError\u001B[0m: The size of tensor a (50) must match the size of tensor b (32) at non-singleton dimension 1"
     ]
    }
   ],
   "source": [
    "save_direc = '/home/taylorpap/Bootcamp/test_model3_L1/'\n",
    "train_model = FullTrainer(model3, datasets, criterion=nn.L1Loss(), epochs=40, save_dir=save_direc)"
   ],
   "metadata": {
    "collapsed": false,
    "pycharm": {
     "name": "#%%\n"
    }
   }
  },
  {
   "cell_type": "code",
   "execution_count": 32,
   "outputs": [],
   "source": [
    "model3 = None\n",
    "torch.cuda.empty_cache()"
   ],
   "metadata": {
    "collapsed": false,
    "pycharm": {
     "name": "#%%\n"
    }
   }
  },
  {
   "cell_type": "code",
   "execution_count": 18,
   "outputs": [],
   "source": [
    "model4 = Lipreading1(len(temp_words_list))\n",
    "if torch.cuda.is_available():\n",
    "    model4.cuda()"
   ],
   "metadata": {
    "collapsed": false,
    "pycharm": {
     "name": "#%%\n"
    }
   }
  },
  {
   "cell_type": "code",
   "execution_count": 20,
   "outputs": [
    {
     "name": "stdout",
     "output_type": "stream",
     "text": [
      "Current Epoch: 0\n",
      "Running Loss: 191489.91651058197, Running Corrects: 1589.0, Running All: 48623.0\n"
     ]
    },
    {
     "name": "stderr",
     "output_type": "stream",
     "text": [
      "100%|██████████| 79/79 [00:03<00:00, 20.95it/s]\n"
     ]
    },
    {
     "name": "stdout",
     "output_type": "stream",
     "text": [
      "2499 in total\tCR: 0.05002000800320128\n",
      "val Epoch:\t 0\tLoss val: 3.8313\tAcc val:0.0500, LR: 0.003\n",
      "Epoch len: 290.7344219684601 Estimated Remaining: 188.97737427949906 Min\n",
      "Current Epoch: 1\n",
      "Running Loss: 180191.0909423828, Running Corrects: 3197.0, Running All: 48623.0\n"
     ]
    },
    {
     "name": "stderr",
     "output_type": "stream",
     "text": [
      "100%|██████████| 79/79 [00:03<00:00, 20.87it/s]\n"
     ]
    },
    {
     "name": "stdout",
     "output_type": "stream",
     "text": [
      "2499 in total\tCR: 0.09843937575030012\n",
      "val Epoch:\t 1\tLoss val: 3.5684\tAcc val:0.0984, LR: 0.003\n",
      "Epoch len: 291.9331479072571 Estimated Remaining: 184.89099367459616 Min\n",
      "Current Epoch: 2\n",
      "Running Loss: 156093.2252459526, Running Corrects: 8208.0, Running All: 48623.0\n"
     ]
    },
    {
     "name": "stderr",
     "output_type": "stream",
     "text": [
      "100%|██████████| 79/79 [00:03<00:00, 20.69it/s]\n"
     ]
    },
    {
     "name": "stdout",
     "output_type": "stream",
     "text": [
      "2499 in total\tCR: 0.25730292116846737\n",
      "val Epoch:\t 2\tLoss val: 2.8241\tAcc val:0.2573, LR: 0.0029953760005996923\n",
      "Epoch len: 292.11152815818787 Estimated Remaining: 180.13544236421586 Min\n",
      "Current Epoch: 3\n",
      "Running Loss: 108066.6661529541, Running Corrects: 19657.0, Running All: 48623.0\n"
     ]
    },
    {
     "name": "stderr",
     "output_type": "stream",
     "text": [
      "100%|██████████| 79/79 [00:03<00:00, 20.95it/s]\n"
     ]
    },
    {
     "name": "stdout",
     "output_type": "stream",
     "text": [
      "2499 in total\tCR: 0.5038015206082433\n",
      "val Epoch:\t 3\tLoss val: 1.8706\tAcc val:0.5038, LR: 0.002981532510892707\n",
      "Epoch len: 292.8248646259308 Estimated Remaining: 175.69491877555848 Min\n",
      "Current Epoch: 4\n",
      "Running Loss: 73363.33449697495, Running Corrects: 28454.0, Running All: 48623.0\n"
     ]
    },
    {
     "name": "stderr",
     "output_type": "stream",
     "text": [
      "100%|██████████| 79/79 [00:03<00:00, 21.11it/s]\n"
     ]
    },
    {
     "name": "stdout",
     "output_type": "stream",
     "text": [
      "2499 in total\tCR: 0.6378551420568227\n",
      "val Epoch:\t 4\tLoss val: 1.3111\tAcc val:0.6379, LR: 0.002958554880596515\n",
      "Epoch len: 292.2385964393616 Estimated Remaining: 170.4725145896276 Min\n",
      "Current Epoch: 5\n",
      "Running Loss: 55475.886125445366, Running Corrects: 33125.0, Running All: 48623.0\n"
     ]
    },
    {
     "name": "stderr",
     "output_type": "stream",
     "text": [
      "100%|██████████| 79/79 [00:03<00:00, 20.75it/s]\n"
     ]
    },
    {
     "name": "stdout",
     "output_type": "stream",
     "text": [
      "2499 in total\tCR: 0.6574629851940776\n",
      "val Epoch:\t 5\tLoss val: 1.2420\tAcc val:0.6575, LR: 0.0029265847744427307\n",
      "Epoch len: 292.0392556190491 Estimated Remaining: 165.48891151746113 Min\n",
      "Current Epoch: 6\n",
      "Running Loss: 45353.111644268036, Running Corrects: 35706.0, Running All: 48623.0\n"
     ]
    },
    {
     "name": "stderr",
     "output_type": "stream",
     "text": [
      "100%|██████████| 79/79 [00:03<00:00, 20.83it/s]\n"
     ]
    },
    {
     "name": "stdout",
     "output_type": "stream",
     "text": [
      "2499 in total\tCR: 0.7342937174869948\n",
      "val Epoch:\t 6\tLoss val: 0.9339\tAcc val:0.7343, LR: 0.00288581929876693\n",
      "Epoch len: 291.9909679889679 Estimated Remaining: 160.59503239393234 Min\n",
      "Current Epoch: 7\n",
      "Running Loss: 38369.72644287348, Running Corrects: 37600.0, Running All: 48623.0\n"
     ]
    },
    {
     "name": "stderr",
     "output_type": "stream",
     "text": [
      "100%|██████████| 79/79 [00:04<00:00, 19.51it/s]\n"
     ]
    },
    {
     "name": "stdout",
     "output_type": "stream",
     "text": [
      "2499 in total\tCR: 0.7486994797919168\n",
      "val Epoch:\t 7\tLoss val: 0.8523\tAcc val:0.7487, LR: 0.0028365097862825517\n",
      "Epoch len: 279.4718928337097 Estimated Remaining: 149.05167617797852 Min\n",
      "Current Epoch: 8\n",
      "Running Loss: 33203.84042203426, Running Corrects: 38955.0, Running All: 48623.0\n"
     ]
    },
    {
     "name": "stderr",
     "output_type": "stream",
     "text": [
      "100%|██████████| 79/79 [00:04<00:00, 19.46it/s]\n"
     ]
    },
    {
     "name": "stdout",
     "output_type": "stream",
     "text": [
      "2499 in total\tCR: 0.7787114845938375\n",
      "val Epoch:\t 8\tLoss val: 0.7415\tAcc val:0.7787, LR: 0.0027789602465311384\n",
      "Epoch len: 279.5047535896301 Estimated Remaining: 144.41078935464222 Min\n",
      "Current Epoch: 9\n",
      "Running Loss: 29579.8131300807, Running Corrects: 39938.0, Running All: 48623.0\n"
     ]
    },
    {
     "name": "stderr",
     "output_type": "stream",
     "text": [
      "100%|██████████| 79/79 [00:04<00:00, 19.51it/s]\n"
     ]
    },
    {
     "name": "stdout",
     "output_type": "stream",
     "text": [
      "2499 in total\tCR: 0.7855142056822729\n",
      "val Epoch:\t 9\tLoss val: 0.7334\tAcc val:0.7855, LR: 0.002713525491562421\n",
      "Epoch len: 279.9755058288574 Estimated Remaining: 139.9877529144287 Min\n",
      "Current Epoch: 10\n",
      "Running Loss: 26474.49308127165, Running Corrects: 40923.0, Running All: 48623.0\n"
     ]
    },
    {
     "name": "stderr",
     "output_type": "stream",
     "text": [
      "100%|██████████| 79/79 [00:04<00:00, 19.54it/s]\n"
     ]
    },
    {
     "name": "stdout",
     "output_type": "stream",
     "text": [
      "2499 in total\tCR: 0.8187274909963985\n",
      "val Epoch:\t10\tLoss val: 0.6074\tAcc val:0.8187, LR: 0.0026406089484000464\n",
      "Epoch len: 279.63350319862366 Estimated Remaining: 135.15619321266811 Min\n",
      "Current Epoch: 11\n",
      "Running Loss: 24094.627108991146, Running Corrects: 41453.0, Running All: 48623.0\n"
     ]
    },
    {
     "name": "stderr",
     "output_type": "stream",
     "text": [
      "100%|██████████| 79/79 [00:04<00:00, 19.43it/s]\n"
     ]
    },
    {
     "name": "stdout",
     "output_type": "stream",
     "text": [
      "2499 in total\tCR: 0.8155262104841937\n",
      "val Epoch:\t11\tLoss val: 0.6038\tAcc val:0.8155, LR: 0.002560660171779821\n",
      "Epoch len: 279.50127029418945 Estimated Remaining: 130.4339261372884 Min\n",
      "Current Epoch: 12\n",
      "Running Loss: 21954.617238879204, Running Corrects: 42070.0, Running All: 48623.0\n"
     ]
    },
    {
     "name": "stderr",
     "output_type": "stream",
     "text": [
      "100%|██████████| 79/79 [00:04<00:00, 19.48it/s]\n"
     ]
    },
    {
     "name": "stdout",
     "output_type": "stream",
     "text": [
      "2499 in total\tCR: 0.8351340536214485\n",
      "val Epoch:\t12\tLoss val: 0.5452\tAcc val:0.8351, LR: 0.002474172072495276\n",
      "Epoch len: 279.4669609069824 Estimated Remaining: 125.76013240814208 Min\n",
      "Current Epoch: 13\n",
      "Running Loss: 19962.13331259787, Running Corrects: 42715.0, Running All: 48623.0\n"
     ]
    },
    {
     "name": "stderr",
     "output_type": "stream",
     "text": [
      "100%|██████████| 79/79 [00:03<00:00, 19.83it/s]"
     ]
    },
    {
     "name": "stdout",
     "output_type": "stream",
     "text": [
      "2499 in total\tCR: 0.834733893557423\n",
      "val Epoch:\t13\tLoss val: 0.5249\tAcc val:0.8347, LR: 0.00238167787843871\n",
      "Epoch len: 279.4415922164917 Estimated Remaining: 121.0913566271464 Min\n",
      "Current Epoch: 14\n"
     ]
    },
    {
     "name": "stderr",
     "output_type": "stream",
     "text": [
      "\n"
     ]
    },
    {
     "name": "stdout",
     "output_type": "stream",
     "text": [
      "Running Loss: 18590.93322235346, Running Corrects: 43082.0, Running All: 48623.0\n"
     ]
    },
    {
     "name": "stderr",
     "output_type": "stream",
     "text": [
      "100%|██████████| 79/79 [00:04<00:00, 19.60it/s]\n"
     ]
    },
    {
     "name": "stdout",
     "output_type": "stream",
     "text": [
      "2499 in total\tCR: 0.8423369347739096\n",
      "val Epoch:\t14\tLoss val: 0.4994\tAcc val:0.8423, LR: 0.002283747847073923\n",
      "Epoch len: 279.50924277305603 Estimated Remaining: 116.46218448877335 Min\n",
      "Current Epoch: 15\n",
      "Running Loss: 17054.690051794052, Running Corrects: 43511.0, Running All: 48623.0\n"
     ]
    },
    {
     "name": "stderr",
     "output_type": "stream",
     "text": [
      "100%|██████████| 79/79 [00:04<00:00, 19.51it/s]\n"
     ]
    },
    {
     "name": "stdout",
     "output_type": "stream",
     "text": [
      "2499 in total\tCR: 0.8427370948379351\n",
      "val Epoch:\t15\tLoss val: 0.5025\tAcc val:0.8427, LR: 0.0021809857496093202\n",
      "Epoch len: 279.4617886543274 Estimated Remaining: 111.78471546173095 Min\n",
      "Current Epoch: 16\n",
      "Running Loss: 15723.073509156704, Running Corrects: 43922.0, Running All: 48623.0\n"
     ]
    },
    {
     "name": "stderr",
     "output_type": "stream",
     "text": [
      "100%|██████████| 79/79 [00:03<00:00, 19.91it/s]\n"
     ]
    },
    {
     "name": "stdout",
     "output_type": "stream",
     "text": [
      "2499 in total\tCR: 0.8335334133653461\n",
      "val Epoch:\t16\tLoss val: 0.5401\tAcc val:0.8335, LR: 0.002074025148547635\n",
      "Epoch len: 279.1516766548157 Estimated Remaining: 107.00814271767935 Min\n",
      "Current Epoch: 17\n",
      "Running Loss: 14667.616347014904, Running Corrects: 44234.0, Running All: 48623.0\n"
     ]
    },
    {
     "name": "stderr",
     "output_type": "stream",
     "text": [
      "100%|██████████| 79/79 [00:03<00:00, 19.95it/s]\n"
     ]
    },
    {
     "name": "stdout",
     "output_type": "stream",
     "text": [
      "2499 in total\tCR: 0.8547418967587035\n",
      "val Epoch:\t17\tLoss val: 0.4709\tAcc val:0.8547, LR: 0.0019635254915624212\n",
      "Epoch len: 278.24834871292114 Estimated Remaining: 102.02439452807108 Min\n",
      "Current Epoch: 18\n",
      "Running Loss: 13694.951158612967, Running Corrects: 44488.0, Running All: 48623.0\n"
     ]
    },
    {
     "name": "stderr",
     "output_type": "stream",
     "text": [
      "100%|██████████| 79/79 [00:03<00:00, 20.16it/s]"
     ]
    },
    {
     "name": "stdout",
     "output_type": "stream",
     "text": [
      "2499 in total\tCR: 0.8495398159263705\n",
      "val Epoch:\t18\tLoss val: 0.4881\tAcc val:0.8495, LR: 0.0018501680457838584\n",
      "Epoch len: 278.22028732299805 Estimated Remaining: 97.37710056304931 Min\n",
      "Current Epoch: 19\n"
     ]
    },
    {
     "name": "stderr",
     "output_type": "stream",
     "text": [
      "\n"
     ]
    },
    {
     "name": "stdout",
     "output_type": "stream",
     "text": [
      "Running Loss: 12665.238733403385, Running Corrects: 44843.0, Running All: 48623.0\n"
     ]
    },
    {
     "name": "stderr",
     "output_type": "stream",
     "text": [
      "100%|██████████| 79/79 [00:03<00:00, 19.94it/s]\n"
     ]
    },
    {
     "name": "stdout",
     "output_type": "stream",
     "text": [
      "2499 in total\tCR: 0.8571428571428571\n",
      "val Epoch:\t19\tLoss val: 0.4849\tAcc val:0.8571, LR: 0.0017346516975603465\n",
      "Epoch len: 278.095418214798 Estimated Remaining: 92.69847273826599 Min\n",
      "Current Epoch: 20\n",
      "Running Loss: 11850.313934147358, Running Corrects: 45097.0, Running All: 48623.0\n"
     ]
    },
    {
     "name": "stderr",
     "output_type": "stream",
     "text": [
      "100%|██████████| 79/79 [00:03<00:00, 19.80it/s]\n"
     ]
    },
    {
     "name": "stdout",
     "output_type": "stream",
     "text": [
      "2499 in total\tCR: 0.860344137655062\n",
      "val Epoch:\t20\tLoss val: 0.4568\tAcc val:0.8603, LR: 0.0016176886435917675\n",
      "Epoch len: 278.1891436576843 Estimated Remaining: 88.09322882493338 Min\n",
      "Current Epoch: 21\n",
      "Running Loss: 10804.819545567036, Running Corrects: 45418.0, Running All: 48623.0\n"
     ]
    },
    {
     "name": "stderr",
     "output_type": "stream",
     "text": [
      "100%|██████████| 79/79 [00:03<00:00, 20.05it/s]\n"
     ]
    },
    {
     "name": "stdout",
     "output_type": "stream",
     "text": [
      "2499 in total\tCR: 0.8543417366946778\n",
      "val Epoch:\t21\tLoss val: 0.4729\tAcc val:0.8543, LR: 0.0015\n",
      "Epoch len: 278.3163959980011 Estimated Remaining: 83.49491879940032 Min\n",
      "Current Epoch: 22\n",
      "Running Loss: 10229.415731459856, Running Corrects: 45621.0, Running All: 48623.0\n"
     ]
    },
    {
     "name": "stderr",
     "output_type": "stream",
     "text": [
      "100%|██████████| 79/79 [00:03<00:00, 20.24it/s]\n"
     ]
    },
    {
     "name": "stdout",
     "output_type": "stream",
     "text": [
      "2499 in total\tCR: 0.8659463785514205\n",
      "val Epoch:\t22\tLoss val: 0.4476\tAcc val:0.8659, LR: 0.0013823113564082328\n",
      "Epoch len: 277.752165555954 Estimated Remaining: 78.6964469075203 Min\n",
      "Current Epoch: 23\n",
      "Running Loss: 9519.119184479117, Running Corrects: 45866.0, Running All: 48623.0\n"
     ]
    },
    {
     "name": "stderr",
     "output_type": "stream",
     "text": [
      "100%|██████████| 79/79 [00:03<00:00, 20.39it/s]\n"
     ]
    },
    {
     "name": "stdout",
     "output_type": "stream",
     "text": [
      "2499 in total\tCR: 0.8543417366946778\n",
      "val Epoch:\t23\tLoss val: 0.4706\tAcc val:0.8543, LR: 0.0012653483024396542\n",
      "Epoch len: 276.8736877441406 Estimated Remaining: 73.8329833984375 Min\n",
      "Current Epoch: 24\n",
      "Running Loss: 8852.728537857533, Running Corrects: 46056.0, Running All: 48623.0\n"
     ]
    },
    {
     "name": "stderr",
     "output_type": "stream",
     "text": [
      "100%|██████████| 79/79 [00:03<00:00, 20.07it/s]\n"
     ]
    },
    {
     "name": "stdout",
     "output_type": "stream",
     "text": [
      "2499 in total\tCR: 0.8703481392557023\n",
      "val Epoch:\t24\tLoss val: 0.4329\tAcc val:0.8703, LR: 0.0011498319542161421\n",
      "Epoch len: 276.6930842399597 Estimated Remaining: 69.17327105998993 Min\n",
      "Current Epoch: 25\n",
      "Running Loss: 8219.132451832294, Running Corrects: 46254.0, Running All: 48623.0\n"
     ]
    },
    {
     "name": "stderr",
     "output_type": "stream",
     "text": [
      "100%|██████████| 79/79 [00:03<00:00, 20.23it/s]"
     ]
    },
    {
     "name": "stdout",
     "output_type": "stream",
     "text": [
      "2499 in total\tCR: 0.8719487795118047\n",
      "val Epoch:\t25\tLoss val: 0.4220\tAcc val:0.8719, LR: 0.001036474508437579\n",
      "Epoch len: 277.0013451576233 Estimated Remaining: 64.63364720344543 Min\n",
      "Current Epoch: 26\n"
     ]
    },
    {
     "name": "stderr",
     "output_type": "stream",
     "text": [
      "\n"
     ]
    },
    {
     "name": "stdout",
     "output_type": "stream",
     "text": [
      "Running Loss: 7593.955581784248, Running Corrects: 46489.0, Running All: 48623.0\n"
     ]
    },
    {
     "name": "stderr",
     "output_type": "stream",
     "text": [
      "100%|██████████| 79/79 [00:03<00:00, 20.01it/s]\n"
     ]
    },
    {
     "name": "stdout",
     "output_type": "stream",
     "text": [
      "2499 in total\tCR: 0.8683473389355743\n",
      "val Epoch:\t26\tLoss val: 0.4459\tAcc val:0.8683, LR: 0.0009259748514523654\n",
      "Epoch len: 276.97332429885864 Estimated Remaining: 60.01088693141937 Min\n",
      "Current Epoch: 27\n",
      "Running Loss: 7180.83081253618, Running Corrects: 46603.0, Running All: 48623.0\n"
     ]
    },
    {
     "name": "stderr",
     "output_type": "stream",
     "text": [
      "100%|██████████| 79/79 [00:03<00:00, 20.06it/s]\n"
     ]
    },
    {
     "name": "stdout",
     "output_type": "stream",
     "text": [
      "2499 in total\tCR: 0.8651460584233693\n",
      "val Epoch:\t27\tLoss val: 0.4383\tAcc val:0.8651, LR: 0.0008190142503906799\n",
      "Epoch len: 277.03555130958557 Estimated Remaining: 55.40711026191711 Min\n",
      "Current Epoch: 28\n",
      "Running Loss: 6690.719190478325, Running Corrects: 46787.0, Running All: 48623.0\n"
     ]
    },
    {
     "name": "stderr",
     "output_type": "stream",
     "text": [
      "100%|██████████| 79/79 [00:03<00:00, 20.05it/s]\n"
     ]
    },
    {
     "name": "stdout",
     "output_type": "stream",
     "text": [
      "2499 in total\tCR: 0.8679471788715486\n",
      "val Epoch:\t28\tLoss val: 0.4379\tAcc val:0.8679, LR: 0.0007162521529260768\n",
      "Epoch len: 277.1714234352112 Estimated Remaining: 50.81476096312205 Min\n",
      "Current Epoch: 29\n",
      "Running Loss: 6373.813942655921, Running Corrects: 46890.0, Running All: 48623.0\n"
     ]
    },
    {
     "name": "stderr",
     "output_type": "stream",
     "text": [
      "100%|██████████| 79/79 [00:03<00:00, 20.33it/s]\n"
     ]
    },
    {
     "name": "stdout",
     "output_type": "stream",
     "text": [
      "2499 in total\tCR: 0.8731492597038816\n",
      "val Epoch:\t29\tLoss val: 0.4263\tAcc val:0.8731, LR: 0.0006183221215612905\n",
      "Epoch len: 276.8489623069763 Estimated Remaining: 46.141493717829384 Min\n",
      "Current Epoch: 30\n",
      "Running Loss: 5949.622620142996, Running Corrects: 47023.0, Running All: 48623.0\n"
     ]
    },
    {
     "name": "stderr",
     "output_type": "stream",
     "text": [
      "100%|██████████| 79/79 [00:03<00:00, 20.17it/s]"
     ]
    },
    {
     "name": "stdout",
     "output_type": "stream",
     "text": [
      "2499 in total\tCR: 0.8731492597038816\n",
      "val Epoch:\t30\tLoss val: 0.4359\tAcc val:0.8731, LR: 0.0005258279275047247\n",
      "Epoch len: 277.0570123195648 Estimated Remaining: 41.55855184793472 Min\n",
      "Current Epoch: 31\n"
     ]
    },
    {
     "name": "stderr",
     "output_type": "stream",
     "text": [
      "\n"
     ]
    },
    {
     "name": "stdout",
     "output_type": "stream",
     "text": [
      "Running Loss: 5703.910623423755, Running Corrects: 47120.0, Running All: 48623.0\n"
     ]
    },
    {
     "name": "stderr",
     "output_type": "stream",
     "text": [
      "100%|██████████| 79/79 [00:03<00:00, 20.09it/s]\n"
     ]
    },
    {
     "name": "stdout",
     "output_type": "stream",
     "text": [
      "2499 in total\tCR: 0.8783513405362144\n",
      "val Epoch:\t31\tLoss val: 0.4284\tAcc val:0.8784, LR: 0.0004393398282201788\n",
      "Epoch len: 277.1466453075409 Estimated Remaining: 36.95288604100545 Min\n",
      "Current Epoch: 32\n",
      "Running Loss: 5406.755551870912, Running Corrects: 47213.0, Running All: 48623.0\n"
     ]
    },
    {
     "name": "stderr",
     "output_type": "stream",
     "text": [
      "100%|██████████| 79/79 [00:03<00:00, 20.14it/s]\n"
     ]
    },
    {
     "name": "stdout",
     "output_type": "stream",
     "text": [
      "2499 in total\tCR: 0.8687474989995998\n",
      "val Epoch:\t32\tLoss val: 0.4364\tAcc val:0.8687, LR: 0.0003593910515999536\n",
      "Epoch len: 277.0196125507355 Estimated Remaining: 32.3189547975858 Min\n",
      "Current Epoch: 33\n",
      "Running Loss: 5173.258343607187, Running Corrects: 47257.0, Running All: 48623.0\n"
     ]
    },
    {
     "name": "stderr",
     "output_type": "stream",
     "text": [
      "100%|██████████| 79/79 [00:03<00:00, 20.01it/s]\n"
     ]
    },
    {
     "name": "stdout",
     "output_type": "stream",
     "text": [
      "2499 in total\tCR: 0.8723489395758304\n",
      "val Epoch:\t33\tLoss val: 0.4344\tAcc val:0.8723, LR: 0.000286474508437579\n",
      "Epoch len: 277.08695363998413 Estimated Remaining: 27.708695363998412 Min\n",
      "Current Epoch: 34\n",
      "Running Loss: 4943.584872290492, Running Corrects: 47393.0, Running All: 48623.0\n"
     ]
    },
    {
     "name": "stderr",
     "output_type": "stream",
     "text": [
      "100%|██████████| 79/79 [00:03<00:00, 20.26it/s]"
     ]
    },
    {
     "name": "stdout",
     "output_type": "stream",
     "text": [
      "2499 in total\tCR: 0.867547018807523\n",
      "val Epoch:\t34\tLoss val: 0.4405\tAcc val:0.8675, LR: 0.00022103975346886173\n",
      "Epoch len: 276.78074955940247 Estimated Remaining: 23.06506246328354 Min\n",
      "Current Epoch: 35\n"
     ]
    },
    {
     "name": "stderr",
     "output_type": "stream",
     "text": [
      "\n"
     ]
    },
    {
     "name": "stdout",
     "output_type": "stream",
     "text": [
      "Running Loss: 4869.2346446067095, Running Corrects: 47393.0, Running All: 48623.0\n"
     ]
    },
    {
     "name": "stderr",
     "output_type": "stream",
     "text": [
      "100%|██████████| 79/79 [00:03<00:00, 20.34it/s]\n"
     ]
    },
    {
     "name": "stdout",
     "output_type": "stream",
     "text": [
      "2499 in total\tCR: 0.8711484593837535\n",
      "val Epoch:\t35\tLoss val: 0.4389\tAcc val:0.8711, LR: 0.00016349021371744833\n",
      "Epoch len: 276.81356859207153 Estimated Remaining: 18.4542379061381 Min\n",
      "Current Epoch: 36\n",
      "Running Loss: 4720.5055173859, Running Corrects: 47414.0, Running All: 48623.0\n"
     ]
    },
    {
     "name": "stderr",
     "output_type": "stream",
     "text": [
      "100%|██████████| 79/79 [00:03<00:00, 20.04it/s]\n"
     ]
    },
    {
     "name": "stdout",
     "output_type": "stream",
     "text": [
      "2499 in total\tCR: 0.8715486194477791\n",
      "val Epoch:\t36\tLoss val: 0.4401\tAcc val:0.8715, LR: 0.0001141807012330699\n",
      "Epoch len: 277.05658888816833 Estimated Remaining: 13.852829444408417 Min\n",
      "Current Epoch: 37\n",
      "Running Loss: 4608.046286389232, Running Corrects: 47466.0, Running All: 48623.0\n"
     ]
    },
    {
     "name": "stderr",
     "output_type": "stream",
     "text": [
      "100%|██████████| 79/79 [00:03<00:00, 20.21it/s]\n"
     ]
    },
    {
     "name": "stdout",
     "output_type": "stream",
     "text": [
      "2499 in total\tCR: 0.8735494197679071\n",
      "val Epoch:\t37\tLoss val: 0.4377\tAcc val:0.8735, LR: 7.341522555726971e-05\n",
      "Epoch len: 277.0383679866791 Estimated Remaining: 9.234612266222635 Min\n",
      "Current Epoch: 38\n",
      "Running Loss: 4523.825377650559, Running Corrects: 47516.0, Running All: 48623.0\n"
     ]
    },
    {
     "name": "stderr",
     "output_type": "stream",
     "text": [
      "100%|██████████| 79/79 [00:03<00:00, 20.09it/s]\n"
     ]
    },
    {
     "name": "stdout",
     "output_type": "stream",
     "text": [
      "2499 in total\tCR: 0.8723489395758304\n",
      "val Epoch:\t38\tLoss val: 0.4377\tAcc val:0.8723, LR: 4.144511940348517e-05\n",
      "Epoch len: 277.0460395812988 Estimated Remaining: 4.617433993021647 Min\n",
      "Current Epoch: 39\n",
      "Running Loss: 4476.804649874568, Running Corrects: 47538.0, Running All: 48623.0\n"
     ]
    },
    {
     "name": "stderr",
     "output_type": "stream",
     "text": [
      "100%|██████████| 79/79 [00:03<00:00, 20.24it/s]\n"
     ]
    },
    {
     "name": "stdout",
     "output_type": "stream",
     "text": [
      "2499 in total\tCR: 0.8735494197679071\n",
      "val Epoch:\t39\tLoss val: 0.4365\tAcc val:0.8735, LR: 1.846748910729351e-05\n",
      "Epoch len: 277.0163724422455 Estimated Remaining: 0.0 Min\n"
     ]
    },
    {
     "name": "stderr",
     "output_type": "stream",
     "text": [
      " 78%|███████▊  | 62/79 [00:03<00:00, 22.94it/s]/home/taylorpap/PycharmProjects/Capstone/datasetloadingpy.py:229: UserWarning: Creating a tensor from a list of numpy.ndarrays is extremely slow. Please consider converting the list to a single numpy.ndarray with numpy.array() before converting to a tensor. (Triggered internally at ../torch/csrc/utils/tensor_new.cpp:230.)\n",
      "  data = torch.FloatTensor(data)\n",
      "100%|██████████| 79/79 [00:03<00:00, 20.02it/s]"
     ]
    },
    {
     "name": "stdout",
     "output_type": "stream",
     "text": [
      "2497 in total\tCR: 0.8706447737284742\n",
      "Test time performance of best epoch: 0.8706447737284742 (loss: 0.4399932668860263)\n"
     ]
    },
    {
     "name": "stderr",
     "output_type": "stream",
     "text": [
      "\n"
     ]
    }
   ],
   "source": [
    "save_direc = '/home/taylorpap/Bootcamp/test_model4_CrossEntLoss/'\n",
    "train_model = FullTrainer(model4, datasets, criterion=nn.CrossEntropyLoss(), epochs=40, save_dir=save_direc)"
   ],
   "metadata": {
    "collapsed": false,
    "pycharm": {
     "name": "#%%\n"
    }
   }
  },
  {
   "cell_type": "code",
   "execution_count": 33,
   "outputs": [],
   "source": [
    "model4 = None\n",
    "torch.cuda.empty_cache()"
   ],
   "metadata": {
    "collapsed": false,
    "pycharm": {
     "name": "#%%\n"
    }
   }
  },
  {
   "cell_type": "code",
   "execution_count": 6,
   "outputs": [],
   "source": [
    "def _2d_stem(*sizes):\n",
    "    return nn.Sequential(*[\n",
    "        ConvLayer(sizes[i], sizes[i+1], 3, stride=2 if i==0 else 1)\n",
    "            for i in range(len(sizes)-1)\n",
    "    ] + [nn.MaxPool2d(kernel_size=(3,3), stride=(2,2))])"
   ],
   "metadata": {
    "collapsed": false,
    "pycharm": {
     "name": "#%%\n"
    }
   }
  },
  {
   "cell_type": "code",
   "execution_count": 11,
   "outputs": [],
   "source": [
    "class ResBlock(nn.Module):\n",
    "    def __init__(self, ni, nf, stride=1, bottled=False):\n",
    "        super(ResBlock, self).__init__()\n",
    "        self.convs = _bottleneck_conv_block(ni, nf, stride) if bottled else _conv_block(ni, nf, stride)\n",
    "        self.idconv = noop if ni == nf else ConvLayer(ni, nf, 1, act_cls=None)\n",
    "        self.pool = noop if stride == 1 else nn.AvgPool2d(2, ceil_mode=True)\n",
    "\n",
    "    def forward(self, x):\n",
    "        return F.relu(self.convs(x) + self.idconv(self.pool(x)))\n",
    "\n",
    "\n",
    "class ResNet(nn.Sequential):\n",
    "    def __init__(self, layers, expansion=1):\n",
    "\n",
    "        #self.relu_type= relu_type\n",
    "        self.bottled = True if expansion > 1 else False\n",
    "        self.block_sizes = [64, 128, 256]\n",
    "        for i in range(1, len(self.block_sizes)): self.block_sizes[i] *= expansion\n",
    "        blocks = [self._make_layer(*o) for o in enumerate(layers)]\n",
    "\n",
    "        super().__init__(*blocks, nn.AdaptiveAvgPool2d(1))\n",
    "\n",
    "    def _make_layer(self, idx, n_layers):\n",
    "        stride = 1 if idx==0 else 2\n",
    "        ch_in, ch_out = self.block_sizes[idx:idx+2]\n",
    "        return nn.Sequential(*[\n",
    "            ResBlock(ch_in if i==0 else ch_out, ch_out, stride if i==0 else 1, self.bottled)\n",
    "            for i in range(n_layers)\n",
    "        ])\n",
    "\n",
    "class Chomp1d(nn.Module):\n",
    "    def __init__(self, chomp_size, symm_chomp):\n",
    "        super(Chomp1d, self).__init__()\n",
    "        self.chomp_size = chomp_size\n",
    "        self.symm_chomp = symm_chomp\n",
    "        if self.symm_chomp:\n",
    "            assert self.chomp_size % 2 == 0, \"If symmetric chomp, chomp size needs to be even\"\n",
    "    def forward(self, x):\n",
    "        if self.chomp_size == 0:\n",
    "            return x\n",
    "        if self.symm_chomp:\n",
    "            return x[:, :, self.chomp_size//2:-self.chomp_size//2].contiguous()\n",
    "        else:\n",
    "            return x[:, :, :-self.chomp_size].contiguous()"
   ],
   "metadata": {
    "collapsed": false,
    "pycharm": {
     "name": "#%%\n"
    }
   }
  },
  {
   "cell_type": "code",
   "execution_count": 12,
   "outputs": [],
   "source": [
    "class BasicBlock1D(nn.Module):\n",
    "    def __init__(self, n_inputs, n_outputs, kernel_size, stride, dilation, padding, dropout=0.2, relu_type='relu'):\n",
    "        super(BasicBlock1D, self).__init__()\n",
    "\n",
    "        self.conv1 = nn.Conv1d(n_inputs, n_outputs, kernel_size, stride=stride, padding=padding, dilation=dilation)\n",
    "        self.batchnorm1 = nn.BatchNorm1d(n_outputs)\n",
    "        self.chomp1 = Chomp1d(padding, True)\n",
    "        if relu_type == 'relu':\n",
    "            self.relu1 = nn.ReLU()\n",
    "        elif relu_type == 'prelu':\n",
    "            self.relu1 = nn.PReLU(num_parameters=n_outputs)\n",
    "        self.dropout1 = nn.Dropout(dropout)\n",
    "        self.conv2 = nn.Conv1d(n_outputs, n_outputs, kernel_size, stride=stride, padding=padding, dilation=dilation)\n",
    "        self.batchnorm2 = nn.BatchNorm1d(n_outputs)\n",
    "        self.chomp2 = Chomp1d(padding, True)\n",
    "        if relu_type == 'relu':\n",
    "            self.relu2 = nn.ReLU()\n",
    "        elif relu_type == 'prelu':\n",
    "            self.relu2 = nn.PReLU(num_parameters=n_outputs)\n",
    "        self.dropout2 = nn.Dropout(dropout)\n",
    "\n",
    "        self.downsample = nn.Conv1d(n_inputs, n_outputs, 1) if n_inputs != n_outputs else None\n",
    "        if relu_type == 'relu':\n",
    "            self.relu = nn.ReLU()\n",
    "        elif relu_type == 'prelu':\n",
    "            self.relu = nn.PReLU(num_parameters=n_outputs)\n",
    "\n",
    "    def forward(self, x):\n",
    "        out = self.conv1(x)\n",
    "        out = self.batchnorm1(out)\n",
    "        out = self.chomp1(out)\n",
    "        out = self.relu1(out)\n",
    "        out = self.dropout1(out)\n",
    "\n",
    "        out = self.conv2(out)\n",
    "        out = self.batchnorm2(out)\n",
    "        out = self.chomp2(out)\n",
    "        out = self.relu2(out)\n",
    "        out = self.dropout2(out)\n",
    "\n",
    "        res = x if self.downsample is None else self.downsample(x)\n",
    "        return self.relu(out + res)\n",
    "\n",
    "\n",
    "class ConvNet1D(nn.Module):\n",
    "    def __init__(self, num_inputs, num_channels, kernel_size=3, dropout=0.2, relu_type='relu'):\n",
    "        super(ConvNet1D, self).__init__()\n",
    "\n",
    "        layers = []\n",
    "        for i in range(len(num_channels)):\n",
    "            dilation_size = 2 ** i\n",
    "            in_channels = num_inputs if i==0 else num_channels[i-1]\n",
    "            out_channels = num_channels[i]\n",
    "            layers.append(BasicBlock1D(in_channels, out_channels, kernel_size, stride=1, dilation=dilation_size,\n",
    "                                       padding=(kernel_size-1) * dilation_size, dropout=dropout, relu_type=relu_type))\n",
    "        self.network = nn.Sequential(*layers)\n",
    "\n",
    "    def forward(self, x, lengths):\n",
    "        x = self.network(x)\n",
    "        x = _average_batch(x, lengths)\n",
    "        return x"
   ],
   "metadata": {
    "collapsed": false,
    "pycharm": {
     "name": "#%%\n"
    }
   }
  },
  {
   "cell_type": "code",
   "execution_count": 15,
   "outputs": [],
   "source": [
    "class Lipread2(nn.Module):\n",
    "    def __init__(self, num_classes, relu_type = 'prelu'):\n",
    "        super(Lipread2, self).__init__()\n",
    "        self.kernel_size = 3\n",
    "        self.dropout = 0.2\n",
    "        self.frontend_out = 64\n",
    "        self.backend_out = 256\n",
    "        self.expansion = 4\n",
    "        self.convolution_channels = [512, 256, 128]\n",
    "        self.num_classes = num_classes\n",
    "\n",
    "        self.frontend3D = _3d_block(1, 32, kernel_size=(5,7,7), stride=(1,2,2), padding=(2,3,3))\n",
    "        self.max_pool1 = nn.MaxPool3d(kernel_size=(1,3,3), stride=(1,2,2), padding=(0,1,1))\n",
    "        self.stem = _2d_stem(32, 32, 64)\n",
    "        self.trunk = ResNet([3,3], expansion=self.expansion)\n",
    "\n",
    "        self.tcn = ConvNet1D(self.backend_out * self.expansion, self.convolution_channels, kernel_size=self.kernel_size, dropout=self.dropout, relu_type=relu_type)\n",
    "        self.convnet_output = nn.Linear(self.convolution_channels[-1], num_classes)\n",
    "\n",
    "    def forward(self, x, lengths):\n",
    "        B, C, T, H, W = x.size()\n",
    "        x = self.frontend3D(x)\n",
    "        x = self.max_pool1(x)\n",
    "        Tnew = x.shape[2]\n",
    "        x = threeD_to_2D_tensor(x)\n",
    "        x = self.stem(x)\n",
    "        x = self.trunk(x)\n",
    "        x = x.view(x.size(0), -1)\n",
    "        x = x.view(B, Tnew, x.size(1))\n",
    "        x = x.transpose(1, 2)\n",
    "        x = self.tcn(x, lengths)\n",
    "        return self.convnet_output(x)\n"
   ],
   "metadata": {
    "collapsed": false,
    "pycharm": {
     "name": "#%%\n"
    }
   }
  },
  {
   "cell_type": "code",
   "execution_count": 16,
   "outputs": [],
   "source": [
    "model5 = Lipread2(len(temp_words_list))\n",
    "if torch.cuda.is_available():\n",
    "    model5.cuda()"
   ],
   "metadata": {
    "collapsed": false,
    "pycharm": {
     "name": "#%%\n"
    }
   }
  },
  {
   "cell_type": "code",
   "execution_count": 17,
   "outputs": [
    {
     "name": "stdout",
     "output_type": "stream",
     "text": [
      "Current Epoch: 0\n",
      "Running Loss: 190583.4138572216, Running Corrects: 1891.0, Running All: 48623.0\n"
     ]
    },
    {
     "name": "stderr",
     "output_type": "stream",
     "text": [
      "100%|██████████| 79/79 [00:02<00:00, 27.82it/s]"
     ]
    },
    {
     "name": "stdout",
     "output_type": "stream",
     "text": [
      "2499 in total\tCR: 0.056022408963585436\n",
      "val Epoch:\t 0\tLoss val: 3.7851\tAcc val:0.0560, LR: 0.003\n",
      "Epoch len: 121.54991817474365 Estimated Remaining: 79.00744681358337 Min\n",
      "Current Epoch: 1\n"
     ]
    },
    {
     "name": "stderr",
     "output_type": "stream",
     "text": [
      "\n"
     ]
    },
    {
     "name": "stdout",
     "output_type": "stream",
     "text": [
      "Running Loss: 164828.2197751999, Running Corrects: 6609.0, Running All: 48623.0\n"
     ]
    },
    {
     "name": "stderr",
     "output_type": "stream",
     "text": [
      "100%|██████████| 79/79 [00:02<00:00, 28.88it/s]\n"
     ]
    },
    {
     "name": "stdout",
     "output_type": "stream",
     "text": [
      "2499 in total\tCR: 0.23289315726290516\n",
      "val Epoch:\t 1\tLoss val: 2.9405\tAcc val:0.2329, LR: 0.003\n",
      "Epoch len: 119.0677878856659 Estimated Remaining: 75.40959899425506 Min\n",
      "Current Epoch: 2\n",
      "Running Loss: 110670.73310804367, Running Corrects: 18703.0, Running All: 48623.0\n"
     ]
    },
    {
     "name": "stderr",
     "output_type": "stream",
     "text": [
      "100%|██████████| 79/79 [00:03<00:00, 24.44it/s]\n"
     ]
    },
    {
     "name": "stdout",
     "output_type": "stream",
     "text": [
      "2499 in total\tCR: 0.5222088835534213\n",
      "val Epoch:\t 2\tLoss val: 1.7542\tAcc val:0.5222, LR: 0.0029953760005996923\n",
      "Epoch len: 120.76207637786865 Estimated Remaining: 74.46994709968567 Min\n",
      "Current Epoch: 3\n",
      "Running Loss: 67550.0704382658, Running Corrects: 29567.0, Running All: 48623.0\n"
     ]
    },
    {
     "name": "stderr",
     "output_type": "stream",
     "text": [
      "100%|██████████| 79/79 [00:02<00:00, 28.96it/s]\n"
     ]
    },
    {
     "name": "stdout",
     "output_type": "stream",
     "text": [
      "2499 in total\tCR: 0.6742697078831532\n",
      "val Epoch:\t 3\tLoss val: 1.1498\tAcc val:0.6743, LR: 0.002981532510892707\n",
      "Epoch len: 118.86185216903687 Estimated Remaining: 71.31711130142212 Min\n",
      "Current Epoch: 4\n",
      "Running Loss: 48464.66987121105, Running Corrects: 34534.0, Running All: 48623.0\n"
     ]
    },
    {
     "name": "stderr",
     "output_type": "stream",
     "text": [
      "100%|██████████| 79/79 [00:02<00:00, 28.64it/s]\n"
     ]
    },
    {
     "name": "stdout",
     "output_type": "stream",
     "text": [
      "2499 in total\tCR: 0.7290916366546618\n",
      "val Epoch:\t 4\tLoss val: 0.9559\tAcc val:0.7291, LR: 0.002958554880596515\n",
      "Epoch len: 118.87174773216248 Estimated Remaining: 69.34185284376144 Min\n",
      "Current Epoch: 5\n",
      "Running Loss: 38275.84882724285, Running Corrects: 37331.0, Running All: 48623.0\n"
     ]
    },
    {
     "name": "stderr",
     "output_type": "stream",
     "text": [
      "100%|██████████| 79/79 [00:02<00:00, 29.20it/s]\n"
     ]
    },
    {
     "name": "stdout",
     "output_type": "stream",
     "text": [
      "2499 in total\tCR: 0.7378951580632253\n",
      "val Epoch:\t 5\tLoss val: 0.8761\tAcc val:0.7379, LR: 0.0029265847744427307\n",
      "Epoch len: 117.67611169815063 Estimated Remaining: 66.68312996228536 Min\n",
      "Current Epoch: 6\n",
      "Running Loss: 31776.454605430365, Running Corrects: 39137.0, Running All: 48623.0\n"
     ]
    },
    {
     "name": "stderr",
     "output_type": "stream",
     "text": [
      "100%|██████████| 79/79 [00:02<00:00, 30.53it/s]\n"
     ]
    },
    {
     "name": "stdout",
     "output_type": "stream",
     "text": [
      "2499 in total\tCR: 0.8079231692677071\n",
      "val Epoch:\t 6\tLoss val: 0.6577\tAcc val:0.8079, LR: 0.00288581929876693\n",
      "Epoch len: 116.86011075973511 Estimated Remaining: 64.27306091785431 Min\n",
      "Current Epoch: 7\n",
      "Running Loss: 27660.37699365616, Running Corrects: 40278.0, Running All: 48623.0\n"
     ]
    },
    {
     "name": "stderr",
     "output_type": "stream",
     "text": [
      "100%|██████████| 79/79 [00:02<00:00, 29.66it/s]"
     ]
    },
    {
     "name": "stdout",
     "output_type": "stream",
     "text": [
      "2499 in total\tCR: 0.8063225290116046\n",
      "val Epoch:\t 7\tLoss val: 0.6400\tAcc val:0.8063, LR: 0.0028365097862825517\n",
      "Epoch len: 119.92163372039795 Estimated Remaining: 63.958204650878905 Min\n",
      "Current Epoch: 8\n"
     ]
    },
    {
     "name": "stderr",
     "output_type": "stream",
     "text": [
      "\n"
     ]
    },
    {
     "name": "stdout",
     "output_type": "stream",
     "text": [
      "Running Loss: 24456.349484562874, Running Corrects: 41155.0, Running All: 48623.0\n"
     ]
    },
    {
     "name": "stderr",
     "output_type": "stream",
     "text": [
      "100%|██████████| 79/79 [00:02<00:00, 29.85it/s]\n"
     ]
    },
    {
     "name": "stdout",
     "output_type": "stream",
     "text": [
      "2499 in total\tCR: 0.820328131252501\n",
      "val Epoch:\t 8\tLoss val: 0.5826\tAcc val:0.8203, LR: 0.0027789602465311384\n",
      "Epoch len: 117.62648153305054 Estimated Remaining: 60.773682125409444 Min\n",
      "Current Epoch: 9\n",
      "Running Loss: 21741.581520199776, Running Corrects: 41993.0, Running All: 48623.0\n"
     ]
    },
    {
     "name": "stderr",
     "output_type": "stream",
     "text": [
      "100%|██████████| 79/79 [00:02<00:00, 30.59it/s]\n"
     ]
    },
    {
     "name": "stdout",
     "output_type": "stream",
     "text": [
      "2499 in total\tCR: 0.8307322929171669\n",
      "val Epoch:\t 9\tLoss val: 0.5788\tAcc val:0.8307, LR: 0.002713525491562421\n",
      "Epoch len: 111.48904776573181 Estimated Remaining: 55.744523882865906 Min\n",
      "Current Epoch: 10\n",
      "Running Loss: 19743.12207520008, Running Corrects: 42541.0, Running All: 48623.0\n"
     ]
    },
    {
     "name": "stderr",
     "output_type": "stream",
     "text": [
      "100%|██████████| 79/79 [00:02<00:00, 30.46it/s]\n"
     ]
    },
    {
     "name": "stdout",
     "output_type": "stream",
     "text": [
      "2499 in total\tCR: 0.8419367747098839\n",
      "val Epoch:\t10\tLoss val: 0.4996\tAcc val:0.8419, LR: 0.0026406089484000464\n",
      "Epoch len: 111.5506649017334 Estimated Remaining: 53.91615470250448 Min\n",
      "Current Epoch: 11\n",
      "Running Loss: 17864.936081007123, Running Corrects: 43074.0, Running All: 48623.0\n"
     ]
    },
    {
     "name": "stderr",
     "output_type": "stream",
     "text": [
      "100%|██████████| 79/79 [00:02<00:00, 30.61it/s]"
     ]
    },
    {
     "name": "stdout",
     "output_type": "stream",
     "text": [
      "2499 in total\tCR: 0.8311324529811924\n",
      "val Epoch:\t11\tLoss val: 0.5202\tAcc val:0.8311, LR: 0.002560660171779821\n",
      "Epoch len: 111.10626029968262 Estimated Remaining: 51.84958813985189 Min\n",
      "Current Epoch: 12\n"
     ]
    },
    {
     "name": "stderr",
     "output_type": "stream",
     "text": [
      "\n"
     ]
    },
    {
     "name": "stdout",
     "output_type": "stream",
     "text": [
      "Running Loss: 16033.939683645964, Running Corrects: 43631.0, Running All: 48623.0\n"
     ]
    },
    {
     "name": "stderr",
     "output_type": "stream",
     "text": [
      "100%|██████████| 79/79 [00:02<00:00, 30.00it/s]\n"
     ]
    },
    {
     "name": "stdout",
     "output_type": "stream",
     "text": [
      "2499 in total\tCR: 0.8479391756702681\n",
      "val Epoch:\t12\tLoss val: 0.4633\tAcc val:0.8479, LR: 0.002474172072495276\n",
      "Epoch len: 111.44330215454102 Estimated Remaining: 50.149485969543456 Min\n",
      "Current Epoch: 13\n",
      "Running Loss: 14784.566306769848, Running Corrects: 43992.0, Running All: 48623.0\n"
     ]
    },
    {
     "name": "stderr",
     "output_type": "stream",
     "text": [
      "100%|██████████| 79/79 [00:02<00:00, 29.92it/s]\n"
     ]
    },
    {
     "name": "stdout",
     "output_type": "stream",
     "text": [
      "2499 in total\tCR: 0.8443377350940376\n",
      "val Epoch:\t13\tLoss val: 0.5190\tAcc val:0.8443, LR: 0.00238167787843871\n",
      "Epoch len: 111.16497898101807 Estimated Remaining: 48.171490891774496 Min\n",
      "Current Epoch: 14\n",
      "Running Loss: 13660.34777995944, Running Corrects: 44339.0, Running All: 48623.0\n"
     ]
    },
    {
     "name": "stderr",
     "output_type": "stream",
     "text": [
      "100%|██████████| 79/79 [00:02<00:00, 30.55it/s]\n"
     ]
    },
    {
     "name": "stdout",
     "output_type": "stream",
     "text": [
      "2499 in total\tCR: 0.8699479791916767\n",
      "val Epoch:\t14\tLoss val: 0.4250\tAcc val:0.8699, LR: 0.002283747847073923\n",
      "Epoch len: 118.96551847457886 Estimated Remaining: 49.568966031074524 Min\n",
      "Current Epoch: 15\n",
      "Running Loss: 12284.32331469655, Running Corrects: 44700.0, Running All: 48623.0\n"
     ]
    },
    {
     "name": "stderr",
     "output_type": "stream",
     "text": [
      "100%|██████████| 79/79 [00:02<00:00, 30.34it/s]\n"
     ]
    },
    {
     "name": "stdout",
     "output_type": "stream",
     "text": [
      "2499 in total\tCR: 0.8659463785514205\n",
      "val Epoch:\t15\tLoss val: 0.4448\tAcc val:0.8659, LR: 0.0021809857496093202\n",
      "Epoch len: 111.0973379611969 Estimated Remaining: 44.43893518447876 Min\n",
      "Current Epoch: 16\n",
      "Running Loss: 11188.442505706102, Running Corrects: 45134.0, Running All: 48623.0\n"
     ]
    },
    {
     "name": "stderr",
     "output_type": "stream",
     "text": [
      "100%|██████████| 79/79 [00:02<00:00, 29.88it/s]"
     ]
    },
    {
     "name": "stdout",
     "output_type": "stream",
     "text": [
      "2499 in total\tCR: 0.8671468587434974\n",
      "val Epoch:\t16\tLoss val: 0.4428\tAcc val:0.8671, LR: 0.002074025148547635\n",
      "Epoch len: 111.26118636131287 Estimated Remaining: 42.65012143850326 Min\n",
      "Current Epoch: 17\n"
     ]
    },
    {
     "name": "stderr",
     "output_type": "stream",
     "text": [
      "\n"
     ]
    },
    {
     "name": "stdout",
     "output_type": "stream",
     "text": [
      "Running Loss: 10185.820478349924, Running Corrects: 45395.0, Running All: 48623.0\n"
     ]
    },
    {
     "name": "stderr",
     "output_type": "stream",
     "text": [
      "100%|██████████| 79/79 [00:02<00:00, 30.24it/s]\n"
     ]
    },
    {
     "name": "stdout",
     "output_type": "stream",
     "text": [
      "2499 in total\tCR: 0.8667466986794717\n",
      "val Epoch:\t17\tLoss val: 0.4394\tAcc val:0.8667, LR: 0.0019635254915624212\n",
      "Epoch len: 111.18393111228943 Estimated Remaining: 40.767441407839456 Min\n",
      "Current Epoch: 18\n",
      "Running Loss: 9380.20956735313, Running Corrects: 45653.0, Running All: 48623.0\n"
     ]
    },
    {
     "name": "stderr",
     "output_type": "stream",
     "text": [
      "100%|██████████| 79/79 [00:02<00:00, 29.79it/s]\n"
     ]
    },
    {
     "name": "stdout",
     "output_type": "stream",
     "text": [
      "2499 in total\tCR: 0.8787515006002401\n",
      "val Epoch:\t18\tLoss val: 0.4102\tAcc val:0.8788, LR: 0.0018501680457838584\n",
      "Epoch len: 111.3534483909607 Estimated Remaining: 38.973706936836244 Min\n",
      "Current Epoch: 19\n",
      "Running Loss: 8374.868911378086, Running Corrects: 45988.0, Running All: 48623.0\n"
     ]
    },
    {
     "name": "stderr",
     "output_type": "stream",
     "text": [
      "100%|██████████| 79/79 [00:02<00:00, 30.31it/s]\n"
     ]
    },
    {
     "name": "stdout",
     "output_type": "stream",
     "text": [
      "2499 in total\tCR: 0.8795518207282913\n",
      "val Epoch:\t19\tLoss val: 0.4150\tAcc val:0.8796, LR: 0.0017346516975603465\n",
      "Epoch len: 120.36963129043579 Estimated Remaining: 40.123210430145264 Min\n",
      "Current Epoch: 20\n",
      "Running Loss: 7592.3249385505915, Running Corrects: 46252.0, Running All: 48623.0\n"
     ]
    },
    {
     "name": "stderr",
     "output_type": "stream",
     "text": [
      "100%|██████████| 79/79 [00:02<00:00, 30.13it/s]\n"
     ]
    },
    {
     "name": "stdout",
     "output_type": "stream",
     "text": [
      "2499 in total\tCR: 0.8755502200880352\n",
      "val Epoch:\t20\tLoss val: 0.4094\tAcc val:0.8756, LR: 0.0016176886435917675\n",
      "Epoch len: 111.18690204620361 Estimated Remaining: 35.209185647964475 Min\n",
      "Current Epoch: 21\n",
      "Running Loss: 6895.808970361948, Running Corrects: 46516.0, Running All: 48623.0\n"
     ]
    },
    {
     "name": "stderr",
     "output_type": "stream",
     "text": [
      "100%|██████████| 79/79 [00:02<00:00, 30.23it/s]\n"
     ]
    },
    {
     "name": "stdout",
     "output_type": "stream",
     "text": [
      "2499 in total\tCR: 0.8795518207282913\n",
      "val Epoch:\t21\tLoss val: 0.4038\tAcc val:0.8796, LR: 0.0015\n",
      "Epoch len: 117.0568995475769 Estimated Remaining: 35.11706986427307 Min\n",
      "Current Epoch: 22\n",
      "Running Loss: 6006.613824591041, Running Corrects: 46817.0, Running All: 48623.0\n"
     ]
    },
    {
     "name": "stderr",
     "output_type": "stream",
     "text": [
      "100%|██████████| 79/79 [00:02<00:00, 30.02it/s]\n"
     ]
    },
    {
     "name": "stdout",
     "output_type": "stream",
     "text": [
      "2499 in total\tCR: 0.879951980792317\n",
      "val Epoch:\t22\tLoss val: 0.4118\tAcc val:0.8800, LR: 0.0013823113564082328\n",
      "Epoch len: 116.68147301673889 Estimated Remaining: 33.05975068807602 Min\n",
      "Current Epoch: 23\n",
      "Running Loss: 5433.203046441078, Running Corrects: 46992.0, Running All: 48623.0\n"
     ]
    },
    {
     "name": "stderr",
     "output_type": "stream",
     "text": [
      "100%|██████████| 79/79 [00:02<00:00, 30.24it/s]\n"
     ]
    },
    {
     "name": "stdout",
     "output_type": "stream",
     "text": [
      "2499 in total\tCR: 0.8851540616246498\n",
      "val Epoch:\t23\tLoss val: 0.4025\tAcc val:0.8852, LR: 0.0012653483024396542\n",
      "Epoch len: 111.8040759563446 Estimated Remaining: 29.81442025502523 Min\n",
      "Current Epoch: 24\n",
      "Running Loss: 4894.377630524337, Running Corrects: 47152.0, Running All: 48623.0\n"
     ]
    },
    {
     "name": "stderr",
     "output_type": "stream",
     "text": [
      "100%|██████████| 79/79 [00:02<00:00, 29.98it/s]\n"
     ]
    },
    {
     "name": "stdout",
     "output_type": "stream",
     "text": [
      "2499 in total\tCR: 0.885954381752701\n",
      "val Epoch:\t24\tLoss val: 0.3998\tAcc val:0.8860, LR: 0.0011498319542161421\n",
      "Epoch len: 111.28049445152283 Estimated Remaining: 27.820123612880707 Min\n",
      "Current Epoch: 25\n",
      "Running Loss: 4480.086582526565, Running Corrects: 47308.0, Running All: 48623.0\n"
     ]
    },
    {
     "name": "stderr",
     "output_type": "stream",
     "text": [
      "100%|██████████| 79/79 [00:02<00:00, 30.39it/s]\n"
     ]
    },
    {
     "name": "stdout",
     "output_type": "stream",
     "text": [
      "2499 in total\tCR: 0.8863545418167267\n",
      "val Epoch:\t25\tLoss val: 0.3929\tAcc val:0.8864, LR: 0.001036474508437579\n",
      "Epoch len: 111.20586943626404 Estimated Remaining: 25.94803620179494 Min\n",
      "Current Epoch: 26\n",
      "Running Loss: 3929.29519289732, Running Corrects: 47508.0, Running All: 48623.0\n"
     ]
    },
    {
     "name": "stderr",
     "output_type": "stream",
     "text": [
      "100%|██████████| 79/79 [00:02<00:00, 30.62it/s]\n"
     ]
    },
    {
     "name": "stdout",
     "output_type": "stream",
     "text": [
      "2499 in total\tCR: 0.8879551820728291\n",
      "val Epoch:\t26\tLoss val: 0.3967\tAcc val:0.8880, LR: 0.0009259748514523654\n",
      "Epoch len: 111.97017312049866 Estimated Remaining: 24.260204176108044 Min\n",
      "Current Epoch: 27\n",
      "Running Loss: 3586.1235161572695, Running Corrects: 47629.0, Running All: 48623.0\n"
     ]
    },
    {
     "name": "stderr",
     "output_type": "stream",
     "text": [
      "100%|██████████| 79/79 [00:02<00:00, 29.74it/s]\n"
     ]
    },
    {
     "name": "stdout",
     "output_type": "stream",
     "text": [
      "2499 in total\tCR: 0.8851540616246498\n",
      "val Epoch:\t27\tLoss val: 0.4037\tAcc val:0.8852, LR: 0.0008190142503906799\n",
      "Epoch len: 111.21483063697815 Estimated Remaining: 22.24296612739563 Min\n",
      "Current Epoch: 28\n",
      "Running Loss: 3129.0545200183988, Running Corrects: 47799.0, Running All: 48623.0\n"
     ]
    },
    {
     "name": "stderr",
     "output_type": "stream",
     "text": [
      "100%|██████████| 79/79 [00:02<00:00, 29.89it/s]\n"
     ]
    },
    {
     "name": "stdout",
     "output_type": "stream",
     "text": [
      "2499 in total\tCR: 0.8903561424569828\n",
      "val Epoch:\t28\tLoss val: 0.3915\tAcc val:0.8904, LR: 0.0007162521529260768\n",
      "Epoch len: 113.17887544631958 Estimated Remaining: 20.749460498491924 Min\n",
      "Current Epoch: 29\n",
      "Running Loss: 2874.1107891835272, Running Corrects: 47904.0, Running All: 48623.0\n"
     ]
    },
    {
     "name": "stderr",
     "output_type": "stream",
     "text": [
      "100%|██████████| 79/79 [00:02<00:00, 30.14it/s]\n"
     ]
    },
    {
     "name": "stdout",
     "output_type": "stream",
     "text": [
      "2499 in total\tCR: 0.8907563025210085\n",
      "val Epoch:\t29\tLoss val: 0.3913\tAcc val:0.8908, LR: 0.0006183221215612905\n",
      "Epoch len: 116.69212794303894 Estimated Remaining: 19.44868799050649 Min\n",
      "Current Epoch: 30\n",
      "Running Loss: 2578.985635589808, Running Corrects: 48007.0, Running All: 48623.0\n"
     ]
    },
    {
     "name": "stderr",
     "output_type": "stream",
     "text": [
      "100%|██████████| 79/79 [00:02<00:00, 30.55it/s]\n"
     ]
    },
    {
     "name": "stdout",
     "output_type": "stream",
     "text": [
      "2499 in total\tCR: 0.8903561424569828\n",
      "val Epoch:\t30\tLoss val: 0.3976\tAcc val:0.8904, LR: 0.0005258279275047247\n",
      "Epoch len: 111.13336110115051 Estimated Remaining: 16.67000416517258 Min\n",
      "Current Epoch: 31\n",
      "Running Loss: 2380.562385596335, Running Corrects: 48074.0, Running All: 48623.0\n"
     ]
    },
    {
     "name": "stderr",
     "output_type": "stream",
     "text": [
      "100%|██████████| 79/79 [00:02<00:00, 30.46it/s]\n"
     ]
    },
    {
     "name": "stdout",
     "output_type": "stream",
     "text": [
      "2499 in total\tCR: 0.8863545418167267\n",
      "val Epoch:\t31\tLoss val: 0.4091\tAcc val:0.8864, LR: 0.0004393398282201788\n",
      "Epoch len: 117.91422772407532 Estimated Remaining: 15.72189702987671 Min\n",
      "Current Epoch: 32\n",
      "Running Loss: 2265.8989386595786, Running Corrects: 48087.0, Running All: 48623.0\n"
     ]
    },
    {
     "name": "stderr",
     "output_type": "stream",
     "text": [
      "100%|██████████| 79/79 [00:02<00:00, 27.20it/s]\n"
     ]
    },
    {
     "name": "stdout",
     "output_type": "stream",
     "text": [
      "2499 in total\tCR: 0.8915566226490597\n",
      "val Epoch:\t32\tLoss val: 0.3964\tAcc val:0.8916, LR: 0.0003593910515999536\n",
      "Epoch len: 122.15326046943665 Estimated Remaining: 14.251213721434276 Min\n",
      "Current Epoch: 33\n",
      "Running Loss: 2098.4957880880684, Running Corrects: 48135.0, Running All: 48623.0\n"
     ]
    },
    {
     "name": "stderr",
     "output_type": "stream",
     "text": [
      "100%|██████████| 79/79 [00:02<00:00, 30.02it/s]\n"
     ]
    },
    {
     "name": "stdout",
     "output_type": "stream",
     "text": [
      "2499 in total\tCR: 0.8919567827130852\n",
      "val Epoch:\t33\tLoss val: 0.4011\tAcc val:0.8920, LR: 0.000286474508437579\n",
      "Epoch len: 116.71991205215454 Estimated Remaining: 11.671991205215454 Min\n",
      "Current Epoch: 34\n",
      "Running Loss: 2020.6469396324828, Running Corrects: 48179.0, Running All: 48623.0\n"
     ]
    },
    {
     "name": "stderr",
     "output_type": "stream",
     "text": [
      "100%|██████████| 79/79 [00:02<00:00, 29.31it/s]\n"
     ]
    },
    {
     "name": "stdout",
     "output_type": "stream",
     "text": [
      "2499 in total\tCR: 0.8907563025210085\n",
      "val Epoch:\t34\tLoss val: 0.3939\tAcc val:0.8908, LR: 0.00022103975346886173\n",
      "Epoch len: 115.72811627388 Estimated Remaining: 9.64400968949 Min\n",
      "Current Epoch: 35\n",
      "Running Loss: 1873.5208257585764, Running Corrects: 48215.0, Running All: 48623.0\n"
     ]
    },
    {
     "name": "stderr",
     "output_type": "stream",
     "text": [
      "100%|██████████| 79/79 [00:02<00:00, 29.91it/s]\n"
     ]
    },
    {
     "name": "stdout",
     "output_type": "stream",
     "text": [
      "2499 in total\tCR: 0.8903561424569828\n",
      "val Epoch:\t35\tLoss val: 0.3927\tAcc val:0.8904, LR: 0.00016349021371744833\n",
      "Epoch len: 112.78901553153992 Estimated Remaining: 7.5192677021026615 Min\n",
      "Current Epoch: 36\n",
      "Running Loss: 1843.6059382585809, Running Corrects: 48247.0, Running All: 48623.0\n"
     ]
    },
    {
     "name": "stderr",
     "output_type": "stream",
     "text": [
      "100%|██████████| 79/79 [00:02<00:00, 30.23it/s]\n"
     ]
    },
    {
     "name": "stdout",
     "output_type": "stream",
     "text": [
      "2499 in total\tCR: 0.8923569427771109\n",
      "val Epoch:\t36\tLoss val: 0.3979\tAcc val:0.8924, LR: 0.0001141807012330699\n",
      "Epoch len: 111.11243748664856 Estimated Remaining: 5.555621874332428 Min\n",
      "Current Epoch: 37\n",
      "Running Loss: 1816.072804720141, Running Corrects: 48247.0, Running All: 48623.0\n"
     ]
    },
    {
     "name": "stderr",
     "output_type": "stream",
     "text": [
      "100%|██████████| 79/79 [00:02<00:00, 30.74it/s]\n"
     ]
    },
    {
     "name": "stdout",
     "output_type": "stream",
     "text": [
      "2499 in total\tCR: 0.8931572629051621\n",
      "val Epoch:\t37\tLoss val: 0.3990\tAcc val:0.8932, LR: 7.341522555726971e-05\n",
      "Epoch len: 111.13090872764587 Estimated Remaining: 3.7043636242548623 Min\n",
      "Current Epoch: 38\n",
      "Running Loss: 1791.5507855266333, Running Corrects: 48269.0, Running All: 48623.0\n"
     ]
    },
    {
     "name": "stderr",
     "output_type": "stream",
     "text": [
      "100%|██████████| 79/79 [00:03<00:00, 25.89it/s]\n"
     ]
    },
    {
     "name": "stdout",
     "output_type": "stream",
     "text": [
      "2499 in total\tCR: 0.891156462585034\n",
      "val Epoch:\t38\tLoss val: 0.3974\tAcc val:0.8912, LR: 4.144511940348517e-05\n",
      "Epoch len: 116.48789477348328 Estimated Remaining: 1.941464912891388 Min\n",
      "Current Epoch: 39\n",
      "Running Loss: 1773.4379055444151, Running Corrects: 48255.0, Running All: 48623.0\n"
     ]
    },
    {
     "name": "stderr",
     "output_type": "stream",
     "text": [
      "100%|██████████| 79/79 [00:02<00:00, 30.20it/s]\n"
     ]
    },
    {
     "name": "stdout",
     "output_type": "stream",
     "text": [
      "2499 in total\tCR: 0.8927571028411364\n",
      "val Epoch:\t39\tLoss val: 0.3968\tAcc val:0.8928, LR: 1.846748910729351e-05\n",
      "Epoch len: 119.11651062965393 Estimated Remaining: 0.0 Min\n"
     ]
    },
    {
     "name": "stderr",
     "output_type": "stream",
     "text": [
      " 78%|███████▊  | 62/79 [00:02<00:00, 33.80it/s]/home/taylorpap/PycharmProjects/Capstone/datasetloadingpy.py:229: UserWarning: Creating a tensor from a list of numpy.ndarrays is extremely slow. Please consider converting the list to a single numpy.ndarray with numpy.array() before converting to a tensor. (Triggered internally at ../torch/csrc/utils/tensor_new.cpp:230.)\n",
      "  data = torch.FloatTensor(data)\n",
      "100%|██████████| 79/79 [00:03<00:00, 26.26it/s]"
     ]
    },
    {
     "name": "stdout",
     "output_type": "stream",
     "text": [
      "2497 in total\tCR: 0.880656788145775\n",
      "Test time performance of best epoch: 0.880656788145775 (loss: 0.4262918140396064)\n"
     ]
    },
    {
     "name": "stderr",
     "output_type": "stream",
     "text": [
      "\n"
     ]
    }
   ],
   "source": [
    "save_direc = '/home/taylorpap/Bootcamp/test_model5/'\n",
    "train_model = FullTrainer(model5, datasets, criterion=nn.CrossEntropyLoss(), epochs=40, save_dir=save_direc)"
   ],
   "metadata": {
    "collapsed": false,
    "pycharm": {
     "name": "#%%\n"
    }
   }
  },
  {
   "cell_type": "code",
   "execution_count": null,
   "outputs": [],
   "source": [],
   "metadata": {
    "collapsed": false,
    "pycharm": {
     "name": "#%%\n"
    }
   }
  }
 ],
 "metadata": {
  "kernelspec": {
   "display_name": "Python 3",
   "language": "python",
   "name": "python3"
  },
  "language_info": {
   "codemirror_mode": {
    "name": "ipython",
    "version": 2
   },
   "file_extension": ".py",
   "mimetype": "text/x-python",
   "name": "python",
   "nbconvert_exporter": "python",
   "pygments_lexer": "ipython2",
   "version": "2.7.6"
  }
 },
 "nbformat": 4,
 "nbformat_minor": 0
}