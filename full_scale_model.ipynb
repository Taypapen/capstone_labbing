{
 "cells": [
  {
   "cell_type": "code",
   "execution_count": 1,
   "outputs": [],
   "source": [
    "from utilities import *\n",
    "from pytorch_nn import Lipread2\n",
    "from Model_training_blocks import FullTrainer\n",
    "import torch\n",
    "from torch import nn\n",
    "from datasetloadingpy import dataloaders"
   ],
   "metadata": {
    "collapsed": false,
    "pycharm": {
     "name": "#%%\n"
    }
   }
  },
  {
   "cell_type": "code",
   "execution_count": 2,
   "outputs": [],
   "source": [
    "words_list_file = '/home/taylorpap/Bootcamp/wordlist.txt'\n",
    "words_list = get_wordslist_from_txt_file(words_list_file)"
   ],
   "metadata": {
    "collapsed": false,
    "pycharm": {
     "name": "#%%\n"
    }
   }
  },
  {
   "cell_type": "code",
   "execution_count": 3,
   "outputs": [
    {
     "name": "stdout",
     "output_type": "stream",
     "text": [
      "125\n"
     ]
    }
   ],
   "source": [
    "temp_words_list = []\n",
    "for index in range(1, len(words_list), 4):\n",
    "    temp_words_list.append(words_list[index])\n",
    "print(len(temp_words_list))"
   ],
   "metadata": {
    "collapsed": false,
    "pycharm": {
     "name": "#%%\n"
    }
   }
  },
  {
   "cell_type": "code",
   "execution_count": 4,
   "outputs": [
    {
     "name": "stdout",
     "output_type": "stream",
     "text": [
      "Partition train loaded\n",
      "Partition test loaded\n",
      "Partition val loaded\n"
     ]
    }
   ],
   "source": [
    "data_path = '/media/taylorpap/2TBM2/Dataset_2/GreyCropped'\n",
    "datasets = dataloaders(data_dir=data_path, label_fp=temp_words_list, batch_size=64, workers=16)"
   ],
   "metadata": {
    "collapsed": false,
    "pycharm": {
     "name": "#%%\n"
    }
   }
  },
  {
   "cell_type": "code",
   "execution_count": 7,
   "outputs": [],
   "source": [
    "model = Lipread2(len(temp_words_list))\n",
    "if torch.cuda.is_available():\n",
    "    model.cuda()\n",
    "checkpoint_path = '/home/taylorpap/Bootcamp/Lipread2_full_scale/ckpt.pth.tar'\n",
    "save_direc = '/home/taylorpap/Bootcamp/Lipread2_full_scale/'"
   ],
   "metadata": {
    "collapsed": false,
    "pycharm": {
     "name": "#%%\n"
    }
   }
  },
  {
   "cell_type": "code",
   "execution_count": 6,
   "outputs": [
    {
     "name": "stdout",
     "output_type": "stream",
     "text": [
      "Current Epoch: 0\n",
      "Running Loss: 598469.8697004318, Running Corrects: 1530.0, Running All: 123011.0\n"
     ]
    },
    {
     "name": "stderr",
     "output_type": "stream",
     "text": [
      "100%|██████████| 98/98 [00:07<00:00, 13.17it/s]\n"
     ]
    },
    {
     "name": "stdout",
     "output_type": "stream",
     "text": [
      "6249 in total\tCR: 0.02224355896943511\n",
      "val Epoch:\t 0\tLoss val: 4.7555\tAcc val:0.0222, LR: 0.009\n",
      "Epoch len: 281.6919684410095 Estimated Remaining: 370.89442511399585 Min\n",
      "Current Epoch: 1\n",
      "Running Loss: 525712.978528738, Running Corrects: 8111.0, Running All: 123011.0\n"
     ]
    },
    {
     "name": "stderr",
     "output_type": "stream",
     "text": [
      "100%|██████████| 98/98 [00:07<00:00, 13.01it/s]\n"
     ]
    },
    {
     "name": "stdout",
     "output_type": "stream",
     "text": [
      "6249 in total\tCR: 0.17698831813090093\n",
      "val Epoch:\t 1\tLoss val: 3.4049\tAcc val:0.1770, LR: 0.009\n",
      "Epoch len: 281.46672654151917 Estimated Remaining: 365.9067445039749 Min\n",
      "Current Epoch: 2\n",
      "Running Loss: 296463.6763653755, Running Corrects: 46251.0, Running All: 123011.0\n"
     ]
    },
    {
     "name": "stderr",
     "output_type": "stream",
     "text": [
      "100%|██████████| 98/98 [00:07<00:00, 12.71it/s]\n"
     ]
    },
    {
     "name": "stdout",
     "output_type": "stream",
     "text": [
      "6249 in total\tCR: 0.5204032645223235\n",
      "val Epoch:\t 2\tLoss val: 1.7183\tAcc val:0.5204, LR: 0.008996530663083252\n",
      "Epoch len: 280.829874753952 Estimated Remaining: 360.39833926757177 Min\n",
      "Current Epoch: 3\n",
      "Running Loss: 173241.470405519, Running Corrects: 74236.0, Running All: 123011.0\n"
     ]
    },
    {
     "name": "stderr",
     "output_type": "stream",
     "text": [
      "100%|██████████| 98/98 [00:07<00:00, 12.34it/s]\n"
     ]
    },
    {
     "name": "stdout",
     "output_type": "stream",
     "text": [
      "6249 in total\tCR: 0.651624259881581\n",
      "val Epoch:\t 3\tLoss val: 1.2098\tAcc val:0.6516, LR: 0.008986128001799076\n",
      "Epoch len: 282.5556654930115 Estimated Remaining: 357.90384295781456 Min\n",
      "Current Epoch: 4\n",
      "Running Loss: 134312.05621367693, Running Corrects: 84286.0, Running All: 123011.0\n"
     ]
    },
    {
     "name": "stderr",
     "output_type": "stream",
     "text": [
      "100%|██████████| 98/98 [00:07<00:00, 12.72it/s]\n"
     ]
    },
    {
     "name": "stdout",
     "output_type": "stream",
     "text": [
      "6249 in total\tCR: 0.7113138102096336\n",
      "val Epoch:\t 4\tLoss val: 1.0107\tAcc val:0.7113, LR: 0.008968808056297168\n",
      "Epoch len: 280.471204996109 Estimated Remaining: 350.58900624513626 Min\n",
      "Current Epoch: 5\n",
      "Running Loss: 113826.04583311081, Running Corrects: 89490.0, Running All: 123011.0\n"
     ]
    },
    {
     "name": "stderr",
     "output_type": "stream",
     "text": [
      "100%|██████████| 98/98 [00:07<00:00, 12.78it/s]\n"
     ]
    },
    {
     "name": "stdout",
     "output_type": "stream",
     "text": [
      "6249 in total\tCR: 0.7225156024963995\n",
      "val Epoch:\t 5\tLoss val: 0.9451\tAcc val:0.7225, LR: 0.008944597532678119\n",
      "Epoch len: 276.7767472267151 Estimated Remaining: 341.35798824628193 Min\n",
      "Current Epoch: 6\n",
      "Running Loss: 102446.60966521502, Running Corrects: 92644.0, Running All: 123011.0\n"
     ]
    },
    {
     "name": "stderr",
     "output_type": "stream",
     "text": [
      "100%|██████████| 98/98 [00:07<00:00, 13.11it/s]\n"
     ]
    },
    {
     "name": "stdout",
     "output_type": "stream",
     "text": [
      "6249 in total\tCR: 0.7591614658345335\n",
      "val Epoch:\t 6\tLoss val: 0.8199\tAcc val:0.7592, LR: 0.008913533761814536\n",
      "Epoch len: 287.41559386253357 Estimated Remaining: 349.6889725327492 Min\n",
      "Current Epoch: 7\n",
      "Running Loss: 91621.97886043787, Running Corrects: 95700.0, Running All: 123011.0\n"
     ]
    },
    {
     "name": "stderr",
     "output_type": "stream",
     "text": [
      "100%|██████████| 98/98 [00:07<00:00, 13.17it/s]\n"
     ]
    },
    {
     "name": "stdout",
     "output_type": "stream",
     "text": [
      "6249 in total\tCR: 0.7790046407425189\n",
      "val Epoch:\t 7\tLoss val: 0.7447\tAcc val:0.7790, LR: 0.008875664641789544\n",
      "Epoch len: 268.80229806900024 Estimated Remaining: 322.5627576828003 Min\n",
      "Current Epoch: 8\n",
      "Running Loss: 84383.15615528822, Running Corrects: 97887.0, Running All: 123011.0\n"
     ]
    },
    {
     "name": "stderr",
     "output_type": "stream",
     "text": [
      "100%|██████████| 98/98 [00:07<00:00, 13.16it/s]\n"
     ]
    },
    {
     "name": "stdout",
     "output_type": "stream",
     "text": [
      "6249 in total\tCR: 0.7774043847015523\n",
      "val Epoch:\t 8\tLoss val: 0.7473\tAcc val:0.7774, LR: 0.008831048564041412\n",
      "Epoch len: 270.1063895225525 Estimated Remaining: 319.62589426835376 Min\n",
      "Current Epoch: 9\n",
      "Running Loss: 78076.17187404633, Running Corrects: 99490.0, Running All: 123011.0\n"
     ]
    },
    {
     "name": "stderr",
     "output_type": "stream",
     "text": [
      "100%|██████████| 98/98 [00:07<00:00, 13.90it/s]"
     ]
    },
    {
     "name": "stdout",
     "output_type": "stream",
     "text": [
      "6249 in total\tCR: 0.7770843334933589\n",
      "val Epoch:\t 9\tLoss val: 0.7396\tAcc val:0.7771, LR: 0.008779754323328191\n",
      "Epoch len: 256.8227837085724 Estimated Remaining: 299.62658099333447 Min\n",
      "Current Epoch: 10\n"
     ]
    },
    {
     "name": "stderr",
     "output_type": "stream",
     "text": [
      "\n"
     ]
    },
    {
     "name": "stdout",
     "output_type": "stream",
     "text": [
      "Running Loss: 72960.70509052277, Running Corrects: 100942.0, Running All: 123011.0\n"
     ]
    },
    {
     "name": "stderr",
     "output_type": "stream",
     "text": [
      "100%|██████████| 98/98 [00:06<00:00, 14.00it/s]\n"
     ]
    },
    {
     "name": "stdout",
     "output_type": "stream",
     "text": [
      "6249 in total\tCR: 0.8025284045447272\n",
      "val Epoch:\t10\tLoss val: 0.6820\tAcc val:0.8025, LR: 0.00872186101165118\n",
      "Epoch len: 263.7311816215515 Estimated Remaining: 303.29085886478424 Min\n",
      "Current Epoch: 11\n",
      "Running Loss: 68503.94611808658, Running Corrects: 102303.0, Running All: 123011.0\n"
     ]
    },
    {
     "name": "stderr",
     "output_type": "stream",
     "text": [
      "100%|██████████| 98/98 [00:07<00:00, 12.72it/s]"
     ]
    },
    {
     "name": "stdout",
     "output_type": "stream",
     "text": [
      "6249 in total\tCR: 0.8025284045447272\n",
      "val Epoch:\t11\tLoss val: 0.6628\tAcc val:0.8025, LR: 0.00865745789630079\n",
      "Epoch len: 276.59721875190735 Estimated Remaining: 313.47684791882835 Min\n",
      "Current Epoch: 12\n"
     ]
    },
    {
     "name": "stderr",
     "output_type": "stream",
     "text": [
      "\n"
     ]
    },
    {
     "name": "stdout",
     "output_type": "stream",
     "text": [
      "Running Loss: 64903.487213373184, Running Corrects: 103043.0, Running All: 123011.0\n"
     ]
    },
    {
     "name": "stderr",
     "output_type": "stream",
     "text": [
      "100%|██████████| 98/98 [00:07<00:00, 13.61it/s]\n"
     ]
    },
    {
     "name": "stdout",
     "output_type": "stream",
     "text": [
      "6249 in total\tCR: 0.8114898383741399\n",
      "val Epoch:\t12\tLoss val: 0.6322\tAcc val:0.8115, LR: 0.008586644282212865\n",
      "Epoch len: 278.1631610393524 Estimated Remaining: 310.6155298272769 Min\n",
      "Current Epoch: 13\n",
      "Running Loss: 61325.39459514618, Running Corrects: 104277.0, Running All: 123011.0\n"
     ]
    },
    {
     "name": "stderr",
     "output_type": "stream",
     "text": [
      "100%|██████████| 98/98 [00:07<00:00, 13.36it/s]\n"
     ]
    },
    {
     "name": "stdout",
     "output_type": "stream",
     "text": [
      "6249 in total\tCR: 0.8092494799167866\n",
      "val Epoch:\t13\tLoss val: 0.6315\tAcc val:0.8092, LR: 0.008509529358847655\n",
      "Epoch len: 269.76401710510254 Estimated Remaining: 296.74041881561277 Min\n",
      "Current Epoch: 14\n",
      "Running Loss: 58700.43696808815, Running Corrects: 104966.0, Running All: 123011.0\n"
     ]
    },
    {
     "name": "stderr",
     "output_type": "stream",
     "text": [
      "100%|██████████| 98/98 [00:07<00:00, 13.21it/s]\n"
     ]
    },
    {
     "name": "stdout",
     "output_type": "stream",
     "text": [
      "6249 in total\tCR: 0.8130900944151064\n",
      "val Epoch:\t14\tLoss val: 0.6244\tAcc val:0.8131, LR: 0.008426232031827586\n",
      "Epoch len: 279.35884499549866 Estimated Remaining: 302.63874874512356 Min\n",
      "Current Epoch: 15\n",
      "Running Loss: 55294.7411827147, Running Corrects: 105917.0, Running All: 123011.0\n"
     ]
    },
    {
     "name": "stderr",
     "output_type": "stream",
     "text": [
      "100%|██████████| 98/98 [00:07<00:00, 13.21it/s]\n"
     ]
    },
    {
     "name": "stdout",
     "output_type": "stream",
     "text": [
      "6249 in total\tCR: 0.823491758681389\n",
      "val Epoch:\t15\tLoss val: 0.5892\tAcc val:0.8235, LR: 0.008336880739593414\n",
      "Epoch len: 274.56243681907654 Estimated Remaining: 292.86659927368163 Min\n",
      "Current Epoch: 16\n",
      "Running Loss: 52304.302016973495, Running Corrects: 106770.0, Running All: 123011.0\n"
     ]
    },
    {
     "name": "stderr",
     "output_type": "stream",
     "text": [
      "100%|██████████| 98/98 [00:07<00:00, 13.43it/s]\n"
     ]
    },
    {
     "name": "stdout",
     "output_type": "stream",
     "text": [
      "6249 in total\tCR: 0.8292526804288686\n",
      "val Epoch:\t16\tLoss val: 0.5822\tAcc val:0.8293, LR: 0.008241613255361454\n",
      "Epoch len: 273.7875106334686 Estimated Remaining: 287.47688616514205 Min\n",
      "Current Epoch: 17\n",
      "Running Loss: 49742.96682065725, Running Corrects: 107450.0, Running All: 123011.0\n"
     ]
    },
    {
     "name": "stderr",
     "output_type": "stream",
     "text": [
      "100%|██████████| 98/98 [00:07<00:00, 13.36it/s]\n"
     ]
    },
    {
     "name": "stdout",
     "output_type": "stream",
     "text": [
      "6249 in total\tCR: 0.8271723475756121\n",
      "val Epoch:\t17\tLoss val: 0.5858\tAcc val:0.8272, LR: 0.008140576474687264\n",
      "Epoch len: 270.13680243492126 Estimated Remaining: 279.1413625160853 Min\n",
      "Current Epoch: 18\n",
      "Running Loss: 47571.29027616978, Running Corrects: 108188.0, Running All: 123011.0\n"
     ]
    },
    {
     "name": "stderr",
     "output_type": "stream",
     "text": [
      "100%|██████████| 98/98 [00:07<00:00, 13.41it/s]\n"
     ]
    },
    {
     "name": "stdout",
     "output_type": "stream",
     "text": [
      "6249 in total\tCR: 0.8412546007361178\n",
      "val Epoch:\t18\tLoss val: 0.5461\tAcc val:0.8413, LR: 0.00803392618896335\n",
      "Epoch len: 280.6137738227844 Estimated Remaining: 285.29067005316415 Min\n",
      "Current Epoch: 19\n",
      "Running Loss: 45127.74153192341, Running Corrects: 108866.0, Running All: 123011.0\n"
     ]
    },
    {
     "name": "stderr",
     "output_type": "stream",
     "text": [
      "100%|██████████| 98/98 [00:06<00:00, 14.25it/s]\n"
     ]
    },
    {
     "name": "stdout",
     "output_type": "stream",
     "text": [
      "6249 in total\tCR: 0.8314930388862218\n",
      "val Epoch:\t19\tLoss val: 0.5788\tAcc val:0.8315, LR: 0.007921826845200139\n",
      "Epoch len: 265.3035640716553 Estimated Remaining: 265.3035640716553 Min\n",
      "Current Epoch: 20\n",
      "Running Loss: 42934.037435516715, Running Corrects: 109609.0, Running All: 123011.0\n"
     ]
    },
    {
     "name": "stderr",
     "output_type": "stream",
     "text": [
      "100%|██████████| 98/98 [00:07<00:00, 13.07it/s]\n"
     ]
    },
    {
     "name": "stdout",
     "output_type": "stream",
     "text": [
      "6249 in total\tCR: 0.8398143702992479\n",
      "val Epoch:\t20\tLoss val: 0.5536\tAcc val:0.8398, LR: 0.007804451292460585\n",
      "Epoch len: 265.2267577648163 Estimated Remaining: 260.80631180206933 Min\n",
      "Current Epoch: 21\n",
      "Running Loss: 40477.149931907654, Running Corrects: 110135.0, Running All: 123011.0\n"
     ]
    },
    {
     "name": "stderr",
     "output_type": "stream",
     "text": [
      "100%|██████████| 98/98 [00:07<00:00, 13.73it/s]"
     ]
    },
    {
     "name": "stdout",
     "output_type": "stream",
     "text": [
      "6249 in total\tCR: 0.8327732437189951\n",
      "val Epoch:\t21\tLoss val: 0.5809\tAcc val:0.8328, LR: 0.007681980515339463\n",
      "Epoch len: 271.6599762439728 Estimated Remaining: 262.604643702507 Min\n",
      "Current Epoch: 22\n"
     ]
    },
    {
     "name": "stderr",
     "output_type": "stream",
     "text": [
      "\n"
     ]
    },
    {
     "name": "stdout",
     "output_type": "stream",
     "text": [
      "Running Loss: 39686.757212638855, Running Corrects: 110372.0, Running All: 123011.0\n"
     ]
    },
    {
     "name": "stderr",
     "output_type": "stream",
     "text": [
      "100%|██████████| 98/98 [00:07<00:00, 13.46it/s]"
     ]
    },
    {
     "name": "stdout",
     "output_type": "stream",
     "text": [
      "6249 in total\tCR: 0.833733397343575\n",
      "val Epoch:\t22\tLoss val: 0.5855\tAcc val:0.8337, LR: 0.0075546033548982375\n",
      "Epoch len: 268.27535796165466 Estimated Remaining: 254.86159006357192 Min\n",
      "Current Epoch: 23\n"
     ]
    },
    {
     "name": "stderr",
     "output_type": "stream",
     "text": [
      "\n"
     ]
    },
    {
     "name": "stdout",
     "output_type": "stream",
     "text": [
      "Running Loss: 37775.98916038871, Running Corrects: 111081.0, Running All: 123011.0\n"
     ]
    },
    {
     "name": "stderr",
     "output_type": "stream",
     "text": [
      "100%|██████████| 98/98 [00:08<00:00, 12.12it/s]"
     ]
    },
    {
     "name": "stdout",
     "output_type": "stream",
     "text": [
      "6249 in total\tCR: 0.8401344215074412\n",
      "val Epoch:\t23\tLoss val: 0.5549\tAcc val:0.8401, LR: 0.007422516217485827\n",
      "Epoch len: 273.6999170780182 Estimated Remaining: 255.45325593948365 Min\n",
      "Current Epoch: 24\n"
     ]
    },
    {
     "name": "stderr",
     "output_type": "stream",
     "text": [
      "\n"
     ]
    },
    {
     "name": "stdout",
     "output_type": "stream",
     "text": [
      "Running Loss: 35360.824031710625, Running Corrects: 111763.0, Running All: 123011.0\n"
     ]
    },
    {
     "name": "stderr",
     "output_type": "stream",
     "text": [
      "100%|██████████| 98/98 [00:07<00:00, 13.04it/s]\n"
     ]
    },
    {
     "name": "stdout",
     "output_type": "stream",
     "text": [
      "6249 in total\tCR: 0.842534805568891\n",
      "val Epoch:\t24\tLoss val: 0.5467\tAcc val:0.8425, LR: 0.007285922771894253\n",
      "Epoch len: 275.78787565231323 Estimated Remaining: 252.80555268128714 Min\n",
      "Current Epoch: 25\n",
      "Running Loss: 33453.00433111191, Running Corrects: 112369.0, Running All: 123011.0\n"
     ]
    },
    {
     "name": "stderr",
     "output_type": "stream",
     "text": [
      "100%|██████████| 98/98 [00:07<00:00, 13.05it/s]\n"
     ]
    },
    {
     "name": "stdout",
     "output_type": "stream",
     "text": [
      "6249 in total\tCR: 0.8426948311729877\n",
      "val Epoch:\t25\tLoss val: 0.5650\tAcc val:0.8427, LR: 0.007145033635316129\n",
      "Epoch len: 276.24097967147827 Estimated Remaining: 248.61688170433044 Min\n",
      "Current Epoch: 26\n",
      "Running Loss: 32626.891296714544, Running Corrects: 112617.0, Running All: 123011.0\n"
     ]
    },
    {
     "name": "stderr",
     "output_type": "stream",
     "text": [
      "100%|██████████| 98/98 [00:07<00:00, 13.07it/s]\n"
     ]
    },
    {
     "name": "stdout",
     "output_type": "stream",
     "text": [
      "6249 in total\tCR: 0.846695471275404\n",
      "val Epoch:\t26\tLoss val: 0.5371\tAcc val:0.8467, LR: 0.007000066048588209\n",
      "Epoch len: 277.5399205684662 Estimated Remaining: 245.1602631688118 Min\n",
      "Current Epoch: 27\n",
      "Running Loss: 30037.948513929732, Running Corrects: 113391.0, Running All: 123011.0\n"
     ]
    },
    {
     "name": "stderr",
     "output_type": "stream",
     "text": [
      "100%|██████████| 98/98 [00:07<00:00, 12.98it/s]\n"
     ]
    },
    {
     "name": "stdout",
     "output_type": "stream",
     "text": [
      "6249 in total\tCR: 0.8401344215074412\n",
      "val Epoch:\t27\tLoss val: 0.5559\tAcc val:0.8401, LR: 0.006851243541221769\n",
      "Epoch len: 286.45432710647583 Estimated Remaining: 248.2604168256124 Min\n",
      "Current Epoch: 28\n",
      "Running Loss: 29012.7230322659, Running Corrects: 113718.0, Running All: 123011.0\n"
     ]
    },
    {
     "name": "stderr",
     "output_type": "stream",
     "text": [
      "100%|██████████| 98/98 [00:07<00:00, 13.19it/s]\n"
     ]
    },
    {
     "name": "stdout",
     "output_type": "stream",
     "text": [
      "6249 in total\tCR: 0.8463754200672108\n",
      "val Epoch:\t28\tLoss val: 0.5510\tAcc val:0.8464, LR: 0.006698795586736297\n",
      "Epoch len: 279.1013207435608 Estimated Remaining: 237.23612263202668 Min\n",
      "Current Epoch: 29\n",
      "Running Loss: 27913.793007016182, Running Corrects: 114070.0, Running All: 123011.0\n"
     ]
    },
    {
     "name": "stderr",
     "output_type": "stream",
     "text": [
      "100%|██████████| 98/98 [00:07<00:00, 13.13it/s]\n"
     ]
    },
    {
     "name": "stdout",
     "output_type": "stream",
     "text": [
      "6249 in total\tCR: 0.8442950872139542\n",
      "val Epoch:\t29\tLoss val: 0.5541\tAcc val:0.8443, LR: 0.00654295724882796\n",
      "Epoch len: 270.4801254272461 Estimated Remaining: 225.40010452270508 Min\n",
      "Current Epoch: 30\n",
      "Running Loss: 25999.195100851357, Running Corrects: 114640.0, Running All: 123011.0\n"
     ]
    },
    {
     "name": "stderr",
     "output_type": "stream",
     "text": [
      "100%|██████████| 98/98 [00:07<00:00, 13.56it/s]\n"
     ]
    },
    {
     "name": "stdout",
     "output_type": "stream",
     "text": [
      "6249 in total\tCR: 0.843494959193471\n",
      "val Epoch:\t30\tLoss val: 0.5759\tAcc val:0.8435, LR: 0.006383968818918426\n",
      "Epoch len: 274.09507513046265 Estimated Remaining: 223.8443113565445 Min\n",
      "Current Epoch: 31\n",
      "Running Loss: 24806.8826026842, Running Corrects: 115049.0, Running All: 123011.0\n"
     ]
    },
    {
     "name": "stderr",
     "output_type": "stream",
     "text": [
      "100%|██████████| 98/98 [00:07<00:00, 13.81it/s]\n"
     ]
    },
    {
     "name": "stdout",
     "output_type": "stream",
     "text": [
      "6249 in total\tCR: 0.8482957273163706\n",
      "val Epoch:\t31\tLoss val: 0.5549\tAcc val:0.8483, LR: 0.006222075445642904\n",
      "Epoch len: 276.32480096817017 Estimated Remaining: 221.05984077453613 Min\n",
      "Current Epoch: 32\n",
      "Running Loss: 23386.90531873703, Running Corrects: 115508.0, Running All: 123011.0\n"
     ]
    },
    {
     "name": "stderr",
     "output_type": "stream",
     "text": [
      "100%|██████████| 98/98 [00:07<00:00, 13.32it/s]\n"
     ]
    },
    {
     "name": "stdout",
     "output_type": "stream",
     "text": [
      "6249 in total\tCR: 0.8454152664426309\n",
      "val Epoch:\t32\tLoss val: 0.5585\tAcc val:0.8454, LR: 0.006057526756848718\n",
      "Epoch len: 271.6062617301941 Estimated Remaining: 212.7582383553187 Min\n",
      "Current Epoch: 33\n",
      "Running Loss: 23555.476147264242, Running Corrects: 115342.0, Running All: 123011.0\n"
     ]
    },
    {
     "name": "stderr",
     "output_type": "stream",
     "text": [
      "100%|██████████| 98/98 [00:07<00:00, 13.18it/s]\n"
     ]
    },
    {
     "name": "stdout",
     "output_type": "stream",
     "text": [
      "6249 in total\tCR: 0.847655624899984\n",
      "val Epoch:\t33\tLoss val: 0.5631\tAcc val:0.8477, LR: 0.005890576474687263\n",
      "Epoch len: 278.1077609062195 Estimated Remaining: 213.21595002810162 Min\n",
      "Current Epoch: 34\n"
     ]
    },
    {
     "ename": "KeyboardInterrupt",
     "evalue": "",
     "output_type": "error",
     "traceback": [
      "\u001B[0;31m---------------------------------------------------------------------------\u001B[0m",
      "\u001B[0;31mKeyboardInterrupt\u001B[0m                         Traceback (most recent call last)",
      "Input \u001B[0;32mIn [6]\u001B[0m, in \u001B[0;36m<cell line: 1>\u001B[0;34m()\u001B[0m\n\u001B[0;32m----> 1\u001B[0m train_model \u001B[38;5;241m=\u001B[39m \u001B[43mFullTrainer\u001B[49m\u001B[43m(\u001B[49m\u001B[43mmodel\u001B[49m\u001B[43m,\u001B[49m\u001B[43m \u001B[49m\u001B[43mdatasets\u001B[49m\u001B[43m,\u001B[49m\u001B[43m \u001B[49m\u001B[43mcriterion\u001B[49m\u001B[38;5;241;43m=\u001B[39;49m\u001B[43mnn\u001B[49m\u001B[38;5;241;43m.\u001B[39;49m\u001B[43mCrossEntropyLoss\u001B[49m\u001B[43m(\u001B[49m\u001B[43m)\u001B[49m\u001B[43m,\u001B[49m\u001B[43m \u001B[49m\u001B[43mepochs\u001B[49m\u001B[38;5;241;43m=\u001B[39;49m\u001B[38;5;241;43m80\u001B[39;49m\u001B[43m,\u001B[49m\u001B[43m \u001B[49m\u001B[43msave_dir\u001B[49m\u001B[38;5;241;43m=\u001B[39;49m\u001B[43msave_direc\u001B[49m\u001B[43m,\u001B[49m\u001B[43m \u001B[49m\u001B[43mlr\u001B[49m\u001B[38;5;241;43m=\u001B[39;49m\u001B[38;5;241;43m0.009\u001B[39;49m\u001B[43m)\u001B[49m\n",
      "File \u001B[0;32m~/PycharmProjects/Capstone/Model_training_blocks.py:117\u001B[0m, in \u001B[0;36mFullTrainer.__init__\u001B[0;34m(self, model, dataloader, epochs, criterion, save_dir, state_path, model_weights_only, lr, optim)\u001B[0m\n\u001B[1;32m    114\u001B[0m \u001B[38;5;28;01mif\u001B[39;00m state_path \u001B[38;5;129;01mis\u001B[39;00m \u001B[38;5;129;01mnot\u001B[39;00m \u001B[38;5;28;01mNone\u001B[39;00m:\n\u001B[1;32m    115\u001B[0m     \u001B[38;5;28mself\u001B[39m\u001B[38;5;241m.\u001B[39mload_checkpoint()\n\u001B[0;32m--> 117\u001B[0m \u001B[38;5;28mself\u001B[39m\u001B[38;5;241m.\u001B[39minitialize_training()\n\u001B[1;32m    119\u001B[0m \u001B[38;5;28mself\u001B[39m\u001B[38;5;241m.\u001B[39meval_best_performance()\n",
      "File \u001B[0;32m~/PycharmProjects/Capstone/Model_training_blocks.py:171\u001B[0m, in \u001B[0;36minitialize_training\u001B[0;34m(self)\u001B[0m\n\u001B[1;32m    168\u001B[0m acc_avg_val, loss_avg_val \u001B[38;5;241m=\u001B[39m evaluate(\u001B[38;5;28mself\u001B[39m\u001B[38;5;241m.\u001B[39mmodel, \u001B[38;5;28mself\u001B[39m\u001B[38;5;241m.\u001B[39mdataset[\u001B[38;5;124m'\u001B[39m\u001B[38;5;124mval\u001B[39m\u001B[38;5;124m'\u001B[39m], \u001B[38;5;28mself\u001B[39m\u001B[38;5;241m.\u001B[39mcriterion)\n\u001B[1;32m    169\u001B[0m \u001B[38;5;28mprint\u001B[39m(\u001B[38;5;124m'\u001B[39m\u001B[38;5;132;01m{}\u001B[39;00m\u001B[38;5;124m Epoch:\u001B[39m\u001B[38;5;130;01m\\t\u001B[39;00m\u001B[38;5;132;01m{:2}\u001B[39;00m\u001B[38;5;130;01m\\t\u001B[39;00m\u001B[38;5;124mLoss val: \u001B[39m\u001B[38;5;132;01m{:.4f}\u001B[39;00m\u001B[38;5;130;01m\\t\u001B[39;00m\u001B[38;5;124mAcc val:\u001B[39m\u001B[38;5;132;01m{:.4f}\u001B[39;00m\u001B[38;5;124m, LR: \u001B[39m\u001B[38;5;132;01m{}\u001B[39;00m\u001B[38;5;124m'\u001B[39m\u001B[38;5;241m.\u001B[39mformat(\u001B[38;5;124m'\u001B[39m\u001B[38;5;124mval\u001B[39m\u001B[38;5;124m'\u001B[39m, \u001B[38;5;28mself\u001B[39m\u001B[38;5;241m.\u001B[39mepoch, loss_avg_val,\n\u001B[1;32m    170\u001B[0m                                                                         acc_avg_val, showLR(\u001B[38;5;28mself\u001B[39m\u001B[38;5;241m.\u001B[39moptimizer)))\n\u001B[0;32m--> 171\u001B[0m save_dict \u001B[38;5;241m=\u001B[39m {\n\u001B[1;32m    172\u001B[0m     \u001B[38;5;124m'\u001B[39m\u001B[38;5;124mepoch_idx\u001B[39m\u001B[38;5;124m'\u001B[39m: \u001B[38;5;28mself\u001B[39m\u001B[38;5;241m.\u001B[39mepoch \u001B[38;5;241m+\u001B[39m \u001B[38;5;241m1\u001B[39m,\n\u001B[1;32m    173\u001B[0m     \u001B[38;5;124m'\u001B[39m\u001B[38;5;124mmodel_state_dict\u001B[39m\u001B[38;5;124m'\u001B[39m: \u001B[38;5;28mself\u001B[39m\u001B[38;5;241m.\u001B[39mmodel\u001B[38;5;241m.\u001B[39mstate_dict(),\n\u001B[1;32m    174\u001B[0m     \u001B[38;5;124m'\u001B[39m\u001B[38;5;124moptimizer_state_dict\u001B[39m\u001B[38;5;124m'\u001B[39m: \u001B[38;5;28mself\u001B[39m\u001B[38;5;241m.\u001B[39moptimizer\u001B[38;5;241m.\u001B[39mstate_dict()\n\u001B[1;32m    175\u001B[0m     }\n\u001B[1;32m    176\u001B[0m \u001B[38;5;28mself\u001B[39m\u001B[38;5;241m.\u001B[39msave_checkpoint(save_dict, acc_avg_val)\n\u001B[1;32m    177\u001B[0m \u001B[38;5;28mself\u001B[39m\u001B[38;5;241m.\u001B[39mscheduler\u001B[38;5;241m.\u001B[39madjust_lr(\u001B[38;5;28mself\u001B[39m\u001B[38;5;241m.\u001B[39moptimizer, \u001B[38;5;28mself\u001B[39m\u001B[38;5;241m.\u001B[39mepoch)\n",
      "File \u001B[0;32m~/PycharmProjects/Capstone/Model_training_blocks.py:57\u001B[0m, in \u001B[0;36mtrain_loop\u001B[0;34m(model, dataloader, criterion, epoch, optimizer, mixup)\u001B[0m\n\u001B[1;32m     55\u001B[0m \u001B[38;5;66;03m# -- compute running performance\u001B[39;00m\n\u001B[1;32m     56\u001B[0m _, predicted \u001B[38;5;241m=\u001B[39m torch\u001B[38;5;241m.\u001B[39mmax(F\u001B[38;5;241m.\u001B[39msoftmax(logits, dim\u001B[38;5;241m=\u001B[39m\u001B[38;5;241m1\u001B[39m)\u001B[38;5;241m.\u001B[39mdata, dim\u001B[38;5;241m=\u001B[39m\u001B[38;5;241m1\u001B[39m)\n\u001B[0;32m---> 57\u001B[0m running_loss \u001B[38;5;241m+\u001B[39m\u001B[38;5;241m=\u001B[39m \u001B[43mloss\u001B[49m\u001B[38;5;241;43m.\u001B[39;49m\u001B[43mitem\u001B[49m\u001B[43m(\u001B[49m\u001B[43m)\u001B[49m\u001B[38;5;241m*\u001B[39m\u001B[38;5;28minput\u001B[39m\u001B[38;5;241m.\u001B[39msize(\u001B[38;5;241m0\u001B[39m)\n\u001B[1;32m     59\u001B[0m \u001B[38;5;28;01mif\u001B[39;00m mixup:\n\u001B[1;32m     60\u001B[0m     running_corrects \u001B[38;5;241m+\u001B[39m\u001B[38;5;241m=\u001B[39m lam \u001B[38;5;241m*\u001B[39m predicted\u001B[38;5;241m.\u001B[39meq(labels_a\u001B[38;5;241m.\u001B[39mview_as(predicted))\u001B[38;5;241m.\u001B[39msum()\u001B[38;5;241m.\u001B[39mitem() \u001B[38;5;241m+\u001B[39m (\u001B[38;5;241m1\u001B[39m \u001B[38;5;241m-\u001B[39m lam) \u001B[38;5;241m*\u001B[39m predicted\u001B[38;5;241m.\u001B[39meq(labels_b\u001B[38;5;241m.\u001B[39mview_as(predicted))\u001B[38;5;241m.\u001B[39msum()\u001B[38;5;241m.\u001B[39mitem()\n",
      "\u001B[0;31mKeyboardInterrupt\u001B[0m: "
     ]
    }
   ],
   "source": [
    "train_model = FullTrainer(model, datasets, criterion=nn.CrossEntropyLoss(), epochs=80, save_dir=save_direc, lr=0.009)"
   ],
   "metadata": {
    "collapsed": false,
    "pycharm": {
     "name": "#%%\n"
    }
   }
  },
  {
   "cell_type": "code",
   "execution_count": 8,
   "outputs": [
    {
     "name": "stdout",
     "output_type": "stream",
     "text": [
      "Current Epoch: 34\n",
      "Running Loss: 14646.712772846222, Running Corrects: 118628.0, Running All: 123011.0\n"
     ]
    },
    {
     "name": "stderr",
     "output_type": "stream",
     "text": [
      "100%|██████████| 98/98 [00:07<00:00, 12.99it/s]\n"
     ]
    },
    {
     "name": "stdout",
     "output_type": "stream",
     "text": [
      "6249 in total\tCR: 0.8617378780604896\n",
      "val Epoch:\t34\tLoss val: 0.5022\tAcc val:0.8617, LR: 0.0005721482024392834\n",
      "Epoch len: 270.1303927898407 Estimated Remaining: 202.59779459238052 Min\n",
      "Current Epoch: 35\n",
      "Running Loss: 12447.929412841797, Running Corrects: 119392.0, Running All: 123011.0\n"
     ]
    },
    {
     "name": "stderr",
     "output_type": "stream",
     "text": [
      "100%|██████████| 98/98 [00:07<00:00, 13.19it/s]\n"
     ]
    },
    {
     "name": "stdout",
     "output_type": "stream",
     "text": [
      "6249 in total\tCR: 0.8654184669547128\n",
      "val Epoch:\t35\tLoss val: 0.5024\tAcc val:0.8654, LR: 0.0005550504137351574\n",
      "Epoch len: 272.7641317844391 Estimated Remaining: 200.02702997525532 Min\n",
      "Current Epoch: 36\n",
      "Running Loss: 11533.163301706314, Running Corrects: 119721.0, Running All: 123011.0\n"
     ]
    },
    {
     "name": "stderr",
     "output_type": "stream",
     "text": [
      "100%|██████████| 98/98 [00:07<00:00, 13.31it/s]\n"
     ]
    },
    {
     "name": "stdout",
     "output_type": "stream",
     "text": [
      "6249 in total\tCR: 0.8628580572891663\n",
      "val Epoch:\t36\tLoss val: 0.5057\tAcc val:0.8629, LR: 0.0005377906449072578\n",
      "Epoch len: 269.5961027145386 Estimated Remaining: 193.21054027875263 Min\n",
      "Current Epoch: 37\n",
      "Running Loss: 10828.250564964488, Running Corrects: 119953.0, Running All: 123011.0\n"
     ]
    },
    {
     "name": "stderr",
     "output_type": "stream",
     "text": [
      "100%|██████████| 98/98 [00:07<00:00, 13.10it/s]\n"
     ]
    },
    {
     "name": "stdout",
     "output_type": "stream",
     "text": [
      "6249 in total\tCR: 0.8642982877260361\n",
      "val Epoch:\t37\tLoss val: 0.5031\tAcc val:0.8643, LR: 0.0005203955092681039\n",
      "Epoch len: 266.93505239486694 Estimated Remaining: 186.85453667640687 Min\n",
      "Current Epoch: 38\n"
     ]
    },
    {
     "name": "stderr",
     "output_type": "stream",
     "text": [
      "Exception in thread Thread-15 (_pin_memory_loop):\n",
      "Traceback (most recent call last):\n",
      "  File \"/home/taylorpap/anaconda3/envs/projectenv/lib/python3.10/threading.py\", line 1009, in _bootstrap_inner\n",
      "    self.run()\n",
      "  File \"/home/taylorpap/anaconda3/envs/projectenv/lib/python3.10/threading.py\", line 946, in run\n",
      "    self._target(*self._args, **self._kwargs)\n",
      "  File \"/home/taylorpap/anaconda3/envs/projectenv/lib/python3.10/site-packages/torch/utils/data/_utils/pin_memory.py\", line 49, in _pin_memory_loop\n",
      "    do_one_step()\n",
      "  File \"/home/taylorpap/anaconda3/envs/projectenv/lib/python3.10/site-packages/torch/utils/data/_utils/pin_memory.py\", line 26, in do_one_step\n",
      "    r = in_queue.get(timeout=MP_STATUS_CHECK_INTERVAL)\n",
      "  File \"/home/taylorpap/anaconda3/envs/projectenv/lib/python3.10/multiprocessing/queues.py\", line 122, in get\n",
      "    return _ForkingPickler.loads(res)\n",
      "  File \"/home/taylorpap/anaconda3/envs/projectenv/lib/python3.10/site-packages/torch/multiprocessing/reductions.py\", line 305, in rebuild_storage_fd\n",
      "    fd = df.detach()\n",
      "  File \"/home/taylorpap/anaconda3/envs/projectenv/lib/python3.10/multiprocessing/resource_sharer.py\", line 57, in detach\n",
      "    with _resource_sharer.get_connection(self._id) as conn:\n",
      "  File \"/home/taylorpap/anaconda3/envs/projectenv/lib/python3.10/multiprocessing/resource_sharer.py\", line 86, in get_connection\n",
      "    c = Client(address, authkey=process.current_process().authkey)\n",
      "  File \"/home/taylorpap/anaconda3/envs/projectenv/lib/python3.10/multiprocessing/connection.py\", line 513, in Client\n",
      "    answer_challenge(c, authkey)\n",
      "  File \"/home/taylorpap/anaconda3/envs/projectenv/lib/python3.10/multiprocessing/connection.py\", line 757, in answer_challenge\n",
      "    message = connection.recv_bytes(256)         # reject large message\n",
      "  File \"/home/taylorpap/anaconda3/envs/projectenv/lib/python3.10/multiprocessing/connection.py\", line 221, in recv_bytes\n",
      "    buf = self._recv_bytes(maxlength)\n",
      "  File \"/home/taylorpap/anaconda3/envs/projectenv/lib/python3.10/multiprocessing/connection.py\", line 419, in _recv_bytes\n",
      "    buf = self._recv(4)\n",
      "  File \"/home/taylorpap/anaconda3/envs/projectenv/lib/python3.10/multiprocessing/connection.py\", line 388, in _recv\n",
      "    raise EOFError\n",
      "EOFError\n"
     ]
    },
    {
     "ename": "KeyboardInterrupt",
     "evalue": "",
     "output_type": "error",
     "traceback": [
      "\u001B[0;31m---------------------------------------------------------------------------\u001B[0m",
      "\u001B[0;31mKeyboardInterrupt\u001B[0m                         Traceback (most recent call last)",
      "Input \u001B[0;32mIn [8]\u001B[0m, in \u001B[0;36m<cell line: 2>\u001B[0;34m()\u001B[0m\n\u001B[1;32m      1\u001B[0m \u001B[38;5;66;03m#Stopped Early to decrease learning rate, loading from checkpoint\u001B[39;00m\n\u001B[0;32m----> 2\u001B[0m train_model \u001B[38;5;241m=\u001B[39m \u001B[43mFullTrainer\u001B[49m\u001B[43m(\u001B[49m\u001B[43mmodel\u001B[49m\u001B[43m,\u001B[49m\u001B[43m \u001B[49m\u001B[43mdatasets\u001B[49m\u001B[43m,\u001B[49m\u001B[43m \u001B[49m\u001B[43mcriterion\u001B[49m\u001B[38;5;241;43m=\u001B[39;49m\u001B[43mnn\u001B[49m\u001B[38;5;241;43m.\u001B[39;49m\u001B[43mCrossEntropyLoss\u001B[49m\u001B[43m(\u001B[49m\u001B[43m)\u001B[49m\u001B[38;5;241;43m.\u001B[39;49m\u001B[43mcuda\u001B[49m\u001B[43m(\u001B[49m\u001B[43m)\u001B[49m\u001B[43m,\u001B[49m\u001B[43m \u001B[49m\u001B[43mepochs\u001B[49m\u001B[38;5;241;43m=\u001B[39;49m\u001B[38;5;241;43m80\u001B[39;49m\u001B[43m,\u001B[49m\u001B[43m \u001B[49m\u001B[43msave_dir\u001B[49m\u001B[38;5;241;43m=\u001B[39;49m\u001B[43msave_direc\u001B[49m\u001B[43m,\u001B[49m\u001B[43m \u001B[49m\u001B[43mstate_path\u001B[49m\u001B[38;5;241;43m=\u001B[39;49m\u001B[43mcheckpoint_path\u001B[49m\u001B[43m,\u001B[49m\u001B[43m \u001B[49m\u001B[43mlr\u001B[49m\u001B[38;5;241;43m=\u001B[39;49m\u001B[38;5;241;43m0.0009\u001B[39;49m\u001B[43m)\u001B[49m\n",
      "File \u001B[0;32m~/PycharmProjects/Capstone/Model_training_blocks.py:117\u001B[0m, in \u001B[0;36mFullTrainer.__init__\u001B[0;34m(self, model, dataloader, epochs, criterion, save_dir, state_path, model_weights_only, lr, optim)\u001B[0m\n\u001B[1;32m    114\u001B[0m \u001B[38;5;28;01mif\u001B[39;00m state_path \u001B[38;5;129;01mis\u001B[39;00m \u001B[38;5;129;01mnot\u001B[39;00m \u001B[38;5;28;01mNone\u001B[39;00m:\n\u001B[1;32m    115\u001B[0m     \u001B[38;5;28mself\u001B[39m\u001B[38;5;241m.\u001B[39mload_checkpoint(optim)\n\u001B[0;32m--> 117\u001B[0m \u001B[38;5;28;43mself\u001B[39;49m\u001B[38;5;241;43m.\u001B[39;49m\u001B[43minitialize_training\u001B[49m\u001B[43m(\u001B[49m\u001B[43m)\u001B[49m\n\u001B[1;32m    119\u001B[0m \u001B[38;5;28mself\u001B[39m\u001B[38;5;241m.\u001B[39meval_best_performance()\n",
      "File \u001B[0;32m~/PycharmProjects/Capstone/Model_training_blocks.py:167\u001B[0m, in \u001B[0;36mFullTrainer.initialize_training\u001B[0;34m(self)\u001B[0m\n\u001B[1;32m    165\u001B[0m \u001B[38;5;28;01mwhile\u001B[39;00m \u001B[38;5;28mself\u001B[39m\u001B[38;5;241m.\u001B[39mepoch \u001B[38;5;241m<\u001B[39m \u001B[38;5;28mself\u001B[39m\u001B[38;5;241m.\u001B[39mepochs:\n\u001B[1;32m    166\u001B[0m     start_epoch \u001B[38;5;241m=\u001B[39m time\u001B[38;5;241m.\u001B[39mtime()\n\u001B[0;32m--> 167\u001B[0m     \u001B[38;5;28mself\u001B[39m\u001B[38;5;241m.\u001B[39mmodel \u001B[38;5;241m=\u001B[39m \u001B[43mtrain_loop\u001B[49m\u001B[43m(\u001B[49m\u001B[38;5;28;43mself\u001B[39;49m\u001B[38;5;241;43m.\u001B[39;49m\u001B[43mmodel\u001B[49m\u001B[43m,\u001B[49m\u001B[43m \u001B[49m\u001B[38;5;28;43mself\u001B[39;49m\u001B[38;5;241;43m.\u001B[39;49m\u001B[43mdataset\u001B[49m\u001B[43m[\u001B[49m\u001B[38;5;124;43m'\u001B[39;49m\u001B[38;5;124;43mtrain\u001B[39;49m\u001B[38;5;124;43m'\u001B[39;49m\u001B[43m]\u001B[49m\u001B[43m,\u001B[49m\u001B[43m \u001B[49m\u001B[38;5;28;43mself\u001B[39;49m\u001B[38;5;241;43m.\u001B[39;49m\u001B[43mcriterion\u001B[49m\u001B[43m,\u001B[49m\u001B[43m \u001B[49m\u001B[38;5;28;43mself\u001B[39;49m\u001B[38;5;241;43m.\u001B[39;49m\u001B[43mepoch\u001B[49m\u001B[43m,\u001B[49m\u001B[43m \u001B[49m\u001B[38;5;28;43mself\u001B[39;49m\u001B[38;5;241;43m.\u001B[39;49m\u001B[43moptimizer\u001B[49m\u001B[43m)\u001B[49m\n\u001B[1;32m    168\u001B[0m     acc_avg_val, loss_avg_val \u001B[38;5;241m=\u001B[39m evaluate(\u001B[38;5;28mself\u001B[39m\u001B[38;5;241m.\u001B[39mmodel, \u001B[38;5;28mself\u001B[39m\u001B[38;5;241m.\u001B[39mdataset[\u001B[38;5;124m'\u001B[39m\u001B[38;5;124mval\u001B[39m\u001B[38;5;124m'\u001B[39m], \u001B[38;5;28mself\u001B[39m\u001B[38;5;241m.\u001B[39mcriterion)\n\u001B[1;32m    169\u001B[0m     \u001B[38;5;28mprint\u001B[39m(\u001B[38;5;124m'\u001B[39m\u001B[38;5;132;01m{}\u001B[39;00m\u001B[38;5;124m Epoch:\u001B[39m\u001B[38;5;130;01m\\t\u001B[39;00m\u001B[38;5;132;01m{:2}\u001B[39;00m\u001B[38;5;130;01m\\t\u001B[39;00m\u001B[38;5;124mLoss val: \u001B[39m\u001B[38;5;132;01m{:.4f}\u001B[39;00m\u001B[38;5;130;01m\\t\u001B[39;00m\u001B[38;5;124mAcc val:\u001B[39m\u001B[38;5;132;01m{:.4f}\u001B[39;00m\u001B[38;5;124m, LR: \u001B[39m\u001B[38;5;132;01m{}\u001B[39;00m\u001B[38;5;124m'\u001B[39m\u001B[38;5;241m.\u001B[39mformat(\u001B[38;5;124m'\u001B[39m\u001B[38;5;124mval\u001B[39m\u001B[38;5;124m'\u001B[39m, \u001B[38;5;28mself\u001B[39m\u001B[38;5;241m.\u001B[39mepoch, loss_avg_val,\n\u001B[1;32m    170\u001B[0m                                                                             acc_avg_val, showLR(\u001B[38;5;28mself\u001B[39m\u001B[38;5;241m.\u001B[39moptimizer)))\n",
      "File \u001B[0;32m~/PycharmProjects/Capstone/Model_training_blocks.py:57\u001B[0m, in \u001B[0;36mtrain_loop\u001B[0;34m(model, dataloader, criterion, epoch, optimizer, mixup)\u001B[0m\n\u001B[1;32m     55\u001B[0m \u001B[38;5;66;03m# -- compute running performance\u001B[39;00m\n\u001B[1;32m     56\u001B[0m _, predicted \u001B[38;5;241m=\u001B[39m torch\u001B[38;5;241m.\u001B[39mmax(F\u001B[38;5;241m.\u001B[39msoftmax(logits, dim\u001B[38;5;241m=\u001B[39m\u001B[38;5;241m1\u001B[39m)\u001B[38;5;241m.\u001B[39mdata, dim\u001B[38;5;241m=\u001B[39m\u001B[38;5;241m1\u001B[39m)\n\u001B[0;32m---> 57\u001B[0m running_loss \u001B[38;5;241m+\u001B[39m\u001B[38;5;241m=\u001B[39m \u001B[43mloss\u001B[49m\u001B[38;5;241;43m.\u001B[39;49m\u001B[43mitem\u001B[49m\u001B[43m(\u001B[49m\u001B[43m)\u001B[49m\u001B[38;5;241m*\u001B[39m\u001B[38;5;28minput\u001B[39m\u001B[38;5;241m.\u001B[39msize(\u001B[38;5;241m0\u001B[39m)\n\u001B[1;32m     59\u001B[0m \u001B[38;5;28;01mif\u001B[39;00m mixup:\n\u001B[1;32m     60\u001B[0m     running_corrects \u001B[38;5;241m+\u001B[39m\u001B[38;5;241m=\u001B[39m lam \u001B[38;5;241m*\u001B[39m predicted\u001B[38;5;241m.\u001B[39meq(labels_a\u001B[38;5;241m.\u001B[39mview_as(predicted))\u001B[38;5;241m.\u001B[39msum()\u001B[38;5;241m.\u001B[39mitem() \u001B[38;5;241m+\u001B[39m (\u001B[38;5;241m1\u001B[39m \u001B[38;5;241m-\u001B[39m lam) \u001B[38;5;241m*\u001B[39m predicted\u001B[38;5;241m.\u001B[39meq(labels_b\u001B[38;5;241m.\u001B[39mview_as(predicted))\u001B[38;5;241m.\u001B[39msum()\u001B[38;5;241m.\u001B[39mitem()\n",
      "\u001B[0;31mKeyboardInterrupt\u001B[0m: "
     ]
    }
   ],
   "source": [
    "#Stopped Early to decrease learning rate, loading from checkpoint\n",
    "train_model = FullTrainer(model, datasets, criterion=nn.CrossEntropyLoss().cuda(), epochs=80, save_dir=save_direc, state_path=checkpoint_path, lr=0.0009)"
   ],
   "metadata": {
    "collapsed": false,
    "pycharm": {
     "name": "#%%\n"
    }
   }
  },
  {
   "cell_type": "code",
   "execution_count": 4,
   "outputs": [
    {
     "name": "stdout",
     "output_type": "stream",
     "text": [
      "Partition train loaded\n",
      "Partition test loaded\n",
      "Partition val loaded\n",
      "Current Epoch: 0\n",
      "Running Loss: 920230.2089517713, Running Corrects: 260205.0, Running All: 488647.0\n"
     ]
    },
    {
     "name": "stderr",
     "output_type": "stream",
     "text": [
      "100%|██████████| 391/391 [00:24<00:00, 15.76it/s]"
     ]
    },
    {
     "name": "stdout",
     "output_type": "stream",
     "text": [
      "24995 in total\tCR: 0.6426485297059412\n",
      "val Epoch:\t 0\tLoss val: 1.3187\tAcc val:0.6426, LR: 0.009\n",
      "Epoch len: 1058.8657140731812 Estimated Remaining: 1394.173190196355 Min\n",
      "Current Epoch: 1\n"
     ]
    },
    {
     "name": "stderr",
     "output_type": "stream",
     "text": [
      "\n"
     ]
    },
    {
     "name": "stdout",
     "output_type": "stream",
     "text": [
      "Running Loss: 597524.7491918802, Running Corrects: 323722.0, Running All: 488647.0\n"
     ]
    },
    {
     "name": "stderr",
     "output_type": "stream",
     "text": [
      "100%|██████████| 391/391 [00:23<00:00, 16.52it/s]\n"
     ]
    },
    {
     "name": "stdout",
     "output_type": "stream",
     "text": [
      "24995 in total\tCR: 0.6887777555511102\n",
      "val Epoch:\t 1\tLoss val: 1.1280\tAcc val:0.6888, LR: 0.009\n",
      "Epoch len: 1063.4924352169037 Estimated Remaining: 1382.5401657819748 Min\n",
      "Current Epoch: 2\n",
      "Running Loss: 533051.2099291086, Running Corrects: 339847.0, Running All: 488647.0\n"
     ]
    },
    {
     "name": "stderr",
     "output_type": "stream",
     "text": [
      "100%|██████████| 391/391 [00:23<00:00, 16.53it/s]\n"
     ]
    },
    {
     "name": "stdout",
     "output_type": "stream",
     "text": [
      "24995 in total\tCR: 0.7092218443688738\n",
      "val Epoch:\t 2\tLoss val: 1.0554\tAcc val:0.7092, LR: 0.008996530663083252\n",
      "Epoch len: 1014.9699437618256 Estimated Remaining: 1302.5447611610095 Min\n",
      "Current Epoch: 3\n",
      "Running Loss: 493458.5983221531, Running Corrects: 349617.0, Running All: 488647.0\n"
     ]
    },
    {
     "name": "stderr",
     "output_type": "stream",
     "text": [
      "100%|██████████| 391/391 [00:23<00:00, 16.74it/s]\n"
     ]
    },
    {
     "name": "stdout",
     "output_type": "stream",
     "text": [
      "24995 in total\tCR: 0.7155831166233246\n",
      "val Epoch:\t 3\tLoss val: 1.0357\tAcc val:0.7156, LR: 0.008986128001799076\n",
      "Epoch len: 1014.4960596561432 Estimated Remaining: 1285.0283422311147 Min\n",
      "Current Epoch: 4\n",
      "Running Loss: 465305.0343170464, Running Corrects: 356851.0, Running All: 488647.0\n"
     ]
    },
    {
     "name": "stderr",
     "output_type": "stream",
     "text": [
      "100%|██████████| 391/391 [00:23<00:00, 16.64it/s]\n"
     ]
    },
    {
     "name": "stdout",
     "output_type": "stream",
     "text": [
      "24995 in total\tCR: 0.7257051410282056\n",
      "val Epoch:\t 4\tLoss val: 0.9843\tAcc val:0.7257, LR: 0.008968808056297168\n",
      "Epoch len: 1012.3272643089294 Estimated Remaining: 1265.4090803861618 Min\n",
      "Current Epoch: 5\n",
      "Running Loss: 443433.4864615947, Running Corrects: 362623.0, Running All: 488647.0\n"
     ]
    },
    {
     "name": "stderr",
     "output_type": "stream",
     "text": [
      "100%|██████████| 391/391 [00:23<00:00, 16.62it/s]\n"
     ]
    },
    {
     "name": "stdout",
     "output_type": "stream",
     "text": [
      "24995 in total\tCR: 0.7327065413082616\n",
      "val Epoch:\t 5\tLoss val: 0.9590\tAcc val:0.7327, LR: 0.008944597532678119\n",
      "Epoch len: 1005.4104647636414 Estimated Remaining: 1240.0062398751577 Min\n",
      "Current Epoch: 6\n",
      "Running Loss: 426409.1969525814, Running Corrects: 367075.0, Running All: 488647.0\n"
     ]
    },
    {
     "name": "stderr",
     "output_type": "stream",
     "text": [
      "100%|██████████| 391/391 [00:23<00:00, 16.72it/s]\n"
     ]
    },
    {
     "name": "stdout",
     "output_type": "stream",
     "text": [
      "24995 in total\tCR: 0.7470294058811763\n",
      "val Epoch:\t 6\tLoss val: 0.9051\tAcc val:0.7470, LR: 0.008913533761814536\n",
      "Epoch len: 1004.6143162250519 Estimated Remaining: 1222.2807514071465 Min\n",
      "Current Epoch: 7\n",
      "Running Loss: 411776.45197963715, Running Corrects: 370945.0, Running All: 488647.0\n"
     ]
    },
    {
     "name": "stderr",
     "output_type": "stream",
     "text": [
      "100%|██████████| 391/391 [00:23<00:00, 16.65it/s]\n"
     ]
    },
    {
     "name": "stdout",
     "output_type": "stream",
     "text": [
      "24995 in total\tCR: 0.7481496299259852\n",
      "val Epoch:\t 7\tLoss val: 0.8957\tAcc val:0.7481, LR: 0.008875664641789544\n",
      "Epoch len: 1004.4151091575623 Estimated Remaining: 1205.2981309890747 Min\n",
      "Current Epoch: 8\n",
      "Running Loss: 398949.1892809272, Running Corrects: 374156.0, Running All: 488647.0\n"
     ]
    },
    {
     "name": "stderr",
     "output_type": "stream",
     "text": [
      "100%|██████████| 391/391 [00:23<00:00, 16.61it/s]\n"
     ]
    },
    {
     "name": "stdout",
     "output_type": "stream",
     "text": [
      "24995 in total\tCR: 0.7493898779755951\n",
      "val Epoch:\t 8\tLoss val: 0.8957\tAcc val:0.7494, LR: 0.008831048564041412\n",
      "Epoch len: 1004.5338590145111 Estimated Remaining: 1188.698399833838 Min\n",
      "Current Epoch: 9\n",
      "Running Loss: 388078.6459726691, Running Corrects: 376655.0, Running All: 488647.0\n"
     ]
    },
    {
     "name": "stderr",
     "output_type": "stream",
     "text": [
      "100%|██████████| 391/391 [00:23<00:00, 16.63it/s]\n"
     ]
    },
    {
     "name": "stdout",
     "output_type": "stream",
     "text": [
      "24995 in total\tCR: 0.7568313662732546\n",
      "val Epoch:\t 9\tLoss val: 0.8693\tAcc val:0.7568, LR: 0.008779754323328191\n",
      "Epoch len: 1005.3890826702118 Estimated Remaining: 1172.9539297819138 Min\n",
      "Current Epoch: 10\n",
      "Running Loss: 376810.1926574111, Running Corrects: 379338.0, Running All: 488647.0\n"
     ]
    },
    {
     "name": "stderr",
     "output_type": "stream",
     "text": [
      "100%|██████████| 391/391 [00:23<00:00, 16.57it/s]\n"
     ]
    },
    {
     "name": "stdout",
     "output_type": "stream",
     "text": [
      "24995 in total\tCR: 0.7600720144028805\n",
      "val Epoch:\t10\tLoss val: 0.8584\tAcc val:0.7601, LR: 0.00872186101165118\n",
      "Epoch len: 1005.4971814155579 Estimated Remaining: 1156.3217586278915 Min\n",
      "Current Epoch: 11\n",
      "Running Loss: 368431.3600202799, Running Corrects: 381872.0, Running All: 488647.0\n"
     ]
    },
    {
     "name": "stderr",
     "output_type": "stream",
     "text": [
      "100%|██████████| 391/391 [00:23<00:00, 16.63it/s]\n"
     ]
    },
    {
     "name": "stdout",
     "output_type": "stream",
     "text": [
      "24995 in total\tCR: 0.7561912382476496\n",
      "val Epoch:\t11\tLoss val: 0.8721\tAcc val:0.7562, LR: 0.00865745789630079\n",
      "Epoch len: 1005.2183606624603 Estimated Remaining: 1139.247475417455 Min\n",
      "Current Epoch: 12\n",
      "Running Loss: 360022.2499155998, Running Corrects: 384042.0, Running All: 488647.0\n"
     ]
    },
    {
     "name": "stderr",
     "output_type": "stream",
     "text": [
      "100%|██████████| 391/391 [00:23<00:00, 16.57it/s]\n"
     ]
    },
    {
     "name": "stdout",
     "output_type": "stream",
     "text": [
      "24995 in total\tCR: 0.7591918383676736\n",
      "val Epoch:\t12\tLoss val: 0.8619\tAcc val:0.7592, LR: 0.008586644282212865\n",
      "Epoch len: 1005.4116957187653 Estimated Remaining: 1122.7097268859545 Min\n",
      "Current Epoch: 13\n",
      "Running Loss: 352467.31522655487, Running Corrects: 385742.0, Running All: 488647.0\n"
     ]
    },
    {
     "name": "stderr",
     "output_type": "stream",
     "text": [
      "100%|██████████| 391/391 [00:23<00:00, 16.37it/s]\n"
     ]
    },
    {
     "name": "stdout",
     "output_type": "stream",
     "text": [
      "24995 in total\tCR: 0.7665933186637327\n",
      "val Epoch:\t13\tLoss val: 0.8386\tAcc val:0.7666, LR: 0.008509529358847655\n",
      "Epoch len: 1006.7177486419678 Estimated Remaining: 1107.3895235061646 Min\n",
      "Current Epoch: 14\n",
      "Running Loss: 345272.99559026957, Running Corrects: 388043.0, Running All: 488647.0\n"
     ]
    },
    {
     "name": "stderr",
     "output_type": "stream",
     "text": [
      "100%|██████████| 391/391 [00:23<00:00, 16.34it/s]\n"
     ]
    },
    {
     "name": "stdout",
     "output_type": "stream",
     "text": [
      "24995 in total\tCR: 0.7711542308461692\n",
      "val Epoch:\t14\tLoss val: 0.8172\tAcc val:0.7712, LR: 0.008426232031827586\n",
      "Epoch len: 1006.633706331253 Estimated Remaining: 1090.5198485255241 Min\n",
      "Current Epoch: 15\n",
      "Running Loss: 338620.81065171957, Running Corrects: 389554.0, Running All: 488647.0\n"
     ]
    },
    {
     "name": "stderr",
     "output_type": "stream",
     "text": [
      "100%|██████████| 391/391 [00:23<00:00, 16.46it/s]\n"
     ]
    },
    {
     "name": "stdout",
     "output_type": "stream",
     "text": [
      "24995 in total\tCR: 0.769873974794959\n",
      "val Epoch:\t15\tLoss val: 0.8290\tAcc val:0.7699, LR: 0.008336880739593414\n",
      "Epoch len: 1006.5539298057556 Estimated Remaining: 1073.6575251261393 Min\n",
      "Current Epoch: 16\n",
      "Running Loss: 331424.9372098446, Running Corrects: 391660.0, Running All: 488647.0\n"
     ]
    },
    {
     "name": "stderr",
     "output_type": "stream",
     "text": [
      "100%|██████████| 391/391 [00:23<00:00, 16.63it/s]\n"
     ]
    },
    {
     "name": "stdout",
     "output_type": "stream",
     "text": [
      "24995 in total\tCR: 0.7671134226845369\n",
      "val Epoch:\t16\tLoss val: 0.8259\tAcc val:0.7671, LR: 0.008241613255361454\n",
      "Epoch len: 1005.5572617053986 Estimated Remaining: 1055.8351247906685 Min\n",
      "Current Epoch: 17\n",
      "Running Loss: 325709.10711658, Running Corrects: 393179.0, Running All: 488647.0\n"
     ]
    },
    {
     "name": "stderr",
     "output_type": "stream",
     "text": [
      "100%|██████████| 391/391 [00:23<00:00, 16.46it/s]\n"
     ]
    },
    {
     "name": "stdout",
     "output_type": "stream",
     "text": [
      "24995 in total\tCR: 0.7713942788557712\n",
      "val Epoch:\t17\tLoss val: 0.8186\tAcc val:0.7714, LR: 0.008140576474687264\n",
      "Epoch len: 1006.5259380340576 Estimated Remaining: 1040.076802635193 Min\n",
      "Current Epoch: 18\n",
      "Running Loss: 319383.3861885071, Running Corrects: 394738.0, Running All: 488647.0\n"
     ]
    },
    {
     "name": "stderr",
     "output_type": "stream",
     "text": [
      "100%|██████████| 391/391 [00:23<00:00, 16.53it/s]\n"
     ]
    },
    {
     "name": "stdout",
     "output_type": "stream",
     "text": [
      "24995 in total\tCR: 0.7754350870174035\n",
      "val Epoch:\t18\tLoss val: 0.7970\tAcc val:0.7754, LR: 0.00803392618896335\n",
      "Epoch len: 1006.3597404956818 Estimated Remaining: 1023.1324028372765 Min\n",
      "Current Epoch: 19\n",
      "Running Loss: 313764.9892087877, Running Corrects: 396078.0, Running All: 488647.0\n"
     ]
    },
    {
     "name": "stderr",
     "output_type": "stream",
     "text": [
      "100%|██████████| 391/391 [00:23<00:00, 16.50it/s]\n"
     ]
    },
    {
     "name": "stdout",
     "output_type": "stream",
     "text": [
      "24995 in total\tCR: 0.7746749349869974\n",
      "val Epoch:\t19\tLoss val: 0.8053\tAcc val:0.7747, LR: 0.007921826845200139\n",
      "Epoch len: 1005.555112361908 Estimated Remaining: 1005.555112361908 Min\n",
      "Current Epoch: 20\n",
      "Running Loss: 308702.84177547693, Running Corrects: 397512.0, Running All: 488647.0\n"
     ]
    },
    {
     "name": "stderr",
     "output_type": "stream",
     "text": [
      "100%|██████████| 391/391 [00:23<00:00, 16.62it/s]\n"
     ]
    },
    {
     "name": "stdout",
     "output_type": "stream",
     "text": [
      "24995 in total\tCR: 0.7648329665933187\n",
      "val Epoch:\t20\tLoss val: 0.8367\tAcc val:0.7648, LR: 0.007804451292460585\n",
      "Epoch len: 1005.5840435028076 Estimated Remaining: 988.8243094444275 Min\n",
      "Current Epoch: 21\n",
      "Running Loss: 302811.57024371624, Running Corrects: 398996.0, Running All: 488647.0\n"
     ]
    },
    {
     "name": "stderr",
     "output_type": "stream",
     "text": [
      "100%|██████████| 391/391 [00:23<00:00, 16.49it/s]\n"
     ]
    },
    {
     "name": "stdout",
     "output_type": "stream",
     "text": [
      "24995 in total\tCR: 0.7751150230046009\n",
      "val Epoch:\t21\tLoss val: 0.8089\tAcc val:0.7751, LR: 0.007681980515339463\n",
      "Epoch len: 1006.1314771175385 Estimated Remaining: 972.5937612136205 Min\n",
      "Current Epoch: 22\n",
      "Running Loss: 296869.0116970539, Running Corrects: 400221.0, Running All: 488647.0\n"
     ]
    },
    {
     "name": "stderr",
     "output_type": "stream",
     "text": [
      "100%|██████████| 391/391 [00:23<00:00, 16.29it/s]\n"
     ]
    },
    {
     "name": "stdout",
     "output_type": "stream",
     "text": [
      "24995 in total\tCR: 0.7775555111022204\n",
      "val Epoch:\t22\tLoss val: 0.7923\tAcc val:0.7776, LR: 0.0075546033548982375\n",
      "Epoch len: 1005.7543675899506 Estimated Remaining: 955.466649210453 Min\n",
      "Current Epoch: 23\n",
      "Running Loss: 292098.9461274743, Running Corrects: 401864.0, Running All: 488647.0\n"
     ]
    },
    {
     "name": "stderr",
     "output_type": "stream",
     "text": [
      "100%|██████████| 391/391 [00:23<00:00, 16.63it/s]\n"
     ]
    },
    {
     "name": "stdout",
     "output_type": "stream",
     "text": [
      "24995 in total\tCR: 0.7832766553310662\n",
      "val Epoch:\t23\tLoss val: 0.7779\tAcc val:0.7833, LR: 0.007422516217485827\n",
      "Epoch len: 1005.2011067867279 Estimated Remaining: 938.1876996676127 Min\n",
      "Current Epoch: 24\n",
      "Running Loss: 286342.12532514334, Running Corrects: 403164.0, Running All: 488647.0\n"
     ]
    },
    {
     "name": "stderr",
     "output_type": "stream",
     "text": [
      "100%|██████████| 391/391 [00:24<00:00, 16.08it/s]\n"
     ]
    },
    {
     "name": "stdout",
     "output_type": "stream",
     "text": [
      "24995 in total\tCR: 0.7779555911182237\n",
      "val Epoch:\t24\tLoss val: 0.7965\tAcc val:0.7780, LR: 0.007285922771894253\n",
      "Epoch len: 1005.8411881923676 Estimated Remaining: 922.0210891763369 Min\n",
      "Current Epoch: 25\n",
      "Running Loss: 280920.0038096905, Running Corrects: 404815.0, Running All: 488647.0\n"
     ]
    },
    {
     "name": "stderr",
     "output_type": "stream",
     "text": [
      "100%|██████████| 391/391 [00:23<00:00, 16.48it/s]\n"
     ]
    },
    {
     "name": "stdout",
     "output_type": "stream",
     "text": [
      "24995 in total\tCR: 0.779875975195039\n",
      "val Epoch:\t25\tLoss val: 0.7855\tAcc val:0.7799, LR: 0.007145033635316129\n",
      "Epoch len: 1005.0569279193878 Estimated Remaining: 904.551235127449 Min\n",
      "Current Epoch: 26\n",
      "Running Loss: 276097.4422259033, Running Corrects: 406229.0, Running All: 488647.0\n"
     ]
    },
    {
     "name": "stderr",
     "output_type": "stream",
     "text": [
      "100%|██████████| 391/391 [00:23<00:00, 16.66it/s]\n"
     ]
    },
    {
     "name": "stdout",
     "output_type": "stream",
     "text": [
      "24995 in total\tCR: 0.7824364872974595\n",
      "val Epoch:\t26\tLoss val: 0.7851\tAcc val:0.7824, LR: 0.007000066048588209\n",
      "Epoch len: 1005.1006979942322 Estimated Remaining: 887.8389498949051 Min\n",
      "Current Epoch: 27\n",
      "Running Loss: 271076.1754158735, Running Corrects: 407224.0, Running All: 488647.0\n"
     ]
    },
    {
     "name": "stderr",
     "output_type": "stream",
     "text": [
      "100%|██████████| 391/391 [00:23<00:00, 16.69it/s]"
     ]
    },
    {
     "name": "stdout",
     "output_type": "stream",
     "text": [
      "24995 in total\tCR: 0.7832366473294659\n",
      "val Epoch:\t27\tLoss val: 0.7633\tAcc val:0.7832, LR: 0.006851243541221769\n",
      "Epoch len: 1005.3959033489227 Estimated Remaining: 871.3431162357331 Min\n",
      "Current Epoch: 28\n"
     ]
    },
    {
     "name": "stderr",
     "output_type": "stream",
     "text": [
      "\n"
     ]
    },
    {
     "name": "stdout",
     "output_type": "stream",
     "text": [
      "Running Loss: 265793.03586128354, Running Corrects: 408536.0, Running All: 488647.0\n"
     ]
    },
    {
     "name": "stderr",
     "output_type": "stream",
     "text": [
      "100%|██████████| 391/391 [00:23<00:00, 16.58it/s]\n"
     ]
    },
    {
     "name": "stdout",
     "output_type": "stream",
     "text": [
      "24995 in total\tCR: 0.7853570714142829\n",
      "val Epoch:\t28\tLoss val: 0.7753\tAcc val:0.7854, LR: 0.006698795586736297\n",
      "Epoch len: 1005.2572252750397 Estimated Remaining: 854.4686414837837 Min\n",
      "Current Epoch: 29\n",
      "Running Loss: 260327.5755763054, Running Corrects: 410532.0, Running All: 488647.0\n"
     ]
    },
    {
     "name": "stderr",
     "output_type": "stream",
     "text": [
      "100%|██████████| 391/391 [00:23<00:00, 16.46it/s]\n"
     ]
    },
    {
     "name": "stdout",
     "output_type": "stream",
     "text": [
      "24995 in total\tCR: 0.78875775155031\n",
      "val Epoch:\t29\tLoss val: 0.7664\tAcc val:0.7888, LR: 0.00654295724882796\n",
      "Epoch len: 1003.9474332332611 Estimated Remaining: 836.6228610277176 Min\n",
      "Current Epoch: 30\n",
      "Running Loss: 254623.13043811917, Running Corrects: 411829.0, Running All: 488647.0\n"
     ]
    },
    {
     "name": "stderr",
     "output_type": "stream",
     "text": [
      "100%|██████████| 391/391 [00:23<00:00, 16.52it/s]\n"
     ]
    },
    {
     "name": "stdout",
     "output_type": "stream",
     "text": [
      "24995 in total\tCR: 0.789757951590318\n",
      "val Epoch:\t30\tLoss val: 0.7588\tAcc val:0.7898, LR: 0.006383968818918426\n",
      "Epoch len: 1005.0434877872467 Estimated Remaining: 820.7855150262515 Min\n",
      "Current Epoch: 31\n",
      "Running Loss: 249464.7582691908, Running Corrects: 413204.0, Running All: 488647.0\n"
     ]
    },
    {
     "name": "stderr",
     "output_type": "stream",
     "text": [
      "100%|██████████| 391/391 [00:23<00:00, 16.54it/s]\n"
     ]
    },
    {
     "name": "stdout",
     "output_type": "stream",
     "text": [
      "24995 in total\tCR: 0.7852370474094819\n",
      "val Epoch:\t31\tLoss val: 0.7710\tAcc val:0.7852, LR: 0.006222075445642904\n",
      "Epoch len: 1003.4837381839752 Estimated Remaining: 802.7869905471802 Min\n",
      "Current Epoch: 32\n",
      "Running Loss: 244710.400921762, Running Corrects: 414191.0, Running All: 488647.0\n"
     ]
    },
    {
     "name": "stderr",
     "output_type": "stream",
     "text": [
      "100%|██████████| 391/391 [00:23<00:00, 16.63it/s]\n"
     ]
    },
    {
     "name": "stdout",
     "output_type": "stream",
     "text": [
      "24995 in total\tCR: 0.7891178235647129\n",
      "val Epoch:\t32\tLoss val: 0.7585\tAcc val:0.7891, LR: 0.006057526756848718\n",
      "Epoch len: 1003.5787858963013 Estimated Remaining: 786.1367156187694 Min\n",
      "Current Epoch: 33\n",
      "Running Loss: 238518.07384598255, Running Corrects: 416197.0, Running All: 488647.0\n"
     ]
    },
    {
     "name": "stderr",
     "output_type": "stream",
     "text": [
      "100%|██████████| 391/391 [00:23<00:00, 16.52it/s]\n"
     ]
    },
    {
     "name": "stdout",
     "output_type": "stream",
     "text": [
      "24995 in total\tCR: 0.7912782556511302\n",
      "val Epoch:\t33\tLoss val: 0.7541\tAcc val:0.7913, LR: 0.005890576474687263\n",
      "Epoch len: 1003.6662290096283 Estimated Remaining: 769.477442240715 Min\n",
      "Current Epoch: 34\n",
      "Running Loss: 233488.2445101142, Running Corrects: 417567.0, Running All: 488647.0\n"
     ]
    },
    {
     "name": "stderr",
     "output_type": "stream",
     "text": [
      "100%|██████████| 391/391 [00:23<00:00, 16.70it/s]"
     ]
    },
    {
     "name": "stdout",
     "output_type": "stream",
     "text": [
      "24995 in total\tCR: 0.7894778955791159\n",
      "val Epoch:\t34\tLoss val: 0.7728\tAcc val:0.7895, LR: 0.005721482024392833\n",
      "Epoch len: 1004.1019730567932 Estimated Remaining: 753.0764797925949 Min\n",
      "Current Epoch: 35\n"
     ]
    },
    {
     "name": "stderr",
     "output_type": "stream",
     "text": [
      "\n"
     ]
    },
    {
     "name": "stdout",
     "output_type": "stream",
     "text": [
      "Running Loss: 228507.6261126399, Running Corrects: 419010.0, Running All: 488647.0\n"
     ]
    },
    {
     "name": "stderr",
     "output_type": "stream",
     "text": [
      "100%|██████████| 391/391 [00:23<00:00, 16.70it/s]\n"
     ]
    },
    {
     "name": "stdout",
     "output_type": "stream",
     "text": [
      "24995 in total\tCR: 0.7928385677135427\n",
      "val Epoch:\t35\tLoss val: 0.7594\tAcc val:0.7928, LR: 0.005550504137351574\n",
      "Epoch len: 1003.1419179439545 Estimated Remaining: 735.6374064922333 Min\n",
      "Current Epoch: 36\n",
      "Running Loss: 222211.6737575978, Running Corrects: 420459.0, Running All: 488647.0\n"
     ]
    },
    {
     "name": "stderr",
     "output_type": "stream",
     "text": [
      "100%|██████████| 391/391 [00:23<00:00, 16.59it/s]\n"
     ]
    },
    {
     "name": "stdout",
     "output_type": "stream",
     "text": [
      "24995 in total\tCR: 0.792998599719944\n",
      "val Epoch:\t36\tLoss val: 0.7665\tAcc val:0.7930, LR: 0.005377906449072578\n",
      "Epoch len: 1004.6435110569 Estimated Remaining: 719.9945162574451 Min\n",
      "Current Epoch: 37\n",
      "Running Loss: 216821.63188701868, Running Corrects: 422240.0, Running All: 488647.0\n"
     ]
    },
    {
     "name": "stderr",
     "output_type": "stream",
     "text": [
      "100%|██████████| 391/391 [00:23<00:00, 16.52it/s]\n"
     ]
    },
    {
     "name": "stdout",
     "output_type": "stream",
     "text": [
      "24995 in total\tCR: 0.7910782156431286\n",
      "val Epoch:\t37\tLoss val: 0.7583\tAcc val:0.7911, LR: 0.005203955092681039\n",
      "Epoch len: 1003.9615504741669 Estimated Remaining: 702.7730853319168 Min\n",
      "Current Epoch: 38\n",
      "Running Loss: 210860.00475257635, Running Corrects: 423853.0, Running All: 488647.0\n"
     ]
    },
    {
     "name": "stderr",
     "output_type": "stream",
     "text": [
      "100%|██████████| 391/391 [00:23<00:00, 16.45it/s]\n"
     ]
    },
    {
     "name": "stdout",
     "output_type": "stream",
     "text": [
      "24995 in total\tCR: 0.7979195839167833\n",
      "val Epoch:\t38\tLoss val: 0.7474\tAcc val:0.7979, LR: 0.00502891828856027\n",
      "Epoch len: 1004.5036511421204 Estimated Remaining: 686.4108282804489 Min\n",
      "Current Epoch: 39\n",
      "Running Loss: 206034.0174088478, Running Corrects: 424925.0, Running All: 488647.0\n"
     ]
    },
    {
     "name": "stderr",
     "output_type": "stream",
     "text": [
      "100%|██████████| 391/391 [00:23<00:00, 16.58it/s]"
     ]
    },
    {
     "name": "stdout",
     "output_type": "stream",
     "text": [
      "24995 in total\tCR: 0.794878975795159\n",
      "val Epoch:\t39\tLoss val: 0.7538\tAcc val:0.7949, LR: 0.0048530659307753025\n",
      "Epoch len: 1004.083573102951 Estimated Remaining: 669.3890487353007 Min\n",
      "Current Epoch: 40\n"
     ]
    },
    {
     "name": "stderr",
     "output_type": "stream",
     "text": [
      "\n"
     ]
    },
    {
     "name": "stdout",
     "output_type": "stream",
     "text": [
      "Running Loss: 200433.44523221254, Running Corrects: 426651.0, Running All: 488647.0\n"
     ]
    },
    {
     "name": "stderr",
     "output_type": "stream",
     "text": [
      "100%|██████████| 391/391 [00:23<00:00, 16.67it/s]\n"
     ]
    },
    {
     "name": "stdout",
     "output_type": "stream",
     "text": [
      "24995 in total\tCR: 0.790998199639928\n",
      "val Epoch:\t40\tLoss val: 0.7770\tAcc val:0.7910, LR: 0.004676669170915809\n",
      "Epoch len: 1003.6181061267853 Estimated Remaining: 652.3517689824105 Min\n",
      "Current Epoch: 41\n",
      "Running Loss: 193952.34928572178, Running Corrects: 428670.0, Running All: 488647.0\n"
     ]
    },
    {
     "name": "stderr",
     "output_type": "stream",
     "text": [
      "100%|██████████| 391/391 [00:23<00:00, 16.50it/s]"
     ]
    },
    {
     "name": "stdout",
     "output_type": "stream",
     "text": [
      "24995 in total\tCR: 0.7944788957791559\n",
      "val Epoch:\t41\tLoss val: 0.7580\tAcc val:0.7945, LR: 0.0045\n",
      "Epoch len: 1004.0643215179443 Estimated Remaining: 635.9074036280314 Min\n",
      "Current Epoch: 42\n"
     ]
    },
    {
     "name": "stderr",
     "output_type": "stream",
     "text": [
      "\n"
     ]
    },
    {
     "name": "stdout",
     "output_type": "stream",
     "text": [
      "Running Loss: 187408.548196584, Running Corrects: 430711.0, Running All: 488647.0\n"
     ]
    },
    {
     "name": "stderr",
     "output_type": "stream",
     "text": [
      "100%|██████████| 391/391 [00:23<00:00, 16.51it/s]\n"
     ]
    },
    {
     "name": "stdout",
     "output_type": "stream",
     "text": [
      "24995 in total\tCR: 0.7961592318463693\n",
      "val Epoch:\t42\tLoss val: 0.7550\tAcc val:0.7962, LR: 0.004323330829084192\n",
      "Epoch len: 1003.9384772777557 Estimated Remaining: 619.0953943212827 Min\n",
      "Current Epoch: 43\n",
      "Running Loss: 182040.7750173807, Running Corrects: 431990.0, Running All: 488647.0\n"
     ]
    },
    {
     "name": "stderr",
     "output_type": "stream",
     "text": [
      "100%|██████████| 391/391 [00:23<00:00, 16.51it/s]\n"
     ]
    },
    {
     "name": "stdout",
     "output_type": "stream",
     "text": [
      "24995 in total\tCR: 0.7961992398479696\n",
      "val Epoch:\t43\tLoss val: 0.7593\tAcc val:0.7962, LR: 0.004146934069224698\n",
      "Epoch len: 1003.4310767650604 Estimated Remaining: 602.0586460590363 Min\n",
      "Current Epoch: 44\n",
      "Running Loss: 175991.39865523577, Running Corrects: 433679.0, Running All: 488647.0\n"
     ]
    },
    {
     "name": "stderr",
     "output_type": "stream",
     "text": [
      "100%|██████████| 391/391 [00:23<00:00, 16.63it/s]\n"
     ]
    },
    {
     "name": "stdout",
     "output_type": "stream",
     "text": [
      "24995 in total\tCR: 0.796999399879976\n",
      "val Epoch:\t44\tLoss val: 0.7697\tAcc val:0.7970, LR: 0.0039710817114397305\n",
      "Epoch len: 1003.0414221286774 Estimated Remaining: 585.1074962417284 Min\n",
      "Current Epoch: 45\n",
      "Running Loss: 170260.8337458074, Running Corrects: 435450.0, Running All: 488647.0\n"
     ]
    },
    {
     "name": "stderr",
     "output_type": "stream",
     "text": [
      "100%|██████████| 391/391 [00:23<00:00, 16.62it/s]\n"
     ]
    },
    {
     "name": "stdout",
     "output_type": "stream",
     "text": [
      "24995 in total\tCR: 0.8026405281056211\n",
      "val Epoch:\t45\tLoss val: 0.7566\tAcc val:0.8026, LR: 0.003796044907318962\n",
      "Epoch len: 1002.02969789505 Estimated Remaining: 567.8168288071951 Min\n",
      "Current Epoch: 46\n",
      "Running Loss: 163313.1497375369, Running Corrects: 437501.0, Running All: 488647.0\n"
     ]
    },
    {
     "name": "stderr",
     "output_type": "stream",
     "text": [
      "100%|██████████| 391/391 [00:24<00:00, 16.27it/s]"
     ]
    },
    {
     "name": "stdout",
     "output_type": "stream",
     "text": [
      "24995 in total\tCR: 0.7996799359871974\n",
      "val Epoch:\t46\tLoss val: 0.7635\tAcc val:0.7997, LR: 0.003622093550927423\n",
      "Epoch len: 1002.6898002624512 Estimated Remaining: 551.4793901443481 Min\n",
      "Current Epoch: 47\n"
     ]
    },
    {
     "name": "stderr",
     "output_type": "stream",
     "text": [
      "\n"
     ]
    },
    {
     "name": "stdout",
     "output_type": "stream",
     "text": [
      "Running Loss: 156771.69682875276, Running Corrects: 439361.0, Running All: 488647.0\n"
     ]
    },
    {
     "name": "stderr",
     "output_type": "stream",
     "text": [
      "100%|██████████| 391/391 [00:24<00:00, 16.18it/s]\n"
     ]
    },
    {
     "name": "stdout",
     "output_type": "stream",
     "text": [
      "24995 in total\tCR: 0.798879775955191\n",
      "val Epoch:\t47\tLoss val: 0.7718\tAcc val:0.7989, LR: 0.0034494958626484257\n",
      "Epoch len: 1021.9350090026855 Estimated Remaining: 545.0320048014323 Min\n",
      "Current Epoch: 48\n",
      "Running Loss: 151185.8315474987, Running Corrects: 441199.0, Running All: 488647.0\n"
     ]
    },
    {
     "name": "stderr",
     "output_type": "stream",
     "text": [
      "100%|██████████| 391/391 [00:23<00:00, 16.41it/s]\n"
     ]
    },
    {
     "name": "stdout",
     "output_type": "stream",
     "text": [
      "24995 in total\tCR: 0.803880776155231\n",
      "val Epoch:\t48\tLoss val: 0.7594\tAcc val:0.8039, LR: 0.003278517975607165\n",
      "Epoch len: 1017.8438632488251 Estimated Remaining: 525.885996011893 Min\n",
      "Current Epoch: 49\n",
      "Running Loss: 143913.38373708725, Running Corrects: 443406.0, Running All: 488647.0\n"
     ]
    },
    {
     "name": "stderr",
     "output_type": "stream",
     "text": [
      "100%|██████████| 391/391 [00:24<00:00, 16.13it/s]\n"
     ]
    },
    {
     "name": "stdout",
     "output_type": "stream",
     "text": [
      "24995 in total\tCR: 0.7995199039807962\n",
      "val Epoch:\t49\tLoss val: 0.7720\tAcc val:0.7995, LR: 0.003109423525312737\n",
      "Epoch len: 1013.5640814304352 Estimated Remaining: 506.7820407152176 Min\n",
      "Current Epoch: 50\n",
      "Running Loss: 138517.4037715476, Running Corrects: 444747.0, Running All: 488647.0\n"
     ]
    },
    {
     "name": "stderr",
     "output_type": "stream",
     "text": [
      "100%|██████████| 391/391 [00:24<00:00, 16.20it/s]\n"
     ]
    },
    {
     "name": "stdout",
     "output_type": "stream",
     "text": [
      "24995 in total\tCR: 0.8016803360672135\n",
      "val Epoch:\t50\tLoss val: 0.7708\tAcc val:0.8017, LR: 0.0029424732431512822\n",
      "Epoch len: 1019.2442576885223 Estimated Remaining: 492.63472454945247 Min\n",
      "Current Epoch: 51\n",
      "Running Loss: 131156.62308066338, Running Corrects: 447120.0, Running All: 488647.0\n"
     ]
    },
    {
     "name": "stderr",
     "output_type": "stream",
     "text": [
      "100%|██████████| 391/391 [00:24<00:00, 16.27it/s]\n"
     ]
    },
    {
     "name": "stdout",
     "output_type": "stream",
     "text": [
      "24995 in total\tCR: 0.8020404080816164\n",
      "val Epoch:\t51\tLoss val: 0.7786\tAcc val:0.8020, LR: 0.002777924554357096\n",
      "Epoch len: 1018.1344981193542 Estimated Remaining: 475.12943245569863 Min\n",
      "Current Epoch: 52\n",
      "Running Loss: 124953.83709776402, Running Corrects: 449173.0, Running All: 488647.0\n"
     ]
    },
    {
     "name": "stderr",
     "output_type": "stream",
     "text": [
      "100%|██████████| 391/391 [00:23<00:00, 16.44it/s]"
     ]
    },
    {
     "name": "stdout",
     "output_type": "stream",
     "text": [
      "24995 in total\tCR: 0.8024404880976195\n",
      "val Epoch:\t52\tLoss val: 0.7833\tAcc val:0.8024, LR: 0.0026160311810815746\n",
      "Epoch len: 1012.3548514842987 Estimated Remaining: 455.5596831679344 Min\n",
      "Current Epoch: 53\n"
     ]
    },
    {
     "name": "stderr",
     "output_type": "stream",
     "text": [
      "\n"
     ]
    },
    {
     "name": "stdout",
     "output_type": "stream",
     "text": [
      "Running Loss: 117739.33518718183, Running Corrects: 451043.0, Running All: 488647.0\n"
     ]
    },
    {
     "name": "stderr",
     "output_type": "stream",
     "text": [
      "100%|██████████| 391/391 [00:23<00:00, 16.48it/s]"
     ]
    },
    {
     "name": "stdout",
     "output_type": "stream",
     "text": [
      "24995 in total\tCR: 0.8017203440688138\n",
      "val Epoch:\t53\tLoss val: 0.7960\tAcc val:0.8017, LR: 0.0024570427511720395\n",
      "Epoch len: 1009.737583398819 Estimated Remaining: 437.5529528061549 Min\n",
      "Current Epoch: 54\n"
     ]
    },
    {
     "name": "stderr",
     "output_type": "stream",
     "text": [
      "\n"
     ]
    },
    {
     "name": "stdout",
     "output_type": "stream",
     "text": [
      "Running Loss: 110902.74177998304, Running Corrects: 453510.0, Running All: 488647.0\n"
     ]
    },
    {
     "name": "stderr",
     "output_type": "stream",
     "text": [
      "100%|██████████| 391/391 [00:23<00:00, 16.43it/s]\n"
     ]
    },
    {
     "name": "stdout",
     "output_type": "stream",
     "text": [
      "24995 in total\tCR: 0.8022804560912182\n",
      "val Epoch:\t54\tLoss val: 0.7964\tAcc val:0.8023, LR: 0.002301204413263702\n",
      "Epoch len: 1006.4763810634613 Estimated Remaining: 419.36515877644223 Min\n",
      "Current Epoch: 55\n",
      "Running Loss: 105110.66113969684, Running Corrects: 455302.0, Running All: 488647.0\n"
     ]
    },
    {
     "name": "stderr",
     "output_type": "stream",
     "text": [
      "100%|██████████| 391/391 [00:23<00:00, 16.38it/s]\n"
     ]
    },
    {
     "name": "stdout",
     "output_type": "stream",
     "text": [
      "24995 in total\tCR: 0.8040808161632327\n",
      "val Epoch:\t55\tLoss val: 0.7942\tAcc val:0.8041, LR: 0.00214875645877823\n",
      "Epoch len: 1005.499685049057 Estimated Remaining: 402.1998740196228 Min\n",
      "Current Epoch: 56\n",
      "Running Loss: 98951.06501019001, Running Corrects: 456938.0, Running All: 488647.0\n"
     ]
    },
    {
     "name": "stderr",
     "output_type": "stream",
     "text": [
      "100%|██████████| 391/391 [00:23<00:00, 16.45it/s]\n"
     ]
    },
    {
     "name": "stdout",
     "output_type": "stream",
     "text": [
      "24995 in total\tCR: 0.8077215443088618\n",
      "val Epoch:\t56\tLoss val: 0.7981\tAcc val:0.8077, LR: 0.0019999339514117894\n",
      "Epoch len: 1005.0978713035583 Estimated Remaining: 385.2875173330307 Min\n",
      "Current Epoch: 57\n",
      "Running Loss: 92197.70845020562, Running Corrects: 459449.0, Running All: 488647.0\n"
     ]
    },
    {
     "name": "stderr",
     "output_type": "stream",
     "text": [
      "100%|██████████| 391/391 [00:23<00:00, 16.47it/s]\n"
     ]
    },
    {
     "name": "stdout",
     "output_type": "stream",
     "text": [
      "24995 in total\tCR: 0.807121424284857\n",
      "val Epoch:\t57\tLoss val: 0.8130\tAcc val:0.8071, LR: 0.0018549663646838712\n",
      "Epoch len: 1004.74827003479 Estimated Remaining: 368.4076990127563 Min\n",
      "Current Epoch: 58\n",
      "Running Loss: 85468.47501078248, Running Corrects: 461517.0, Running All: 488647.0\n"
     ]
    },
    {
     "name": "stderr",
     "output_type": "stream",
     "text": [
      "100%|██████████| 391/391 [00:23<00:00, 16.50it/s]\n"
     ]
    },
    {
     "name": "stdout",
     "output_type": "stream",
     "text": [
      "24995 in total\tCR: 0.8086817363472695\n",
      "val Epoch:\t58\tLoss val: 0.8106\tAcc val:0.8087, LR: 0.001714077228105748\n",
      "Epoch len: 1004.9420504570007 Estimated Remaining: 351.72971765995027 Min\n",
      "Current Epoch: 59\n",
      "Running Loss: 79840.36236903071, Running Corrects: 463498.0, Running All: 488647.0\n"
     ]
    },
    {
     "name": "stderr",
     "output_type": "stream",
     "text": [
      "100%|██████████| 391/391 [00:24<00:00, 15.89it/s]\n"
     ]
    },
    {
     "name": "stdout",
     "output_type": "stream",
     "text": [
      "24995 in total\tCR: 0.8084816963392678\n",
      "val Epoch:\t59\tLoss val: 0.8222\tAcc val:0.8085, LR: 0.0015774837825141739\n",
      "Epoch len: 1005.8114285469055 Estimated Remaining: 335.2704761823018 Min\n",
      "Current Epoch: 60\n",
      "Running Loss: 73237.42038142681, Running Corrects: 465605.0, Running All: 488647.0\n"
     ]
    },
    {
     "name": "stderr",
     "output_type": "stream",
     "text": [
      "100%|██████████| 391/391 [00:24<00:00, 16.29it/s]\n"
     ]
    },
    {
     "name": "stdout",
     "output_type": "stream",
     "text": [
      "24995 in total\tCR: 0.8058011602320464\n",
      "val Epoch:\t60\tLoss val: 0.8236\tAcc val:0.8058, LR: 0.0014453966451017629\n",
      "Epoch len: 1006.6524877548218 Estimated Remaining: 318.7732877890269 Min\n",
      "Current Epoch: 61\n",
      "Running Loss: 67882.32268416882, Running Corrects: 467224.0, Running All: 488647.0\n"
     ]
    },
    {
     "name": "stderr",
     "output_type": "stream",
     "text": [
      "100%|██████████| 391/391 [00:23<00:00, 16.45it/s]\n"
     ]
    },
    {
     "name": "stdout",
     "output_type": "stream",
     "text": [
      "24995 in total\tCR: 0.8105621124224845\n",
      "val Epoch:\t61\tLoss val: 0.8196\tAcc val:0.8106, LR: 0.0013180194846605362\n",
      "Epoch len: 1005.1150414943695 Estimated Remaining: 301.53451244831086 Min\n",
      "Current Epoch: 62\n",
      "Running Loss: 62499.88067926653, Running Corrects: 469270.0, Running All: 488647.0\n"
     ]
    },
    {
     "name": "stderr",
     "output_type": "stream",
     "text": [
      "100%|██████████| 391/391 [00:23<00:00, 16.38it/s]\n"
     ]
    },
    {
     "name": "stdout",
     "output_type": "stream",
     "text": [
      "24995 in total\tCR: 0.8072414482896579\n",
      "val Epoch:\t62\tLoss val: 0.8466\tAcc val:0.8072, LR: 0.0011955487075394145\n",
      "Epoch len: 1005.2667648792267 Estimated Remaining: 284.8255833824476 Min\n",
      "Current Epoch: 63\n",
      "Running Loss: 56893.36888603866, Running Corrects: 471092.0, Running All: 488647.0\n"
     ]
    },
    {
     "name": "stderr",
     "output_type": "stream",
     "text": [
      "100%|██████████| 391/391 [00:23<00:00, 16.66it/s]\n"
     ]
    },
    {
     "name": "stdout",
     "output_type": "stream",
     "text": [
      "24995 in total\tCR: 0.8112022404480896\n",
      "val Epoch:\t63\tLoss val: 0.8385\tAcc val:0.8112, LR: 0.0010781731547998606\n",
      "Epoch len: 1004.7867949008942 Estimated Remaining: 267.94314530690514 Min\n",
      "Current Epoch: 64\n",
      "Running Loss: 52515.164069235325, Running Corrects: 472559.0, Running All: 488647.0\n"
     ]
    },
    {
     "name": "stderr",
     "output_type": "stream",
     "text": [
      "100%|██████████| 391/391 [00:24<00:00, 15.89it/s]\n"
     ]
    },
    {
     "name": "stdout",
     "output_type": "stream",
     "text": [
      "24995 in total\tCR: 0.811122224444889\n",
      "val Epoch:\t64\tLoss val: 0.8459\tAcc val:0.8111, LR: 0.0009660738110366471\n",
      "Epoch len: 1005.8505051136017 Estimated Remaining: 251.46262627840042 Min\n",
      "Current Epoch: 65\n",
      "Running Loss: 48076.95687121153, Running Corrects: 474125.0, Running All: 488647.0\n"
     ]
    },
    {
     "name": "stderr",
     "output_type": "stream",
     "text": [
      "100%|██████████| 391/391 [00:23<00:00, 16.49it/s]\n"
     ]
    },
    {
     "name": "stdout",
     "output_type": "stream",
     "text": [
      "24995 in total\tCR: 0.8114022804560912\n",
      "val Epoch:\t65\tLoss val: 0.8479\tAcc val:0.8114, LR: 0.0008594235253127369\n",
      "Epoch len: 1004.9401388168335 Estimated Remaining: 234.4860323905945 Min\n",
      "Current Epoch: 66\n",
      "Running Loss: 44375.73348146677, Running Corrects: 475445.0, Running All: 488647.0\n"
     ]
    },
    {
     "name": "stderr",
     "output_type": "stream",
     "text": [
      "100%|██████████| 391/391 [00:23<00:00, 16.56it/s]\n"
     ]
    },
    {
     "name": "stdout",
     "output_type": "stream",
     "text": [
      "24995 in total\tCR: 0.8124024804960992\n",
      "val Epoch:\t66\tLoss val: 0.8569\tAcc val:0.8124, LR: 0.0007583867446385473\n",
      "Epoch len: 1005.1572704315186 Estimated Remaining: 217.78407526016235 Min\n",
      "Current Epoch: 67\n",
      "Running Loss: 40880.50966453552, Running Corrects: 476553.0, Running All: 488647.0\n"
     ]
    },
    {
     "name": "stderr",
     "output_type": "stream",
     "text": [
      "100%|██████████| 391/391 [00:24<00:00, 15.99it/s]"
     ]
    },
    {
     "name": "stdout",
     "output_type": "stream",
     "text": [
      "24995 in total\tCR: 0.8117623524704941\n",
      "val Epoch:\t67\tLoss val: 0.8589\tAcc val:0.8118, LR: 0.0006631192604065852\n",
      "Epoch len: 1005.88805103302 Estimated Remaining: 201.17761020660402 Min\n",
      "Current Epoch: 68\n"
     ]
    },
    {
     "name": "stderr",
     "output_type": "stream",
     "text": [
      "\n"
     ]
    },
    {
     "name": "stdout",
     "output_type": "stream",
     "text": [
      "Running Loss: 37577.658797733486, Running Corrects: 477759.0, Running All: 488647.0\n"
     ]
    },
    {
     "name": "stderr",
     "output_type": "stream",
     "text": [
      "100%|██████████| 391/391 [00:23<00:00, 16.34it/s]\n"
     ]
    },
    {
     "name": "stdout",
     "output_type": "stream",
     "text": [
      "24995 in total\tCR: 0.8137227445489098\n",
      "val Epoch:\t68\tLoss val: 0.8600\tAcc val:0.8137, LR: 0.0005737679681724136\n",
      "Epoch len: 1005.4199821949005 Estimated Remaining: 184.32699673573177 Min\n",
      "Current Epoch: 69\n",
      "Running Loss: 35158.42722896999, Running Corrects: 478527.0, Running All: 488647.0\n"
     ]
    },
    {
     "name": "stderr",
     "output_type": "stream",
     "text": [
      "100%|██████████| 391/391 [00:23<00:00, 16.64it/s]\n"
     ]
    },
    {
     "name": "stdout",
     "output_type": "stream",
     "text": [
      "24995 in total\tCR: 0.8154830966193238\n",
      "val Epoch:\t69\tLoss val: 0.8606\tAcc val:0.8155, LR: 0.0004904706411523449\n",
      "Epoch len: 1005.3242993354797 Estimated Remaining: 167.5540498892466 Min\n",
      "Current Epoch: 70\n",
      "Running Loss: 32616.49850410223, Running Corrects: 479523.0, Running All: 488647.0\n"
     ]
    },
    {
     "name": "stderr",
     "output_type": "stream",
     "text": [
      "100%|██████████| 391/391 [00:24<00:00, 16.27it/s]\n"
     ]
    },
    {
     "name": "stdout",
     "output_type": "stream",
     "text": [
      "24995 in total\tCR: 0.8138427685537107\n",
      "val Epoch:\t70\tLoss val: 0.8617\tAcc val:0.8138, LR: 0.00041335571778713384\n",
      "Epoch len: 1005.403388261795 Estimated Remaining: 150.81050823926927 Min\n",
      "Current Epoch: 71\n",
      "Running Loss: 30255.968726255, Running Corrects: 480399.0, Running All: 488647.0\n"
     ]
    },
    {
     "name": "stderr",
     "output_type": "stream",
     "text": [
      "100%|██████████| 391/391 [00:23<00:00, 16.50it/s]\n"
     ]
    },
    {
     "name": "stdout",
     "output_type": "stream",
     "text": [
      "24995 in total\tCR: 0.8149629925985197\n",
      "val Epoch:\t71\tLoss val: 0.8647\tAcc val:0.8150, LR: 0.00034254210369920963\n",
      "Epoch len: 1005.3160436153412 Estimated Remaining: 134.04213914871215 Min\n",
      "Current Epoch: 72\n",
      "Running Loss: 28692.53527097404, Running Corrects: 480879.0, Running All: 488647.0\n"
     ]
    },
    {
     "name": "stderr",
     "output_type": "stream",
     "text": [
      "100%|██████████| 391/391 [00:24<00:00, 15.82it/s]\n"
     ]
    },
    {
     "name": "stdout",
     "output_type": "stream",
     "text": [
      "24995 in total\tCR: 0.8172034406881377\n",
      "val Epoch:\t72\tLoss val: 0.8625\tAcc val:0.8172, LR: 0.0002781389883488213\n",
      "Epoch len: 1006.7345666885376 Estimated Remaining: 117.45236611366272 Min\n",
      "Current Epoch: 73\n",
      "Running Loss: 27353.090911768377, Running Corrects: 481303.0, Running All: 488647.0\n"
     ]
    },
    {
     "name": "stderr",
     "output_type": "stream",
     "text": [
      "100%|██████████| 391/391 [00:23<00:00, 16.47it/s]\n"
     ]
    },
    {
     "name": "stdout",
     "output_type": "stream",
     "text": [
      "24995 in total\tCR: 0.8175635127025405\n",
      "val Epoch:\t73\tLoss val: 0.8634\tAcc val:0.8176, LR: 0.0002202456766718091\n",
      "Epoch len: 1005.3415043354034 Estimated Remaining: 100.53415043354035 Min\n",
      "Current Epoch: 74\n",
      "Running Loss: 26550.507378801703, Running Corrects: 481659.0, Running All: 488647.0\n"
     ]
    },
    {
     "name": "stderr",
     "output_type": "stream",
     "text": [
      "100%|██████████| 391/391 [00:23<00:00, 16.40it/s]\n"
     ]
    },
    {
     "name": "stdout",
     "output_type": "stream",
     "text": [
      "24995 in total\tCR: 0.814882976595319\n",
      "val Epoch:\t74\tLoss val: 0.8696\tAcc val:0.8149, LR: 0.00016895143595858773\n",
      "Epoch len: 1005.5154104232788 Estimated Remaining: 83.79295086860657 Min\n",
      "Current Epoch: 75\n",
      "Running Loss: 25865.60107128322, Running Corrects: 481847.0, Running All: 488647.0\n"
     ]
    },
    {
     "name": "stderr",
     "output_type": "stream",
     "text": [
      "100%|██████████| 391/391 [00:24<00:00, 16.18it/s]\n"
     ]
    },
    {
     "name": "stdout",
     "output_type": "stream",
     "text": [
      "24995 in total\tCR: 0.8168033606721344\n",
      "val Epoch:\t75\tLoss val: 0.8663\tAcc val:0.8168, LR: 0.0001243353582104555\n",
      "Epoch len: 1025.6414859294891 Estimated Remaining: 68.37609906196595 Min\n",
      "Current Epoch: 76\n",
      "Running Loss: 24606.32771651447, Running Corrects: 482375.0, Running All: 488647.0\n"
     ]
    },
    {
     "name": "stderr",
     "output_type": "stream",
     "text": [
      "100%|██████████| 391/391 [00:24<00:00, 16.24it/s]\n"
     ]
    },
    {
     "name": "stdout",
     "output_type": "stream",
     "text": [
      "24995 in total\tCR: 0.8167233446689338\n",
      "val Epoch:\t76\tLoss val: 0.8703\tAcc val:0.8167, LR: 8.646623818546306e-05\n",
      "Epoch len: 1019.1782293319702 Estimated Remaining: 50.95891146659851 Min\n",
      "Current Epoch: 77\n",
      "Running Loss: 24254.217579312623, Running Corrects: 482459.0, Running All: 488647.0\n"
     ]
    },
    {
     "name": "stderr",
     "output_type": "stream",
     "text": [
      "100%|██████████| 391/391 [00:23<00:00, 16.44it/s]\n"
     ]
    },
    {
     "name": "stdout",
     "output_type": "stream",
     "text": [
      "24995 in total\tCR: 0.8157631526305261\n",
      "val Epoch:\t77\tLoss val: 0.8704\tAcc val:0.8158, LR: 5.540246732188053e-05\n",
      "Epoch len: 1016.8557279109955 Estimated Remaining: 33.89519093036652 Min\n",
      "Current Epoch: 78\n",
      "Running Loss: 24255.995802551508, Running Corrects: 482413.0, Running All: 488647.0\n"
     ]
    },
    {
     "name": "stderr",
     "output_type": "stream",
     "text": [
      "100%|██████████| 391/391 [00:23<00:00, 16.46it/s]\n"
     ]
    },
    {
     "name": "stdout",
     "output_type": "stream",
     "text": [
      "24995 in total\tCR: 0.8162832566513303\n",
      "val Epoch:\t78\tLoss val: 0.8723\tAcc val:0.8163, LR: 3.119194370283168e-05\n",
      "Epoch len: 1012.3209803104401 Estimated Remaining: 16.872016338507333 Min\n",
      "Current Epoch: 79\n",
      "Running Loss: 24038.67807326466, Running Corrects: 482461.0, Running All: 488647.0\n"
     ]
    },
    {
     "name": "stderr",
     "output_type": "stream",
     "text": [
      "100%|██████████| 391/391 [00:24<00:00, 15.64it/s]\n"
     ]
    },
    {
     "name": "stdout",
     "output_type": "stream",
     "text": [
      "24995 in total\tCR: 0.8167233446689338\n",
      "val Epoch:\t79\tLoss val: 0.8721\tAcc val:0.8167, LR: 1.3871998200924162e-05\n",
      "Epoch len: 1063.9676427841187 Estimated Remaining: 0.0 Min\n"
     ]
    },
    {
     "name": "stderr",
     "output_type": "stream",
     "text": [
      "100%|██████████| 391/391 [00:24<00:00, 15.68it/s]"
     ]
    },
    {
     "name": "stdout",
     "output_type": "stream",
     "text": [
      "24994 in total\tCR: 0.805913419220613\n",
      "Test time performance of best epoch: 0.805913419220613 (loss: 0.9104823701675676)\n"
     ]
    },
    {
     "name": "stderr",
     "output_type": "stream",
     "text": [
      "\n"
     ]
    }
   ],
   "source": [
    "model = Lipread2(len(words_list))\n",
    "if torch.cuda.is_available():\n",
    "    model.cuda()\n",
    "data_path = '/media/taylorpap/2TBM2/Dataset_2/GreyCropped'\n",
    "datasets = dataloaders(data_dir=data_path, label_fp=words_list, batch_size=64, workers=16)\n",
    "checkpoint_path = '/home/taylorpap/Bootcamp/Lipread2_full_scale/ckpt.pth.tar'\n",
    "save_direc = '/home/taylorpap/Bootcamp/Lipread2_actual_full_scale/'\n",
    "train_model = FullTrainer(model, datasets, criterion=nn.CrossEntropyLoss().cuda(), epochs=80, save_dir=save_direc, state_path=checkpoint_path, model_weights_only=True, lr=0.009)"
   ],
   "metadata": {
    "collapsed": false,
    "pycharm": {
     "name": "#%%\n"
    }
   }
  },
  {
   "cell_type": "code",
   "execution_count": null,
   "outputs": [],
   "source": [],
   "metadata": {
    "collapsed": false,
    "pycharm": {
     "name": "#%%\n"
    }
   }
  }
 ],
 "metadata": {
  "kernelspec": {
   "display_name": "Python 3",
   "language": "python",
   "name": "python3"
  },
  "language_info": {
   "codemirror_mode": {
    "name": "ipython",
    "version": 2
   },
   "file_extension": ".py",
   "mimetype": "text/x-python",
   "name": "python",
   "nbconvert_exporter": "python",
   "pygments_lexer": "ipython2",
   "version": "2.7.6"
  }
 },
 "nbformat": 4,
 "nbformat_minor": 0
}