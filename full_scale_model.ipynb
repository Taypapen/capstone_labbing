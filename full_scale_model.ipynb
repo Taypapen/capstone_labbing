{
 "cells": [
  {
   "cell_type": "code",
   "execution_count": 1,
   "outputs": [],
   "source": [
    "from utilities import *\n",
    "from pytorch_nn import Lipread2\n",
    "from Model_training_blocks import FullTrainer\n",
    "import torch\n",
    "from torch import nn\n",
    "from datasetloadingpy import dataloaders"
   ],
   "metadata": {
    "collapsed": false,
    "pycharm": {
     "name": "#%%\n"
    }
   }
  },
  {
   "cell_type": "code",
   "execution_count": 2,
   "outputs": [],
   "source": [
    "words_list_file = '/home/taylorpap/Bootcamp/wordlist.txt'\n",
    "words_list = get_wordslist_from_txt_file(words_list_file)"
   ],
   "metadata": {
    "collapsed": false,
    "pycharm": {
     "name": "#%%\n"
    }
   }
  },
  {
   "cell_type": "code",
   "execution_count": 3,
   "outputs": [
    {
     "name": "stdout",
     "output_type": "stream",
     "text": [
      "125\n"
     ]
    }
   ],
   "source": [
    "temp_words_list = []\n",
    "for index in range(1, len(words_list), 4):\n",
    "    temp_words_list.append(words_list[index])\n",
    "print(len(temp_words_list))"
   ],
   "metadata": {
    "collapsed": false,
    "pycharm": {
     "name": "#%%\n"
    }
   }
  },
  {
   "cell_type": "code",
   "execution_count": 4,
   "outputs": [
    {
     "name": "stdout",
     "output_type": "stream",
     "text": [
      "Partition train loaded\n",
      "Partition test loaded\n",
      "Partition val loaded\n"
     ]
    }
   ],
   "source": [
    "data_path = '/media/taylorpap/2TBM2/Dataset_2/GreyCropped'\n",
    "datasets = dataloaders(data_dir=data_path, label_fp=temp_words_list, batch_size=64, workers=16)"
   ],
   "metadata": {
    "collapsed": false,
    "pycharm": {
     "name": "#%%\n"
    }
   }
  },
  {
   "cell_type": "code",
   "execution_count": 5,
   "outputs": [],
   "source": [
    "model = Lipread2(len(temp_words_list))\n",
    "if torch.cuda.is_available():\n",
    "    model.cuda()\n",
    "checkpoint_path = '/home/taylorpap/Bootcamp/test_model5/ckpt.pth.tar'\n",
    "save_direc = '/home/taylorpap/Bootcamp/Lipread2_full_scale/'"
   ],
   "metadata": {
    "collapsed": false,
    "pycharm": {
     "name": "#%%\n"
    }
   }
  },
  {
   "cell_type": "code",
   "execution_count": null,
   "outputs": [
    {
     "name": "stdout",
     "output_type": "stream",
     "text": [
      "Current Epoch: 0\n",
      "Running Loss: 598469.8697004318, Running Corrects: 1530.0, Running All: 123011.0\n"
     ]
    },
    {
     "name": "stderr",
     "output_type": "stream",
     "text": [
      "100%|██████████| 98/98 [00:07<00:00, 13.17it/s]\n"
     ]
    },
    {
     "name": "stdout",
     "output_type": "stream",
     "text": [
      "6249 in total\tCR: 0.02224355896943511\n",
      "val Epoch:\t 0\tLoss val: 4.7555\tAcc val:0.0222, LR: 0.009\n",
      "Epoch len: 281.6919684410095 Estimated Remaining: 370.89442511399585 Min\n",
      "Current Epoch: 1\n",
      "Running Loss: 525712.978528738, Running Corrects: 8111.0, Running All: 123011.0\n"
     ]
    },
    {
     "name": "stderr",
     "output_type": "stream",
     "text": [
      "100%|██████████| 98/98 [00:07<00:00, 13.01it/s]\n"
     ]
    },
    {
     "name": "stdout",
     "output_type": "stream",
     "text": [
      "6249 in total\tCR: 0.17698831813090093\n",
      "val Epoch:\t 1\tLoss val: 3.4049\tAcc val:0.1770, LR: 0.009\n",
      "Epoch len: 281.46672654151917 Estimated Remaining: 365.9067445039749 Min\n",
      "Current Epoch: 2\n",
      "Running Loss: 296463.6763653755, Running Corrects: 46251.0, Running All: 123011.0\n"
     ]
    },
    {
     "name": "stderr",
     "output_type": "stream",
     "text": [
      "100%|██████████| 98/98 [00:07<00:00, 12.71it/s]\n"
     ]
    },
    {
     "name": "stdout",
     "output_type": "stream",
     "text": [
      "6249 in total\tCR: 0.5204032645223235\n",
      "val Epoch:\t 2\tLoss val: 1.7183\tAcc val:0.5204, LR: 0.008996530663083252\n",
      "Epoch len: 280.829874753952 Estimated Remaining: 360.39833926757177 Min\n",
      "Current Epoch: 3\n",
      "Running Loss: 173241.470405519, Running Corrects: 74236.0, Running All: 123011.0\n"
     ]
    },
    {
     "name": "stderr",
     "output_type": "stream",
     "text": [
      "100%|██████████| 98/98 [00:07<00:00, 12.34it/s]\n"
     ]
    },
    {
     "name": "stdout",
     "output_type": "stream",
     "text": [
      "6249 in total\tCR: 0.651624259881581\n",
      "val Epoch:\t 3\tLoss val: 1.2098\tAcc val:0.6516, LR: 0.008986128001799076\n",
      "Epoch len: 282.5556654930115 Estimated Remaining: 357.90384295781456 Min\n",
      "Current Epoch: 4\n",
      "Running Loss: 134312.05621367693, Running Corrects: 84286.0, Running All: 123011.0\n"
     ]
    },
    {
     "name": "stderr",
     "output_type": "stream",
     "text": [
      "100%|██████████| 98/98 [00:07<00:00, 12.72it/s]\n"
     ]
    },
    {
     "name": "stdout",
     "output_type": "stream",
     "text": [
      "6249 in total\tCR: 0.7113138102096336\n",
      "val Epoch:\t 4\tLoss val: 1.0107\tAcc val:0.7113, LR: 0.008968808056297168\n",
      "Epoch len: 280.471204996109 Estimated Remaining: 350.58900624513626 Min\n",
      "Current Epoch: 5\n",
      "Running Loss: 113826.04583311081, Running Corrects: 89490.0, Running All: 123011.0\n"
     ]
    },
    {
     "name": "stderr",
     "output_type": "stream",
     "text": [
      "100%|██████████| 98/98 [00:07<00:00, 12.78it/s]\n"
     ]
    },
    {
     "name": "stdout",
     "output_type": "stream",
     "text": [
      "6249 in total\tCR: 0.7225156024963995\n",
      "val Epoch:\t 5\tLoss val: 0.9451\tAcc val:0.7225, LR: 0.008944597532678119\n",
      "Epoch len: 276.7767472267151 Estimated Remaining: 341.35798824628193 Min\n",
      "Current Epoch: 6\n",
      "Running Loss: 102446.60966521502, Running Corrects: 92644.0, Running All: 123011.0\n"
     ]
    },
    {
     "name": "stderr",
     "output_type": "stream",
     "text": [
      "100%|██████████| 98/98 [00:07<00:00, 13.11it/s]\n"
     ]
    },
    {
     "name": "stdout",
     "output_type": "stream",
     "text": [
      "6249 in total\tCR: 0.7591614658345335\n",
      "val Epoch:\t 6\tLoss val: 0.8199\tAcc val:0.7592, LR: 0.008913533761814536\n",
      "Epoch len: 287.41559386253357 Estimated Remaining: 349.6889725327492 Min\n",
      "Current Epoch: 7\n",
      "Running Loss: 91621.97886043787, Running Corrects: 95700.0, Running All: 123011.0\n"
     ]
    },
    {
     "name": "stderr",
     "output_type": "stream",
     "text": [
      "100%|██████████| 98/98 [00:07<00:00, 13.17it/s]\n"
     ]
    },
    {
     "name": "stdout",
     "output_type": "stream",
     "text": [
      "6249 in total\tCR: 0.7790046407425189\n",
      "val Epoch:\t 7\tLoss val: 0.7447\tAcc val:0.7790, LR: 0.008875664641789544\n",
      "Epoch len: 268.80229806900024 Estimated Remaining: 322.5627576828003 Min\n",
      "Current Epoch: 8\n",
      "Running Loss: 84383.15615528822, Running Corrects: 97887.0, Running All: 123011.0\n"
     ]
    },
    {
     "name": "stderr",
     "output_type": "stream",
     "text": [
      "100%|██████████| 98/98 [00:07<00:00, 13.16it/s]\n"
     ]
    },
    {
     "name": "stdout",
     "output_type": "stream",
     "text": [
      "6249 in total\tCR: 0.7774043847015523\n",
      "val Epoch:\t 8\tLoss val: 0.7473\tAcc val:0.7774, LR: 0.008831048564041412\n",
      "Epoch len: 270.1063895225525 Estimated Remaining: 319.62589426835376 Min\n",
      "Current Epoch: 9\n",
      "Running Loss: 78076.17187404633, Running Corrects: 99490.0, Running All: 123011.0\n"
     ]
    },
    {
     "name": "stderr",
     "output_type": "stream",
     "text": [
      "100%|██████████| 98/98 [00:07<00:00, 13.90it/s]"
     ]
    },
    {
     "name": "stdout",
     "output_type": "stream",
     "text": [
      "6249 in total\tCR: 0.7770843334933589\n",
      "val Epoch:\t 9\tLoss val: 0.7396\tAcc val:0.7771, LR: 0.008779754323328191\n",
      "Epoch len: 256.8227837085724 Estimated Remaining: 299.62658099333447 Min\n",
      "Current Epoch: 10\n"
     ]
    },
    {
     "name": "stderr",
     "output_type": "stream",
     "text": [
      "\n"
     ]
    },
    {
     "name": "stdout",
     "output_type": "stream",
     "text": [
      "Running Loss: 72960.70509052277, Running Corrects: 100942.0, Running All: 123011.0\n"
     ]
    },
    {
     "name": "stderr",
     "output_type": "stream",
     "text": [
      "100%|██████████| 98/98 [00:06<00:00, 14.00it/s]\n"
     ]
    },
    {
     "name": "stdout",
     "output_type": "stream",
     "text": [
      "6249 in total\tCR: 0.8025284045447272\n",
      "val Epoch:\t10\tLoss val: 0.6820\tAcc val:0.8025, LR: 0.00872186101165118\n",
      "Epoch len: 263.7311816215515 Estimated Remaining: 303.29085886478424 Min\n",
      "Current Epoch: 11\n",
      "Running Loss: 68503.94611808658, Running Corrects: 102303.0, Running All: 123011.0\n"
     ]
    },
    {
     "name": "stderr",
     "output_type": "stream",
     "text": [
      "100%|██████████| 98/98 [00:07<00:00, 12.72it/s]"
     ]
    },
    {
     "name": "stdout",
     "output_type": "stream",
     "text": [
      "6249 in total\tCR: 0.8025284045447272\n",
      "val Epoch:\t11\tLoss val: 0.6628\tAcc val:0.8025, LR: 0.00865745789630079\n",
      "Epoch len: 276.59721875190735 Estimated Remaining: 313.47684791882835 Min\n",
      "Current Epoch: 12\n"
     ]
    },
    {
     "name": "stderr",
     "output_type": "stream",
     "text": [
      "\n"
     ]
    },
    {
     "name": "stdout",
     "output_type": "stream",
     "text": [
      "Running Loss: 64903.487213373184, Running Corrects: 103043.0, Running All: 123011.0\n"
     ]
    },
    {
     "name": "stderr",
     "output_type": "stream",
     "text": [
      "100%|██████████| 98/98 [00:07<00:00, 13.61it/s]\n"
     ]
    },
    {
     "name": "stdout",
     "output_type": "stream",
     "text": [
      "6249 in total\tCR: 0.8114898383741399\n",
      "val Epoch:\t12\tLoss val: 0.6322\tAcc val:0.8115, LR: 0.008586644282212865\n",
      "Epoch len: 278.1631610393524 Estimated Remaining: 310.6155298272769 Min\n",
      "Current Epoch: 13\n",
      "Running Loss: 61325.39459514618, Running Corrects: 104277.0, Running All: 123011.0\n"
     ]
    },
    {
     "name": "stderr",
     "output_type": "stream",
     "text": [
      "100%|██████████| 98/98 [00:07<00:00, 13.36it/s]\n"
     ]
    },
    {
     "name": "stdout",
     "output_type": "stream",
     "text": [
      "6249 in total\tCR: 0.8092494799167866\n",
      "val Epoch:\t13\tLoss val: 0.6315\tAcc val:0.8092, LR: 0.008509529358847655\n",
      "Epoch len: 269.76401710510254 Estimated Remaining: 296.74041881561277 Min\n",
      "Current Epoch: 14\n",
      "Running Loss: 58700.43696808815, Running Corrects: 104966.0, Running All: 123011.0\n"
     ]
    },
    {
     "name": "stderr",
     "output_type": "stream",
     "text": [
      "100%|██████████| 98/98 [00:07<00:00, 13.21it/s]\n"
     ]
    },
    {
     "name": "stdout",
     "output_type": "stream",
     "text": [
      "6249 in total\tCR: 0.8130900944151064\n",
      "val Epoch:\t14\tLoss val: 0.6244\tAcc val:0.8131, LR: 0.008426232031827586\n",
      "Epoch len: 279.35884499549866 Estimated Remaining: 302.63874874512356 Min\n",
      "Current Epoch: 15\n",
      "Running Loss: 55294.7411827147, Running Corrects: 105917.0, Running All: 123011.0\n"
     ]
    },
    {
     "name": "stderr",
     "output_type": "stream",
     "text": [
      "100%|██████████| 98/98 [00:07<00:00, 13.21it/s]\n"
     ]
    },
    {
     "name": "stdout",
     "output_type": "stream",
     "text": [
      "6249 in total\tCR: 0.823491758681389\n",
      "val Epoch:\t15\tLoss val: 0.5892\tAcc val:0.8235, LR: 0.008336880739593414\n",
      "Epoch len: 274.56243681907654 Estimated Remaining: 292.86659927368163 Min\n",
      "Current Epoch: 16\n",
      "Running Loss: 52304.302016973495, Running Corrects: 106770.0, Running All: 123011.0\n"
     ]
    },
    {
     "name": "stderr",
     "output_type": "stream",
     "text": [
      "100%|██████████| 98/98 [00:07<00:00, 13.43it/s]\n"
     ]
    },
    {
     "name": "stdout",
     "output_type": "stream",
     "text": [
      "6249 in total\tCR: 0.8292526804288686\n",
      "val Epoch:\t16\tLoss val: 0.5822\tAcc val:0.8293, LR: 0.008241613255361454\n",
      "Epoch len: 273.7875106334686 Estimated Remaining: 287.47688616514205 Min\n",
      "Current Epoch: 17\n",
      "Running Loss: 49742.96682065725, Running Corrects: 107450.0, Running All: 123011.0\n"
     ]
    },
    {
     "name": "stderr",
     "output_type": "stream",
     "text": [
      "100%|██████████| 98/98 [00:07<00:00, 13.36it/s]\n"
     ]
    },
    {
     "name": "stdout",
     "output_type": "stream",
     "text": [
      "6249 in total\tCR: 0.8271723475756121\n",
      "val Epoch:\t17\tLoss val: 0.5858\tAcc val:0.8272, LR: 0.008140576474687264\n",
      "Epoch len: 270.13680243492126 Estimated Remaining: 279.1413625160853 Min\n",
      "Current Epoch: 18\n",
      "Running Loss: 47571.29027616978, Running Corrects: 108188.0, Running All: 123011.0\n"
     ]
    },
    {
     "name": "stderr",
     "output_type": "stream",
     "text": [
      "100%|██████████| 98/98 [00:07<00:00, 13.41it/s]\n"
     ]
    },
    {
     "name": "stdout",
     "output_type": "stream",
     "text": [
      "6249 in total\tCR: 0.8412546007361178\n",
      "val Epoch:\t18\tLoss val: 0.5461\tAcc val:0.8413, LR: 0.00803392618896335\n",
      "Epoch len: 280.6137738227844 Estimated Remaining: 285.29067005316415 Min\n",
      "Current Epoch: 19\n",
      "Running Loss: 45127.74153192341, Running Corrects: 108866.0, Running All: 123011.0\n"
     ]
    },
    {
     "name": "stderr",
     "output_type": "stream",
     "text": [
      "100%|██████████| 98/98 [00:06<00:00, 14.25it/s]\n"
     ]
    },
    {
     "name": "stdout",
     "output_type": "stream",
     "text": [
      "6249 in total\tCR: 0.8314930388862218\n",
      "val Epoch:\t19\tLoss val: 0.5788\tAcc val:0.8315, LR: 0.007921826845200139\n",
      "Epoch len: 265.3035640716553 Estimated Remaining: 265.3035640716553 Min\n",
      "Current Epoch: 20\n",
      "Running Loss: 42934.037435516715, Running Corrects: 109609.0, Running All: 123011.0\n"
     ]
    },
    {
     "name": "stderr",
     "output_type": "stream",
     "text": [
      "100%|██████████| 98/98 [00:07<00:00, 13.07it/s]\n"
     ]
    },
    {
     "name": "stdout",
     "output_type": "stream",
     "text": [
      "6249 in total\tCR: 0.8398143702992479\n",
      "val Epoch:\t20\tLoss val: 0.5536\tAcc val:0.8398, LR: 0.007804451292460585\n",
      "Epoch len: 265.2267577648163 Estimated Remaining: 260.80631180206933 Min\n",
      "Current Epoch: 21\n",
      "Running Loss: 40477.149931907654, Running Corrects: 110135.0, Running All: 123011.0\n"
     ]
    },
    {
     "name": "stderr",
     "output_type": "stream",
     "text": [
      "100%|██████████| 98/98 [00:07<00:00, 13.73it/s]"
     ]
    },
    {
     "name": "stdout",
     "output_type": "stream",
     "text": [
      "6249 in total\tCR: 0.8327732437189951\n",
      "val Epoch:\t21\tLoss val: 0.5809\tAcc val:0.8328, LR: 0.007681980515339463\n",
      "Epoch len: 271.6599762439728 Estimated Remaining: 262.604643702507 Min\n",
      "Current Epoch: 22\n"
     ]
    },
    {
     "name": "stderr",
     "output_type": "stream",
     "text": [
      "\n"
     ]
    }
   ],
   "source": [
    "train_model = FullTrainer(model, datasets, criterion=nn.CrossEntropyLoss(), epochs=80, save_dir=save_direc, lr=0.009)"
   ],
   "metadata": {
    "collapsed": false,
    "pycharm": {
     "name": "#%%\n",
     "is_executing": true
    }
   }
  },
  {
   "cell_type": "code",
   "execution_count": null,
   "outputs": [],
   "source": [],
   "metadata": {
    "collapsed": false,
    "pycharm": {
     "name": "#%%\n",
     "is_executing": true
    }
   }
  }
 ],
 "metadata": {
  "kernelspec": {
   "display_name": "Python 3",
   "language": "python",
   "name": "python3"
  },
  "language_info": {
   "codemirror_mode": {
    "name": "ipython",
    "version": 2
   },
   "file_extension": ".py",
   "mimetype": "text/x-python",
   "name": "python",
   "nbconvert_exporter": "python",
   "pygments_lexer": "ipython2",
   "version": "2.7.6"
  }
 },
 "nbformat": 4,
 "nbformat_minor": 0
}