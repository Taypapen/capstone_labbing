{
 "cells": [
  {
   "cell_type": "code",
   "execution_count": 2,
   "metadata": {
    "collapsed": true,
    "pycharm": {
     "name": "#%%\n"
    }
   },
   "outputs": [],
   "source": [
    "import numpy\n",
    "from sklearn.preprocessing import OneHotEncoder\n",
    "import os\n",
    "import glob\n"
   ]
  },
  {
   "cell_type": "code",
   "execution_count": 4,
   "outputs": [
    {
     "name": "stdout",
     "output_type": "stream",
     "text": [
      "['ABOUT', 'ABSOLUTELY', 'ABUSE', 'ACCESS', 'ACCORDING', 'ACCUSED', 'ACROSS', 'ACTION', 'ACTUALLY', 'AFFAIRS', 'AFFECTED', 'AFRICA', 'AFTER', 'AFTERNOON', 'AGAIN', 'AGAINST', 'AGREE', 'AGREEMENT', 'AHEAD', 'ALLEGATIONS', 'ALLOWED', 'ALMOST', 'ALREADY', 'ALWAYS', 'AMERICA', 'AMERICAN', 'AMONG', 'AMOUNT', 'ANNOUNCED', 'ANOTHER', 'ANSWER', 'ANYTHING', 'AREAS', 'AROUND', 'ARRESTED', 'ASKED', 'ASKING', 'ATTACK', 'ATTACKS', 'AUTHORITIES', 'BECAUSE', 'BECOME', 'BEFORE', 'BEHIND', 'BEING', 'BELIEVE', 'BENEFIT', 'BENEFITS', 'BETTER', 'BETWEEN', 'BIGGEST', 'BILLION', 'BLACK', 'BORDER', 'BRING', 'BRITAIN', 'BRITISH', 'BROUGHT', 'BUDGET', 'BUILD', 'BUSINESS', 'BUSINESSES', 'CALLED', 'CAMERON', 'CAMPAIGN', 'CANCER', 'CANNOT', 'CAPITAL', 'CASES', 'CENTRAL', 'CERTAINLY', 'CHALLENGE', 'CHANCE', 'CHANGE', 'CHANGES', 'CHARGE', 'CHARGES', 'CHIEF', 'CHILD', 'CHILDREN', 'CLAIMS', 'CLEAR', 'CLOSE', 'CLOUD', 'COMES', 'COMING', 'COMMUNITY', 'COMPANIES', 'COMPANY', 'CONCERNS', 'CONFERENCE', 'CONFLICT', 'CONSERVATIVE', 'CONTINUE', 'CONTROL', 'COULD', 'COUNCIL', 'COUNTRIES', 'COUNTRY', 'COUPLE', 'ALLOW', 'BANKS', 'BUILDING', 'CHINA', 'COURSE', 'EARLY', 'EXAMPLE', 'FOUND', 'GROWING', 'IMPACT', 'KNOWN', 'MAJOR', 'MILLION', 'NUMBERS', 'PERIOD', 'PRETTY', 'RECORD', 'SECTOR', 'SOCIETY', 'STREET', 'THIRD', 'UNTIL', 'COURT', 'CRIME', 'CRISIS', 'CURRENT', 'CUSTOMERS', 'DAVID', 'DEATH', 'DEBATE', 'DECIDED', 'DECISION', 'DEFICIT', 'DEGREES', 'DESCRIBED', 'DESPITE', 'DETAILS', 'DIFFERENCE', 'DIFFERENT', 'DIFFICULT', 'DOING', 'DURING', 'EASTERN', 'ECONOMIC', 'ECONOMY', 'EDITOR', 'EDUCATION', 'ELECTION', 'EMERGENCY', 'ENERGY', 'ENGLAND', 'ENOUGH', 'EUROPE', 'EUROPEAN', 'EVENING', 'EVENTS', 'EVERY', 'EVERYBODY', 'EVERYONE', 'EVERYTHING', 'EVIDENCE', 'EXACTLY', 'EXPECT', 'EXPECTED', 'EXTRA', 'FACING', 'FAMILIES', 'FAMILY', 'FIGHT', 'FIGHTING', 'FIGURES', 'FINAL', 'FINANCIAL', 'FIRST', 'FOCUS', 'FOLLOWING', 'FOOTBALL', 'FORCE', 'FORCES', 'FOREIGN', 'FORMER', 'FORWARD', 'FRANCE', 'FRENCH', 'FRIDAY', 'FRONT', 'FURTHER', 'FUTURE', 'GAMES', 'GENERAL', 'GEORGE', 'GERMANY', 'GETTING', 'GIVEN', 'GIVING', 'GLOBAL', 'GOING', 'GOVERNMENT', 'GREAT', 'GREECE', 'GROUND', 'GROUP', 'GROWTH', 'GUILTY', 'HAPPEN', 'HAPPENED', 'HAPPENING', 'HAVING', 'HEALTH', 'HEARD', 'HEART', 'HEAVY', 'HIGHER', 'HISTORY', 'HOMES', 'HOSPITAL', 'HOURS', 'HOUSE', 'HOUSING', 'HUMAN', 'HUNDREDS', 'IMMIGRATION', 'IMPORTANT', 'INCREASE', 'INDEPENDENT', 'INDUSTRY', 'INFLATION', 'INFORMATION', 'INQUIRY', 'INSIDE', 'INTEREST', 'INVESTMENT', 'INVOLVED', 'IRELAND', 'ISLAMIC', 'ISSUE', 'ISSUES', 'ITSELF', 'JAMES', 'JUDGE', 'JUSTICE', 'KILLED', 'LABOUR', 'LARGE', 'LATER', 'LATEST', 'LEADER', 'LEADERS', 'LEADERSHIP', 'LEAST', 'LEAVE', 'LEGAL', 'LEVEL', 'LEVELS', 'LIKELY', 'LITTLE', 'LIVES', 'LIVING', 'LOCAL', 'LONDON', 'LONGER', 'LOOKING', 'MAJORITY', 'MAKES', 'MAKING', 'MANCHESTER', 'MARKET', 'MASSIVE', 'MATTER', 'MAYBE', 'MEANS', 'MEASURES', 'MEDIA', 'MEDICAL', 'MEETING', 'MEMBER', 'MEMBERS', 'MESSAGE', 'MIDDLE', 'MIGHT', 'MIGRANTS', 'MILITARY', 'MILLIONS', 'MINISTER', 'MINISTERS', 'MINUTES', 'MISSING', 'MOMENT', 'MONEY', 'MONTH', 'MONTHS', 'MORNING', 'MOVING', 'MURDER', 'NATIONAL', 'NEEDS', 'NEVER', 'NIGHT', 'NORTH', 'NORTHERN', 'NOTHING', 'NUMBER', 'OBAMA', 'OFFICE', 'OFFICERS', 'OFFICIALS', 'OFTEN', 'OPERATION', 'OPPOSITION', 'ORDER', 'OTHER', 'OTHERS', 'OUTSIDE', 'PARENTS', 'PARLIAMENT', 'PARTIES', 'PARTS', 'PARTY', 'PATIENTS', 'PAYING', 'PEOPLE', 'PERHAPS', 'PERSON', 'PERSONAL', 'PHONE', 'PLACE', 'PLACES', 'PLANS', 'POINT', 'POLICE', 'POLICY', 'POLITICAL', 'POLITICIANS', 'POLITICS', 'POSITION', 'POSSIBLE', 'POTENTIAL', 'POWER', 'POWERS', 'PRESIDENT', 'PRESS', 'PRESSURE', 'PRICE', 'PRICES', 'PRIME', 'PRISON', 'PRIVATE', 'PROBABLY', 'PROBLEM', 'PROBLEMS', 'PROCESS', 'PROTECT', 'PROVIDE', 'PUBLIC', 'QUESTION', 'QUESTIONS', 'QUITE', 'RATES', 'RATHER', 'REALLY', 'REASON', 'RECENT', 'REFERENDUM', 'REMEMBER', 'REPORT', 'REPORTS', 'RESPONSE', 'RESULT', 'RETURN', 'RIGHT', 'RIGHTS', 'RULES', 'RUNNING', 'RUSSIA', 'RUSSIAN', 'SAYING', 'SCHOOL', 'SCHOOLS', 'SCOTLAND', 'SCOTTISH', 'SECOND', 'SECRETARY', 'SECURITY', 'SEEMS', 'SENIOR', 'SENSE', 'SERIES', 'SERIOUS', 'SERVICE', 'SERVICES', 'SEVEN', 'SEVERAL', 'SHORT', 'SHOULD', 'SIDES', 'SIGNIFICANT', 'SIMPLY', 'SINCE', 'SINGLE', 'SITUATION', 'SMALL', 'SOCIAL', 'SOMEONE', 'SOMETHING', 'SOUTH', 'SOUTHERN', 'SPEAKING', 'SPECIAL', 'SPEECH', 'SPEND', 'SPENDING', 'SPENT', 'STAFF', 'STAGE', 'STAND', 'START', 'STARTED', 'STATE', 'STATEMENT', 'STATES', 'STILL', 'STORY', 'STRONG', 'SUNDAY', 'SUNSHINE', 'SUPPORT', 'SYRIA', 'SYRIAN', 'SYSTEM', 'TAKEN', 'TAKING', 'TALKING', 'TALKS', 'TEMPERATURES', 'TERMS', 'THEIR', 'THEMSELVES', 'THERE', 'THESE', 'THING', 'THINGS', 'THINK', 'THOSE', 'THOUGHT', 'THOUSANDS', 'THREAT', 'THREE', 'THROUGH', 'TIMES', 'TODAY', 'TOGETHER', 'TOMORROW', 'TONIGHT', 'TOWARDS', 'TRADE', 'TRIAL', 'TRUST', 'TRYING', 'UNDER', 'UNDERSTAND', 'UNION', 'UNITED', 'USING', 'VICTIMS', 'VIOLENCE', 'VOTERS', 'WAITING', 'WALES', 'WANTED', 'WANTS', 'WARNING', 'WATCHING', 'WATER', 'WEAPONS', 'WEATHER', 'WEEKEND', 'WEEKS', 'WELCOME', 'WELFARE', 'WESTERN', 'WESTMINSTER', 'WHERE', 'WHETHER', 'WHICH', 'WHILE', 'WHOLE', 'WINDS', 'WITHIN', 'WITHOUT', 'WOMEN', 'WORDS', 'WORKERS', 'WORKING', 'WORLD', 'WORST', 'WOULD', 'WRONG', 'YEARS', 'YESTERDAY', 'YOUNG']\n"
     ]
    }
   ],
   "source": [
    "wordslist= []\n",
    "path_to_dirs = '/media/taylorpap/1TBM2/DatasetML/lipread_mp4'\n",
    "\n",
    "for base,dirs,files in os.walk(path_to_dirs):\n",
    "    for directories in dirs:\n",
    "        if directories != 'train' and directories != 'test' and directories != 'val':\n",
    "            wordslist.append(directories)\n",
    "\n",
    "print(wordslist)"
   ],
   "metadata": {
    "collapsed": false,
    "pycharm": {
     "name": "#%%\n"
    }
   }
  },
  {
   "cell_type": "code",
   "execution_count": 6,
   "outputs": [],
   "source": [
    "with open('/home/taylorpap/Bootcamp/wordlist.txt', 'w') as word_list_file:\n",
    "    for each_word in wordslist:\n",
    "        word_list_file.write('%s\\n' % each_word)"
   ],
   "metadata": {
    "collapsed": false,
    "pycharm": {
     "name": "#%%\n"
    }
   }
  },
  {
   "cell_type": "code",
   "execution_count": 5,
   "outputs": [
    {
     "ename": "TypeError",
     "evalue": "OneHotEncoder.fit_transform() missing 1 required positional argument: 'X'",
     "output_type": "error",
     "traceback": [
      "\u001B[0;31m---------------------------------------------------------------------------\u001B[0m",
      "\u001B[0;31mTypeError\u001B[0m                                 Traceback (most recent call last)",
      "Input \u001B[0;32mIn [5]\u001B[0m, in \u001B[0;36m<cell line: 2>\u001B[0;34m()\u001B[0m\n\u001B[1;32m      1\u001B[0m cat_encoder \u001B[38;5;241m=\u001B[39m OneHotEncoder\n\u001B[0;32m----> 2\u001B[0m word_cats_onehot \u001B[38;5;241m=\u001B[39m \u001B[43mcat_encoder\u001B[49m\u001B[38;5;241;43m.\u001B[39;49m\u001B[43mfit_transform\u001B[49m\u001B[43m(\u001B[49m\u001B[43mwordslist\u001B[49m\u001B[43m)\u001B[49m\n",
      "\u001B[0;31mTypeError\u001B[0m: OneHotEncoder.fit_transform() missing 1 required positional argument: 'X'"
     ]
    }
   ],
   "source": [
    "cat_encoder = OneHotEncoder\n",
    "word_cats_onehot = cat_encoder.fit_transform(wordslist)"
   ],
   "metadata": {
    "collapsed": false,
    "pycharm": {
     "name": "#%%\n"
    }
   }
  },
  {
   "cell_type": "code",
   "execution_count": null,
   "outputs": [],
   "source": [],
   "metadata": {
    "collapsed": false,
    "pycharm": {
     "name": "#%%\n"
    }
   }
  }
 ],
 "metadata": {
  "kernelspec": {
   "display_name": "Python 3",
   "language": "python",
   "name": "python3"
  },
  "language_info": {
   "codemirror_mode": {
    "name": "ipython",
    "version": 2
   },
   "file_extension": ".py",
   "mimetype": "text/x-python",
   "name": "python",
   "nbconvert_exporter": "python",
   "pygments_lexer": "ipython2",
   "version": "2.7.6"
  }
 },
 "nbformat": 4,
 "nbformat_minor": 0
}