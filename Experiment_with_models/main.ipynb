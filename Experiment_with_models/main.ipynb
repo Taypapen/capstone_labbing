{
 "cells": [
  {
   "cell_type": "code",
   "execution_count": 1,
   "metadata": {
    "collapsed": true,
    "pycharm": {
     "name": "#%%\n"
    }
   },
   "outputs": [],
   "source": [
    "import os\n",
    "import time\n",
    "import random\n",
    "import argparse\n",
    "import numpy as np\n",
    "from tqdm import tqdm\n",
    "from mixup import mixup_data, mixup_criterion\n",
    "#from utilities import AverageTracker, get_optimizer, showLR, CosineScheduler\n",
    "from utilities import *\n",
    "from pytorch_nn import Lipreading1\n",
    "from datasetloadingpy import dataloaders\n",
    "\n",
    "import torch\n",
    "import torch.nn as nn\n",
    "import torch.nn.functional as F"
   ]
  },
  {
   "cell_type": "markdown",
   "source": [
    "<font size='6'>\n",
    "Contains First training loop for automation and testing training for 60 Epochs on larger portion of dataset\n",
    "(For reasons behind Hyperparameter Choice in various_model_testing.ipynb)"
   ],
   "metadata": {
    "collapsed": false,
    "pycharm": {
     "name": "#%% md\n"
    }
   }
  },
  {
   "cell_type": "code",
   "execution_count": 2,
   "outputs": [],
   "source": [
    "def evaluate(model, dset_loader, criterion):\n",
    "\n",
    "    model.eval()\n",
    "\n",
    "    running_loss = 0.\n",
    "    running_corrects = 0.\n",
    "\n",
    "    with torch.no_grad():\n",
    "        for batch_idx, (input, lengths, labels) in enumerate(tqdm(dset_loader)):\n",
    "            logits = model(input.unsqueeze(1).cuda(), lengths=lengths)\n",
    "            _, preds = torch.max(F.softmax(logits, dim=1).data, dim=1)\n",
    "            running_corrects += preds.eq(labels.cuda().view_as(preds)).sum().item()\n",
    "\n",
    "            loss = criterion(logits, labels.cuda())\n",
    "            running_loss += loss.item() * input.size(0)\n",
    "\n",
    "    print('{} in total\\tCR: {}'.format( len(dset_loader.dataset), running_corrects/len(dset_loader.dataset)))\n",
    "    return running_corrects/len(dset_loader.dataset), running_loss/len(dset_loader.dataset)"
   ],
   "metadata": {
    "collapsed": false,
    "pycharm": {
     "name": "#%%\n"
    }
   }
  },
  {
   "cell_type": "code",
   "execution_count": 3,
   "outputs": [],
   "source": [
    "def train_loop(model, dataloader, criterion, epoch, optimizer, mixup=False):\n",
    "\n",
    "    data_time = AverageTracker()\n",
    "    batch_time = AverageTracker()\n",
    "\n",
    "    mixup_alpha = 0.4\n",
    "\n",
    "    print(\"Current Epoch: \" + str(epoch))\n",
    "\n",
    "    model.train()\n",
    "    running_loss = 0.\n",
    "    running_corrects = 0.\n",
    "    running_all = 0.\n",
    "\n",
    "    end = time.time()\n",
    "    for batch_idx, (input, lengths, labels) in enumerate(dataloader):\n",
    "        if mixup:\n",
    "            input, labels_a, labels_b, lam = mixup_data(input, labels, mixup_alpha)\n",
    "            labels_a, labels_b = labels_a.cuda(), labels_b.cuda()\n",
    "        else:\n",
    "            labels = labels.cuda()\n",
    "\n",
    "        optimizer.zero_grad()\n",
    "\n",
    "        logits = model(input.unsqueeze(1).cuda(), lengths=lengths)\n",
    "\n",
    "        if mixup:\n",
    "            loss_func = mixup_criterion(labels_a, labels_b, lam)\n",
    "            loss = loss_func(criterion, logits)\n",
    "        else:\n",
    "            loss = criterion(logits, labels)\n",
    "\n",
    "        loss.backward()\n",
    "        optimizer.step()\n",
    "\n",
    "        # measure elapsed time\n",
    "        batch_time.update(time.time() - end)\n",
    "        end = time.time()\n",
    "        # -- compute running performance\n",
    "        _, predicted = torch.max(F.softmax(logits, dim=1).data, dim=1)\n",
    "        running_loss += loss.item()*input.size(0)\n",
    "\n",
    "        if mixup:\n",
    "            running_corrects += lam * predicted.eq(labels_a.view_as(predicted)).sum().item() + (1 - lam) * predicted.eq(labels_b.view_as(predicted)).sum().item()\n",
    "        else:\n",
    "            running_corrects += torch.sum(predicted == labels.data)\n",
    "        running_all += input.size(0)\n",
    "    print(\"Running Loss: {}, Running Corrects: {}, Running All: {}\".format(running_loss,running_corrects,running_all))\n",
    "\n",
    "    return model"
   ],
   "metadata": {
    "collapsed": false,
    "pycharm": {
     "name": "#%%\n"
    }
   }
  },
  {
   "cell_type": "code",
   "execution_count": 4,
   "outputs": [],
   "source": [
    "words_list_file = '/home/taylorpap/Bootcamp/wordlist.txt'\n",
    "words_list = get_wordslist_from_txt_file(words_list_file)"
   ],
   "metadata": {
    "collapsed": false,
    "pycharm": {
     "name": "#%%\n"
    }
   }
  },
  {
   "cell_type": "code",
   "execution_count": 5,
   "outputs": [
    {
     "name": "stdout",
     "output_type": "stream",
     "text": [
      "100\n"
     ]
    }
   ],
   "source": [
    "temp_words_list = []\n",
    "for index in range(1, len(words_list), 5):\n",
    "    temp_words_list.append(words_list[index])\n",
    "print(len(temp_words_list))"
   ],
   "metadata": {
    "collapsed": false,
    "pycharm": {
     "name": "#%%\n"
    }
   }
  },
  {
   "cell_type": "code",
   "execution_count": 6,
   "outputs": [
    {
     "name": "stdout",
     "output_type": "stream",
     "text": [
      "Partition train loaded\n",
      "Partition test loaded\n",
      "Partition val loaded\n"
     ]
    }
   ],
   "source": [
    "data_path = '/media/taylorpap/2TBM2/Dataset_2/CroppedLRW'\n",
    "#temp_words_list = ['ABSOLUTELY', 'BUDGET', 'EVERYONE', 'HOUSE', 'MILITARY', 'PUBLIC', 'RESULT', 'SIGNIFICANT',\n",
    "#                   'WEATHER']\n",
    "\n",
    "datasets = dataloaders(data_dir=data_path, label_fp=temp_words_list, batch_size=32, workers=8)\n"
   ],
   "metadata": {
    "collapsed": false,
    "pycharm": {
     "name": "#%%\n"
    }
   }
  },
  {
   "cell_type": "code",
   "execution_count": 7,
   "outputs": [
    {
     "name": "stdout",
     "output_type": "stream",
     "text": [
      "Feature batch shape: torch.Size([32, 29, 88, 88])\n",
      "Labels batch shape: torch.Size([32])\n"
     ]
    }
   ],
   "source": [
    "train_features, train_lengths, train_labels = next(iter(datasets['train']))\n",
    "print(f\"Feature batch shape: {train_features.size()}\")\n",
    "print(f\"Labels batch shape: {train_labels.size()}\")"
   ],
   "metadata": {
    "collapsed": false,
    "pycharm": {
     "name": "#%%\n"
    }
   }
  },
  {
   "cell_type": "code",
   "execution_count": 8,
   "outputs": [],
   "source": [
    "test_model = Lipreading1(len(temp_words_list))"
   ],
   "metadata": {
    "collapsed": false,
    "pycharm": {
     "name": "#%%\n"
    }
   }
  },
  {
   "cell_type": "code",
   "execution_count": 9,
   "outputs": [],
   "source": [
    "if torch.cuda.is_available():\n",
    "    test_model.cuda()"
   ],
   "metadata": {
    "collapsed": false,
    "pycharm": {
     "name": "#%%\n"
    }
   }
  },
  {
   "cell_type": "code",
   "execution_count": 10,
   "outputs": [
    {
     "data": {
      "text/plain": "Lipreading1(\n  (frontend3D): Sequential(\n    (0): Conv3d(1, 32, kernel_size=(5, 7, 7), stride=(1, 2, 2), padding=(2, 3, 3), bias=False)\n    (1): BatchNorm3d(32, eps=1e-05, momentum=0.1, affine=True, track_running_stats=True)\n    (2): PReLU(num_parameters=32)\n  )\n  (frontend3D_2): Sequential(\n    (0): Conv3d(32, 64, kernel_size=(5, 7, 7), stride=(1, 2, 2), padding=(2, 3, 3), bias=False)\n    (1): BatchNorm3d(64, eps=1e-05, momentum=0.1, affine=True, track_running_stats=True)\n    (2): PReLU(num_parameters=64)\n  )\n  (max_pool1): MaxPool3d(kernel_size=(1, 3, 3), stride=(1, 2, 2), padding=(0, 1, 1), dilation=1, ceil_mode=False)\n  (trunk): ResNet(\n    (0): Sequential(\n      (0): ResBlock(\n        (convs): Sequential(\n          (0): ConvLayer(\n            (0): Conv2d(64, 64, kernel_size=(1, 1), stride=(1, 1), bias=False)\n            (1): BatchNorm2d(64, eps=1e-05, momentum=0.1, affine=True, track_running_stats=True)\n            (2): ReLU()\n          )\n          (1): ConvLayer(\n            (0): Conv2d(64, 64, kernel_size=(3, 3), stride=(1, 1), padding=(1, 1), bias=False)\n            (1): BatchNorm2d(64, eps=1e-05, momentum=0.1, affine=True, track_running_stats=True)\n            (2): ReLU()\n          )\n          (2): ConvLayer(\n            (0): Conv2d(64, 256, kernel_size=(1, 1), stride=(1, 1), bias=False)\n            (1): BatchNorm2d(256, eps=1e-05, momentum=0.1, affine=True, track_running_stats=True)\n          )\n        )\n        (idconv): ConvLayer(\n          (0): Conv2d(64, 256, kernel_size=(1, 1), stride=(1, 1), bias=False)\n          (1): BatchNorm2d(256, eps=1e-05, momentum=0.1, affine=True, track_running_stats=True)\n        )\n      )\n      (1): ResBlock(\n        (convs): Sequential(\n          (0): ConvLayer(\n            (0): Conv2d(256, 64, kernel_size=(1, 1), stride=(1, 1), bias=False)\n            (1): BatchNorm2d(64, eps=1e-05, momentum=0.1, affine=True, track_running_stats=True)\n            (2): ReLU()\n          )\n          (1): ConvLayer(\n            (0): Conv2d(64, 64, kernel_size=(3, 3), stride=(1, 1), padding=(1, 1), bias=False)\n            (1): BatchNorm2d(64, eps=1e-05, momentum=0.1, affine=True, track_running_stats=True)\n            (2): ReLU()\n          )\n          (2): ConvLayer(\n            (0): Conv2d(64, 256, kernel_size=(1, 1), stride=(1, 1), bias=False)\n            (1): BatchNorm2d(256, eps=1e-05, momentum=0.1, affine=True, track_running_stats=True)\n          )\n        )\n      )\n    )\n    (1): Sequential(\n      (0): ResBlock(\n        (convs): Sequential(\n          (0): ConvLayer(\n            (0): Conv2d(256, 128, kernel_size=(1, 1), stride=(1, 1), bias=False)\n            (1): BatchNorm2d(128, eps=1e-05, momentum=0.1, affine=True, track_running_stats=True)\n            (2): ReLU()\n          )\n          (1): ConvLayer(\n            (0): Conv2d(128, 128, kernel_size=(3, 3), stride=(2, 2), padding=(1, 1), bias=False)\n            (1): BatchNorm2d(128, eps=1e-05, momentum=0.1, affine=True, track_running_stats=True)\n            (2): ReLU()\n          )\n          (2): ConvLayer(\n            (0): Conv2d(128, 512, kernel_size=(1, 1), stride=(1, 1), bias=False)\n            (1): BatchNorm2d(512, eps=1e-05, momentum=0.1, affine=True, track_running_stats=True)\n          )\n        )\n        (idconv): ConvLayer(\n          (0): Conv2d(256, 512, kernel_size=(1, 1), stride=(1, 1), bias=False)\n          (1): BatchNorm2d(512, eps=1e-05, momentum=0.1, affine=True, track_running_stats=True)\n        )\n        (pool): AvgPool2d(kernel_size=2, stride=2, padding=0)\n      )\n      (1): ResBlock(\n        (convs): Sequential(\n          (0): ConvLayer(\n            (0): Conv2d(512, 128, kernel_size=(1, 1), stride=(1, 1), bias=False)\n            (1): BatchNorm2d(128, eps=1e-05, momentum=0.1, affine=True, track_running_stats=True)\n            (2): ReLU()\n          )\n          (1): ConvLayer(\n            (0): Conv2d(128, 128, kernel_size=(3, 3), stride=(1, 1), padding=(1, 1), bias=False)\n            (1): BatchNorm2d(128, eps=1e-05, momentum=0.1, affine=True, track_running_stats=True)\n            (2): ReLU()\n          )\n          (2): ConvLayer(\n            (0): Conv2d(128, 512, kernel_size=(1, 1), stride=(1, 1), bias=False)\n            (1): BatchNorm2d(512, eps=1e-05, momentum=0.1, affine=True, track_running_stats=True)\n          )\n        )\n      )\n      (2): ResBlock(\n        (convs): Sequential(\n          (0): ConvLayer(\n            (0): Conv2d(512, 128, kernel_size=(1, 1), stride=(1, 1), bias=False)\n            (1): BatchNorm2d(128, eps=1e-05, momentum=0.1, affine=True, track_running_stats=True)\n            (2): ReLU()\n          )\n          (1): ConvLayer(\n            (0): Conv2d(128, 128, kernel_size=(3, 3), stride=(1, 1), padding=(1, 1), bias=False)\n            (1): BatchNorm2d(128, eps=1e-05, momentum=0.1, affine=True, track_running_stats=True)\n            (2): ReLU()\n          )\n          (2): ConvLayer(\n            (0): Conv2d(128, 512, kernel_size=(1, 1), stride=(1, 1), bias=False)\n            (1): BatchNorm2d(512, eps=1e-05, momentum=0.1, affine=True, track_running_stats=True)\n          )\n        )\n      )\n    )\n    (2): Sequential(\n      (0): ResBlock(\n        (convs): Sequential(\n          (0): ConvLayer(\n            (0): Conv2d(512, 64, kernel_size=(1, 1), stride=(1, 1), bias=False)\n            (1): BatchNorm2d(64, eps=1e-05, momentum=0.1, affine=True, track_running_stats=True)\n            (2): ReLU()\n          )\n          (1): ConvLayer(\n            (0): Conv2d(64, 64, kernel_size=(3, 3), stride=(2, 2), padding=(1, 1), bias=False)\n            (1): BatchNorm2d(64, eps=1e-05, momentum=0.1, affine=True, track_running_stats=True)\n            (2): ReLU()\n          )\n          (2): ConvLayer(\n            (0): Conv2d(64, 256, kernel_size=(1, 1), stride=(1, 1), bias=False)\n            (1): BatchNorm2d(256, eps=1e-05, momentum=0.1, affine=True, track_running_stats=True)\n          )\n        )\n        (idconv): ConvLayer(\n          (0): Conv2d(512, 256, kernel_size=(1, 1), stride=(1, 1), bias=False)\n          (1): BatchNorm2d(256, eps=1e-05, momentum=0.1, affine=True, track_running_stats=True)\n        )\n        (pool): AvgPool2d(kernel_size=2, stride=2, padding=0)\n      )\n      (1): ResBlock(\n        (convs): Sequential(\n          (0): ConvLayer(\n            (0): Conv2d(256, 64, kernel_size=(1, 1), stride=(1, 1), bias=False)\n            (1): BatchNorm2d(64, eps=1e-05, momentum=0.1, affine=True, track_running_stats=True)\n            (2): ReLU()\n          )\n          (1): ConvLayer(\n            (0): Conv2d(64, 64, kernel_size=(3, 3), stride=(1, 1), padding=(1, 1), bias=False)\n            (1): BatchNorm2d(64, eps=1e-05, momentum=0.1, affine=True, track_running_stats=True)\n            (2): ReLU()\n          )\n          (2): ConvLayer(\n            (0): Conv2d(64, 256, kernel_size=(1, 1), stride=(1, 1), bias=False)\n            (1): BatchNorm2d(256, eps=1e-05, momentum=0.1, affine=True, track_running_stats=True)\n          )\n        )\n      )\n    )\n    (3): AdaptiveAvgPool2d(output_size=1)\n  )\n  (tcn): ConvNet1D(\n    (network): Sequential(\n      (0): BasicBlock1D(\n        (conv1): Conv1d(256, 512, kernel_size=(3,), stride=(1,), padding=(2,))\n        (batchnorm1): BatchNorm1d(512, eps=1e-05, momentum=0.1, affine=True, track_running_stats=True)\n        (chomp1): Chomp1d()\n        (relu1): PReLU(num_parameters=512)\n        (dropout1): Dropout(p=0.2, inplace=False)\n        (conv2): Conv1d(512, 512, kernel_size=(3,), stride=(1,), padding=(2,))\n        (batchnorm2): BatchNorm1d(512, eps=1e-05, momentum=0.1, affine=True, track_running_stats=True)\n        (chomp2): Chomp1d()\n        (relu2): PReLU(num_parameters=512)\n        (dropout2): Dropout(p=0.2, inplace=False)\n        (downsample): Conv1d(256, 512, kernel_size=(1,), stride=(1,))\n        (relu): PReLU(num_parameters=512)\n      )\n      (1): BasicBlock1D(\n        (conv1): Conv1d(512, 256, kernel_size=(3,), stride=(1,), padding=(4,), dilation=(2,))\n        (batchnorm1): BatchNorm1d(256, eps=1e-05, momentum=0.1, affine=True, track_running_stats=True)\n        (chomp1): Chomp1d()\n        (relu1): PReLU(num_parameters=256)\n        (dropout1): Dropout(p=0.2, inplace=False)\n        (conv2): Conv1d(256, 256, kernel_size=(3,), stride=(1,), padding=(4,), dilation=(2,))\n        (batchnorm2): BatchNorm1d(256, eps=1e-05, momentum=0.1, affine=True, track_running_stats=True)\n        (chomp2): Chomp1d()\n        (relu2): PReLU(num_parameters=256)\n        (dropout2): Dropout(p=0.2, inplace=False)\n        (downsample): Conv1d(512, 256, kernel_size=(1,), stride=(1,))\n        (relu): PReLU(num_parameters=256)\n      )\n    )\n  )\n  (convnet_output): Linear(in_features=256, out_features=100, bias=True)\n)"
     },
     "execution_count": 10,
     "metadata": {},
     "output_type": "execute_result"
    }
   ],
   "source": [
    "test_model"
   ],
   "metadata": {
    "collapsed": false,
    "pycharm": {
     "name": "#%%\n"
    }
   }
  },
  {
   "cell_type": "code",
   "execution_count": 11,
   "outputs": [],
   "source": [
    "epochs = 60\n",
    "lr = 3e-3\n",
    "optimizer = get_optimizer('sgd', optim_policies=test_model.parameters(),lr=lr)\n",
    "criterion = nn.CrossEntropyLoss()\n",
    "scheduler = CosineScheduler(lr, epochs)\n",
    "epoch=0"
   ],
   "metadata": {
    "collapsed": false,
    "pycharm": {
     "name": "#%%\n"
    }
   }
  },
  {
   "cell_type": "code",
   "execution_count": 12,
   "outputs": [
    {
     "name": "stdout",
     "output_type": "stream",
     "text": [
      "Current Epoch: 0\n",
      "Running Loss: 447556.44184446335, Running Corrects: 1667.0, Running All: 97055.0\n"
     ]
    },
    {
     "name": "stderr",
     "output_type": "stream",
     "text": [
      "100%|██████████| 157/157 [00:08<00:00, 18.31it/s]"
     ]
    },
    {
     "name": "stdout",
     "output_type": "stream",
     "text": [
      "4996 in total\tCR: 0.024619695756605286\n",
      "val Epoch:\t 0\tLoss val: 4.5184\tAcc val:0.0246, LR: 0.003\n",
      "Epoch len: 607.9054090976715 Estimated Remaining: 597.773652279377 Min\n",
      "Current Epoch: 1\n"
     ]
    },
    {
     "name": "stderr",
     "output_type": "stream",
     "text": [
      "\n"
     ]
    },
    {
     "name": "stdout",
     "output_type": "stream",
     "text": [
      "Running Loss: 418696.5159883499, Running Corrects: 4581.0, Running All: 97055.0\n"
     ]
    },
    {
     "name": "stderr",
     "output_type": "stream",
     "text": [
      "100%|██████████| 157/157 [00:07<00:00, 20.59it/s]"
     ]
    },
    {
     "name": "stdout",
     "output_type": "stream",
     "text": [
      "4996 in total\tCR: 0.10388310648518816\n",
      "val Epoch:\t 1\tLoss val: 3.8946\tAcc val:0.1039, LR: 0.003\n",
      "Epoch len: 607.5982427597046 Estimated Remaining: 587.3449680010477 Min\n",
      "Current Epoch: 2\n"
     ]
    },
    {
     "name": "stderr",
     "output_type": "stream",
     "text": [
      "\n"
     ]
    },
    {
     "name": "stdout",
     "output_type": "stream",
     "text": [
      "Running Loss: 292896.294129014, Running Corrects: 26320.0, Running All: 97055.0\n"
     ]
    },
    {
     "name": "stderr",
     "output_type": "stream",
     "text": [
      "100%|██████████| 157/157 [00:08<00:00, 17.50it/s]"
     ]
    },
    {
     "name": "stdout",
     "output_type": "stream",
     "text": [
      "4996 in total\tCR: 0.42634107285828665\n",
      "val Epoch:\t 2\tLoss val: 2.2510\tAcc val:0.4263, LR: 0.0029979443021318605\n",
      "Epoch len: 654.98592710495 Estimated Remaining: 622.2366307497025 Min\n",
      "Current Epoch: 3\n"
     ]
    },
    {
     "name": "stderr",
     "output_type": "stream",
     "text": [
      "\n"
     ]
    },
    {
     "name": "stdout",
     "output_type": "stream",
     "text": [
      "Running Loss: 178141.52954173088, Running Corrects: 51161.0, Running All: 97055.0\n"
     ]
    },
    {
     "name": "stderr",
     "output_type": "stream",
     "text": [
      "100%|██████████| 157/157 [00:11<00:00, 13.49it/s]"
     ]
    },
    {
     "name": "stdout",
     "output_type": "stream",
     "text": [
      "4996 in total\tCR: 0.6038831064851882\n",
      "val Epoch:\t 3\tLoss val: 1.4726\tAcc val:0.6039, LR: 0.00299178284305241\n",
      "Epoch len: 608.3334488868713 Estimated Remaining: 567.7778856277466 Min\n",
      "Current Epoch: 4\n"
     ]
    },
    {
     "name": "stderr",
     "output_type": "stream",
     "text": [
      "\n"
     ]
    },
    {
     "name": "stdout",
     "output_type": "stream",
     "text": [
      "Running Loss: 129272.78841853142, Running Corrects: 62711.0, Running All: 97055.0\n"
     ]
    },
    {
     "name": "stderr",
     "output_type": "stream",
     "text": [
      "100%|██████████| 157/157 [00:08<00:00, 18.04it/s]"
     ]
    },
    {
     "name": "stdout",
     "output_type": "stream",
     "text": [
      "4996 in total\tCR: 0.6755404323458767\n",
      "val Epoch:\t 4\tLoss val: 1.1866\tAcc val:0.6755, LR: 0.002981532510892707\n",
      "Epoch len: 605.6862194538116 Estimated Remaining: 555.2123678326607 Min\n",
      "Current Epoch: 5\n"
     ]
    },
    {
     "name": "stderr",
     "output_type": "stream",
     "text": [
      "\n"
     ]
    },
    {
     "name": "stdout",
     "output_type": "stream",
     "text": [
      "Running Loss: 103894.23182278872, Running Corrects: 68671.0, Running All: 97055.0\n"
     ]
    },
    {
     "name": "stderr",
     "output_type": "stream",
     "text": [
      "100%|██████████| 157/157 [00:09<00:00, 17.19it/s]"
     ]
    },
    {
     "name": "stdout",
     "output_type": "stream",
     "text": [
      "4996 in total\tCR: 0.727982385908727\n",
      "val Epoch:\t 5\tLoss val: 0.9959\tAcc val:0.7280, LR: 0.0029672214011007086\n",
      "Epoch len: 594.4720964431763 Estimated Remaining: 535.0248867988587 Min\n",
      "Current Epoch: 6\n"
     ]
    },
    {
     "name": "stderr",
     "output_type": "stream",
     "text": [
      "\n"
     ]
    },
    {
     "name": "stdout",
     "output_type": "stream",
     "text": [
      "Running Loss: 88464.42655581236, Running Corrects: 72666.0, Running All: 97055.0\n"
     ]
    },
    {
     "name": "stderr",
     "output_type": "stream",
     "text": [
      "100%|██████████| 157/157 [00:11<00:00, 13.29it/s]"
     ]
    },
    {
     "name": "stdout",
     "output_type": "stream",
     "text": [
      "4996 in total\tCR: 0.7489991993594876\n",
      "val Epoch:\t 6\tLoss val: 0.9131\tAcc val:0.7490, LR: 0.0029488887394336022\n",
      "Epoch len: 592.3015110492706 Estimated Remaining: 523.1996680935224 Min\n",
      "Current Epoch: 7\n"
     ]
    },
    {
     "name": "stderr",
     "output_type": "stream",
     "text": [
      "\n"
     ]
    },
    {
     "name": "stdout",
     "output_type": "stream",
     "text": [
      "Running Loss: 77414.96060955524, Running Corrects: 75226.0, Running All: 97055.0\n"
     ]
    },
    {
     "name": "stderr",
     "output_type": "stream",
     "text": [
      "100%|██████████| 157/157 [00:08<00:00, 18.17it/s]"
     ]
    },
    {
     "name": "stdout",
     "output_type": "stream",
     "text": [
      "4996 in total\tCR: 0.7656124899919936\n",
      "val Epoch:\t 7\tLoss val: 0.8344\tAcc val:0.7656, LR: 0.0029265847744427307\n",
      "Epoch len: 589.3309772014618 Estimated Remaining: 510.7535135746002 Min\n",
      "Current Epoch: 8\n"
     ]
    },
    {
     "name": "stderr",
     "output_type": "stream",
     "text": [
      "\n"
     ]
    },
    {
     "name": "stdout",
     "output_type": "stream",
     "text": [
      "Running Loss: 69278.5815525651, Running Corrects: 77484.0, Running All: 97055.0\n"
     ]
    },
    {
     "name": "stderr",
     "output_type": "stream",
     "text": [
      "100%|██████████| 157/157 [00:09<00:00, 17.18it/s]"
     ]
    },
    {
     "name": "stdout",
     "output_type": "stream",
     "text": [
      "4996 in total\tCR: 0.7856285028022418\n",
      "val Epoch:\t 8\tLoss val: 0.7453\tAcc val:0.7856, LR: 0.0029003706397458025\n",
      "Epoch len: 587.6624841690063 Estimated Remaining: 499.5131115436554 Min\n",
      "Current Epoch: 9\n"
     ]
    },
    {
     "name": "stderr",
     "output_type": "stream",
     "text": [
      "\n"
     ]
    },
    {
     "name": "stdout",
     "output_type": "stream",
     "text": [
      "Running Loss: 63039.93812263012, Running Corrects: 79030.0, Running All: 97055.0\n"
     ]
    },
    {
     "name": "stderr",
     "output_type": "stream",
     "text": [
      "100%|██████████| 157/157 [00:11<00:00, 13.20it/s]"
     ]
    },
    {
     "name": "stdout",
     "output_type": "stream",
     "text": [
      "4996 in total\tCR: 0.8018414731785428\n",
      "val Epoch:\t 9\tLoss val: 0.6974\tAcc val:0.8018, LR: 0.0028703181864639014\n",
      "Epoch len: 589.5260872840881 Estimated Remaining: 491.2717394034068 Min\n",
      "Current Epoch: 10\n"
     ]
    },
    {
     "name": "stderr",
     "output_type": "stream",
     "text": [
      "\n"
     ]
    },
    {
     "name": "stdout",
     "output_type": "stream",
     "text": [
      "Running Loss: 58289.48356342316, Running Corrects: 80301.0, Running All: 97055.0\n"
     ]
    },
    {
     "name": "stderr",
     "output_type": "stream",
     "text": [
      "100%|██████████| 157/157 [00:08<00:00, 17.81it/s]"
     ]
    },
    {
     "name": "stdout",
     "output_type": "stream",
     "text": [
      "4996 in total\tCR: 0.80564451561249\n",
      "val Epoch:\t10\tLoss val: 0.6558\tAcc val:0.8056, LR: 0.0028365097862825517\n",
      "Epoch len: 586.6798379421234 Estimated Remaining: 479.1218676527341 Min\n",
      "Current Epoch: 11\n"
     ]
    },
    {
     "name": "stderr",
     "output_type": "stream",
     "text": [
      "\n"
     ]
    },
    {
     "name": "stdout",
     "output_type": "stream",
     "text": [
      "Running Loss: 53559.955899357796, Running Corrects: 81545.0, Running All: 97055.0\n"
     ]
    },
    {
     "name": "stderr",
     "output_type": "stream",
     "text": [
      "100%|██████████| 157/157 [00:09<00:00, 17.17it/s]"
     ]
    },
    {
     "name": "stdout",
     "output_type": "stream",
     "text": [
      "4996 in total\tCR: 0.8180544435548439\n",
      "val Epoch:\t11\tLoss val: 0.6268\tAcc val:0.8181, LR: 0.002799038105676658\n",
      "Epoch len: 587.0732364654541 Estimated Remaining: 469.6585891723633 Min\n",
      "Current Epoch: 12\n"
     ]
    },
    {
     "name": "stderr",
     "output_type": "stream",
     "text": [
      "\n"
     ]
    },
    {
     "name": "stdout",
     "output_type": "stream",
     "text": [
      "Running Loss: 49734.14069327712, Running Corrects: 82555.0, Running All: 97055.0\n"
     ]
    },
    {
     "name": "stderr",
     "output_type": "stream",
     "text": [
      "100%|██████████| 157/157 [00:11<00:00, 13.10it/s]"
     ]
    },
    {
     "name": "stdout",
     "output_type": "stream",
     "text": [
      "4996 in total\tCR: 0.8258606885508407\n",
      "val Epoch:\t12\tLoss val: 0.6011\tAcc val:0.8259, LR: 0.0027580058519181363\n",
      "Epoch len: 589.7385971546173 Estimated Remaining: 461.96190110445025 Min\n",
      "Current Epoch: 13\n"
     ]
    },
    {
     "name": "stderr",
     "output_type": "stream",
     "text": [
      "\n"
     ]
    },
    {
     "name": "stdout",
     "output_type": "stream",
     "text": [
      "Running Loss: 46581.24746513367, Running Corrects: 83340.0, Running All: 97055.0\n"
     ]
    },
    {
     "name": "stderr",
     "output_type": "stream",
     "text": [
      "100%|██████████| 157/157 [00:08<00:00, 17.92it/s]"
     ]
    },
    {
     "name": "stdout",
     "output_type": "stream",
     "text": [
      "4996 in total\tCR: 0.8318654923939152\n",
      "val Epoch:\t13\tLoss val: 0.5869\tAcc val:0.8319, LR: 0.002713525491562421\n",
      "Epoch len: 586.3649344444275 Estimated Remaining: 449.5464497407277 Min\n",
      "Current Epoch: 14\n"
     ]
    },
    {
     "name": "stderr",
     "output_type": "stream",
     "text": [
      "\n"
     ]
    },
    {
     "name": "stdout",
     "output_type": "stream",
     "text": [
      "Running Loss: 43438.125988051295, Running Corrects: 84346.0, Running All: 97055.0\n"
     ]
    },
    {
     "name": "stderr",
     "output_type": "stream",
     "text": [
      "100%|██████████| 157/157 [00:09<00:00, 16.91it/s]"
     ]
    },
    {
     "name": "stdout",
     "output_type": "stream",
     "text": [
      "4996 in total\tCR: 0.8390712570056045\n",
      "val Epoch:\t14\tLoss val: 0.5546\tAcc val:0.8391, LR: 0.0026657189421854565\n",
      "Epoch len: 587.0220291614532 Estimated Remaining: 440.26652187108994 Min\n",
      "Current Epoch: 15\n"
     ]
    },
    {
     "name": "stderr",
     "output_type": "stream",
     "text": [
      "\n"
     ]
    },
    {
     "name": "stdout",
     "output_type": "stream",
     "text": [
      "Running Loss: 40996.154363811016, Running Corrects: 84904.0, Running All: 97055.0\n"
     ]
    },
    {
     "name": "stderr",
     "output_type": "stream",
     "text": [
      "100%|██████████| 157/157 [00:12<00:00, 13.08it/s]"
     ]
    },
    {
     "name": "stdout",
     "output_type": "stream",
     "text": [
      "4996 in total\tCR: 0.844675740592474\n",
      "val Epoch:\t15\tLoss val: 0.5351\tAcc val:0.8447, LR: 0.0026147172382160913\n",
      "Epoch len: 589.6575944423676 Estimated Remaining: 432.4155692577362 Min\n",
      "Current Epoch: 16\n"
     ]
    },
    {
     "name": "stderr",
     "output_type": "stream",
     "text": [
      "\n"
     ]
    },
    {
     "name": "stdout",
     "output_type": "stream",
     "text": [
      "Running Loss: 38573.90186789632, Running Corrects: 85682.0, Running All: 97055.0\n"
     ]
    },
    {
     "name": "stderr",
     "output_type": "stream",
     "text": [
      "100%|██████████| 157/157 [00:08<00:00, 17.65it/s]"
     ]
    },
    {
     "name": "stdout",
     "output_type": "stream",
     "text": [
      "4996 in total\tCR: 0.8422738190552442\n",
      "val Epoch:\t16\tLoss val: 0.5191\tAcc val:0.8423, LR: 0.002560660171779821\n",
      "Epoch len: 586.4628019332886 Estimated Remaining: 420.2983413855235 Min\n",
      "Current Epoch: 17\n"
     ]
    },
    {
     "name": "stderr",
     "output_type": "stream",
     "text": [
      "\n"
     ]
    },
    {
     "name": "stdout",
     "output_type": "stream",
     "text": [
      "Running Loss: 36347.509276121855, Running Corrects: 86239.0, Running All: 97055.0\n"
     ]
    },
    {
     "name": "stderr",
     "output_type": "stream",
     "text": [
      "100%|██████████| 157/157 [00:09<00:00, 16.93it/s]"
     ]
    },
    {
     "name": "stdout",
     "output_type": "stream",
     "text": [
      "4996 in total\tCR: 0.850480384307446\n",
      "val Epoch:\t17\tLoss val: 0.5083\tAcc val:0.8505, LR: 0.0025036959095382874\n",
      "Epoch len: 587.2931320667267 Estimated Remaining: 411.10519244670866 Min\n",
      "Current Epoch: 18\n"
     ]
    },
    {
     "name": "stderr",
     "output_type": "stream",
     "text": [
      "\n"
     ]
    },
    {
     "name": "stdout",
     "output_type": "stream",
     "text": [
      "Running Loss: 34595.45786899328, Running Corrects: 86688.0, Running All: 97055.0\n"
     ]
    },
    {
     "name": "stderr",
     "output_type": "stream",
     "text": [
      "100%|██████████| 157/157 [00:11<00:00, 13.09it/s]"
     ]
    },
    {
     "name": "stdout",
     "output_type": "stream",
     "text": [
      "4996 in total\tCR: 0.8512810248198559\n",
      "val Epoch:\t18\tLoss val: 0.5044\tAcc val:0.8513, LR: 0.0024439805865747563\n",
      "Epoch len: 589.9799661636353 Estimated Remaining: 403.1529768784841 Min\n",
      "Current Epoch: 19\n"
     ]
    },
    {
     "name": "stderr",
     "output_type": "stream",
     "text": [
      "\n"
     ]
    },
    {
     "name": "stdout",
     "output_type": "stream",
     "text": [
      "Running Loss: 32523.63695219159, Running Corrects: 87364.0, Running All: 97055.0\n"
     ]
    },
    {
     "name": "stderr",
     "output_type": "stream",
     "text": [
      "100%|██████████| 157/157 [00:08<00:00, 17.49it/s]"
     ]
    },
    {
     "name": "stdout",
     "output_type": "stream",
     "text": [
      "4996 in total\tCR: 0.8444755804643715\n",
      "val Epoch:\t19\tLoss val: 0.5302\tAcc val:0.8445, LR: 0.00238167787843871\n",
      "Epoch len: 586.6828725337982 Estimated Remaining: 391.12191502253216 Min\n",
      "Current Epoch: 20\n"
     ]
    },
    {
     "name": "stderr",
     "output_type": "stream",
     "text": [
      "\n"
     ]
    },
    {
     "name": "stdout",
     "output_type": "stream",
     "text": [
      "Running Loss: 30501.682717859745, Running Corrects: 88014.0, Running All: 97055.0\n"
     ]
    },
    {
     "name": "stderr",
     "output_type": "stream",
     "text": [
      "100%|██████████| 157/157 [00:12<00:00, 12.54it/s]"
     ]
    },
    {
     "name": "stdout",
     "output_type": "stream",
     "text": [
      "4996 in total\tCR: 0.8548839071257006\n",
      "val Epoch:\t20\tLoss val: 0.4916\tAcc val:0.8549, LR: 0.0023169585525225408\n",
      "Epoch len: 589.4974007606506 Estimated Remaining: 383.17331049442294 Min\n",
      "Current Epoch: 21\n"
     ]
    },
    {
     "name": "stderr",
     "output_type": "stream",
     "text": [
      "\n"
     ]
    },
    {
     "name": "stdout",
     "output_type": "stream",
     "text": [
      "Running Loss: 29261.54903754592, Running Corrects: 88310.0, Running All: 97055.0\n"
     ]
    },
    {
     "name": "stderr",
     "output_type": "stream",
     "text": [
      "100%|██████████| 157/157 [00:09<00:00, 17.02it/s]"
     ]
    },
    {
     "name": "stdout",
     "output_type": "stream",
     "text": [
      "4996 in total\tCR: 0.8588871096877502\n",
      "val Epoch:\t21\tLoss val: 0.4942\tAcc val:0.8589, LR: 0.0022500000000000003\n",
      "Epoch len: 578.3053436279297 Estimated Remaining: 366.26005096435546 Min\n",
      "Current Epoch: 22\n"
     ]
    },
    {
     "name": "stderr",
     "output_type": "stream",
     "text": [
      "\n"
     ]
    },
    {
     "name": "stdout",
     "output_type": "stream",
     "text": [
      "Running Loss: 27412.03896944225, Running Corrects: 88875.0, Running All: 97055.0\n"
     ]
    },
    {
     "name": "stderr",
     "output_type": "stream",
     "text": [
      "100%|██████████| 157/157 [00:07<00:00, 21.36it/s]"
     ]
    },
    {
     "name": "stdout",
     "output_type": "stream",
     "text": [
      "4996 in total\tCR: 0.8556845476381105\n",
      "val Epoch:\t22\tLoss val: 0.4946\tAcc val:0.8557, LR: 0.0021809857496093202\n",
      "Epoch len: 576.1623837947845 Estimated Remaining: 355.3001366734505 Min\n",
      "Current Epoch: 23\n"
     ]
    },
    {
     "name": "stderr",
     "output_type": "stream",
     "text": [
      "\n"
     ]
    },
    {
     "name": "stdout",
     "output_type": "stream",
     "text": [
      "Running Loss: 25984.431471139193, Running Corrects: 89330.0, Running All: 97055.0\n"
     ]
    },
    {
     "name": "stderr",
     "output_type": "stream",
     "text": [
      "100%|██████████| 157/157 [00:06<00:00, 22.66it/s]"
     ]
    },
    {
     "name": "stdout",
     "output_type": "stream",
     "text": [
      "4996 in total\tCR: 0.8530824659727783\n",
      "val Epoch:\t23\tLoss val: 0.4994\tAcc val:0.8531, LR: 0.0021101049646137008\n",
      "Epoch len: 575.8463428020477 Estimated Remaining: 345.50780568122866 Min\n",
      "Current Epoch: 24\n"
     ]
    },
    {
     "name": "stderr",
     "output_type": "stream",
     "text": [
      "\n"
     ]
    },
    {
     "name": "stdout",
     "output_type": "stream",
     "text": [
      "Running Loss: 24739.15904006362, Running Corrects: 89679.0, Running All: 97055.0\n"
     ]
    },
    {
     "name": "stderr",
     "output_type": "stream",
     "text": [
      "100%|██████████| 157/157 [00:07<00:00, 22.07it/s]"
     ]
    },
    {
     "name": "stdout",
     "output_type": "stream",
     "text": [
      "4996 in total\tCR: 0.8584867894315452\n",
      "val Epoch:\t24\tLoss val: 0.4988\tAcc val:0.8585, LR: 0.0020375519243179506\n",
      "Epoch len: 575.8613042831421 Estimated Remaining: 335.9190941651662 Min\n",
      "Current Epoch: 25\n"
     ]
    },
    {
     "name": "stderr",
     "output_type": "stream",
     "text": [
      "\n"
     ]
    },
    {
     "name": "stdout",
     "output_type": "stream",
     "text": [
      "Running Loss: 23677.39856940508, Running Corrects: 89914.0, Running All: 97055.0\n"
     ]
    },
    {
     "name": "stderr",
     "output_type": "stream",
     "text": [
      "100%|██████████| 157/157 [00:07<00:00, 21.96it/s]"
     ]
    },
    {
     "name": "stdout",
     "output_type": "stream",
     "text": [
      "4996 in total\tCR: 0.8578863090472378\n",
      "val Epoch:\t25\tLoss val: 0.4895\tAcc val:0.8579, LR: 0.0019635254915624212\n",
      "Epoch len: 575.9958646297455 Estimated Remaining: 326.39765662352244 Min\n",
      "Current Epoch: 26\n"
     ]
    },
    {
     "name": "stderr",
     "output_type": "stream",
     "text": [
      "\n"
     ]
    },
    {
     "name": "stdout",
     "output_type": "stream",
     "text": [
      "Running Loss: 21928.51453346014, Running Corrects: 90505.0, Running All: 97055.0\n"
     ]
    },
    {
     "name": "stderr",
     "output_type": "stream",
     "text": [
      "100%|██████████| 157/157 [00:07<00:00, 22.11it/s]"
     ]
    },
    {
     "name": "stdout",
     "output_type": "stream",
     "text": [
      "4996 in total\tCR: 0.8628903122497998\n",
      "val Epoch:\t26\tLoss val: 0.4616\tAcc val:0.8629, LR: 0.0018882285676537812\n",
      "Epoch len: 576.1768805980682 Estimated Remaining: 316.89728432893753 Min\n",
      "Current Epoch: 27\n"
     ]
    },
    {
     "name": "stderr",
     "output_type": "stream",
     "text": [
      "\n"
     ]
    },
    {
     "name": "stdout",
     "output_type": "stream",
     "text": [
      "Running Loss: 20812.030253380537, Running Corrects: 90878.0, Running All: 97055.0\n"
     ]
    },
    {
     "name": "stderr",
     "output_type": "stream",
     "text": [
      "100%|██████████| 157/157 [00:07<00:00, 22.04it/s]"
     ]
    },
    {
     "name": "stdout",
     "output_type": "stream",
     "text": [
      "4996 in total\tCR: 0.866693354683747\n",
      "val Epoch:\t27\tLoss val: 0.4598\tAcc val:0.8667, LR: 0.0018118675362266388\n",
      "Epoch len: 575.8184359073639 Estimated Remaining: 307.10316581726073 Min\n",
      "Current Epoch: 28\n"
     ]
    },
    {
     "name": "stderr",
     "output_type": "stream",
     "text": [
      "\n"
     ]
    },
    {
     "name": "stdout",
     "output_type": "stream",
     "text": [
      "Running Loss: 19995.90737849474, Running Corrects: 91032.0, Running All: 97055.0\n"
     ]
    },
    {
     "name": "stderr",
     "output_type": "stream",
     "text": [
      "100%|██████████| 157/157 [00:07<00:00, 22.13it/s]"
     ]
    },
    {
     "name": "stdout",
     "output_type": "stream",
     "text": [
      "4996 in total\tCR: 0.8674939951961569\n",
      "val Epoch:\t28\tLoss val: 0.4722\tAcc val:0.8675, LR: 0.0017346516975603465\n",
      "Epoch len: 575.8833305835724 Estimated Remaining: 297.5397208015124 Min\n",
      "Current Epoch: 29\n"
     ]
    },
    {
     "name": "stderr",
     "output_type": "stream",
     "text": [
      "\n"
     ]
    },
    {
     "name": "stdout",
     "output_type": "stream",
     "text": [
      "Running Loss: 18741.324703797698, Running Corrects: 91486.0, Running All: 97055.0\n"
     ]
    },
    {
     "name": "stderr",
     "output_type": "stream",
     "text": [
      "100%|██████████| 157/157 [00:07<00:00, 22.18it/s]"
     ]
    },
    {
     "name": "stdout",
     "output_type": "stream",
     "text": [
      "4996 in total\tCR: 0.8682946357085669\n",
      "val Epoch:\t29\tLoss val: 0.4715\tAcc val:0.8683, LR: 0.0016567926949014804\n",
      "Epoch len: 575.496171951294 Estimated Remaining: 287.748085975647 Min\n",
      "Current Epoch: 30\n"
     ]
    },
    {
     "name": "stderr",
     "output_type": "stream",
     "text": [
      "\n"
     ]
    },
    {
     "name": "stdout",
     "output_type": "stream",
     "text": [
      "Running Loss: 17645.89066043496, Running Corrects: 91822.0, Running All: 97055.0\n"
     ]
    },
    {
     "name": "stderr",
     "output_type": "stream",
     "text": [
      "100%|██████████| 157/157 [00:07<00:00, 22.26it/s]"
     ]
    },
    {
     "name": "stdout",
     "output_type": "stream",
     "text": [
      "4996 in total\tCR: 0.8714971977582066\n",
      "val Epoch:\t30\tLoss val: 0.4638\tAcc val:0.8715, LR: 0.0015785039343644157\n",
      "Epoch len: 575.88738322258 Estimated Remaining: 278.3455685575803 Min\n",
      "Current Epoch: 31\n"
     ]
    },
    {
     "name": "stderr",
     "output_type": "stream",
     "text": [
      "\n"
     ]
    },
    {
     "name": "stdout",
     "output_type": "stream",
     "text": [
      "Running Loss: 16640.84987387061, Running Corrects: 92072.0, Running All: 97055.0\n"
     ]
    },
    {
     "name": "stderr",
     "output_type": "stream",
     "text": [
      "100%|██████████| 157/157 [00:07<00:00, 22.18it/s]"
     ]
    },
    {
     "name": "stdout",
     "output_type": "stream",
     "text": [
      "4996 in total\tCR: 0.8682946357085669\n",
      "val Epoch:\t31\tLoss val: 0.4767\tAcc val:0.8683, LR: 0.0015000000000000005\n",
      "Epoch len: 575.5034067630768 Estimated Remaining: 268.56825648943584 Min\n",
      "Current Epoch: 32\n"
     ]
    },
    {
     "name": "stderr",
     "output_type": "stream",
     "text": [
      "\n"
     ]
    },
    {
     "name": "stdout",
     "output_type": "stream",
     "text": [
      "Running Loss: 15710.055156335235, Running Corrects: 92367.0, Running All: 97055.0\n"
     ]
    },
    {
     "name": "stderr",
     "output_type": "stream",
     "text": [
      "100%|██████████| 157/157 [00:07<00:00, 22.34it/s]"
     ]
    },
    {
     "name": "stdout",
     "output_type": "stream",
     "text": [
      "4996 in total\tCR: 0.866293034427542\n",
      "val Epoch:\t32\tLoss val: 0.4723\tAcc val:0.8663, LR: 0.0014214960656355846\n",
      "Epoch len: 575.4389500617981 Estimated Remaining: 258.94752752780914 Min\n",
      "Current Epoch: 33\n"
     ]
    },
    {
     "name": "stderr",
     "output_type": "stream",
     "text": [
      "\n"
     ]
    },
    {
     "name": "stdout",
     "output_type": "stream",
     "text": [
      "Running Loss: 14663.908410385251, Running Corrects: 92767.0, Running All: 97055.0\n"
     ]
    },
    {
     "name": "stderr",
     "output_type": "stream",
     "text": [
      "100%|██████████| 157/157 [00:07<00:00, 22.26it/s]"
     ]
    },
    {
     "name": "stdout",
     "output_type": "stream",
     "text": [
      "4996 in total\tCR: 0.872497998398719\n",
      "val Epoch:\t33\tLoss val: 0.4652\tAcc val:0.8725, LR: 0.0013432073050985201\n",
      "Epoch len: 575.7791032791138 Estimated Remaining: 249.50427808761597 Min\n",
      "Current Epoch: 34\n"
     ]
    },
    {
     "name": "stderr",
     "output_type": "stream",
     "text": [
      "\n"
     ]
    },
    {
     "name": "stdout",
     "output_type": "stream",
     "text": [
      "Running Loss: 14008.656751468778, Running Corrects: 92976.0, Running All: 97055.0\n"
     ]
    },
    {
     "name": "stderr",
     "output_type": "stream",
     "text": [
      "100%|██████████| 157/157 [00:07<00:00, 22.26it/s]"
     ]
    },
    {
     "name": "stdout",
     "output_type": "stream",
     "text": [
      "4996 in total\tCR: 0.872097678142514\n",
      "val Epoch:\t34\tLoss val: 0.4743\tAcc val:0.8721, LR: 0.0012653483024396537\n",
      "Epoch len: 575.6450002193451 Estimated Remaining: 239.8520834247271 Min\n",
      "Current Epoch: 35\n"
     ]
    },
    {
     "name": "stderr",
     "output_type": "stream",
     "text": [
      "\n"
     ]
    },
    {
     "name": "stdout",
     "output_type": "stream",
     "text": [
      "Running Loss: 12820.014156728983, Running Corrects: 93411.0, Running All: 97055.0\n"
     ]
    },
    {
     "name": "stderr",
     "output_type": "stream",
     "text": [
      "100%|██████████| 157/157 [00:07<00:00, 22.28it/s]"
     ]
    },
    {
     "name": "stdout",
     "output_type": "stream",
     "text": [
      "4996 in total\tCR: 0.8730984787830264\n",
      "val Epoch:\t35\tLoss val: 0.4644\tAcc val:0.8731, LR: 0.001188132463773361\n",
      "Epoch len: 575.4732666015625 Estimated Remaining: 230.189306640625 Min\n",
      "Current Epoch: 36\n"
     ]
    },
    {
     "name": "stderr",
     "output_type": "stream",
     "text": [
      "\n"
     ]
    },
    {
     "name": "stdout",
     "output_type": "stream",
     "text": [
      "Running Loss: 12335.794462364167, Running Corrects: 93497.0, Running All: 97055.0\n"
     ]
    },
    {
     "name": "stderr",
     "output_type": "stream",
     "text": [
      "100%|██████████| 157/157 [00:07<00:00, 22.40it/s]"
     ]
    },
    {
     "name": "stdout",
     "output_type": "stream",
     "text": [
      "4996 in total\tCR: 0.872097678142514\n",
      "val Epoch:\t36\tLoss val: 0.4723\tAcc val:0.8721, LR: 0.001111771432346219\n",
      "Epoch len: 575.6335651874542 Estimated Remaining: 220.65953332185745 Min\n",
      "Current Epoch: 37\n"
     ]
    },
    {
     "name": "stderr",
     "output_type": "stream",
     "text": [
      "\n"
     ]
    },
    {
     "name": "stdout",
     "output_type": "stream",
     "text": [
      "Running Loss: 11510.56820654124, Running Corrects: 93807.0, Running All: 97055.0\n"
     ]
    },
    {
     "name": "stderr",
     "output_type": "stream",
     "text": [
      "100%|██████████| 157/157 [00:07<00:00, 22.39it/s]"
     ]
    },
    {
     "name": "stdout",
     "output_type": "stream",
     "text": [
      "4996 in total\tCR: 0.8714971977582066\n",
      "val Epoch:\t37\tLoss val: 0.4649\tAcc val:0.8715, LR: 0.001036474508437579\n",
      "Epoch len: 575.6307718753815 Estimated Remaining: 211.06461635430654 Min\n",
      "Current Epoch: 38\n"
     ]
    },
    {
     "name": "stderr",
     "output_type": "stream",
     "text": [
      "\n"
     ]
    },
    {
     "name": "stdout",
     "output_type": "stream",
     "text": [
      "Running Loss: 10980.519669950008, Running Corrects: 93996.0, Running All: 97055.0\n"
     ]
    },
    {
     "name": "stderr",
     "output_type": "stream",
     "text": [
      "100%|██████████| 157/157 [00:06<00:00, 22.45it/s]"
     ]
    },
    {
     "name": "stdout",
     "output_type": "stream",
     "text": [
      "4996 in total\tCR: 0.8718975180144115\n",
      "val Epoch:\t38\tLoss val: 0.4647\tAcc val:0.8719, LR: 0.0009624480756820496\n",
      "Epoch len: 575.419823884964 Estimated Remaining: 201.3969383597374 Min\n",
      "Current Epoch: 39\n"
     ]
    },
    {
     "name": "stderr",
     "output_type": "stream",
     "text": [
      "\n"
     ]
    },
    {
     "name": "stdout",
     "output_type": "stream",
     "text": [
      "Running Loss: 10137.87120321393, Running Corrects: 94277.0, Running All: 97055.0\n"
     ]
    },
    {
     "name": "stderr",
     "output_type": "stream",
     "text": [
      "100%|██████████| 157/157 [00:07<00:00, 22.27it/s]"
     ]
    },
    {
     "name": "stdout",
     "output_type": "stream",
     "text": [
      "4996 in total\tCR: 0.877902321857486\n",
      "val Epoch:\t39\tLoss val: 0.4538\tAcc val:0.8779, LR: 0.0008898950353862999\n",
      "Epoch len: 575.7714943885803 Estimated Remaining: 191.9238314628601 Min\n",
      "Current Epoch: 40\n"
     ]
    },
    {
     "name": "stderr",
     "output_type": "stream",
     "text": [
      "\n"
     ]
    },
    {
     "name": "stdout",
     "output_type": "stream",
     "text": [
      "Running Loss: 9637.772123858333, Running Corrects: 94454.0, Running All: 97055.0\n"
     ]
    },
    {
     "name": "stderr",
     "output_type": "stream",
     "text": [
      "100%|██████████| 157/157 [00:07<00:00, 22.31it/s]"
     ]
    },
    {
     "name": "stdout",
     "output_type": "stream",
     "text": [
      "4996 in total\tCR: 0.8761008807045636\n",
      "val Epoch:\t40\tLoss val: 0.4719\tAcc val:0.8761, LR: 0.0008190142503906799\n",
      "Epoch len: 575.7391138076782 Estimated Remaining: 182.3173860390981 Min\n",
      "Current Epoch: 41\n"
     ]
    },
    {
     "name": "stderr",
     "output_type": "stream",
     "text": [
      "\n"
     ]
    },
    {
     "name": "stdout",
     "output_type": "stream",
     "text": [
      "Running Loss: 9257.988087750971, Running Corrects: 94524.0, Running All: 97055.0\n"
     ]
    },
    {
     "name": "stderr",
     "output_type": "stream",
     "text": [
      "100%|██████████| 157/157 [00:07<00:00, 22.41it/s]"
     ]
    },
    {
     "name": "stdout",
     "output_type": "stream",
     "text": [
      "4996 in total\tCR: 0.8783026421136909\n",
      "val Epoch:\t41\tLoss val: 0.4587\tAcc val:0.8783, LR: 0.0007500000000000003\n",
      "Epoch len: 575.654721736908 Estimated Remaining: 172.6964165210724 Min\n",
      "Current Epoch: 42\n"
     ]
    },
    {
     "name": "stderr",
     "output_type": "stream",
     "text": [
      "\n"
     ]
    },
    {
     "name": "stdout",
     "output_type": "stream",
     "text": [
      "Running Loss: 8722.774708528072, Running Corrects: 94746.0, Running All: 97055.0\n"
     ]
    },
    {
     "name": "stderr",
     "output_type": "stream",
     "text": [
      "100%|██████████| 157/157 [00:06<00:00, 22.45it/s]"
     ]
    },
    {
     "name": "stdout",
     "output_type": "stream",
     "text": [
      "4996 in total\tCR: 0.8748999199359487\n",
      "val Epoch:\t42\tLoss val: 0.4686\tAcc val:0.8749, LR: 0.0006830414474774599\n",
      "Epoch len: 575.8198215961456 Estimated Remaining: 163.14894945224125 Min\n",
      "Current Epoch: 43\n"
     ]
    },
    {
     "name": "stderr",
     "output_type": "stream",
     "text": [
      "\n"
     ]
    },
    {
     "name": "stdout",
     "output_type": "stream",
     "text": [
      "Running Loss: 8317.067964494228, Running Corrects: 94889.0, Running All: 97055.0\n"
     ]
    },
    {
     "name": "stderr",
     "output_type": "stream",
     "text": [
      "100%|██████████| 157/157 [00:06<00:00, 22.56it/s]"
     ]
    },
    {
     "name": "stdout",
     "output_type": "stream",
     "text": [
      "4996 in total\tCR: 0.8795036028823059\n",
      "val Epoch:\t43\tLoss val: 0.4517\tAcc val:0.8795, LR: 0.0006183221215612905\n",
      "Epoch len: 574.9922757148743 Estimated Remaining: 153.33127352396647 Min\n",
      "Current Epoch: 44\n"
     ]
    },
    {
     "name": "stderr",
     "output_type": "stream",
     "text": [
      "\n"
     ]
    },
    {
     "name": "stdout",
     "output_type": "stream",
     "text": [
      "Running Loss: 8001.92441791296, Running Corrects: 94986.0, Running All: 97055.0\n"
     ]
    },
    {
     "name": "stderr",
     "output_type": "stream",
     "text": [
      "100%|██████████| 157/157 [00:06<00:00, 22.47it/s]"
     ]
    },
    {
     "name": "stdout",
     "output_type": "stream",
     "text": [
      "4996 in total\tCR: 0.8795036028823059\n",
      "val Epoch:\t44\tLoss val: 0.4558\tAcc val:0.8795, LR: 0.0005560194134252441\n",
      "Epoch len: 575.6146032810211 Estimated Remaining: 143.90365082025528 Min\n",
      "Current Epoch: 45\n"
     ]
    },
    {
     "name": "stderr",
     "output_type": "stream",
     "text": [
      "\n"
     ]
    },
    {
     "name": "stdout",
     "output_type": "stream",
     "text": [
      "Running Loss: 7385.756738962606, Running Corrects: 95224.0, Running All: 97055.0\n"
     ]
    },
    {
     "name": "stderr",
     "output_type": "stream",
     "text": [
      "100%|██████████| 157/157 [00:06<00:00, 22.47it/s]"
     ]
    },
    {
     "name": "stdout",
     "output_type": "stream",
     "text": [
      "4996 in total\tCR: 0.8805044035228182\n",
      "val Epoch:\t45\tLoss val: 0.4607\tAcc val:0.8805, LR: 0.0004963040904617131\n",
      "Epoch len: 575.4908967018127 Estimated Remaining: 134.28120923042297 Min\n",
      "Current Epoch: 46\n"
     ]
    },
    {
     "name": "stderr",
     "output_type": "stream",
     "text": [
      "\n"
     ]
    },
    {
     "name": "stdout",
     "output_type": "stream",
     "text": [
      "Running Loss: 7050.996140304953, Running Corrects: 95312.0, Running All: 97055.0\n"
     ]
    },
    {
     "name": "stderr",
     "output_type": "stream",
     "text": [
      "100%|██████████| 157/157 [00:06<00:00, 22.55it/s]"
     ]
    },
    {
     "name": "stdout",
     "output_type": "stream",
     "text": [
      "4996 in total\tCR: 0.8791032826261009\n",
      "val Epoch:\t46\tLoss val: 0.4660\tAcc val:0.8791, LR: 0.0004393398282201788\n",
      "Epoch len: 575.5117127895355 Estimated Remaining: 124.6942044377327 Min\n",
      "Current Epoch: 47\n"
     ]
    },
    {
     "name": "stderr",
     "output_type": "stream",
     "text": [
      "\n"
     ]
    },
    {
     "name": "stdout",
     "output_type": "stream",
     "text": [
      "Running Loss: 6857.4195507615805, Running Corrects: 95398.0, Running All: 97055.0\n"
     ]
    },
    {
     "name": "stderr",
     "output_type": "stream",
     "text": [
      "100%|██████████| 157/157 [00:06<00:00, 22.52it/s]"
     ]
    },
    {
     "name": "stdout",
     "output_type": "stream",
     "text": [
      "4996 in total\tCR: 0.8769015212169736\n",
      "val Epoch:\t47\tLoss val: 0.4702\tAcc val:0.8769, LR: 0.000385282761783909\n",
      "Epoch len: 575.6736888885498 Estimated Remaining: 115.13473777770996 Min\n",
      "Current Epoch: 48\n"
     ]
    },
    {
     "name": "stderr",
     "output_type": "stream",
     "text": [
      "\n"
     ]
    },
    {
     "name": "stdout",
     "output_type": "stream",
     "text": [
      "Running Loss: 6558.136459432542, Running Corrects: 95535.0, Running All: 97055.0\n"
     ]
    },
    {
     "name": "stderr",
     "output_type": "stream",
     "text": [
      "100%|██████████| 157/157 [00:07<00:00, 22.41it/s]"
     ]
    },
    {
     "name": "stdout",
     "output_type": "stream",
     "text": [
      "4996 in total\tCR: 0.8807045636509208\n",
      "val Epoch:\t48\tLoss val: 0.4665\tAcc val:0.8807, LR: 0.00033428105781454365\n",
      "Epoch len: 575.7626121044159 Estimated Remaining: 105.55647888580958 Min\n",
      "Current Epoch: 49\n"
     ]
    },
    {
     "name": "stderr",
     "output_type": "stream",
     "text": [
      "\n"
     ]
    },
    {
     "name": "stdout",
     "output_type": "stream",
     "text": [
      "Running Loss: 6424.441040344536, Running Corrects: 95508.0, Running All: 97055.0\n"
     ]
    },
    {
     "name": "stderr",
     "output_type": "stream",
     "text": [
      "100%|██████████| 157/157 [00:07<00:00, 22.13it/s]"
     ]
    },
    {
     "name": "stdout",
     "output_type": "stream",
     "text": [
      "4996 in total\tCR: 0.8805044035228182\n",
      "val Epoch:\t49\tLoss val: 0.4659\tAcc val:0.8805, LR: 0.000286474508437579\n",
      "Epoch len: 575.8741264343262 Estimated Remaining: 95.9790210723877 Min\n",
      "Current Epoch: 50\n"
     ]
    },
    {
     "name": "stderr",
     "output_type": "stream",
     "text": [
      "\n"
     ]
    },
    {
     "name": "stdout",
     "output_type": "stream",
     "text": [
      "Running Loss: 6067.799519978464, Running Corrects: 95673.0, Running All: 97055.0\n"
     ]
    },
    {
     "name": "stderr",
     "output_type": "stream",
     "text": [
      "100%|██████████| 157/157 [00:07<00:00, 22.37it/s]"
     ]
    },
    {
     "name": "stdout",
     "output_type": "stream",
     "text": [
      "4996 in total\tCR: 0.8797037630104083\n",
      "val Epoch:\t50\tLoss val: 0.4632\tAcc val:0.8797, LR: 0.0002419941480818641\n",
      "Epoch len: 575.4925606250763 Estimated Remaining: 86.32388409376145 Min\n",
      "Current Epoch: 51\n"
     ]
    },
    {
     "name": "stderr",
     "output_type": "stream",
     "text": [
      "\n"
     ]
    },
    {
     "name": "stdout",
     "output_type": "stream",
     "text": [
      "Running Loss: 5872.90506048128, Running Corrects: 95695.0, Running All: 97055.0\n"
     ]
    },
    {
     "name": "stderr",
     "output_type": "stream",
     "text": [
      "100%|██████████| 157/157 [00:07<00:00, 22.28it/s]"
     ]
    },
    {
     "name": "stdout",
     "output_type": "stream",
     "text": [
      "4996 in total\tCR: 0.8787029623698959\n",
      "val Epoch:\t51\tLoss val: 0.4677\tAcc val:0.8787, LR: 0.00020096189432334193\n",
      "Epoch len: 575.4839422702789 Estimated Remaining: 76.73119230270386 Min\n",
      "Current Epoch: 52\n"
     ]
    },
    {
     "name": "stderr",
     "output_type": "stream",
     "text": [
      "\n"
     ]
    },
    {
     "name": "stdout",
     "output_type": "stream",
     "text": [
      "Running Loss: 5821.06127768755, Running Corrects: 95742.0, Running All: 97055.0\n"
     ]
    },
    {
     "name": "stderr",
     "output_type": "stream",
     "text": [
      "100%|██████████| 157/157 [00:06<00:00, 22.59it/s]"
     ]
    },
    {
     "name": "stdout",
     "output_type": "stream",
     "text": [
      "4996 in total\tCR: 0.8793034427542034\n",
      "val Epoch:\t52\tLoss val: 0.4669\tAcc val:0.8793, LR: 0.00016349021371744833\n",
      "Epoch len: 575.5304560661316 Estimated Remaining: 67.14521987438202 Min\n",
      "Current Epoch: 53\n"
     ]
    },
    {
     "name": "stderr",
     "output_type": "stream",
     "text": [
      "\n"
     ]
    },
    {
     "name": "stdout",
     "output_type": "stream",
     "text": [
      "Running Loss: 5715.67990456149, Running Corrects: 95751.0, Running All: 97055.0\n"
     ]
    },
    {
     "name": "stderr",
     "output_type": "stream",
     "text": [
      "100%|██████████| 157/157 [00:06<00:00, 22.55it/s]"
     ]
    },
    {
     "name": "stdout",
     "output_type": "stream",
     "text": [
      "4996 in total\tCR: 0.8831064851881505\n",
      "val Epoch:\t53\tLoss val: 0.4662\tAcc val:0.8831, LR: 0.00012968181353609855\n",
      "Epoch len: 575.5843729972839 Estimated Remaining: 57.558437299728396 Min\n",
      "Current Epoch: 54\n"
     ]
    },
    {
     "name": "stderr",
     "output_type": "stream",
     "text": [
      "\n"
     ]
    },
    {
     "name": "stdout",
     "output_type": "stream",
     "text": [
      "Running Loss: 5581.11128591001, Running Corrects: 95827.0, Running All: 97055.0\n"
     ]
    },
    {
     "name": "stderr",
     "output_type": "stream",
     "text": [
      "100%|██████████| 157/157 [00:06<00:00, 22.61it/s]"
     ]
    },
    {
     "name": "stdout",
     "output_type": "stream",
     "text": [
      "4996 in total\tCR: 0.8791032826261009\n",
      "val Epoch:\t54\tLoss val: 0.4650\tAcc val:0.8791, LR: 9.962936025419738e-05\n",
      "Epoch len: 575.7365124225616 Estimated Remaining: 47.978042701880135 Min\n",
      "Current Epoch: 55\n"
     ]
    },
    {
     "name": "stderr",
     "output_type": "stream",
     "text": [
      "\n"
     ]
    },
    {
     "name": "stdout",
     "output_type": "stream",
     "text": [
      "Running Loss: 5487.1809557676315, Running Corrects: 95835.0, Running All: 97055.0\n"
     ]
    },
    {
     "name": "stderr",
     "output_type": "stream",
     "text": [
      "100%|██████████| 157/157 [00:06<00:00, 22.60it/s]"
     ]
    },
    {
     "name": "stdout",
     "output_type": "stream",
     "text": [
      "4996 in total\tCR: 0.8807045636509208\n",
      "val Epoch:\t55\tLoss val: 0.4669\tAcc val:0.8807, LR: 7.341522555726971e-05\n",
      "Epoch len: 575.742995262146 Estimated Remaining: 38.382866350809735 Min\n",
      "Current Epoch: 56\n"
     ]
    },
    {
     "name": "stderr",
     "output_type": "stream",
     "text": [
      "\n"
     ]
    },
    {
     "name": "stdout",
     "output_type": "stream",
     "text": [
      "Running Loss: 5420.24261470139, Running Corrects: 95883.0, Running All: 97055.0\n"
     ]
    },
    {
     "name": "stderr",
     "output_type": "stream",
     "text": [
      "100%|██████████| 157/157 [00:06<00:00, 22.59it/s]"
     ]
    },
    {
     "name": "stdout",
     "output_type": "stream",
     "text": [
      "4996 in total\tCR: 0.8807045636509208\n",
      "val Epoch:\t56\tLoss val: 0.4660\tAcc val:0.8807, LR: 5.111126056639753e-05\n",
      "Epoch len: 576.0049335956573 Estimated Remaining: 28.800246679782866 Min\n",
      "Current Epoch: 57\n"
     ]
    },
    {
     "name": "stderr",
     "output_type": "stream",
     "text": [
      "\n"
     ]
    },
    {
     "name": "stdout",
     "output_type": "stream",
     "text": [
      "Running Loss: 5307.93080948852, Running Corrects: 95955.0, Running All: 97055.0\n"
     ]
    },
    {
     "name": "stderr",
     "output_type": "stream",
     "text": [
      "100%|██████████| 157/157 [00:06<00:00, 22.60it/s]"
     ]
    },
    {
     "name": "stdout",
     "output_type": "stream",
     "text": [
      "4996 in total\tCR: 0.8807045636509208\n",
      "val Epoch:\t57\tLoss val: 0.4670\tAcc val:0.8807, LR: 3.2778598899291464e-05\n",
      "Epoch len: 575.6566138267517 Estimated Remaining: 19.188553794225058 Min\n",
      "Current Epoch: 58\n"
     ]
    },
    {
     "name": "stderr",
     "output_type": "stream",
     "text": [
      "\n"
     ]
    },
    {
     "name": "stdout",
     "output_type": "stream",
     "text": [
      "Running Loss: 5273.304280422628, Running Corrects: 95955.0, Running All: 97055.0\n"
     ]
    },
    {
     "name": "stderr",
     "output_type": "stream",
     "text": [
      "100%|██████████| 157/157 [00:06<00:00, 22.50it/s]"
     ]
    },
    {
     "name": "stdout",
     "output_type": "stream",
     "text": [
      "4996 in total\tCR: 0.8797037630104083\n",
      "val Epoch:\t58\tLoss val: 0.4683\tAcc val:0.8797, LR: 1.846748910729351e-05\n",
      "Epoch len: 575.3908267021179 Estimated Remaining: 9.589847111701966 Min\n",
      "Current Epoch: 59\n"
     ]
    },
    {
     "name": "stderr",
     "output_type": "stream",
     "text": [
      "\n"
     ]
    },
    {
     "name": "stdout",
     "output_type": "stream",
     "text": [
      "Running Loss: 5401.3994647189975, Running Corrects: 95896.0, Running All: 97055.0\n"
     ]
    },
    {
     "name": "stderr",
     "output_type": "stream",
     "text": [
      "100%|██████████| 157/157 [00:06<00:00, 22.59it/s]\n"
     ]
    },
    {
     "name": "stdout",
     "output_type": "stream",
     "text": [
      "4996 in total\tCR: 0.8799039231385108\n",
      "val Epoch:\t59\tLoss val: 0.4672\tAcc val:0.8799, LR: 8.2171569475899e-06\n",
      "Epoch len: 575.379650592804 Estimated Remaining: 0.0 Min\n"
     ]
    },
    {
     "name": "stderr",
     "output_type": "stream",
     "text": [
      "100%|██████████| 157/157 [00:09<00:00, 16.94it/s]"
     ]
    },
    {
     "name": "stdout",
     "output_type": "stream",
     "text": [
      "4997 in total\tCR: 0.8749249549729838\n",
      "Test time performance of best epoch: 0.8749249549729838 (loss: 0.4989212736753348)\n"
     ]
    },
    {
     "name": "stderr",
     "output_type": "stream",
     "text": [
      "\n"
     ]
    }
   ],
   "source": [
    "while epoch < epochs:\n",
    "    start_epoch = time.time()\n",
    "    model = train_loop(test_model, datasets['train'], criterion, epoch, optimizer)\n",
    "    acc_avg_val, loss_avg_val = evaluate(model, datasets['val'], criterion)\n",
    "    print('{} Epoch:\\t{:2}\\tLoss val: {:.4f}\\tAcc val:{:.4f}, LR: {}'.format('val', epoch, loss_avg_val, acc_avg_val, showLR(optimizer)))\n",
    "    save_dict = {\n",
    "            'epoch_idx': epoch + 1,\n",
    "            'model_state_dict': model.state_dict(),\n",
    "            'optimizer_state_dict': optimizer.state_dict()\n",
    "        }\n",
    "    scheduler.adjust_lr(optimizer, epoch)\n",
    "    epoch +=1\n",
    "    epoch_len = time.time() - start_epoch\n",
    "    print(\"Epoch len: {} Estimated Remaining: {} Min\".format(str(epoch_len), str(((epochs-epoch)*epoch_len)/60)))\n",
    "\n",
    "acc_avg_test, loss_avg_test = evaluate(model, datasets['test'], criterion)\n",
    "print('Test time performance of best epoch: {} (loss: {})'.format(acc_avg_test, loss_avg_test))"
   ],
   "metadata": {
    "collapsed": false,
    "pycharm": {
     "name": "#%%\n"
    }
   }
  },
  {
   "cell_type": "code",
   "execution_count": 13,
   "outputs": [],
   "source": [
    "#ACC of 95.7777 on 9 Words ['ABSOLUTELY', 'BUDGET', 'EVERYONE', 'HOUSE', 'MILITARY', 'PUBLIC', 'RESULT', 'SIGNIFICANT', 'WEATHER']\n",
    "#torch.save(model.state_dict(), '/home/taylorpap/Bootcamp/lipreadlstmv2.pth')"
   ],
   "metadata": {
    "collapsed": false,
    "pycharm": {
     "name": "#%%\n"
    }
   }
  },
  {
   "cell_type": "code",
   "execution_count": 14,
   "outputs": [],
   "source": [
    "#ACC of 87 on 100 Words\n",
    "torch.save(model.state_dict(), '/home/taylorpap/Bootcamp/lipreadlstmv4.pth')"
   ],
   "metadata": {
    "collapsed": false,
    "pycharm": {
     "name": "#%%\n"
    }
   }
  },
  {
   "cell_type": "markdown",
   "source": [
    "<font size='6'>\n",
    "With 100 Word Dataset, First Model managed to reach 87% after nearly 10 hours of training. Will need to use reduced dataset size (Lower number of words) and fewer epochs to test multiple different models for performance."
   ],
   "metadata": {
    "collapsed": false,
    "pycharm": {
     "name": "#%% md\n"
    }
   }
  }
 ],
 "metadata": {
  "kernelspec": {
   "display_name": "Python 3",
   "language": "python",
   "name": "python3"
  },
  "language_info": {
   "codemirror_mode": {
    "name": "ipython",
    "version": 2
   },
   "file_extension": ".py",
   "mimetype": "text/x-python",
   "name": "python",
   "nbconvert_exporter": "python",
   "pygments_lexer": "ipython2",
   "version": "2.7.6"
  }
 },
 "nbformat": 4,
 "nbformat_minor": 0
}